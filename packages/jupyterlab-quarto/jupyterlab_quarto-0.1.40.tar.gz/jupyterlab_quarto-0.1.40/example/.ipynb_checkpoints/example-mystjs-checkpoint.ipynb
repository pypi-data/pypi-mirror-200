{
 "cells": [
  {
   "cell_type": "markdown",
   "id": "1c1809a8-c680-4c60-ac7a-2eb72b99e39e",
   "metadata": {},
   "source": [
    ":::{tip}\n",
    "Try changing `tip` to `warning`!\n",
    ":::"
   ]
  }
 ],
 "metadata": {
  "kernelspec": {
   "display_name": "Python 3 (ipykernel)",
   "language": "python",
   "name": "python3"
  },
  "language_info": {
   "codemirror_mode": {
    "name": "ipython",
    "version": 3
   },
   "file_extension": ".py",
   "mimetype": "text/x-python",
   "name": "python",
   "nbconvert_exporter": "python",
   "pygments_lexer": "ipython3",
   "version": "3.11.2"
  }
 },
 "nbformat": 4,
 "nbformat_minor": 5
}
