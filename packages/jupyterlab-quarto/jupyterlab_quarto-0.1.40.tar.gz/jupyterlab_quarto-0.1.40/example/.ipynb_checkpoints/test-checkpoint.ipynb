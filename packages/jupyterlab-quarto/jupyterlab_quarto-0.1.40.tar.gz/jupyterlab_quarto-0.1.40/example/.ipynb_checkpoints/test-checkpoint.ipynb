{
 "cells": [
  {
   "cell_type": "markdown",
   "id": "2b3351c8-fdb6-465a-96ac-3c550b5c6cd6",
   "metadata": {},
   "source": [
    "Hi there this is math\n",
    "\n",
    "$$\n",
    "\\sum_{k=0}^{\\infty} \\frac{(-1)^k x^{2k+1}}{(2k+1)!} = \\sin x\n",
    "\n",
    "\\frac{\\partial}{\\partial t}\\left(\\rho\\frac{\\partial\\mathbf{u}}{\\partial t}\\right) + \\nabla\\cdot\\left(\\rho\\mathbf{u}\\otimes\\mathbf{u}\\right) + \\nabla p - \\nabla\\cdot\\boldsymbol{\\tau} + \\rho\\mathbf{g} = \\rho\\frac{\\partial\\mathbf{u}}{\\partial t}\n",
    "$$\n",
    "\n",
    "so is this \n",
    "\n",
    "\n",
    "$$\n",
    "\\sum_{n=0}^{\\infty}\\frac{(-1)^n}{(2n+1)!}\\left[\\frac{\\partial^{2n+1}}{\\partial x^{2n+1}}\\left(\\frac{1}{\\sqrt{1-x^2}}\\right)\\right]^2 = \\frac{\\pi}{2(2\\pi)^{2n}}\\frac{\\Gamma^2\\left(n+\\frac{1}{2}\\right)}{\\Gamma(2n+1)}\n",
    "$$\n",
    "\n",
    "and\n",
    "\n",
    "$$\n",
    "1+1\n",
    "$$ {#eq-addition}"
   ]
  },
  {
   "cell_type": "markdown",
   "id": "6b7b4209-48cd-4d32-b1b0-bbe5701396b9",
   "metadata": {},
   "source": [
    "This is a math inline $1+1=2$ which is so cool."
   ]
  },
  {
   "cell_type": "code",
   "execution_count": null,
   "id": "cf903e76-51ca-4a5f-9c92-c7119f9965d9",
   "metadata": {},
   "outputs": [],
   "source": []
  },
  {
   "cell_type": "code",
   "execution_count": null,
   "id": "3e037a60-81af-41ba-80b0-419a19ad40f4",
   "metadata": {},
   "outputs": [],
   "source": []
  }
 ],
 "metadata": {
  "kernelspec": {
   "display_name": "Python 3 (ipykernel)",
   "language": "python",
   "name": "python3"
  },
  "language_info": {
   "codemirror_mode": {
    "name": "ipython",
    "version": 3
   },
   "file_extension": ".py",
   "mimetype": "text/x-python",
   "name": "python",
   "nbconvert_exporter": "python",
   "pygments_lexer": "ipython3",
   "version": "3.11.2"
  }
 },
 "nbformat": 4,
 "nbformat_minor": 5
}
