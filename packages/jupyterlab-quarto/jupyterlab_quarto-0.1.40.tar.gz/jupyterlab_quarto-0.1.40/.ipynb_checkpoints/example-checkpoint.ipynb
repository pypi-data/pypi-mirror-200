{
 "cells": [
  {
   "cell_type": "markdown",
   "id": "b089443c-d7a2-46eb-b198-7b15611772c6",
   "metadata": {},
   "source": [
    "```mermaid\n",
    "flowchart TD;\n",
    "    1-->2;\n",
    "    2-->3;\n",
    "    2-->3;\n",
    "    3-->4;\n",
    "    3-->5;\n",
    "    5-->2;\n",
    "    A-->5;\n",
    "    A-->1;\n",
    "```"
   ]
  },
  {
   "cell_type": "markdown",
   "id": "4e952789-3998-45e7-a90c-cf9e0ce7fe3c",
   "metadata": {},
   "source": [
    "This is a test of the emergency broadcasting system [^1].\n",
    "\n",
    "[^1]: Is this proper footnote syntax?"
   ]
  },
  {
   "cell_type": "markdown",
   "id": "83add30b-d426-4bd7-9146-5bbe30ec8dd9",
   "metadata": {},
   "source": [
    "```javascript\n",
    "let foo = \"bar\";\n",
    "const bar = \"foo\";\n",
    "```"
   ]
  },
  {
   "cell_type": "markdown",
   "id": "e088535b-4cde-4ab0-8cb2-2038781acf03",
   "metadata": {},
   "source": [
    "This is a markdown cell with some content in it, which includes a callout, which is a pretty looking thing!\n",
    "\n",
    ":::{.callout-caution}\n",
    "\n",
    "## Hello World\n",
    "\n",
    "This is some content **what up**\n",
    "\n",
    ":::"
   ]
  },
  {
   "cell_type": "markdown",
   "id": "fe3b223e-d7c9-4a9e-b3d3-ab1745b41537",
   "metadata": {},
   "source": [
    "```javascript\n",
    "let foo = \"bar\";\n",
    "```"
   ]
  },
  {
   "cell_type": "code",
   "execution_count": null,
   "id": "665df5ad-80c6-43df-8264-8184037f40ec",
   "metadata": {},
   "outputs": [],
   "source": []
  }
 ],
 "metadata": {
  "kernelspec": {
   "display_name": "Python 3 (ipykernel)",
   "language": "python",
   "name": "python3"
  },
  "language_info": {
   "codemirror_mode": {
    "name": "ipython",
    "version": 3
   },
   "file_extension": ".py",
   "mimetype": "text/x-python",
   "name": "python",
   "nbconvert_exporter": "python",
   "pygments_lexer": "ipython3",
   "version": "3.11.2"
  }
 },
 "nbformat": 4,
 "nbformat_minor": 5
}
