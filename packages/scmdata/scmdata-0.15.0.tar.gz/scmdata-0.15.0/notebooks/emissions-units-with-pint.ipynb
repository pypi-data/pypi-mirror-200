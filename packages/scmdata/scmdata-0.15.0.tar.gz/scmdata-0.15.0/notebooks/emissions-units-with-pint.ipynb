{
 "cells": [
  {
   "cell_type": "markdown",
   "metadata": {},
   "source": [
    "# Emissions units with Pint\n",
    "\n",
    "In this notebook we give some examples of how units are handled in SCMData and are built on top of the [Pint](https://github.com/hgrecco/pint) package."
   ]
  },
  {
   "cell_type": "code",
   "execution_count": 1,
   "metadata": {
    "execution": {
     "iopub.execute_input": "2023-04-03T04:26:34.089040Z",
     "iopub.status.busy": "2023-04-03T04:26:34.088699Z",
     "iopub.status.idle": "2023-04-03T04:26:34.638472Z",
     "shell.execute_reply": "2023-04-03T04:26:34.617681Z"
    },
    "pycharm": {
     "is_executing": false
    }
   },
   "outputs": [
    {
     "name": "stderr",
     "output_type": "stream",
     "text": [
      "/Users/jared/code/uom/scmdata/src/scmdata/database/_database.py:9: TqdmExperimentalWarning: Using `tqdm.autonotebook.tqdm` in notebook mode. Use `tqdm.tqdm` instead to force console mode (e.g. in jupyter console)\n",
      "  import tqdm.autonotebook as tqdman\n"
     ]
    }
   ],
   "source": [
    "# NBVAL_IGNORE_OUTPUT\n",
    "import warnings\n",
    "import traceback\n",
    "\n",
    "import pint\n",
    "from pint.errors import DimensionalityError\n",
    "\n",
    "from scmdata.units import UnitConverter"
   ]
  },
  {
   "cell_type": "markdown",
   "metadata": {},
   "source": [
    "## UnitConverter\n",
    "\n",
    "The `UnitConverter` class handles all unit conversions for us. It is used as shown."
   ]
  },
  {
   "cell_type": "code",
   "execution_count": 2,
   "metadata": {
    "execution": {
     "iopub.execute_input": "2023-04-03T04:26:34.657143Z",
     "iopub.status.busy": "2023-04-03T04:26:34.647847Z",
     "iopub.status.idle": "2023-04-03T04:26:34.691194Z",
     "shell.execute_reply": "2023-04-03T04:26:34.690035Z"
    },
    "pycharm": {
     "is_executing": false
    }
   },
   "outputs": [
    {
     "data": {
      "text/plain": [
       "3666.666666666667"
      ]
     },
     "execution_count": 2,
     "metadata": {},
     "output_type": "execute_result"
    }
   ],
   "source": [
    "uc = UnitConverter(\"GtC/yr\", \"Mt CO2 / yr\")\n",
    "uc.convert_from(1)"
   ]
  },
  {
   "cell_type": "code",
   "execution_count": 3,
   "metadata": {
    "execution": {
     "iopub.execute_input": "2023-04-03T04:26:34.696627Z",
     "iopub.status.busy": "2023-04-03T04:26:34.695889Z",
     "iopub.status.idle": "2023-04-03T04:26:34.703908Z",
     "shell.execute_reply": "2023-04-03T04:26:34.702912Z"
    },
    "pycharm": {
     "is_executing": false
    }
   },
   "outputs": [
    {
     "data": {
      "text/plain": [
       "0.0002727272727272727"
      ]
     },
     "execution_count": 3,
     "metadata": {},
     "output_type": "execute_result"
    }
   ],
   "source": [
    "uc.convert_to(1)"
   ]
  },
  {
   "cell_type": "markdown",
   "metadata": {},
   "source": [
    "## Pint Unit Registry\n",
    "\n",
    "The `unit_registry` which sits underneath all conversions can be accessed via `scmdata.units.get_unit_registry`or via `UnitConverter`'s `unit_registry` property."
   ]
  },
  {
   "cell_type": "code",
   "execution_count": 4,
   "metadata": {
    "execution": {
     "iopub.execute_input": "2023-04-03T04:26:34.709655Z",
     "iopub.status.busy": "2023-04-03T04:26:34.709065Z",
     "iopub.status.idle": "2023-04-03T04:26:34.713524Z",
     "shell.execute_reply": "2023-04-03T04:26:34.712372Z"
    },
    "pycharm": {
     "is_executing": false
    }
   },
   "outputs": [],
   "source": [
    "unit_registry = uc.unit_registry"
   ]
  },
  {
   "cell_type": "markdown",
   "metadata": {},
   "source": [
    "Having accessed the `unit_registry`, all the units available in SCMData can be shown like so."
   ]
  },
  {
   "cell_type": "code",
   "execution_count": 5,
   "metadata": {
    "execution": {
     "iopub.execute_input": "2023-04-03T04:26:34.720146Z",
     "iopub.status.busy": "2023-04-03T04:26:34.719726Z",
     "iopub.status.idle": "2023-04-03T04:26:34.733880Z",
     "shell.execute_reply": "2023-04-03T04:26:34.733069Z"
    },
    "pycharm": {
     "is_executing": false
    }
   },
   "outputs": [
    {
     "data": {
      "text/plain": [
       "['A',\n",
       " 'AMMONIA',\n",
       " 'A_90',\n",
       " 'A_US',\n",
       " 'A_it',\n",
       " 'Ah',\n",
       " 'At',\n",
       " 'B',\n",
       " 'BC',\n",
       " 'BDFT',\n",
       " 'BF',\n",
       " 'BTU',\n",
       " 'BUTANE',\n",
       " 'Ba',\n",
       " 'Bd',\n",
       " 'Bi',\n",
       " 'Bq',\n",
       " 'Btu',\n",
       " 'Btu_iso',\n",
       " 'Btu_it',\n",
       " 'Btu_th',\n",
       " 'C',\n",
       " 'C10F18',\n",
       " 'C2F6',\n",
       " 'C2H6',\n",
       " 'C3F8',\n",
       " 'C3H8',\n",
       " 'C4F10',\n",
       " 'C5F12',\n",
       " 'C6F14',\n",
       " 'C7F16',\n",
       " 'C8F18',\n",
       " 'CC3F6',\n",
       " 'CC4F8',\n",
       " 'CCL4',\n",
       " 'CCl4',\n",
       " 'CF4',\n",
       " 'CFC11',\n",
       " 'CFC113',\n",
       " 'CFC114',\n",
       " 'CFC115',\n",
       " 'CFC12',\n",
       " 'CFC13',\n",
       " 'CFC400',\n",
       " 'CH2CL2',\n",
       " 'CH2Cl2',\n",
       " 'CH3BR',\n",
       " 'CH3Br',\n",
       " 'CH3CCL3',\n",
       " 'CH3CCl3',\n",
       " 'CH3CL',\n",
       " 'CH3Cl',\n",
       " 'CH4',\n",
       " 'CHCL3',\n",
       " 'CHCl3',\n",
       " 'CO',\n",
       " 'CO2',\n",
       " 'C_90',\n",
       " 'Ci',\n",
       " 'Cl',\n",
       " 'D',\n",
       " 'DPI',\n",
       " 'Da',\n",
       " 'ECC',\n",
       " 'EC_therm',\n",
       " 'E_h',\n",
       " 'Eh',\n",
       " 'F',\n",
       " 'FBM',\n",
       " 'F_90',\n",
       " 'Fr',\n",
       " 'G',\n",
       " 'G_0',\n",
       " 'Gal',\n",
       " 'Gb',\n",
       " 'Group',\n",
       " 'Gy',\n",
       " 'H',\n",
       " 'H2O',\n",
       " 'HALON1201',\n",
       " 'HALON1202',\n",
       " 'HALON1211',\n",
       " 'HALON1301',\n",
       " 'HALON2402',\n",
       " 'HC170',\n",
       " 'HC290',\n",
       " 'HC436A',\n",
       " 'HC436B',\n",
       " 'HC436C',\n",
       " 'HC436a',\n",
       " 'HC436b',\n",
       " 'HC436c',\n",
       " 'HC441A',\n",
       " 'HC441a',\n",
       " 'HC50',\n",
       " 'HC510A',\n",
       " 'HC510a',\n",
       " 'HC511A',\n",
       " 'HC511a',\n",
       " 'HC600',\n",
       " 'HC600A',\n",
       " 'HC600a',\n",
       " 'HC601',\n",
       " 'HC601A',\n",
       " 'HC601a',\n",
       " 'HCE170',\n",
       " 'HCFC123',\n",
       " 'HCFC124',\n",
       " 'HCFC141B',\n",
       " 'HCFC141b',\n",
       " 'HCFC142B',\n",
       " 'HCFC142b',\n",
       " 'HCFC21',\n",
       " 'HCFC22',\n",
       " 'HCFC225CA',\n",
       " 'HCFC225CB',\n",
       " 'HCFC225ca',\n",
       " 'HCFC225cb',\n",
       " 'HCFC31',\n",
       " 'HCFC401A',\n",
       " 'HCFC401B',\n",
       " 'HCFC401C',\n",
       " 'HCFC401a',\n",
       " 'HCFC401b',\n",
       " 'HCFC401c',\n",
       " 'HCFC402A',\n",
       " 'HCFC402B',\n",
       " 'HCFC402a',\n",
       " 'HCFC402b',\n",
       " 'HCFC403A',\n",
       " 'HCFC403B',\n",
       " 'HCFC403a',\n",
       " 'HCFC403b',\n",
       " 'HCFC405A',\n",
       " 'HCFC405a',\n",
       " 'HCFC406A',\n",
       " 'HCFC406a',\n",
       " 'HCFC408A',\n",
       " 'HCFC408a',\n",
       " 'HCFC409A',\n",
       " 'HCFC409B',\n",
       " 'HCFC409a',\n",
       " 'HCFC409b',\n",
       " 'HCFC412A',\n",
       " 'HCFC412a',\n",
       " 'HCFC414A',\n",
       " 'HCFC414B',\n",
       " 'HCFC414a',\n",
       " 'HCFC414b',\n",
       " 'HCFC415A',\n",
       " 'HCFC415B',\n",
       " 'HCFC415a',\n",
       " 'HCFC415b',\n",
       " 'HCFC416A',\n",
       " 'HCFC416a',\n",
       " 'HCFC418A',\n",
       " 'HCFC418a',\n",
       " 'HCFC420A',\n",
       " 'HCFC420a',\n",
       " 'HCFC500',\n",
       " 'HCFC501',\n",
       " 'HCFC502',\n",
       " 'HCFC503',\n",
       " 'HCFC504',\n",
       " 'HCFC505',\n",
       " 'HCFC506',\n",
       " 'HCFC509A',\n",
       " 'HCFC509a',\n",
       " 'HCFE235DA2',\n",
       " 'HCFE235da2',\n",
       " 'HCFO411A',\n",
       " 'HCFO411B',\n",
       " 'HCFO411a',\n",
       " 'HCFO411b',\n",
       " 'HCO1130',\n",
       " 'HCO514A',\n",
       " 'HCO514a',\n",
       " 'HFC125',\n",
       " 'HFC1336MZZ',\n",
       " 'HFC1336mzz',\n",
       " 'HFC134',\n",
       " 'HFC134A',\n",
       " 'HFC134a',\n",
       " 'HFC143',\n",
       " 'HFC143A',\n",
       " 'HFC143a',\n",
       " 'HFC152',\n",
       " 'HFC152A',\n",
       " 'HFC152a',\n",
       " 'HFC161',\n",
       " 'HFC227EA',\n",
       " 'HFC227ea',\n",
       " 'HFC23',\n",
       " 'HFC236CB',\n",
       " 'HFC236EA',\n",
       " 'HFC236FA',\n",
       " 'HFC236cb',\n",
       " 'HFC236ea',\n",
       " 'HFC236fa',\n",
       " 'HFC245CA',\n",
       " 'HFC245FA',\n",
       " 'HFC245ca',\n",
       " 'HFC245fa',\n",
       " 'HFC32',\n",
       " 'HFC365MFC',\n",
       " 'HFC365mfc',\n",
       " 'HFC404A',\n",
       " 'HFC404a',\n",
       " 'HFC407A',\n",
       " 'HFC407B',\n",
       " 'HFC407C',\n",
       " 'HFC407D',\n",
       " 'HFC407E',\n",
       " 'HFC407F',\n",
       " 'HFC407G',\n",
       " 'HFC407H',\n",
       " 'HFC407I',\n",
       " 'HFC407a',\n",
       " 'HFC407b',\n",
       " 'HFC407c',\n",
       " 'HFC407d',\n",
       " 'HFC407e',\n",
       " 'HFC407f',\n",
       " 'HFC407g',\n",
       " 'HFC407h',\n",
       " 'HFC407i',\n",
       " 'HFC41',\n",
       " 'HFC410A',\n",
       " 'HFC410B',\n",
       " 'HFC410a',\n",
       " 'HFC410b',\n",
       " 'HFC413A',\n",
       " 'HFC413a',\n",
       " 'HFC417A',\n",
       " 'HFC417B',\n",
       " 'HFC417C',\n",
       " 'HFC417a',\n",
       " 'HFC417b',\n",
       " 'HFC417c',\n",
       " 'HFC419A',\n",
       " 'HFC419B',\n",
       " 'HFC419a',\n",
       " 'HFC419b',\n",
       " 'HFC421A',\n",
       " 'HFC421B',\n",
       " 'HFC421a',\n",
       " 'HFC421b',\n",
       " 'HFC422A',\n",
       " 'HFC422B',\n",
       " 'HFC422C',\n",
       " 'HFC422D',\n",
       " 'HFC422E',\n",
       " 'HFC422a',\n",
       " 'HFC422b',\n",
       " 'HFC422c',\n",
       " 'HFC422d',\n",
       " 'HFC422e',\n",
       " 'HFC423A',\n",
       " 'HFC423a',\n",
       " 'HFC424A',\n",
       " 'HFC424a',\n",
       " 'HFC425A',\n",
       " 'HFC425a',\n",
       " 'HFC426A',\n",
       " 'HFC426a',\n",
       " 'HFC427A',\n",
       " 'HFC427a',\n",
       " 'HFC428A',\n",
       " 'HFC428a',\n",
       " 'HFC429A',\n",
       " 'HFC429a',\n",
       " 'HFC430A',\n",
       " 'HFC430a',\n",
       " 'HFC4310',\n",
       " 'HFC4310MEE',\n",
       " 'HFC4310mee',\n",
       " 'HFC431A',\n",
       " 'HFC431a',\n",
       " 'HFC434A',\n",
       " 'HFC434a',\n",
       " 'HFC435A',\n",
       " 'HFC435a',\n",
       " 'HFC437A',\n",
       " 'HFC437a',\n",
       " 'HFC438A',\n",
       " 'HFC438a',\n",
       " 'HFC439A',\n",
       " 'HFC439a',\n",
       " 'HFC440A',\n",
       " 'HFC440a',\n",
       " 'HFC442A',\n",
       " 'HFC442a',\n",
       " 'HFC453A',\n",
       " 'HFC453a',\n",
       " 'HFC458A',\n",
       " 'HFC458a',\n",
       " 'HFC461A',\n",
       " 'HFC461a',\n",
       " 'HFC462A',\n",
       " 'HFC462a',\n",
       " 'HFC507A',\n",
       " 'HFC507a',\n",
       " 'HFC508A',\n",
       " 'HFC508B',\n",
       " 'HFC508a',\n",
       " 'HFC508b',\n",
       " 'HFC512A',\n",
       " 'HFC512a',\n",
       " 'HFE125',\n",
       " 'HFE134',\n",
       " 'HFE143A',\n",
       " 'HFE143a',\n",
       " 'HFE227EA',\n",
       " 'HFE227ea',\n",
       " 'HFE236CA12',\n",
       " 'HFE236EA2',\n",
       " 'HFE236FA',\n",
       " 'HFE236ca12',\n",
       " 'HFE236ea2',\n",
       " 'HFE236fa',\n",
       " 'HFE245CB2',\n",
       " 'HFE245FA1',\n",
       " 'HFE245FA2',\n",
       " 'HFE245cb2',\n",
       " 'HFE245fa1',\n",
       " 'HFE245fa2',\n",
       " 'HFE263FB2',\n",
       " 'HFE263fb2',\n",
       " 'HFE329MCC2',\n",
       " 'HFE329mcc2',\n",
       " 'HFE338MCF2',\n",
       " 'HFE338PCC13',\n",
       " 'HFE338mcf2',\n",
       " 'HFE338pcc13',\n",
       " 'HFE347MCC3',\n",
       " 'HFE347MCF2',\n",
       " 'HFE347PCF2',\n",
       " 'HFE347mcc3',\n",
       " 'HFE347mcf2',\n",
       " 'HFE347pcf2',\n",
       " 'HFE356MEC3',\n",
       " 'HFE356PCC3',\n",
       " 'HFE356PCF2',\n",
       " 'HFE356PCF3',\n",
       " 'HFE356mec3',\n",
       " 'HFE356pcc3',\n",
       " 'HFE356pcf2',\n",
       " 'HFE356pcf3',\n",
       " 'HFE365MCF3',\n",
       " 'HFE365mcf3',\n",
       " 'HFE374PC2',\n",
       " 'HFE374pc2',\n",
       " 'HFE4310PCCC124',\n",
       " 'HFE4310pccc124',\n",
       " 'HFE449SL',\n",
       " 'HFE449sl',\n",
       " 'HFE569SF2',\n",
       " 'HFE569sf2',\n",
       " 'HFO1234YF',\n",
       " 'HFO1234ZE',\n",
       " 'HFO1234yf',\n",
       " 'HFO1234ze',\n",
       " 'HFO444A',\n",
       " 'HFO444B',\n",
       " 'HFO444a',\n",
       " 'HFO444b',\n",
       " 'HFO445A',\n",
       " 'HFO445a',\n",
       " 'HFO446A',\n",
       " 'HFO446a',\n",
       " 'HFO447A',\n",
       " 'HFO447B',\n",
       " 'HFO447a',\n",
       " 'HFO447b',\n",
       " 'HFO448A',\n",
       " 'HFO448a',\n",
       " 'HFO449A',\n",
       " 'HFO449B',\n",
       " 'HFO449C',\n",
       " 'HFO449a',\n",
       " 'HFO449b',\n",
       " 'HFO449c',\n",
       " 'HFO450A',\n",
       " 'HFO450a',\n",
       " 'HFO451A',\n",
       " 'HFO451B',\n",
       " 'HFO451a',\n",
       " 'HFO451b',\n",
       " 'HFO452A',\n",
       " 'HFO452B',\n",
       " 'HFO452C',\n",
       " 'HFO452a',\n",
       " 'HFO452b',\n",
       " 'HFO452c',\n",
       " 'HFO454A',\n",
       " 'HFO454B',\n",
       " 'HFO454C',\n",
       " 'HFO454a',\n",
       " 'HFO454b',\n",
       " 'HFO454c',\n",
       " 'HFO455A',\n",
       " 'HFO455a',\n",
       " 'HFO456A',\n",
       " 'HFO456a',\n",
       " 'HFO457A',\n",
       " 'HFO457a',\n",
       " 'HFO459A',\n",
       " 'HFO459B',\n",
       " 'HFO459a',\n",
       " 'HFO459b',\n",
       " 'HFO460A',\n",
       " 'HFO460B',\n",
       " 'HFO460C',\n",
       " 'HFO460a',\n",
       " 'HFO460b',\n",
       " 'HFO460c',\n",
       " 'HFO463A',\n",
       " 'HFO463a',\n",
       " 'HFO464A',\n",
       " 'HFO464a',\n",
       " 'HFO465A',\n",
       " 'HFO465a',\n",
       " 'HFO513A',\n",
       " 'HFO513B',\n",
       " 'HFO513a',\n",
       " 'HFO513b',\n",
       " 'HFO515A',\n",
       " 'HFO515a',\n",
       " 'HFO516A',\n",
       " 'HFO516a',\n",
       " 'HO1270',\n",
       " 'HO432A',\n",
       " 'HO432a',\n",
       " 'HO433A',\n",
       " 'HO433B',\n",
       " 'HO433C',\n",
       " 'HO433a',\n",
       " 'HO433b',\n",
       " 'HO433c',\n",
       " 'HO443A',\n",
       " 'HO443a',\n",
       " 'H_90',\n",
       " 'Halon1201',\n",
       " 'Halon1202',\n",
       " 'Halon1211',\n",
       " 'Halon1301',\n",
       " 'Halon2402',\n",
       " 'Hg',\n",
       " 'Hg_0C',\n",
       " 'Hg_32F',\n",
       " 'Hg_60F',\n",
       " 'Hz',\n",
       " 'ISOBUTANE',\n",
       " 'ISOPENTANE',\n",
       " 'J',\n",
       " 'K',\n",
       " 'KPH',\n",
       " 'K_J',\n",
       " 'K_J90',\n",
       " 'K_alpha_Cu_d_220',\n",
       " 'K_alpha_Mo_d_220',\n",
       " 'K_alpha_W_d_220',\n",
       " 'L',\n",
       " 'Ly',\n",
       " 'M',\n",
       " 'MPH',\n",
       " 'Measurement',\n",
       " 'Mx',\n",
       " 'N',\n",
       " 'N2O',\n",
       " 'N2ON',\n",
       " 'NF3',\n",
       " 'NH3',\n",
       " 'NMVOC',\n",
       " 'NO2',\n",
       " 'NOX',\n",
       " 'NOx',\n",
       " 'N_A',\n",
       " 'Ne',\n",
       " 'NeC',\n",
       " 'Nm',\n",
       " 'Np',\n",
       " 'OC',\n",
       " 'Oe',\n",
       " 'P',\n",
       " 'PENTANE',\n",
       " 'PFC116',\n",
       " 'PFC218',\n",
       " 'PFCC318',\n",
       " 'PFPMIE',\n",
       " 'PPCM',\n",
       " 'PPI',\n",
       " 'PROPENE',\n",
       " 'PSH',\n",
       " 'Pa',\n",
       " 'Phi_0',\n",
       " 'Quantity',\n",
       " 'R',\n",
       " 'RKM',\n",
       " 'R_K',\n",
       " 'R_K90',\n",
       " 'R_inf',\n",
       " 'R_∞',\n",
       " 'Rd',\n",
       " 'Ry',\n",
       " 'S',\n",
       " 'SF5CF3',\n",
       " 'SF6',\n",
       " 'SO2',\n",
       " 'SO2F2',\n",
       " 'SOX',\n",
       " 'SOx',\n",
       " 'SPL',\n",
       " 'St',\n",
       " 'Sv',\n",
       " 'System',\n",
       " 'T',\n",
       " 'Ta',\n",
       " 'Td',\n",
       " 'Tj',\n",
       " 'Tt',\n",
       " 'U',\n",
       " 'UK_bbl',\n",
       " 'UK_bushel',\n",
       " 'UK_cup',\n",
       " 'UK_cwt',\n",
       " 'UK_fluid_ounce',\n",
       " 'UK_force_ton',\n",
       " 'UK_gallon',\n",
       " 'UK_gill',\n",
       " 'UK_horsepower',\n",
       " 'UK_hundredweight',\n",
       " 'UK_pint',\n",
       " 'UK_pk',\n",
       " 'UK_quart',\n",
       " 'UK_ton',\n",
       " 'UK_ton_force',\n",
       " 'US_cwt',\n",
       " 'US_dry_barrel',\n",
       " 'US_dry_gallon',\n",
       " 'US_dry_pint',\n",
       " 'US_dry_quart',\n",
       " 'US_fluid_dram',\n",
       " 'US_fluid_ounce',\n",
       " 'US_force_ton',\n",
       " 'US_hundredweight',\n",
       " 'US_international_ampere',\n",
       " 'US_international_ohm',\n",
       " 'US_international_volt',\n",
       " 'US_liquid_cup',\n",
       " 'US_liquid_dram',\n",
       " 'US_liquid_fifth',\n",
       " 'US_liquid_gallon',\n",
       " 'US_liquid_gill',\n",
       " 'US_liquid_ounce',\n",
       " 'US_liquid_quart',\n",
       " 'US_pint',\n",
       " 'US_shot',\n",
       " 'US_therm',\n",
       " 'US_ton',\n",
       " 'US_ton_force',\n",
       " 'Unit',\n",
       " 'UnitsContainer',\n",
       " 'V',\n",
       " 'VA',\n",
       " 'VOC',\n",
       " 'V_90',\n",
       " 'V_US',\n",
       " 'V_it',\n",
       " 'W',\n",
       " 'W_90',\n",
       " 'Wb',\n",
       " 'Wh',\n",
       " 'Xu_Cu',\n",
       " 'Xu_Mo',\n",
       " 'Z_0',\n",
       " '__annotations__',\n",
       " '__call__',\n",
       " '__class__',\n",
       " '__contains__',\n",
       " '__deepcopy__',\n",
       " '__delattr__',\n",
       " '__dict__',\n",
       " '__dir__',\n",
       " '__doc__',\n",
       " '__eq__',\n",
       " '__format__',\n",
       " '__ge__',\n",
       " '__getattr__',\n",
       " '__getattribute__',\n",
       " '__getitem__',\n",
       " '__gt__',\n",
       " '__hash__',\n",
       " '__init__',\n",
       " '__init_subclass__',\n",
       " '__iter__',\n",
       " '__le__',\n",
       " '__lt__',\n",
       " '__module__',\n",
       " '__ne__',\n",
       " '__new__',\n",
       " '__reduce__',\n",
       " '__reduce_ex__',\n",
       " '__repr__',\n",
       " '__setattr__',\n",
       " '__sizeof__',\n",
       " '__str__',\n",
       " '__subclasshook__',\n",
       " '__weakref__',\n",
       " '_active_ctx',\n",
       " '_add_contexts',\n",
       " '_add_gases',\n",
       " '_add_gwp_to_context',\n",
       " '_add_mass_emissions_joint_version',\n",
       " '_add_metric_conversions',\n",
       " '_add_metric_conversions_from_df',\n",
       " '_add_ref_of_log_or_offset_unit',\n",
       " '_add_transformations_to_context',\n",
       " '_after_init',\n",
       " '_base_units_cache',\n",
       " '_build_cache',\n",
       " '_cache',\n",
       " '_caches',\n",
       " '_context_units',\n",
       " '_contexts',\n",
       " '_contexts_added',\n",
       " '_convert',\n",
       " '_dedup_candidates',\n",
       " '_default_system',\n",
       " '_defaults',\n",
       " '_define',\n",
       " '_define_adder',\n",
       " '_define_alias',\n",
       " '_define_single_adder',\n",
       " '_dimensions',\n",
       " '_directives',\n",
       " '_diskcache',\n",
       " '_eval_token',\n",
       " '_filename',\n",
       " '_get_base_units',\n",
       " '_get_compatible_units',\n",
       " '_get_dimensionality',\n",
       " '_get_dimensionality_ratio',\n",
       " '_get_dimensionality_recurse',\n",
       " '_get_root_units',\n",
       " '_get_root_units_recurse',\n",
       " '_get_symbol',\n",
       " '_groups',\n",
       " '_init_dynamic_classes',\n",
       " '_initialized',\n",
       " '_is_multiplicative',\n",
       " '_load_alias',\n",
       " '_load_context',\n",
       " '_load_defaults',\n",
       " '_metric_conversions',\n",
       " '_on_redefinition',\n",
       " '_parse_unit_name',\n",
       " '_parse_units',\n",
       " '_prefixes',\n",
       " '_redefine',\n",
       " '_register_directive',\n",
       " '_register_directives',\n",
       " '_suffixes',\n",
       " '_switch_context_cache_and_units',\n",
       " '_systems',\n",
       " '_units',\n",
       " '_units_casei',\n",
       " '_validate_and_extract',\n",
       " 'a',\n",
       " 'a0',\n",
       " 'a_0',\n",
       " 'a_u_action',\n",
       " 'a_u_current',\n",
       " 'a_u_electric_field',\n",
       " 'a_u_energy',\n",
       " 'a_u_force',\n",
       " 'a_u_intensity',\n",
       " 'a_u_length',\n",
       " 'a_u_mass',\n",
       " 'a_u_temp',\n",
       " 'a_u_time',\n",
       " 'abA',\n",
       " 'abC',\n",
       " 'abF',\n",
       " 'abH',\n",
       " 'abS',\n",
       " 'abV',\n",
       " 'abampere',\n",
       " 'abcoulomb',\n",
       " 'aberdeen',\n",
       " 'abfarad',\n",
       " 'abhenry',\n",
       " 'abmho',\n",
       " 'abohm',\n",
       " 'absiemens',\n",
       " 'abvolt',\n",
       " 'abΩ',\n",
       " 'acre',\n",
       " 'acre_feet',\n",
       " 'acre_foot',\n",
       " 'add_context',\n",
       " 'add_standards',\n",
       " 'alpha',\n",
       " 'ammonia',\n",
       " 'amp',\n",
       " 'ampere',\n",
       " 'ampere_hour',\n",
       " 'ampere_turn',\n",
       " 'amu',\n",
       " 'angstrom',\n",
       " 'angstrom_star',\n",
       " 'angular_degree',\n",
       " 'angular_minute',\n",
       " 'angular_second',\n",
       " 'annum',\n",
       " 'ap_dr',\n",
       " 'ap_lb',\n",
       " 'ap_oz',\n",
       " 'apothecary_dram',\n",
       " 'apothecary_ounce',\n",
       " 'apothecary_pound',\n",
       " 'arc_minute',\n",
       " 'arc_second',\n",
       " 'arcdeg',\n",
       " 'arcdegree',\n",
       " 'arcmin',\n",
       " 'arcminute',\n",
       " 'arcsec',\n",
       " 'arcsecond',\n",
       " 'are',\n",
       " 'astronomical_unit',\n",
       " 'at',\n",
       " 'atm',\n",
       " 'atm_l',\n",
       " 'atmosphere',\n",
       " 'atmosphere_liter',\n",
       " 'atomic_mass_constant',\n",
       " 'atomic_unit_of_action',\n",
       " 'atomic_unit_of_current',\n",
       " 'atomic_unit_of_electric_field',\n",
       " 'atomic_unit_of_energy',\n",
       " 'atomic_unit_of_force',\n",
       " 'atomic_unit_of_intensity',\n",
       " 'atomic_unit_of_length',\n",
       " 'atomic_unit_of_mass',\n",
       " 'atomic_unit_of_temperature',\n",
       " 'atomic_unit_of_time',\n",
       " 'au',\n",
       " 'auto_reduce_dimensions',\n",
       " 'autoconvert_offset_to_baseunit',\n",
       " 'avdp_dram',\n",
       " 'avdp_ounce',\n",
       " 'avdp_pound',\n",
       " 'avogadro_constant',\n",
       " 'avogadro_number',\n",
       " 'avoirdupois_dram',\n",
       " 'avoirdupois_ounce',\n",
       " 'avoirdupois_pound',\n",
       " 'b',\n",
       " 'bag',\n",
       " 'bar',\n",
       " 'barad',\n",
       " 'barie',\n",
       " 'barn',\n",
       " 'barrel',\n",
       " 'barrie',\n",
       " 'baryd',\n",
       " 'barye',\n",
       " 'baud',\n",
       " 'bbl',\n",
       " 'becquerel',\n",
       " 'beer_barrel',\n",
       " 'beer_bbl',\n",
       " 'big_point',\n",
       " 'biot',\n",
       " 'biot_turn',\n",
       " 'bit',\n",
       " 'bits_per_pixel',\n",
       " 'black_carbon',\n",
       " 'blob',\n",
       " 'board_feet',\n",
       " 'board_foot',\n",
       " 'bohr',\n",
       " 'bohr_magneton',\n",
       " 'bohr_radius',\n",
       " 'boiler_horsepower',\n",
       " 'boltzmann_constant',\n",
       " 'bp',\n",
       " 'bpp',\n",
       " 'bps',\n",
       " 'british_thermal_unit',\n",
       " 'bu',\n",
       " 'buckingham',\n",
       " 'bushel',\n",
       " 'butane',\n",
       " 'byte',\n",
       " 'c',\n",
       " 'cC3F6',\n",
       " 'cC4F8',\n",
       " 'c_0',\n",
       " 'c_1',\n",
       " 'c_2',\n",
       " 'cables_length',\n",
       " 'cache_folder',\n",
       " 'cal',\n",
       " 'cal_15',\n",
       " 'cal_it',\n",
       " 'cal_th',\n",
       " 'calorie',\n",
       " 'candela',\n",
       " 'candle',\n",
       " 'carat',\n",
       " 'carbon',\n",
       " 'carbon_dioxide',\n",
       " 'carbon_monoxide',\n",
       " 'case_sensitive',\n",
       " 'cc',\n",
       " 'cd',\n",
       " 'celsius',\n",
       " 'centimeter',\n",
       " 'centimeter_H2O',\n",
       " 'centimeter_Hg',\n",
       " 'centimeter_Hg_0C',\n",
       " 'centipoise',\n",
       " 'centuries',\n",
       " 'century',\n",
       " 'chain',\n",
       " 'characteristic_impedance_of_vacuum',\n",
       " 'check',\n",
       " 'cicero',\n",
       " 'circle',\n",
       " 'circular_mil',\n",
       " 'classical_electron_radius',\n",
       " 'clausius',\n",
       " 'cmH2O',\n",
       " 'cmHg',\n",
       " 'cm_1',\n",
       " 'cm_H2O',\n",
       " 'cm_Hg',\n",
       " 'cmil',\n",
       " 'common_year',\n",
       " 'conductance_quantum',\n",
       " 'context',\n",
       " 'conventional_ampere_90',\n",
       " 'conventional_coulomb_90',\n",
       " 'conventional_farad_90',\n",
       " 'conventional_henry_90',\n",
       " 'conventional_josephson_constant',\n",
       " 'conventional_mercury',\n",
       " 'conventional_ohm_90',\n",
       " 'conventional_volt_90',\n",
       " 'conventional_von_klitzing_constant',\n",
       " 'conventional_water',\n",
       " 'conventional_watt_90',\n",
       " 'convert',\n",
       " 'cooling_tower_ton',\n",
       " 'coulomb',\n",
       " 'coulomb_constant',\n",
       " 'count',\n",
       " 'counts_per_second',\n",
       " 'cp',\n",
       " 'cps',\n",
       " 'css_pixel',\n",
       " 'ct',\n",
       " 'cu_ft',\n",
       " 'cu_in',\n",
       " 'cu_yd',\n",
       " 'cubic_centimeter',\n",
       " 'cubic_feet',\n",
       " 'cubic_foot',\n",
       " 'cubic_inch',\n",
       " 'cubic_yard',\n",
       " 'cup',\n",
       " 'curie',\n",
       " 'cwt',\n",
       " 'cycle',\n",
       " 'd',\n",
       " 'dB',\n",
       " 'dBm',\n",
       " 'dBu',\n",
       " 'd_220',\n",
       " 'dalton',\n",
       " 'darcy',\n",
       " 'day',\n",
       " 'debye',\n",
       " 'decade',\n",
       " 'decibel',\n",
       " 'decibelmicrowatt',\n",
       " 'decibelmilliwatt',\n",
       " 'decimeter',\n",
       " 'decitex',\n",
       " 'default_as_delta',\n",
       " 'default_format',\n",
       " 'default_system',\n",
       " 'define',\n",
       " 'deg',\n",
       " 'degC',\n",
       " 'degF',\n",
       " 'degK',\n",
       " 'degR',\n",
       " 'degRe',\n",
       " 'degree',\n",
       " 'degreeC',\n",
       " 'degreeF',\n",
       " 'degreeK',\n",
       " 'degreeR',\n",
       " 'degreeRe',\n",
       " 'degree_Celsius',\n",
       " 'degree_Fahrenheit',\n",
       " 'degree_Kelvin',\n",
       " 'degree_Rankine',\n",
       " 'degree_Reaumur',\n",
       " 'degree_Réaumur',\n",
       " 'delta_celsius',\n",
       " 'delta_degC',\n",
       " 'delta_degF',\n",
       " 'delta_degRe',\n",
       " 'delta_degreeC',\n",
       " 'delta_degreeF',\n",
       " 'delta_degreeRe',\n",
       " 'delta_degree_Celsius',\n",
       " 'delta_degree_Fahrenheit',\n",
       " 'delta_degree_Reaumur',\n",
       " 'delta_degree_Réaumur',\n",
       " 'delta_fahrenheit',\n",
       " 'delta_reaumur',\n",
       " 'delta_réaumur',\n",
       " 'den',\n",
       " 'denier',\n",
       " 'dgal',\n",
       " 'didot',\n",
       " 'dirac_constant',\n",
       " 'disable_contexts',\n",
       " 'dot',\n",
       " 'dots_per_inch',\n",
       " 'dpi',\n",
       " 'dqt',\n",
       " 'dr',\n",
       " 'drachm',\n",
       " 'dram',\n",
       " 'dry_barrel',\n",
       " 'dry_gallon',\n",
       " 'dry_pint',\n",
       " 'dry_quart',\n",
       " 'dtex',\n",
       " 'dwt',\n",
       " 'dyn',\n",
       " 'dyne',\n",
       " 'e',\n",
       " 'eV',\n",
       " 'electric_constant',\n",
       " 'electrical_horsepower',\n",
       " 'electron_g_factor',\n",
       " 'electron_mass',\n",
       " 'electron_volt',\n",
       " 'elementary_charge',\n",
       " 'enable_contexts',\n",
       " 'entropy_unit',\n",
       " 'enzyme_unit',\n",
       " 'enzymeunit',\n",
       " 'eon',\n",
       " 'eps0',\n",
       " 'eps_0',\n",
       " 'epsilon_0',\n",
       " 'erg',\n",
       " 'esu',\n",
       " 'ethane',\n",
       " 'eu',\n",
       " 'eulers_number',\n",
       " 'fahrenheit',\n",
       " 'farad',\n",
       " 'faraday',\n",
       " 'faraday_constant',\n",
       " 'fathom',\n",
       " 'feet',\n",
       " 'feet_H2O',\n",
       " 'femtometer',\n",
       " 'fermi',\n",
       " 'fifteen_degree_calorie',\n",
       " 'fifth',\n",
       " 'fine_structure_constant',\n",
       " 'first_radiation_constant',\n",
       " 'fldr',\n",
       " 'floz',\n",
       " 'fluid_dram',\n",
       " 'fluid_ounce',\n",
       " 'fluidram',\n",
       " 'fm',\n",
       " 'fmt_locale',\n",
       " 'foot',\n",
       " 'foot_H2O',\n",
       " 'foot_per_second',\n",
       " 'foot_pound',\n",
       " 'footpound',\n",
       " 'force_gram',\n",
       " 'force_kilogram',\n",
       " 'force_long_ton',\n",
       " 'force_metric_ton',\n",
       " 'force_ndarray',\n",
       " 'force_ndarray_like',\n",
       " ...]"
      ]
     },
     "execution_count": 5,
     "metadata": {},
     "output_type": "execute_result"
    }
   ],
   "source": [
    "# NBVAL_IGNORE_OUTPUT\n",
    "dir(unit_registry)"
   ]
  },
  {
   "cell_type": "markdown",
   "metadata": {},
   "source": [
    "Additional units can be added to the unit registry using `define` as shown below. By default, `scmdata.units.UNIT_REGISTRY` uses the same registry as `openscm_units.unit_registry` so any additional units will be available for any other packages which use `openscm_units.unit_registry`."
   ]
  },
  {
   "cell_type": "code",
   "execution_count": 6,
   "metadata": {
    "execution": {
     "iopub.execute_input": "2023-04-03T04:26:34.742762Z",
     "iopub.status.busy": "2023-04-03T04:26:34.740681Z",
     "iopub.status.idle": "2023-04-03T04:26:34.746917Z",
     "shell.execute_reply": "2023-04-03T04:26:34.746594Z"
    }
   },
   "outputs": [],
   "source": [
    "unit_registry.define(\"population = [population]\")\n",
    "\n",
    "assert \"population\" in dir(unit_registry)"
   ]
  },
  {
   "cell_type": "markdown",
   "metadata": {},
   "source": [
    "## Using Pint Directly\n",
    "\n",
    "For completeness, below we show how to use pint directly. Note that all of these operations are used by `UnitConverter` so the user shouldn't ever have to access pint in this way."
   ]
  },
  {
   "cell_type": "markdown",
   "metadata": {},
   "source": [
    "With the `unit_registry`, we can also create Pint variables/arrays which are unit aware."
   ]
  },
  {
   "cell_type": "code",
   "execution_count": 7,
   "metadata": {
    "execution": {
     "iopub.execute_input": "2023-04-03T04:26:34.748219Z",
     "iopub.status.busy": "2023-04-03T04:26:34.748129Z",
     "iopub.status.idle": "2023-04-03T04:26:34.750124Z",
     "shell.execute_reply": "2023-04-03T04:26:34.749874Z"
    },
    "pycharm": {
     "is_executing": false
    }
   },
   "outputs": [
    {
     "name": "stdout",
     "output_type": "stream",
     "text": [
      "1 C\n"
     ]
    }
   ],
   "source": [
    "one_carbon = 1 * unit_registry(\"C\")\n",
    "print(one_carbon)"
   ]
  },
  {
   "cell_type": "code",
   "execution_count": 8,
   "metadata": {
    "execution": {
     "iopub.execute_input": "2023-04-03T04:26:34.751206Z",
     "iopub.status.busy": "2023-04-03T04:26:34.751122Z",
     "iopub.status.idle": "2023-04-03T04:26:34.753246Z",
     "shell.execute_reply": "2023-04-03T04:26:34.752995Z"
    },
    "pycharm": {
     "is_executing": false
    }
   },
   "outputs": [
    {
     "data": {
      "text/plain": [
       "pint.quantity.build_quantity_class.<locals>.Quantity"
      ]
     },
     "execution_count": 8,
     "metadata": {},
     "output_type": "execute_result"
    }
   ],
   "source": [
    "type(one_carbon)"
   ]
  },
  {
   "cell_type": "code",
   "execution_count": 9,
   "metadata": {
    "execution": {
     "iopub.execute_input": "2023-04-03T04:26:34.754352Z",
     "iopub.status.busy": "2023-04-03T04:26:34.754269Z",
     "iopub.status.idle": "2023-04-03T04:26:34.756064Z",
     "shell.execute_reply": "2023-04-03T04:26:34.755844Z"
    },
    "pycharm": {
     "is_executing": false
    }
   },
   "outputs": [],
   "source": [
    "one_co2 = 1 * unit_registry.CO2\n",
    "three_sulfur = 3 * unit_registry.S"
   ]
  },
  {
   "cell_type": "markdown",
   "metadata": {},
   "source": [
    "Pint quantities also print in an intuitive way."
   ]
  },
  {
   "cell_type": "code",
   "execution_count": 10,
   "metadata": {
    "execution": {
     "iopub.execute_input": "2023-04-03T04:26:34.757241Z",
     "iopub.status.busy": "2023-04-03T04:26:34.757154Z",
     "iopub.status.idle": "2023-04-03T04:26:34.758844Z",
     "shell.execute_reply": "2023-04-03T04:26:34.758597Z"
    },
    "pycharm": {
     "is_executing": false
    }
   },
   "outputs": [
    {
     "name": "stdout",
     "output_type": "stream",
     "text": [
      "1 CO2\n",
      "3 S\n"
     ]
    }
   ],
   "source": [
    "print(one_co2)\n",
    "print(three_sulfur)"
   ]
  },
  {
   "cell_type": "markdown",
   "metadata": {},
   "source": [
    "We can convert them to base units or to each other."
   ]
  },
  {
   "cell_type": "code",
   "execution_count": 11,
   "metadata": {
    "execution": {
     "iopub.execute_input": "2023-04-03T04:26:34.760119Z",
     "iopub.status.busy": "2023-04-03T04:26:34.760031Z",
     "iopub.status.idle": "2023-04-03T04:26:34.762148Z",
     "shell.execute_reply": "2023-04-03T04:26:34.761897Z"
    },
    "pycharm": {
     "is_executing": false
    }
   },
   "outputs": [
    {
     "name": "stdout",
     "output_type": "stream",
     "text": [
      "1 C\n",
      "0.2727272727272727 C\n",
      "6.0 SO2\n"
     ]
    }
   ],
   "source": [
    "print(one_carbon.to_base_units())\n",
    "print(one_co2.to(\"C\"))\n",
    "print(three_sulfur.to(\"SO2\"))"
   ]
  },
  {
   "cell_type": "markdown",
   "metadata": {},
   "source": [
    "Operations are units aware."
   ]
  },
  {
   "cell_type": "code",
   "execution_count": 12,
   "metadata": {
    "execution": {
     "iopub.execute_input": "2023-04-03T04:26:34.763394Z",
     "iopub.status.busy": "2023-04-03T04:26:34.763306Z",
     "iopub.status.idle": "2023-04-03T04:26:34.765544Z",
     "shell.execute_reply": "2023-04-03T04:26:34.765294Z"
    },
    "pycharm": {
     "is_executing": false
    }
   },
   "outputs": [
    {
     "name": "stdout",
     "output_type": "stream",
     "text": [
      "1.2727272727272727 C\n",
      "1 C * CO2\n",
      "0.2727272727272727 C ** 2\n",
      "1.0 C / CO2\n",
      "3.666666666666667 dimensionless\n"
     ]
    }
   ],
   "source": [
    "print(one_carbon + one_co2)\n",
    "print(one_carbon * one_co2)\n",
    "print((one_carbon * one_co2).to_base_units())\n",
    "print(one_carbon / one_co2)\n",
    "print((one_carbon / one_co2).to_base_units())"
   ]
  },
  {
   "cell_type": "markdown",
   "metadata": {},
   "source": [
    "If we have compound units (e.g. emissions units which are [mass] * [substance] / [time]), we can convert any bit of the unit we want."
   ]
  },
  {
   "cell_type": "code",
   "execution_count": 13,
   "metadata": {
    "execution": {
     "iopub.execute_input": "2023-04-03T04:26:34.766820Z",
     "iopub.status.busy": "2023-04-03T04:26:34.766726Z",
     "iopub.status.idle": "2023-04-03T04:26:34.769096Z",
     "shell.execute_reply": "2023-04-03T04:26:34.768857Z"
    },
    "pycharm": {
     "is_executing": false
    }
   },
   "outputs": [
    {
     "name": "stdout",
     "output_type": "stream",
     "text": [
      "1.0 C * megametric_ton / a\n",
      "5.0 CO2 * metric_ton / second\n"
     ]
    }
   ],
   "source": [
    "eg1 = 1 * unit_registry(\"Mt\") * unit_registry(\"C\") / unit_registry(\"yr\")\n",
    "print(eg1)\n",
    "eg2 = 5 * unit_registry(\"t\") * unit_registry(\"CO2\") / unit_registry(\"s\")\n",
    "print(eg2)"
   ]
  },
  {
   "cell_type": "code",
   "execution_count": 14,
   "metadata": {
    "execution": {
     "iopub.execute_input": "2023-04-03T04:26:34.770189Z",
     "iopub.status.busy": "2023-04-03T04:26:34.770111Z",
     "iopub.status.idle": "2023-04-03T04:26:34.772381Z",
     "shell.execute_reply": "2023-04-03T04:26:34.772090Z"
    },
    "pycharm": {
     "is_executing": false
    }
   },
   "outputs": [
    {
     "name": "stdout",
     "output_type": "stream",
     "text": [
      "1.0038786219484371e-05 CO2 * gigametric_ton / day\n",
      "0.04303309090909091 C * gigametric_ton / a\n"
     ]
    }
   ],
   "source": [
    "print(eg1.to(\"Gt CO2 / day\"))\n",
    "print(eg2.to(\"Gt C / yr\"))"
   ]
  },
  {
   "cell_type": "markdown",
   "metadata": {},
   "source": [
    "## Contexts\n",
    "\n",
    "With a context, we can use metric conversion definitions to do emissions conversions that would otherwise raise a `DimensionalityError`. For example, converting CO2 to N2O using AR4GWP100 (where 298 tCO2 = 1 tN2O)."
   ]
  },
  {
   "cell_type": "code",
   "execution_count": 15,
   "metadata": {
    "execution": {
     "iopub.execute_input": "2023-04-03T04:26:34.773833Z",
     "iopub.status.busy": "2023-04-03T04:26:34.773729Z",
     "iopub.status.idle": "2023-04-03T04:26:35.380899Z",
     "shell.execute_reply": "2023-04-03T04:26:35.380553Z"
    },
    "pycharm": {
     "is_executing": false
    }
   },
   "outputs": [
    {
     "data": {
      "text/plain": [
       "298.0"
      ]
     },
     "execution_count": 15,
     "metadata": {},
     "output_type": "execute_result"
    }
   ],
   "source": [
    "# NBVAL_IGNORE_OUTPUT\n",
    "ar4gwp100uc = UnitConverter(\"N2O\", \"CO2\", context=\"AR4GWP100\")\n",
    "ar4gwp100uc.convert_from(1)"
   ]
  },
  {
   "cell_type": "code",
   "execution_count": 16,
   "metadata": {
    "execution": {
     "iopub.execute_input": "2023-04-03T04:26:35.382406Z",
     "iopub.status.busy": "2023-04-03T04:26:35.382277Z",
     "iopub.status.idle": "2023-04-03T04:26:35.386984Z",
     "shell.execute_reply": "2023-04-03T04:26:35.386695Z"
    },
    "pycharm": {
     "is_executing": false
    }
   },
   "outputs": [
    {
     "data": {
      "text/plain": [
       "11.92"
      ]
     },
     "execution_count": 16,
     "metadata": {},
     "output_type": "execute_result"
    }
   ],
   "source": [
    "ar4gwp100uc = UnitConverter(\"N2O\", \"CH4\", context=\"AR4GWP100\")\n",
    "ar4gwp100uc.convert_from(1)"
   ]
  },
  {
   "cell_type": "markdown",
   "metadata": {},
   "source": [
    "We can see which contexts we have (which we can use for e.g. metric conversions)."
   ]
  },
  {
   "cell_type": "code",
   "execution_count": 17,
   "metadata": {
    "execution": {
     "iopub.execute_input": "2023-04-03T04:26:35.388291Z",
     "iopub.status.busy": "2023-04-03T04:26:35.388202Z",
     "iopub.status.idle": "2023-04-03T04:26:35.390503Z",
     "shell.execute_reply": "2023-04-03T04:26:35.390257Z"
    },
    "pycharm": {
     "is_executing": false
    }
   },
   "outputs": [
    {
     "data": {
      "text/plain": [
       "['Gaussian',\n",
       " 'Gau',\n",
       " 'ESU',\n",
       " 'esu',\n",
       " 'spectroscopy',\n",
       " 'sp',\n",
       " 'boltzmann',\n",
       " 'energy',\n",
       " 'chemistry',\n",
       " 'chem',\n",
       " 'textile',\n",
       " 'CH4_conversions',\n",
       " 'N2O_conversions',\n",
       " 'NOx_conversions',\n",
       " 'NH3_conversions',\n",
       " 'SARGWP100',\n",
       " 'AR4GWP100',\n",
       " 'AR5GWP100',\n",
       " 'AR5CCFGWP100',\n",
       " 'AR6GWP100',\n",
       " 'AR6GWP20',\n",
       " 'AR6GWP500',\n",
       " 'AR6GTP100']"
      ]
     },
     "execution_count": 17,
     "metadata": {},
     "output_type": "execute_result"
    }
   ],
   "source": [
    "ar4gwp100uc.contexts"
   ]
  },
  {
   "cell_type": "markdown",
   "metadata": {},
   "source": [
    "Such context dependent conversions can also be done directly with Pint."
   ]
  },
  {
   "cell_type": "code",
   "execution_count": 18,
   "metadata": {
    "execution": {
     "iopub.execute_input": "2023-04-03T04:26:35.391672Z",
     "iopub.status.busy": "2023-04-03T04:26:35.391587Z",
     "iopub.status.idle": "2023-04-03T04:26:35.395553Z",
     "shell.execute_reply": "2023-04-03T04:26:35.395307Z"
    },
    "pycharm": {
     "is_executing": false
    }
   },
   "outputs": [
    {
     "name": "stdout",
     "output_type": "stream",
     "text": [
      "1 C\n",
      "3.666666666666667 CO2\n",
      "3.0123042505592843 N2O\n"
     ]
    }
   ],
   "source": [
    "base = 1 * unit_registry(\"N2O\")\n",
    "with unit_registry.context(\"AR4GWP100\"):\n",
    "    print(one_carbon)\n",
    "    print(one_carbon.to(\"CO2\"))\n",
    "    print(\n",
    "        one_carbon.to(\"N2O\") + 3 * unit_registry.N2O\n",
    "    )  # I am not sure why you need to force the conversion of `a` first..."
   ]
  },
  {
   "cell_type": "markdown",
   "metadata": {},
   "source": [
    "Without a context to tell us about metrics, if we try to do an invalid conversion, a `DimensionalityError` will be raised."
   ]
  },
  {
   "cell_type": "code",
   "execution_count": 19,
   "metadata": {
    "execution": {
     "iopub.execute_input": "2023-04-03T04:26:35.396735Z",
     "iopub.status.busy": "2023-04-03T04:26:35.396653Z",
     "iopub.status.idle": "2023-04-03T04:26:35.398749Z",
     "shell.execute_reply": "2023-04-03T04:26:35.398464Z"
    },
    "pycharm": {
     "is_executing": false
    }
   },
   "outputs": [
    {
     "name": "stderr",
     "output_type": "stream",
     "text": [
      "pint.errors.DimensionalityError: Cannot convert from 'N2O' ([nitrous_oxide]) to 'CO2' ([carbon])\n"
     ]
    }
   ],
   "source": [
    "try:\n",
    "    ar4gwp100uc = UnitConverter(\"N2O\", \"CO2\")\n",
    "    ar4gwp100uc.convert_from(1)\n",
    "except DimensionalityError:\n",
    "    traceback.print_exc(limit=0, chain=False)"
   ]
  },
  {
   "cell_type": "code",
   "execution_count": 20,
   "metadata": {
    "execution": {
     "iopub.execute_input": "2023-04-03T04:26:35.399955Z",
     "iopub.status.busy": "2023-04-03T04:26:35.399862Z",
     "iopub.status.idle": "2023-04-03T04:26:35.401756Z",
     "shell.execute_reply": "2023-04-03T04:26:35.401499Z"
    },
    "pycharm": {
     "is_executing": false
    }
   },
   "outputs": [
    {
     "name": "stderr",
     "output_type": "stream",
     "text": [
      "pint.errors.DimensionalityError: Cannot convert from 'N2O' ([nitrous_oxide]) to 'CO2' ([carbon])\n"
     ]
    }
   ],
   "source": [
    "try:\n",
    "    base.to(\"CO2\")\n",
    "except DimensionalityError:\n",
    "    traceback.print_exc(limit=0, chain=False)"
   ]
  },
  {
   "cell_type": "markdown",
   "metadata": {},
   "source": [
    "If the context you use does not have the conversion you request, a warning will be raised. Any subsequent conversions will result in NaN's."
   ]
  },
  {
   "cell_type": "code",
   "execution_count": 21,
   "metadata": {
    "execution": {
     "iopub.execute_input": "2023-04-03T04:26:35.402944Z",
     "iopub.status.busy": "2023-04-03T04:26:35.402861Z",
     "iopub.status.idle": "2023-04-03T04:26:35.411071Z",
     "shell.execute_reply": "2023-04-03T04:26:35.410837Z"
    },
    "pycharm": {
     "is_executing": false
    }
   },
   "outputs": [
    {
     "name": "stderr",
     "output_type": "stream",
     "text": [
      "UserWarning: No conversion from N2O to Halon2402 available, nan will be returned upon conversion\n"
     ]
    },
    {
     "data": {
      "text/plain": [
       "nan"
      ]
     },
     "execution_count": 21,
     "metadata": {},
     "output_type": "execute_result"
    }
   ],
   "source": [
    "# modify the way the warning appears to remove the path,\n",
    "# thank you https://stackoverflow.com/a/26433913\n",
    "def custom_formatting(message, category, filename, lineno, file=None, line=None):\n",
    "    return \"{}: {}\\n\".format(category.__name__, message)\n",
    "\n",
    "\n",
    "warnings.formatwarning = custom_formatting\n",
    "\n",
    "ucnan = UnitConverter(\"N2O\", \"Halon2402\", context=\"SARGWP100\")\n",
    "ucnan.convert_from(1)"
   ]
  },
  {
   "cell_type": "code",
   "execution_count": null,
   "metadata": {},
   "outputs": [],
   "source": []
  }
 ],
 "metadata": {
  "kernelspec": {
   "display_name": "Python 3 (ipykernel)",
   "language": "python",
   "name": "python3"
  },
  "language_info": {
   "codemirror_mode": {
    "name": "ipython",
    "version": 3
   },
   "file_extension": ".py",
   "mimetype": "text/x-python",
   "name": "python",
   "nbconvert_exporter": "python",
   "pygments_lexer": "ipython3",
   "version": "3.9.16"
  },
  "pycharm": {
   "stem_cell": {
    "cell_type": "raw",
    "metadata": {
     "collapsed": false
    },
    "source": []
   }
  }
 },
 "nbformat": 4,
 "nbformat_minor": 2
}
