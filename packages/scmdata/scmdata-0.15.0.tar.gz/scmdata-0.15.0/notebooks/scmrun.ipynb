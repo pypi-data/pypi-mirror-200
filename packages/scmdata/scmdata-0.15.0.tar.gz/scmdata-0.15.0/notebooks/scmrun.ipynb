{
 "cells": [
  {
   "cell_type": "markdown",
   "metadata": {
    "pycharm": {
     "name": "#%% md\n"
    }
   },
   "source": [
    "# ScmRun\n",
    "\n",
    "*Suggestions for update:* add examples of handling of timeseries interpolation plus how the guessing works\n",
    "\n",
    "In this notebook we provide an overview of the capabilities provided by scmdata's `ScmRun` class. `ScmRun` provides a efficient interface to analyse timeseries data."
   ]
  },
  {
   "cell_type": "markdown",
   "metadata": {
    "pycharm": {
     "name": "#%% md\n"
    }
   },
   "source": [
    "## Imports"
   ]
  },
  {
   "cell_type": "code",
   "execution_count": 1,
   "metadata": {
    "execution": {
     "iopub.execute_input": "2023-04-03T04:27:15.601776Z",
     "iopub.status.busy": "2023-04-03T04:27:15.601392Z",
     "iopub.status.idle": "2023-04-03T04:27:16.231012Z",
     "shell.execute_reply": "2023-04-03T04:27:16.229784Z"
    },
    "pycharm": {
     "name": "#%%\n"
    }
   },
   "outputs": [
    {
     "name": "stderr",
     "output_type": "stream",
     "text": [
      "/Users/jared/code/uom/scmdata/src/scmdata/database/_database.py:9: TqdmExperimentalWarning: Using `tqdm.autonotebook.tqdm` in notebook mode. Use `tqdm.tqdm` instead to force console mode (e.g. in jupyter console)\n",
      "  import tqdm.autonotebook as tqdman\n"
     ]
    }
   ],
   "source": [
    "# NBVAL_IGNORE_OUTPUT\n",
    "import traceback\n",
    "\n",
    "import pandas as pd\n",
    "import numpy as np\n",
    "from openscm_units import unit_registry as ur\n",
    "from pint.errors import DimensionalityError\n",
    "\n",
    "from scmdata import ScmRun\n",
    "from scmdata.errors import NonUniqueMetadataError"
   ]
  },
  {
   "cell_type": "code",
   "execution_count": 2,
   "metadata": {
    "execution": {
     "iopub.execute_input": "2023-04-03T04:27:16.251220Z",
     "iopub.status.busy": "2023-04-03T04:27:16.250958Z",
     "iopub.status.idle": "2023-04-03T04:27:16.253176Z",
     "shell.execute_reply": "2023-04-03T04:27:16.252927Z"
    },
    "pycharm": {
     "name": "#%%\n"
    }
   },
   "outputs": [],
   "source": [
    "pd.set_option(\"display.width\", 250)\n",
    "pd.set_option(\"display.max_columns\", 15)\n",
    "pd.set_option(\"display.max_colwidth\", 80)\n",
    "pd.set_option(\"display.min_rows\", 20)"
   ]
  },
  {
   "cell_type": "markdown",
   "metadata": {
    "pycharm": {
     "name": "#%% md\n"
    }
   },
   "source": [
    "## Loading data\n",
    "\n",
    "`ScmRun`'s can read many different data types and be loaded in many different ways.\n",
    "For a full explanation, see the docstring of `ScmRun`'s `__init__` method."
   ]
  },
  {
   "cell_type": "code",
   "execution_count": 3,
   "metadata": {
    "execution": {
     "iopub.execute_input": "2023-04-03T04:27:16.254467Z",
     "iopub.status.busy": "2023-04-03T04:27:16.254363Z",
     "iopub.status.idle": "2023-04-03T04:27:16.256384Z",
     "shell.execute_reply": "2023-04-03T04:27:16.256073Z"
    },
    "pycharm": {
     "name": "#%%\n"
    }
   },
   "outputs": [
    {
     "name": "stdout",
     "output_type": "stream",
     "text": [
      "\n",
      "        Initialize the container with timeseries data.\n",
      "\n",
      "        Parameters\n",
      "        ----------\n",
      "        data: Union[ScmRun, IamDataFrame, pd.DataFrame, np.ndarray, str]\n",
      "            If a :class:`ScmRun <scmdata.run.ScmRun>` object is provided, then a new\n",
      "            :class:`ScmRun <scmdata.run.ScmRun>` is created with a copy of the values and metadata from :obj:\n",
      "            `data`.\n",
      "\n",
      "            A :class:`pandas.DataFrame` with IAMC-format data columns (the result from\n",
      "            :func:`ScmRun.timeseries()`) can be provided without any additional\n",
      "            :obj:`columns` and :obj:`index` information.\n",
      "\n",
      "            If a numpy array of timeseries data is provided, :obj:`columns` and\n",
      "            :obj:`index` must also be specified. The shape of the numpy array should be\n",
      "            ``(n_times, n_series)`` where `n_times` is the number of timesteps and\n",
      "            `n_series` is the number of time series.\n",
      "\n",
      "            If a string is passed, data will be attempted to be read from file.\n",
      "            Currently, reading from CSV, gzipped CSV and Excel formatted files is\n",
      "            supported. The string could be a URL in a format handled by pandas.\n",
      "            Valid URL schemes include http, ftp, s3, gs, and file if pandas>1.2\n",
      "            is used. For more information about the remote formats that can be read,\n",
      "            see the ``pd.read_csv`` documentation for the version of pandas\n",
      "            which is installed.\n",
      "\n",
      "            If no data is provided than an empty :class:`ScmRun <scmdata.run.ScmRun>`\n",
      "            object is created.\n",
      "\n",
      "        index: np.ndarray\n",
      "            If :obj:`index` is not ``None``, then the :obj:`index` is used as the timesteps\n",
      "            for run. All timeseries in the run use the same set of timesteps.\n",
      "\n",
      "            The values will be attempted to be converted to :class:`numpy.datetime[s]` values.\n",
      "            Possible input formats include :\n",
      "\n",
      "            * :class:`datetime.datetime`\n",
      "            * :obj:`int` Start of year\n",
      "            * :obj:`float` Decimal year\n",
      "            * :obj:`str` Uses :func:`dateutil.parser`. Slow and should be avoided if possible\n",
      "\n",
      "            If :obj:`index` is ``None``, than the time index will be obtained from the\n",
      "            :obj:`data` if possible.\n",
      "\n",
      "        columns\n",
      "            If None, ScmRun will attempt to infer the values from the source.\n",
      "            Otherwise, use this dict to write the metadata for each timeseries in data.\n",
      "            For each metadata key (e.g. \"model\", \"scenario\"), an array of values (one\n",
      "            per time series) is expected. Alternatively, providing a list of length 1\n",
      "            applies the same value to all timeseries in data. For example, if you had\n",
      "            three timeseries from 'rcp26' for 3 different models 'model', 'model2' and\n",
      "            'model3', the column dict would look like either 'col_1' or 'col_2':\n",
      "\n",
      "            .. code:: python\n",
      "\n",
      "                >>> col_1 = {\n",
      "                    \"scenario\": [\"rcp26\"],\n",
      "                    \"model\": [\"model1\", \"model2\", \"model3\"],\n",
      "                    \"region\": [\"unspecified\"],\n",
      "                    \"variable\": [\"unspecified\"],\n",
      "                    \"unit\": [\"unspecified\"]\n",
      "                }\n",
      "                >>> col_2 = {\n",
      "                    \"scenario\": [\"rcp26\", \"rcp26\", \"rcp26\"],\n",
      "                    \"model\": [\"model1\", \"model2\", \"model3\"],\n",
      "                    \"region\": [\"unspecified\"],\n",
      "                    \"variable\": [\"unspecified\"],\n",
      "                    \"unit\": [\"unspecified\"]\n",
      "                }\n",
      "                >>> assert pd.testing.assert_frame_equal(\n",
      "                    ScmRun(d, columns=col_1).meta,\n",
      "                    ScmRun(d, columns=col_2).meta\n",
      "                )\n",
      "\n",
      "        metadata:\n",
      "            Optional dictionary of metadata for instance as a whole.\n",
      "\n",
      "            This can be used to store information such as the longer-form information\n",
      "            about a particular dataset, for example, dataset description or DOIs.\n",
      "\n",
      "            Defaults to an empty :obj:`dict` if no default metadata are provided.\n",
      "\n",
      "        copy_data: bool\n",
      "            If True, an explicit copy of data is performed.\n",
      "\n",
      "            .. note::\n",
      "                The copy can be very expensive on large timeseries and should only be needed\n",
      "                in cases where the original data is manipulated.\n",
      "\n",
      "        **kwargs:\n",
      "            Additional parameters passed to :func:`_read_file` to read files\n",
      "\n",
      "        Raises\n",
      "        ------\n",
      "        ValueError\n",
      "            * If you try to load from multiple files at once. If you wish to do this,\n",
      "                please use :func:`scmdata.run.run_append` instead.\n",
      "            * Not specifying :obj:`index` and :obj:`columns` if :obj:`data` is a\n",
      "                :class:`numpy.ndarray`\n",
      "\n",
      "        :class:`scmdata.errors.MissingRequiredColumn`\n",
      "            If metadata for :attr:`required_cols` is not found\n",
      "\n",
      "        TypeError\n",
      "            Timeseries cannot be read from :obj:`data`\n",
      "        \n"
     ]
    }
   ],
   "source": [
    "print(ScmRun.__init__.__doc__)"
   ]
  },
  {
   "cell_type": "markdown",
   "metadata": {
    "pycharm": {
     "name": "#%% md\n"
    }
   },
   "source": [
    "Here we load data from a file.\n",
    "\n",
    "*Note:* here we load RCP26 emissions data. This originally came from http://www.pik-potsdam.de/~mmalte/rcps/ and has since been re-written into a format which can be read by scmdata using the [pymagicc](https://github.com/openclimatedata/pymagicc) library. We are not currently planning on importing Pymagicc's readers into scmdata by default, please raise an issue [here](https://github.com/openscm/scmdata/issues) if you would like us to consider doing so."
   ]
  },
  {
   "cell_type": "code",
   "execution_count": 4,
   "metadata": {
    "execution": {
     "iopub.execute_input": "2023-04-03T04:27:16.257801Z",
     "iopub.status.busy": "2023-04-03T04:27:16.257666Z",
     "iopub.status.idle": "2023-04-03T04:27:16.296613Z",
     "shell.execute_reply": "2023-04-03T04:27:16.296227Z"
    },
    "pycharm": {
     "name": "#%%\n"
    }
   },
   "outputs": [],
   "source": [
    "rcp26 = ScmRun(\"rcp26_emissions.csv\", lowercase_cols=True)"
   ]
  },
  {
   "cell_type": "markdown",
   "metadata": {
    "pycharm": {
     "name": "#%% md\n"
    }
   },
   "source": [
    "## Timeseries\n",
    "\n",
    "`ScmDataFrame` is ideally suited to working with timeseries data.\n",
    "The `timeseries` method allows you to easily get the data back in wide format as a *pandas* `DataFrame`.\n",
    "Here 'wide' format refers to representing timeseries as a row with metadata being contained in the row labels."
   ]
  },
  {
   "cell_type": "code",
   "execution_count": 5,
   "metadata": {
    "execution": {
     "iopub.execute_input": "2023-04-03T04:27:16.298194Z",
     "iopub.status.busy": "2023-04-03T04:27:16.298099Z",
     "iopub.status.idle": "2023-04-03T04:27:16.309788Z",
     "shell.execute_reply": "2023-04-03T04:27:16.309509Z"
    },
    "pycharm": {
     "name": "#%%\n"
    }
   },
   "outputs": [
    {
     "data": {
      "text/html": [
       "<div>\n",
       "<style scoped>\n",
       "    .dataframe tbody tr th:only-of-type {\n",
       "        vertical-align: middle;\n",
       "    }\n",
       "\n",
       "    .dataframe tbody tr th {\n",
       "        vertical-align: top;\n",
       "    }\n",
       "\n",
       "    .dataframe thead th {\n",
       "        text-align: right;\n",
       "    }\n",
       "</style>\n",
       "<table border=\"1\" class=\"dataframe\">\n",
       "  <thead>\n",
       "    <tr style=\"text-align: right;\">\n",
       "      <th></th>\n",
       "      <th></th>\n",
       "      <th></th>\n",
       "      <th></th>\n",
       "      <th>time</th>\n",
       "      <th>1765-01-01 00:00:00</th>\n",
       "      <th>1766-01-01 00:00:00</th>\n",
       "      <th>1767-01-01 00:00:00</th>\n",
       "      <th>1768-01-01 00:00:00</th>\n",
       "      <th>1769-01-01 00:00:00</th>\n",
       "      <th>1770-01-01 00:00:00</th>\n",
       "      <th>1771-01-01 00:00:00</th>\n",
       "      <th>...</th>\n",
       "      <th>2494-01-01 00:00:00</th>\n",
       "      <th>2495-01-01 00:00:00</th>\n",
       "      <th>2496-01-01 00:00:00</th>\n",
       "      <th>2497-01-01 00:00:00</th>\n",
       "      <th>2498-01-01 00:00:00</th>\n",
       "      <th>2499-01-01 00:00:00</th>\n",
       "      <th>2500-01-01 00:00:00</th>\n",
       "    </tr>\n",
       "    <tr>\n",
       "      <th>model</th>\n",
       "      <th>region</th>\n",
       "      <th>scenario</th>\n",
       "      <th>unit</th>\n",
       "      <th>variable</th>\n",
       "      <th></th>\n",
       "      <th></th>\n",
       "      <th></th>\n",
       "      <th></th>\n",
       "      <th></th>\n",
       "      <th></th>\n",
       "      <th></th>\n",
       "      <th></th>\n",
       "      <th></th>\n",
       "      <th></th>\n",
       "      <th></th>\n",
       "      <th></th>\n",
       "      <th></th>\n",
       "      <th></th>\n",
       "      <th></th>\n",
       "    </tr>\n",
       "  </thead>\n",
       "  <tbody>\n",
       "    <tr>\n",
       "      <th rowspan=\"5\" valign=\"top\">IMAGE</th>\n",
       "      <th rowspan=\"5\" valign=\"top\">World</th>\n",
       "      <th rowspan=\"5\" valign=\"top\">RCP26</th>\n",
       "      <th>Mt BC / yr</th>\n",
       "      <th>Emissions|BC</th>\n",
       "      <td>0.000000</td>\n",
       "      <td>0.106998</td>\n",
       "      <td>0.133383</td>\n",
       "      <td>0.159847</td>\n",
       "      <td>0.186393</td>\n",
       "      <td>0.213024</td>\n",
       "      <td>0.239742</td>\n",
       "      <td>...</td>\n",
       "      <td>3.3578</td>\n",
       "      <td>3.3578</td>\n",
       "      <td>3.3578</td>\n",
       "      <td>3.3578</td>\n",
       "      <td>3.3578</td>\n",
       "      <td>3.3578</td>\n",
       "      <td>3.3578</td>\n",
       "    </tr>\n",
       "    <tr>\n",
       "      <th>kt C2F6 / yr</th>\n",
       "      <th>Emissions|C2F6</th>\n",
       "      <td>0.000000</td>\n",
       "      <td>0.000000</td>\n",
       "      <td>0.000000</td>\n",
       "      <td>0.000000</td>\n",
       "      <td>0.000000</td>\n",
       "      <td>0.000000</td>\n",
       "      <td>0.000000</td>\n",
       "      <td>...</td>\n",
       "      <td>0.0857</td>\n",
       "      <td>0.0857</td>\n",
       "      <td>0.0857</td>\n",
       "      <td>0.0857</td>\n",
       "      <td>0.0857</td>\n",
       "      <td>0.0857</td>\n",
       "      <td>0.0857</td>\n",
       "    </tr>\n",
       "    <tr>\n",
       "      <th>kt C6F14 / yr</th>\n",
       "      <th>Emissions|C6F14</th>\n",
       "      <td>0.000000</td>\n",
       "      <td>0.000000</td>\n",
       "      <td>0.000000</td>\n",
       "      <td>0.000000</td>\n",
       "      <td>0.000000</td>\n",
       "      <td>0.000000</td>\n",
       "      <td>0.000000</td>\n",
       "      <td>...</td>\n",
       "      <td>0.0887</td>\n",
       "      <td>0.0887</td>\n",
       "      <td>0.0887</td>\n",
       "      <td>0.0887</td>\n",
       "      <td>0.0887</td>\n",
       "      <td>0.0887</td>\n",
       "      <td>0.0887</td>\n",
       "    </tr>\n",
       "    <tr>\n",
       "      <th>kt CCl4 / yr</th>\n",
       "      <th>Emissions|CCl4</th>\n",
       "      <td>0.000000</td>\n",
       "      <td>0.000000</td>\n",
       "      <td>0.000000</td>\n",
       "      <td>0.000000</td>\n",
       "      <td>0.000000</td>\n",
       "      <td>0.000000</td>\n",
       "      <td>0.000000</td>\n",
       "      <td>...</td>\n",
       "      <td>0.0000</td>\n",
       "      <td>0.0000</td>\n",
       "      <td>0.0000</td>\n",
       "      <td>0.0000</td>\n",
       "      <td>0.0000</td>\n",
       "      <td>0.0000</td>\n",
       "      <td>0.0000</td>\n",
       "    </tr>\n",
       "    <tr>\n",
       "      <th>kt CF4 / yr</th>\n",
       "      <th>Emissions|CF4</th>\n",
       "      <td>0.010763</td>\n",
       "      <td>0.010752</td>\n",
       "      <td>0.010748</td>\n",
       "      <td>0.010744</td>\n",
       "      <td>0.010740</td>\n",
       "      <td>0.010736</td>\n",
       "      <td>0.010731</td>\n",
       "      <td>...</td>\n",
       "      <td>1.0920</td>\n",
       "      <td>1.0920</td>\n",
       "      <td>1.0920</td>\n",
       "      <td>1.0920</td>\n",
       "      <td>1.0920</td>\n",
       "      <td>1.0920</td>\n",
       "      <td>1.0920</td>\n",
       "    </tr>\n",
       "  </tbody>\n",
       "</table>\n",
       "<p>5 rows × 736 columns</p>\n",
       "</div>"
      ],
      "text/plain": [
       "time                                                 1765-01-01 00:00:00  1766-01-01 00:00:00  1767-01-01 00:00:00  1768-01-01 00:00:00  1769-01-01 00:00:00  1770-01-01 00:00:00  1771-01-01 00:00:00  ...  2494-01-01 00:00:00  2495-01-01 00:00:00  \\\n",
       "model region scenario unit          variable                                                                                                                                                            ...                                             \n",
       "IMAGE World  RCP26    Mt BC / yr    Emissions|BC                0.000000             0.106998             0.133383             0.159847             0.186393             0.213024             0.239742  ...               3.3578               3.3578   \n",
       "                      kt C2F6 / yr  Emissions|C2F6              0.000000             0.000000             0.000000             0.000000             0.000000             0.000000             0.000000  ...               0.0857               0.0857   \n",
       "                      kt C6F14 / yr Emissions|C6F14             0.000000             0.000000             0.000000             0.000000             0.000000             0.000000             0.000000  ...               0.0887               0.0887   \n",
       "                      kt CCl4 / yr  Emissions|CCl4              0.000000             0.000000             0.000000             0.000000             0.000000             0.000000             0.000000  ...               0.0000               0.0000   \n",
       "                      kt CF4 / yr   Emissions|CF4               0.010763             0.010752             0.010748             0.010744             0.010740             0.010736             0.010731  ...               1.0920               1.0920   \n",
       "\n",
       "time                                                 2496-01-01 00:00:00  2497-01-01 00:00:00  2498-01-01 00:00:00  2499-01-01 00:00:00  2500-01-01 00:00:00  \n",
       "model region scenario unit          variable                                                                                                                  \n",
       "IMAGE World  RCP26    Mt BC / yr    Emissions|BC                  3.3578               3.3578               3.3578               3.3578               3.3578  \n",
       "                      kt C2F6 / yr  Emissions|C2F6                0.0857               0.0857               0.0857               0.0857               0.0857  \n",
       "                      kt C6F14 / yr Emissions|C6F14               0.0887               0.0887               0.0887               0.0887               0.0887  \n",
       "                      kt CCl4 / yr  Emissions|CCl4                0.0000               0.0000               0.0000               0.0000               0.0000  \n",
       "                      kt CF4 / yr   Emissions|CF4                 1.0920               1.0920               1.0920               1.0920               1.0920  \n",
       "\n",
       "[5 rows x 736 columns]"
      ]
     },
     "execution_count": 5,
     "metadata": {},
     "output_type": "execute_result"
    }
   ],
   "source": [
    "rcp26.timeseries().head()"
   ]
  },
  {
   "cell_type": "code",
   "execution_count": 6,
   "metadata": {
    "execution": {
     "iopub.execute_input": "2023-04-03T04:27:16.311062Z",
     "iopub.status.busy": "2023-04-03T04:27:16.310975Z",
     "iopub.status.idle": "2023-04-03T04:27:16.314829Z",
     "shell.execute_reply": "2023-04-03T04:27:16.314567Z"
    },
    "pycharm": {
     "name": "#%%\n"
    }
   },
   "outputs": [
    {
     "data": {
      "text/plain": [
       "pandas.core.frame.DataFrame"
      ]
     },
     "execution_count": 6,
     "metadata": {},
     "output_type": "execute_result"
    }
   ],
   "source": [
    "type(rcp26.timeseries())"
   ]
  },
  {
   "cell_type": "markdown",
   "metadata": {
    "pycharm": {
     "name": "#%% md\n"
    }
   },
   "source": [
    "## Operations with scalars\n",
    "\n",
    "Basic operations with scalars are easily performed."
   ]
  },
  {
   "cell_type": "code",
   "execution_count": 7,
   "metadata": {
    "execution": {
     "iopub.execute_input": "2023-04-03T04:27:16.316115Z",
     "iopub.status.busy": "2023-04-03T04:27:16.316026Z",
     "iopub.status.idle": "2023-04-03T04:27:16.324555Z",
     "shell.execute_reply": "2023-04-03T04:27:16.324313Z"
    },
    "pycharm": {
     "name": "#%%\n"
    }
   },
   "outputs": [
    {
     "data": {
      "text/html": [
       "<div>\n",
       "<style scoped>\n",
       "    .dataframe tbody tr th:only-of-type {\n",
       "        vertical-align: middle;\n",
       "    }\n",
       "\n",
       "    .dataframe tbody tr th {\n",
       "        vertical-align: top;\n",
       "    }\n",
       "\n",
       "    .dataframe thead th {\n",
       "        text-align: right;\n",
       "    }\n",
       "</style>\n",
       "<table border=\"1\" class=\"dataframe\">\n",
       "  <thead>\n",
       "    <tr style=\"text-align: right;\">\n",
       "      <th></th>\n",
       "      <th></th>\n",
       "      <th></th>\n",
       "      <th></th>\n",
       "      <th>time</th>\n",
       "      <th>1765-01-01 00:00:00</th>\n",
       "      <th>1766-01-01 00:00:00</th>\n",
       "      <th>1767-01-01 00:00:00</th>\n",
       "      <th>1768-01-01 00:00:00</th>\n",
       "      <th>1769-01-01 00:00:00</th>\n",
       "      <th>1770-01-01 00:00:00</th>\n",
       "      <th>1771-01-01 00:00:00</th>\n",
       "      <th>...</th>\n",
       "      <th>2494-01-01 00:00:00</th>\n",
       "      <th>2495-01-01 00:00:00</th>\n",
       "      <th>2496-01-01 00:00:00</th>\n",
       "      <th>2497-01-01 00:00:00</th>\n",
       "      <th>2498-01-01 00:00:00</th>\n",
       "      <th>2499-01-01 00:00:00</th>\n",
       "      <th>2500-01-01 00:00:00</th>\n",
       "    </tr>\n",
       "    <tr>\n",
       "      <th>model</th>\n",
       "      <th>region</th>\n",
       "      <th>scenario</th>\n",
       "      <th>unit</th>\n",
       "      <th>variable</th>\n",
       "      <th></th>\n",
       "      <th></th>\n",
       "      <th></th>\n",
       "      <th></th>\n",
       "      <th></th>\n",
       "      <th></th>\n",
       "      <th></th>\n",
       "      <th></th>\n",
       "      <th></th>\n",
       "      <th></th>\n",
       "      <th></th>\n",
       "      <th></th>\n",
       "      <th></th>\n",
       "      <th></th>\n",
       "      <th></th>\n",
       "    </tr>\n",
       "  </thead>\n",
       "  <tbody>\n",
       "    <tr>\n",
       "      <th rowspan=\"5\" valign=\"top\">IMAGE</th>\n",
       "      <th rowspan=\"5\" valign=\"top\">World</th>\n",
       "      <th rowspan=\"5\" valign=\"top\">RCP26</th>\n",
       "      <th>Mt BC / yr</th>\n",
       "      <th>Emissions|BC</th>\n",
       "      <td>0.000000</td>\n",
       "      <td>0.106998</td>\n",
       "      <td>0.133383</td>\n",
       "      <td>0.159847</td>\n",
       "      <td>0.186393</td>\n",
       "      <td>0.213024</td>\n",
       "      <td>0.239742</td>\n",
       "      <td>...</td>\n",
       "      <td>3.3578</td>\n",
       "      <td>3.3578</td>\n",
       "      <td>3.3578</td>\n",
       "      <td>3.3578</td>\n",
       "      <td>3.3578</td>\n",
       "      <td>3.3578</td>\n",
       "      <td>3.3578</td>\n",
       "    </tr>\n",
       "    <tr>\n",
       "      <th>kt C2F6 / yr</th>\n",
       "      <th>Emissions|C2F6</th>\n",
       "      <td>0.000000</td>\n",
       "      <td>0.000000</td>\n",
       "      <td>0.000000</td>\n",
       "      <td>0.000000</td>\n",
       "      <td>0.000000</td>\n",
       "      <td>0.000000</td>\n",
       "      <td>0.000000</td>\n",
       "      <td>...</td>\n",
       "      <td>0.0857</td>\n",
       "      <td>0.0857</td>\n",
       "      <td>0.0857</td>\n",
       "      <td>0.0857</td>\n",
       "      <td>0.0857</td>\n",
       "      <td>0.0857</td>\n",
       "      <td>0.0857</td>\n",
       "    </tr>\n",
       "    <tr>\n",
       "      <th>kt C6F14 / yr</th>\n",
       "      <th>Emissions|C6F14</th>\n",
       "      <td>0.000000</td>\n",
       "      <td>0.000000</td>\n",
       "      <td>0.000000</td>\n",
       "      <td>0.000000</td>\n",
       "      <td>0.000000</td>\n",
       "      <td>0.000000</td>\n",
       "      <td>0.000000</td>\n",
       "      <td>...</td>\n",
       "      <td>0.0887</td>\n",
       "      <td>0.0887</td>\n",
       "      <td>0.0887</td>\n",
       "      <td>0.0887</td>\n",
       "      <td>0.0887</td>\n",
       "      <td>0.0887</td>\n",
       "      <td>0.0887</td>\n",
       "    </tr>\n",
       "    <tr>\n",
       "      <th>kt CCl4 / yr</th>\n",
       "      <th>Emissions|CCl4</th>\n",
       "      <td>0.000000</td>\n",
       "      <td>0.000000</td>\n",
       "      <td>0.000000</td>\n",
       "      <td>0.000000</td>\n",
       "      <td>0.000000</td>\n",
       "      <td>0.000000</td>\n",
       "      <td>0.000000</td>\n",
       "      <td>...</td>\n",
       "      <td>0.0000</td>\n",
       "      <td>0.0000</td>\n",
       "      <td>0.0000</td>\n",
       "      <td>0.0000</td>\n",
       "      <td>0.0000</td>\n",
       "      <td>0.0000</td>\n",
       "      <td>0.0000</td>\n",
       "    </tr>\n",
       "    <tr>\n",
       "      <th>kt CF4 / yr</th>\n",
       "      <th>Emissions|CF4</th>\n",
       "      <td>0.010763</td>\n",
       "      <td>0.010752</td>\n",
       "      <td>0.010748</td>\n",
       "      <td>0.010744</td>\n",
       "      <td>0.010740</td>\n",
       "      <td>0.010736</td>\n",
       "      <td>0.010731</td>\n",
       "      <td>...</td>\n",
       "      <td>1.0920</td>\n",
       "      <td>1.0920</td>\n",
       "      <td>1.0920</td>\n",
       "      <td>1.0920</td>\n",
       "      <td>1.0920</td>\n",
       "      <td>1.0920</td>\n",
       "      <td>1.0920</td>\n",
       "    </tr>\n",
       "  </tbody>\n",
       "</table>\n",
       "<p>5 rows × 736 columns</p>\n",
       "</div>"
      ],
      "text/plain": [
       "time                                                 1765-01-01 00:00:00  1766-01-01 00:00:00  1767-01-01 00:00:00  1768-01-01 00:00:00  1769-01-01 00:00:00  1770-01-01 00:00:00  1771-01-01 00:00:00  ...  2494-01-01 00:00:00  2495-01-01 00:00:00  \\\n",
       "model region scenario unit          variable                                                                                                                                                            ...                                             \n",
       "IMAGE World  RCP26    Mt BC / yr    Emissions|BC                0.000000             0.106998             0.133383             0.159847             0.186393             0.213024             0.239742  ...               3.3578               3.3578   \n",
       "                      kt C2F6 / yr  Emissions|C2F6              0.000000             0.000000             0.000000             0.000000             0.000000             0.000000             0.000000  ...               0.0857               0.0857   \n",
       "                      kt C6F14 / yr Emissions|C6F14             0.000000             0.000000             0.000000             0.000000             0.000000             0.000000             0.000000  ...               0.0887               0.0887   \n",
       "                      kt CCl4 / yr  Emissions|CCl4              0.000000             0.000000             0.000000             0.000000             0.000000             0.000000             0.000000  ...               0.0000               0.0000   \n",
       "                      kt CF4 / yr   Emissions|CF4               0.010763             0.010752             0.010748             0.010744             0.010740             0.010736             0.010731  ...               1.0920               1.0920   \n",
       "\n",
       "time                                                 2496-01-01 00:00:00  2497-01-01 00:00:00  2498-01-01 00:00:00  2499-01-01 00:00:00  2500-01-01 00:00:00  \n",
       "model region scenario unit          variable                                                                                                                  \n",
       "IMAGE World  RCP26    Mt BC / yr    Emissions|BC                  3.3578               3.3578               3.3578               3.3578               3.3578  \n",
       "                      kt C2F6 / yr  Emissions|C2F6                0.0857               0.0857               0.0857               0.0857               0.0857  \n",
       "                      kt C6F14 / yr Emissions|C6F14               0.0887               0.0887               0.0887               0.0887               0.0887  \n",
       "                      kt CCl4 / yr  Emissions|CCl4                0.0000               0.0000               0.0000               0.0000               0.0000  \n",
       "                      kt CF4 / yr   Emissions|CF4                 1.0920               1.0920               1.0920               1.0920               1.0920  \n",
       "\n",
       "[5 rows x 736 columns]"
      ]
     },
     "execution_count": 7,
     "metadata": {},
     "output_type": "execute_result"
    }
   ],
   "source": [
    "rcp26.head()"
   ]
  },
  {
   "cell_type": "code",
   "execution_count": 8,
   "metadata": {
    "execution": {
     "iopub.execute_input": "2023-04-03T04:27:16.325745Z",
     "iopub.status.busy": "2023-04-03T04:27:16.325660Z",
     "iopub.status.idle": "2023-04-03T04:27:16.365777Z",
     "shell.execute_reply": "2023-04-03T04:27:16.365525Z"
    },
    "pycharm": {
     "name": "#%%\n"
    }
   },
   "outputs": [
    {
     "data": {
      "text/html": [
       "<div>\n",
       "<style scoped>\n",
       "    .dataframe tbody tr th:only-of-type {\n",
       "        vertical-align: middle;\n",
       "    }\n",
       "\n",
       "    .dataframe tbody tr th {\n",
       "        vertical-align: top;\n",
       "    }\n",
       "\n",
       "    .dataframe thead th {\n",
       "        text-align: right;\n",
       "    }\n",
       "</style>\n",
       "<table border=\"1\" class=\"dataframe\">\n",
       "  <thead>\n",
       "    <tr style=\"text-align: right;\">\n",
       "      <th></th>\n",
       "      <th></th>\n",
       "      <th></th>\n",
       "      <th></th>\n",
       "      <th>time</th>\n",
       "      <th>1765-01-01 00:00:00</th>\n",
       "      <th>1766-01-01 00:00:00</th>\n",
       "      <th>1767-01-01 00:00:00</th>\n",
       "      <th>1768-01-01 00:00:00</th>\n",
       "      <th>1769-01-01 00:00:00</th>\n",
       "      <th>1770-01-01 00:00:00</th>\n",
       "      <th>1771-01-01 00:00:00</th>\n",
       "      <th>...</th>\n",
       "      <th>2494-01-01 00:00:00</th>\n",
       "      <th>2495-01-01 00:00:00</th>\n",
       "      <th>2496-01-01 00:00:00</th>\n",
       "      <th>2497-01-01 00:00:00</th>\n",
       "      <th>2498-01-01 00:00:00</th>\n",
       "      <th>2499-01-01 00:00:00</th>\n",
       "      <th>2500-01-01 00:00:00</th>\n",
       "    </tr>\n",
       "    <tr>\n",
       "      <th>model</th>\n",
       "      <th>region</th>\n",
       "      <th>scenario</th>\n",
       "      <th>unit</th>\n",
       "      <th>variable</th>\n",
       "      <th></th>\n",
       "      <th></th>\n",
       "      <th></th>\n",
       "      <th></th>\n",
       "      <th></th>\n",
       "      <th></th>\n",
       "      <th></th>\n",
       "      <th></th>\n",
       "      <th></th>\n",
       "      <th></th>\n",
       "      <th></th>\n",
       "      <th></th>\n",
       "      <th></th>\n",
       "      <th></th>\n",
       "      <th></th>\n",
       "    </tr>\n",
       "  </thead>\n",
       "  <tbody>\n",
       "    <tr>\n",
       "      <th rowspan=\"5\" valign=\"top\">IMAGE</th>\n",
       "      <th rowspan=\"5\" valign=\"top\">World</th>\n",
       "      <th rowspan=\"5\" valign=\"top\">RCP26</th>\n",
       "      <th rowspan=\"2\" valign=\"top\">Gt C / yr</th>\n",
       "      <th>Emissions|CO2|MAGICC AFOLU</th>\n",
       "      <td>2.000</td>\n",
       "      <td>2.005338</td>\n",
       "      <td>2.010677</td>\n",
       "      <td>2.016015</td>\n",
       "      <td>2.021353</td>\n",
       "      <td>2.026691</td>\n",
       "      <td>2.032030</td>\n",
       "      <td>...</td>\n",
       "      <td>2.0000</td>\n",
       "      <td>2.0000</td>\n",
       "      <td>2.0000</td>\n",
       "      <td>2.0000</td>\n",
       "      <td>2.0000</td>\n",
       "      <td>2.0000</td>\n",
       "      <td>2.0000</td>\n",
       "    </tr>\n",
       "    <tr>\n",
       "      <th>Emissions|CO2|MAGICC Fossil and Industrial</th>\n",
       "      <td>2.003</td>\n",
       "      <td>2.003000</td>\n",
       "      <td>2.003000</td>\n",
       "      <td>2.003000</td>\n",
       "      <td>2.003000</td>\n",
       "      <td>2.003000</td>\n",
       "      <td>2.004000</td>\n",
       "      <td>...</td>\n",
       "      <td>1.0692</td>\n",
       "      <td>1.0692</td>\n",
       "      <td>1.0692</td>\n",
       "      <td>1.0692</td>\n",
       "      <td>1.0692</td>\n",
       "      <td>1.0692</td>\n",
       "      <td>1.0692</td>\n",
       "    </tr>\n",
       "    <tr>\n",
       "      <th>Mt BC / yr</th>\n",
       "      <th>Emissions|BC</th>\n",
       "      <td>2.000</td>\n",
       "      <td>2.106998</td>\n",
       "      <td>2.133383</td>\n",
       "      <td>2.159847</td>\n",
       "      <td>2.186393</td>\n",
       "      <td>2.213024</td>\n",
       "      <td>2.239742</td>\n",
       "      <td>...</td>\n",
       "      <td>5.3578</td>\n",
       "      <td>5.3578</td>\n",
       "      <td>5.3578</td>\n",
       "      <td>5.3578</td>\n",
       "      <td>5.3578</td>\n",
       "      <td>5.3578</td>\n",
       "      <td>5.3578</td>\n",
       "    </tr>\n",
       "    <tr>\n",
       "      <th>Mt CH4 / yr</th>\n",
       "      <th>Emissions|CH4</th>\n",
       "      <td>2.000</td>\n",
       "      <td>3.963262</td>\n",
       "      <td>4.436448</td>\n",
       "      <td>4.911105</td>\n",
       "      <td>5.387278</td>\n",
       "      <td>5.865015</td>\n",
       "      <td>6.344362</td>\n",
       "      <td>...</td>\n",
       "      <td>144.0527</td>\n",
       "      <td>144.0527</td>\n",
       "      <td>144.0527</td>\n",
       "      <td>144.0527</td>\n",
       "      <td>144.0527</td>\n",
       "      <td>144.0527</td>\n",
       "      <td>144.0527</td>\n",
       "    </tr>\n",
       "    <tr>\n",
       "      <th>Mt CO / yr</th>\n",
       "      <th>Emissions|CO</th>\n",
       "      <td>2.000</td>\n",
       "      <td>11.050221</td>\n",
       "      <td>14.960844</td>\n",
       "      <td>18.876539</td>\n",
       "      <td>22.797465</td>\n",
       "      <td>26.723782</td>\n",
       "      <td>30.655658</td>\n",
       "      <td>...</td>\n",
       "      <td>609.8438</td>\n",
       "      <td>609.8438</td>\n",
       "      <td>609.8438</td>\n",
       "      <td>609.8438</td>\n",
       "      <td>609.8438</td>\n",
       "      <td>609.8438</td>\n",
       "      <td>609.8438</td>\n",
       "    </tr>\n",
       "  </tbody>\n",
       "</table>\n",
       "<p>5 rows × 736 columns</p>\n",
       "</div>"
      ],
      "text/plain": [
       "time                                                                          1765-01-01 00:00:00  1766-01-01 00:00:00  1767-01-01 00:00:00  1768-01-01 00:00:00  1769-01-01 00:00:00  1770-01-01 00:00:00  1771-01-01 00:00:00  ...  \\\n",
       "model region scenario unit        variable                                                                                                                                                                                       ...   \n",
       "IMAGE World  RCP26    Gt C / yr   Emissions|CO2|MAGICC AFOLU                                2.000             2.005338             2.010677             2.016015             2.021353             2.026691             2.032030  ...   \n",
       "                                  Emissions|CO2|MAGICC Fossil and Industrial                2.003             2.003000             2.003000             2.003000             2.003000             2.003000             2.004000  ...   \n",
       "                      Mt BC / yr  Emissions|BC                                              2.000             2.106998             2.133383             2.159847             2.186393             2.213024             2.239742  ...   \n",
       "                      Mt CH4 / yr Emissions|CH4                                             2.000             3.963262             4.436448             4.911105             5.387278             5.865015             6.344362  ...   \n",
       "                      Mt CO / yr  Emissions|CO                                              2.000            11.050221            14.960844            18.876539            22.797465            26.723782            30.655658  ...   \n",
       "\n",
       "time                                                                          2494-01-01 00:00:00  2495-01-01 00:00:00  2496-01-01 00:00:00  2497-01-01 00:00:00  2498-01-01 00:00:00  2499-01-01 00:00:00  2500-01-01 00:00:00  \n",
       "model region scenario unit        variable                                                                                                                                                                                       \n",
       "IMAGE World  RCP26    Gt C / yr   Emissions|CO2|MAGICC AFOLU                               2.0000               2.0000               2.0000               2.0000               2.0000               2.0000               2.0000  \n",
       "                                  Emissions|CO2|MAGICC Fossil and Industrial               1.0692               1.0692               1.0692               1.0692               1.0692               1.0692               1.0692  \n",
       "                      Mt BC / yr  Emissions|BC                                             5.3578               5.3578               5.3578               5.3578               5.3578               5.3578               5.3578  \n",
       "                      Mt CH4 / yr Emissions|CH4                                          144.0527             144.0527             144.0527             144.0527             144.0527             144.0527             144.0527  \n",
       "                      Mt CO / yr  Emissions|CO                                           609.8438             609.8438             609.8438             609.8438             609.8438             609.8438             609.8438  \n",
       "\n",
       "[5 rows x 736 columns]"
      ]
     },
     "execution_count": 8,
     "metadata": {},
     "output_type": "execute_result"
    }
   ],
   "source": [
    "(rcp26 + 2).head()"
   ]
  },
  {
   "cell_type": "code",
   "execution_count": 9,
   "metadata": {
    "execution": {
     "iopub.execute_input": "2023-04-03T04:27:16.367049Z",
     "iopub.status.busy": "2023-04-03T04:27:16.366953Z",
     "iopub.status.idle": "2023-04-03T04:27:16.403820Z",
     "shell.execute_reply": "2023-04-03T04:27:16.403533Z"
    },
    "pycharm": {
     "name": "#%%\n"
    }
   },
   "outputs": [
    {
     "data": {
      "text/html": [
       "<div>\n",
       "<style scoped>\n",
       "    .dataframe tbody tr th:only-of-type {\n",
       "        vertical-align: middle;\n",
       "    }\n",
       "\n",
       "    .dataframe tbody tr th {\n",
       "        vertical-align: top;\n",
       "    }\n",
       "\n",
       "    .dataframe thead th {\n",
       "        text-align: right;\n",
       "    }\n",
       "</style>\n",
       "<table border=\"1\" class=\"dataframe\">\n",
       "  <thead>\n",
       "    <tr style=\"text-align: right;\">\n",
       "      <th></th>\n",
       "      <th></th>\n",
       "      <th></th>\n",
       "      <th></th>\n",
       "      <th>time</th>\n",
       "      <th>1765-01-01 00:00:00</th>\n",
       "      <th>1766-01-01 00:00:00</th>\n",
       "      <th>1767-01-01 00:00:00</th>\n",
       "      <th>1768-01-01 00:00:00</th>\n",
       "      <th>1769-01-01 00:00:00</th>\n",
       "      <th>1770-01-01 00:00:00</th>\n",
       "      <th>1771-01-01 00:00:00</th>\n",
       "      <th>...</th>\n",
       "      <th>2494-01-01 00:00:00</th>\n",
       "      <th>2495-01-01 00:00:00</th>\n",
       "      <th>2496-01-01 00:00:00</th>\n",
       "      <th>2497-01-01 00:00:00</th>\n",
       "      <th>2498-01-01 00:00:00</th>\n",
       "      <th>2499-01-01 00:00:00</th>\n",
       "      <th>2500-01-01 00:00:00</th>\n",
       "    </tr>\n",
       "    <tr>\n",
       "      <th>model</th>\n",
       "      <th>region</th>\n",
       "      <th>scenario</th>\n",
       "      <th>unit</th>\n",
       "      <th>variable</th>\n",
       "      <th></th>\n",
       "      <th></th>\n",
       "      <th></th>\n",
       "      <th></th>\n",
       "      <th></th>\n",
       "      <th></th>\n",
       "      <th></th>\n",
       "      <th></th>\n",
       "      <th></th>\n",
       "      <th></th>\n",
       "      <th></th>\n",
       "      <th></th>\n",
       "      <th></th>\n",
       "      <th></th>\n",
       "      <th></th>\n",
       "    </tr>\n",
       "  </thead>\n",
       "  <tbody>\n",
       "    <tr>\n",
       "      <th rowspan=\"5\" valign=\"top\">IMAGE</th>\n",
       "      <th rowspan=\"5\" valign=\"top\">World</th>\n",
       "      <th rowspan=\"5\" valign=\"top\">RCP26</th>\n",
       "      <th rowspan=\"2\" valign=\"top\">Gt C / yr</th>\n",
       "      <th>Emissions|CO2|MAGICC AFOLU</th>\n",
       "      <td>0.00000</td>\n",
       "      <td>0.001335</td>\n",
       "      <td>0.002669</td>\n",
       "      <td>0.004004</td>\n",
       "      <td>0.005338</td>\n",
       "      <td>0.006673</td>\n",
       "      <td>0.008007</td>\n",
       "      <td>...</td>\n",
       "      <td>0.000000</td>\n",
       "      <td>0.000000</td>\n",
       "      <td>0.000000</td>\n",
       "      <td>0.000000</td>\n",
       "      <td>0.000000</td>\n",
       "      <td>0.000000</td>\n",
       "      <td>0.000000</td>\n",
       "    </tr>\n",
       "    <tr>\n",
       "      <th>Emissions|CO2|MAGICC Fossil and Industrial</th>\n",
       "      <td>0.00075</td>\n",
       "      <td>0.000750</td>\n",
       "      <td>0.000750</td>\n",
       "      <td>0.000750</td>\n",
       "      <td>0.000750</td>\n",
       "      <td>0.000750</td>\n",
       "      <td>0.001000</td>\n",
       "      <td>...</td>\n",
       "      <td>-0.232700</td>\n",
       "      <td>-0.232700</td>\n",
       "      <td>-0.232700</td>\n",
       "      <td>-0.232700</td>\n",
       "      <td>-0.232700</td>\n",
       "      <td>-0.232700</td>\n",
       "      <td>-0.232700</td>\n",
       "    </tr>\n",
       "    <tr>\n",
       "      <th>Mt BC / yr</th>\n",
       "      <th>Emissions|BC</th>\n",
       "      <td>0.00000</td>\n",
       "      <td>0.026749</td>\n",
       "      <td>0.033346</td>\n",
       "      <td>0.039962</td>\n",
       "      <td>0.046598</td>\n",
       "      <td>0.053256</td>\n",
       "      <td>0.059935</td>\n",
       "      <td>...</td>\n",
       "      <td>0.839450</td>\n",
       "      <td>0.839450</td>\n",
       "      <td>0.839450</td>\n",
       "      <td>0.839450</td>\n",
       "      <td>0.839450</td>\n",
       "      <td>0.839450</td>\n",
       "      <td>0.839450</td>\n",
       "    </tr>\n",
       "    <tr>\n",
       "      <th>Mt CH4 / yr</th>\n",
       "      <th>Emissions|CH4</th>\n",
       "      <td>0.00000</td>\n",
       "      <td>0.490815</td>\n",
       "      <td>0.609112</td>\n",
       "      <td>0.727776</td>\n",
       "      <td>0.846820</td>\n",
       "      <td>0.966254</td>\n",
       "      <td>1.086091</td>\n",
       "      <td>...</td>\n",
       "      <td>35.513175</td>\n",
       "      <td>35.513175</td>\n",
       "      <td>35.513175</td>\n",
       "      <td>35.513175</td>\n",
       "      <td>35.513175</td>\n",
       "      <td>35.513175</td>\n",
       "      <td>35.513175</td>\n",
       "    </tr>\n",
       "    <tr>\n",
       "      <th>Mt CO / yr</th>\n",
       "      <th>Emissions|CO</th>\n",
       "      <td>0.00000</td>\n",
       "      <td>2.262555</td>\n",
       "      <td>3.240211</td>\n",
       "      <td>4.219135</td>\n",
       "      <td>5.199366</td>\n",
       "      <td>6.180945</td>\n",
       "      <td>7.163915</td>\n",
       "      <td>...</td>\n",
       "      <td>151.960950</td>\n",
       "      <td>151.960950</td>\n",
       "      <td>151.960950</td>\n",
       "      <td>151.960950</td>\n",
       "      <td>151.960950</td>\n",
       "      <td>151.960950</td>\n",
       "      <td>151.960950</td>\n",
       "    </tr>\n",
       "  </tbody>\n",
       "</table>\n",
       "<p>5 rows × 736 columns</p>\n",
       "</div>"
      ],
      "text/plain": [
       "time                                                                          1765-01-01 00:00:00  1766-01-01 00:00:00  1767-01-01 00:00:00  1768-01-01 00:00:00  1769-01-01 00:00:00  1770-01-01 00:00:00  1771-01-01 00:00:00  ...  \\\n",
       "model region scenario unit        variable                                                                                                                                                                                       ...   \n",
       "IMAGE World  RCP26    Gt C / yr   Emissions|CO2|MAGICC AFOLU                              0.00000             0.001335             0.002669             0.004004             0.005338             0.006673             0.008007  ...   \n",
       "                                  Emissions|CO2|MAGICC Fossil and Industrial              0.00075             0.000750             0.000750             0.000750             0.000750             0.000750             0.001000  ...   \n",
       "                      Mt BC / yr  Emissions|BC                                            0.00000             0.026749             0.033346             0.039962             0.046598             0.053256             0.059935  ...   \n",
       "                      Mt CH4 / yr Emissions|CH4                                           0.00000             0.490815             0.609112             0.727776             0.846820             0.966254             1.086091  ...   \n",
       "                      Mt CO / yr  Emissions|CO                                            0.00000             2.262555             3.240211             4.219135             5.199366             6.180945             7.163915  ...   \n",
       "\n",
       "time                                                                          2494-01-01 00:00:00  2495-01-01 00:00:00  2496-01-01 00:00:00  2497-01-01 00:00:00  2498-01-01 00:00:00  2499-01-01 00:00:00  2500-01-01 00:00:00  \n",
       "model region scenario unit        variable                                                                                                                                                                                       \n",
       "IMAGE World  RCP26    Gt C / yr   Emissions|CO2|MAGICC AFOLU                             0.000000             0.000000             0.000000             0.000000             0.000000             0.000000             0.000000  \n",
       "                                  Emissions|CO2|MAGICC Fossil and Industrial            -0.232700            -0.232700            -0.232700            -0.232700            -0.232700            -0.232700            -0.232700  \n",
       "                      Mt BC / yr  Emissions|BC                                           0.839450             0.839450             0.839450             0.839450             0.839450             0.839450             0.839450  \n",
       "                      Mt CH4 / yr Emissions|CH4                                         35.513175            35.513175            35.513175            35.513175            35.513175            35.513175            35.513175  \n",
       "                      Mt CO / yr  Emissions|CO                                         151.960950           151.960950           151.960950           151.960950           151.960950           151.960950           151.960950  \n",
       "\n",
       "[5 rows x 736 columns]"
      ]
     },
     "execution_count": 9,
     "metadata": {},
     "output_type": "execute_result"
    }
   ],
   "source": [
    "(rcp26 / 4).head()"
   ]
  },
  {
   "cell_type": "markdown",
   "metadata": {
    "pycharm": {
     "name": "#%% md\n"
    }
   },
   "source": [
    "`ScmRun` instances also support operations with [Pint](https://github.com/hgrecco/pint) scalars, permitting automatic unit conversion and error raising. For interested readers, the scmdata package uses the [OpenSCM-Units](https://openscm-units.readthedocs.io/) unit registry."
   ]
  },
  {
   "cell_type": "code",
   "execution_count": 10,
   "metadata": {
    "execution": {
     "iopub.execute_input": "2023-04-03T04:27:16.405162Z",
     "iopub.status.busy": "2023-04-03T04:27:16.405057Z",
     "iopub.status.idle": "2023-04-03T04:27:16.407067Z",
     "shell.execute_reply": "2023-04-03T04:27:16.406832Z"
    },
    "pycharm": {
     "name": "#%%\n"
    }
   },
   "outputs": [],
   "source": [
    "to_add = 500 * ur(\"MtCO2 / yr\")"
   ]
  },
  {
   "cell_type": "markdown",
   "metadata": {
    "pycharm": {
     "name": "#%% md\n"
    }
   },
   "source": [
    "If we try to add 0.5 GtC / yr to all the timeseries, we'll get a `DimensionalityError`."
   ]
  },
  {
   "cell_type": "code",
   "execution_count": 11,
   "metadata": {
    "execution": {
     "iopub.execute_input": "2023-04-03T04:27:16.408292Z",
     "iopub.status.busy": "2023-04-03T04:27:16.408203Z",
     "iopub.status.idle": "2023-04-03T04:27:16.413985Z",
     "shell.execute_reply": "2023-04-03T04:27:16.413732Z"
    },
    "pycharm": {
     "name": "#%%\n"
    }
   },
   "outputs": [
    {
     "name": "stderr",
     "output_type": "stream",
     "text": [
      "pint.errors.DimensionalityError: Cannot convert from 'BC * megametric_ton / a' ([black_carbon] * [mass] / [time]) to 'megatCO2 / a' ([carbon] * [mass] / [time])\n"
     ]
    }
   ],
   "source": [
    "try:\n",
    "    rcp26 + to_add\n",
    "except DimensionalityError:\n",
    "    traceback.print_exc(limit=0, chain=False)"
   ]
  },
  {
   "cell_type": "markdown",
   "metadata": {
    "pycharm": {
     "name": "#%% md\n"
    }
   },
   "source": [
    "However, if we filter things correctly, this operation is perfectly valid."
   ]
  },
  {
   "cell_type": "code",
   "execution_count": 12,
   "metadata": {
    "execution": {
     "iopub.execute_input": "2023-04-03T04:27:16.415161Z",
     "iopub.status.busy": "2023-04-03T04:27:16.415074Z",
     "iopub.status.idle": "2023-04-03T04:27:16.428103Z",
     "shell.execute_reply": "2023-04-03T04:27:16.427840Z"
    },
    "pycharm": {
     "name": "#%%\n"
    }
   },
   "outputs": [
    {
     "data": {
      "text/html": [
       "<div>\n",
       "<style scoped>\n",
       "    .dataframe tbody tr th:only-of-type {\n",
       "        vertical-align: middle;\n",
       "    }\n",
       "\n",
       "    .dataframe tbody tr th {\n",
       "        vertical-align: top;\n",
       "    }\n",
       "\n",
       "    .dataframe thead th {\n",
       "        text-align: right;\n",
       "    }\n",
       "</style>\n",
       "<table border=\"1\" class=\"dataframe\">\n",
       "  <thead>\n",
       "    <tr style=\"text-align: right;\">\n",
       "      <th></th>\n",
       "      <th></th>\n",
       "      <th></th>\n",
       "      <th></th>\n",
       "      <th>time</th>\n",
       "      <th>1765-01-01 00:00:00</th>\n",
       "      <th>1766-01-01 00:00:00</th>\n",
       "      <th>1767-01-01 00:00:00</th>\n",
       "      <th>1768-01-01 00:00:00</th>\n",
       "      <th>1769-01-01 00:00:00</th>\n",
       "      <th>1770-01-01 00:00:00</th>\n",
       "      <th>1771-01-01 00:00:00</th>\n",
       "      <th>...</th>\n",
       "      <th>2494-01-01 00:00:00</th>\n",
       "      <th>2495-01-01 00:00:00</th>\n",
       "      <th>2496-01-01 00:00:00</th>\n",
       "      <th>2497-01-01 00:00:00</th>\n",
       "      <th>2498-01-01 00:00:00</th>\n",
       "      <th>2499-01-01 00:00:00</th>\n",
       "      <th>2500-01-01 00:00:00</th>\n",
       "    </tr>\n",
       "    <tr>\n",
       "      <th>model</th>\n",
       "      <th>region</th>\n",
       "      <th>scenario</th>\n",
       "      <th>unit</th>\n",
       "      <th>variable</th>\n",
       "      <th></th>\n",
       "      <th></th>\n",
       "      <th></th>\n",
       "      <th></th>\n",
       "      <th></th>\n",
       "      <th></th>\n",
       "      <th></th>\n",
       "      <th></th>\n",
       "      <th></th>\n",
       "      <th></th>\n",
       "      <th></th>\n",
       "      <th></th>\n",
       "      <th></th>\n",
       "      <th></th>\n",
       "      <th></th>\n",
       "    </tr>\n",
       "  </thead>\n",
       "  <tbody>\n",
       "    <tr>\n",
       "      <th>IMAGE</th>\n",
       "      <th>World</th>\n",
       "      <th>RCP26</th>\n",
       "      <th>C * gigametric_ton / a</th>\n",
       "      <th>Emissions|CO2|MAGICC AFOLU</th>\n",
       "      <td>0.136364</td>\n",
       "      <td>0.141702</td>\n",
       "      <td>0.14704</td>\n",
       "      <td>0.152379</td>\n",
       "      <td>0.157717</td>\n",
       "      <td>0.163055</td>\n",
       "      <td>0.168393</td>\n",
       "      <td>...</td>\n",
       "      <td>0.136364</td>\n",
       "      <td>0.136364</td>\n",
       "      <td>0.136364</td>\n",
       "      <td>0.136364</td>\n",
       "      <td>0.136364</td>\n",
       "      <td>0.136364</td>\n",
       "      <td>0.136364</td>\n",
       "    </tr>\n",
       "  </tbody>\n",
       "</table>\n",
       "<p>1 rows × 736 columns</p>\n",
       "</div>"
      ],
      "text/plain": [
       "time                                                                     1765-01-01 00:00:00  1766-01-01 00:00:00  1767-01-01 00:00:00  1768-01-01 00:00:00  1769-01-01 00:00:00  1770-01-01 00:00:00  1771-01-01 00:00:00  ...  2494-01-01 00:00:00  \\\n",
       "model region scenario unit                   variable                                                                                                                                                                       ...                        \n",
       "IMAGE World  RCP26    C * gigametric_ton / a Emissions|CO2|MAGICC AFOLU             0.136364             0.141702              0.14704             0.152379             0.157717             0.163055             0.168393  ...             0.136364   \n",
       "\n",
       "time                                                                     2495-01-01 00:00:00  2496-01-01 00:00:00  2497-01-01 00:00:00  2498-01-01 00:00:00  2499-01-01 00:00:00  2500-01-01 00:00:00  \n",
       "model region scenario unit                   variable                                                                                                                                                  \n",
       "IMAGE World  RCP26    C * gigametric_ton / a Emissions|CO2|MAGICC AFOLU             0.136364             0.136364             0.136364             0.136364             0.136364             0.136364  \n",
       "\n",
       "[1 rows x 736 columns]"
      ]
     },
     "execution_count": 12,
     "metadata": {},
     "output_type": "execute_result"
    }
   ],
   "source": [
    "(rcp26.filter(variable=\"Emissions|CO2|MAGICC AFOLU\") + to_add).head()"
   ]
  },
  {
   "cell_type": "markdown",
   "metadata": {
    "pycharm": {
     "name": "#%% md\n"
    }
   },
   "source": [
    "This can be compared to the raw data as shown below."
   ]
  },
  {
   "cell_type": "code",
   "execution_count": 13,
   "metadata": {
    "execution": {
     "iopub.execute_input": "2023-04-03T04:27:16.429305Z",
     "iopub.status.busy": "2023-04-03T04:27:16.429226Z",
     "iopub.status.idle": "2023-04-03T04:27:16.437205Z",
     "shell.execute_reply": "2023-04-03T04:27:16.436969Z"
    },
    "pycharm": {
     "name": "#%%\n"
    }
   },
   "outputs": [
    {
     "data": {
      "text/html": [
       "<div>\n",
       "<style scoped>\n",
       "    .dataframe tbody tr th:only-of-type {\n",
       "        vertical-align: middle;\n",
       "    }\n",
       "\n",
       "    .dataframe tbody tr th {\n",
       "        vertical-align: top;\n",
       "    }\n",
       "\n",
       "    .dataframe thead th {\n",
       "        text-align: right;\n",
       "    }\n",
       "</style>\n",
       "<table border=\"1\" class=\"dataframe\">\n",
       "  <thead>\n",
       "    <tr style=\"text-align: right;\">\n",
       "      <th></th>\n",
       "      <th></th>\n",
       "      <th></th>\n",
       "      <th></th>\n",
       "      <th>time</th>\n",
       "      <th>1765-01-01 00:00:00</th>\n",
       "      <th>1766-01-01 00:00:00</th>\n",
       "      <th>1767-01-01 00:00:00</th>\n",
       "      <th>1768-01-01 00:00:00</th>\n",
       "      <th>1769-01-01 00:00:00</th>\n",
       "      <th>1770-01-01 00:00:00</th>\n",
       "      <th>1771-01-01 00:00:00</th>\n",
       "      <th>...</th>\n",
       "      <th>2494-01-01 00:00:00</th>\n",
       "      <th>2495-01-01 00:00:00</th>\n",
       "      <th>2496-01-01 00:00:00</th>\n",
       "      <th>2497-01-01 00:00:00</th>\n",
       "      <th>2498-01-01 00:00:00</th>\n",
       "      <th>2499-01-01 00:00:00</th>\n",
       "      <th>2500-01-01 00:00:00</th>\n",
       "    </tr>\n",
       "    <tr>\n",
       "      <th>model</th>\n",
       "      <th>region</th>\n",
       "      <th>scenario</th>\n",
       "      <th>unit</th>\n",
       "      <th>variable</th>\n",
       "      <th></th>\n",
       "      <th></th>\n",
       "      <th></th>\n",
       "      <th></th>\n",
       "      <th></th>\n",
       "      <th></th>\n",
       "      <th></th>\n",
       "      <th></th>\n",
       "      <th></th>\n",
       "      <th></th>\n",
       "      <th></th>\n",
       "      <th></th>\n",
       "      <th></th>\n",
       "      <th></th>\n",
       "      <th></th>\n",
       "    </tr>\n",
       "  </thead>\n",
       "  <tbody>\n",
       "    <tr>\n",
       "      <th>IMAGE</th>\n",
       "      <th>World</th>\n",
       "      <th>RCP26</th>\n",
       "      <th>Gt C / yr</th>\n",
       "      <th>Emissions|CO2|MAGICC AFOLU</th>\n",
       "      <td>0.0</td>\n",
       "      <td>0.005338</td>\n",
       "      <td>0.010677</td>\n",
       "      <td>0.016015</td>\n",
       "      <td>0.021353</td>\n",
       "      <td>0.026691</td>\n",
       "      <td>0.03203</td>\n",
       "      <td>...</td>\n",
       "      <td>0.0</td>\n",
       "      <td>0.0</td>\n",
       "      <td>0.0</td>\n",
       "      <td>0.0</td>\n",
       "      <td>0.0</td>\n",
       "      <td>0.0</td>\n",
       "      <td>0.0</td>\n",
       "    </tr>\n",
       "  </tbody>\n",
       "</table>\n",
       "<p>1 rows × 736 columns</p>\n",
       "</div>"
      ],
      "text/plain": [
       "time                                                        1765-01-01 00:00:00  1766-01-01 00:00:00  1767-01-01 00:00:00  1768-01-01 00:00:00  1769-01-01 00:00:00  1770-01-01 00:00:00  1771-01-01 00:00:00  ...  2494-01-01 00:00:00  \\\n",
       "model region scenario unit      variable                                                                                                                                                                       ...                        \n",
       "IMAGE World  RCP26    Gt C / yr Emissions|CO2|MAGICC AFOLU                  0.0             0.005338             0.010677             0.016015             0.021353             0.026691              0.03203  ...                  0.0   \n",
       "\n",
       "time                                                        2495-01-01 00:00:00  2496-01-01 00:00:00  2497-01-01 00:00:00  2498-01-01 00:00:00  2499-01-01 00:00:00  2500-01-01 00:00:00  \n",
       "model region scenario unit      variable                                                                                                                                                  \n",
       "IMAGE World  RCP26    Gt C / yr Emissions|CO2|MAGICC AFOLU                  0.0                  0.0                  0.0                  0.0                  0.0                  0.0  \n",
       "\n",
       "[1 rows x 736 columns]"
      ]
     },
     "execution_count": 13,
     "metadata": {},
     "output_type": "execute_result"
    }
   ],
   "source": [
    "rcp26.filter(variable=\"Emissions|CO2|MAGICC AFOLU\").head()"
   ]
  },
  {
   "cell_type": "markdown",
   "metadata": {
    "pycharm": {
     "name": "#%% md\n"
    }
   },
   "source": [
    "## Unit conversion\n",
    "\n",
    "The scmdata package uses the [OpenSCM-Units](https://openscm-units.readthedocs.io/) unit registry and uses the [Pint](https://github.com/hgrecco/pint) library to handle unit conversion.\n",
    "\n",
    "Calling the `convert_unit` method of an `ScmRun` returns a new `ScmRun` instance with converted units."
   ]
  },
  {
   "cell_type": "code",
   "execution_count": 14,
   "metadata": {
    "execution": {
     "iopub.execute_input": "2023-04-03T04:27:16.438478Z",
     "iopub.status.busy": "2023-04-03T04:27:16.438387Z",
     "iopub.status.idle": "2023-04-03T04:27:16.446481Z",
     "shell.execute_reply": "2023-04-03T04:27:16.446217Z"
    },
    "pycharm": {
     "name": "#%%\n"
    }
   },
   "outputs": [
    {
     "data": {
      "text/html": [
       "<div>\n",
       "<style scoped>\n",
       "    .dataframe tbody tr th:only-of-type {\n",
       "        vertical-align: middle;\n",
       "    }\n",
       "\n",
       "    .dataframe tbody tr th {\n",
       "        vertical-align: top;\n",
       "    }\n",
       "\n",
       "    .dataframe thead th {\n",
       "        text-align: right;\n",
       "    }\n",
       "</style>\n",
       "<table border=\"1\" class=\"dataframe\">\n",
       "  <thead>\n",
       "    <tr style=\"text-align: right;\">\n",
       "      <th></th>\n",
       "      <th></th>\n",
       "      <th></th>\n",
       "      <th></th>\n",
       "      <th>time</th>\n",
       "      <th>1765-01-01 00:00:00</th>\n",
       "      <th>1766-01-01 00:00:00</th>\n",
       "      <th>1767-01-01 00:00:00</th>\n",
       "      <th>1768-01-01 00:00:00</th>\n",
       "      <th>1769-01-01 00:00:00</th>\n",
       "      <th>1770-01-01 00:00:00</th>\n",
       "      <th>1771-01-01 00:00:00</th>\n",
       "      <th>...</th>\n",
       "      <th>2494-01-01 00:00:00</th>\n",
       "      <th>2495-01-01 00:00:00</th>\n",
       "      <th>2496-01-01 00:00:00</th>\n",
       "      <th>2497-01-01 00:00:00</th>\n",
       "      <th>2498-01-01 00:00:00</th>\n",
       "      <th>2499-01-01 00:00:00</th>\n",
       "      <th>2500-01-01 00:00:00</th>\n",
       "    </tr>\n",
       "    <tr>\n",
       "      <th>model</th>\n",
       "      <th>region</th>\n",
       "      <th>scenario</th>\n",
       "      <th>unit</th>\n",
       "      <th>variable</th>\n",
       "      <th></th>\n",
       "      <th></th>\n",
       "      <th></th>\n",
       "      <th></th>\n",
       "      <th></th>\n",
       "      <th></th>\n",
       "      <th></th>\n",
       "      <th></th>\n",
       "      <th></th>\n",
       "      <th></th>\n",
       "      <th></th>\n",
       "      <th></th>\n",
       "      <th></th>\n",
       "      <th></th>\n",
       "      <th></th>\n",
       "    </tr>\n",
       "  </thead>\n",
       "  <tbody>\n",
       "    <tr>\n",
       "      <th>IMAGE</th>\n",
       "      <th>World</th>\n",
       "      <th>RCP26</th>\n",
       "      <th>Mt BC / yr</th>\n",
       "      <th>Emissions|BC</th>\n",
       "      <td>0.0</td>\n",
       "      <td>0.106998</td>\n",
       "      <td>0.133383</td>\n",
       "      <td>0.159847</td>\n",
       "      <td>0.186393</td>\n",
       "      <td>0.213024</td>\n",
       "      <td>0.239742</td>\n",
       "      <td>...</td>\n",
       "      <td>3.3578</td>\n",
       "      <td>3.3578</td>\n",
       "      <td>3.3578</td>\n",
       "      <td>3.3578</td>\n",
       "      <td>3.3578</td>\n",
       "      <td>3.3578</td>\n",
       "      <td>3.3578</td>\n",
       "    </tr>\n",
       "  </tbody>\n",
       "</table>\n",
       "<p>1 rows × 736 columns</p>\n",
       "</div>"
      ],
      "text/plain": [
       "time                                           1765-01-01 00:00:00  1766-01-01 00:00:00  1767-01-01 00:00:00  1768-01-01 00:00:00  1769-01-01 00:00:00  1770-01-01 00:00:00  1771-01-01 00:00:00  ...  2494-01-01 00:00:00  2495-01-01 00:00:00  \\\n",
       "model region scenario unit       variable                                                                                                                                                         ...                                             \n",
       "IMAGE World  RCP26    Mt BC / yr Emissions|BC                  0.0             0.106998             0.133383             0.159847             0.186393             0.213024             0.239742  ...               3.3578               3.3578   \n",
       "\n",
       "time                                           2496-01-01 00:00:00  2497-01-01 00:00:00  2498-01-01 00:00:00  2499-01-01 00:00:00  2500-01-01 00:00:00  \n",
       "model region scenario unit       variable                                                                                                               \n",
       "IMAGE World  RCP26    Mt BC / yr Emissions|BC               3.3578               3.3578               3.3578               3.3578               3.3578  \n",
       "\n",
       "[1 rows x 736 columns]"
      ]
     },
     "execution_count": 14,
     "metadata": {},
     "output_type": "execute_result"
    }
   ],
   "source": [
    "rcp26.filter(variable=\"Emissions|BC\").timeseries()"
   ]
  },
  {
   "cell_type": "code",
   "execution_count": 15,
   "metadata": {
    "execution": {
     "iopub.execute_input": "2023-04-03T04:27:16.447644Z",
     "iopub.status.busy": "2023-04-03T04:27:16.447555Z",
     "iopub.status.idle": "2023-04-03T04:27:16.468260Z",
     "shell.execute_reply": "2023-04-03T04:27:16.468010Z"
    },
    "pycharm": {
     "name": "#%%\n"
    }
   },
   "outputs": [
    {
     "data": {
      "text/html": [
       "<div>\n",
       "<style scoped>\n",
       "    .dataframe tbody tr th:only-of-type {\n",
       "        vertical-align: middle;\n",
       "    }\n",
       "\n",
       "    .dataframe tbody tr th {\n",
       "        vertical-align: top;\n",
       "    }\n",
       "\n",
       "    .dataframe thead th {\n",
       "        text-align: right;\n",
       "    }\n",
       "</style>\n",
       "<table border=\"1\" class=\"dataframe\">\n",
       "  <thead>\n",
       "    <tr style=\"text-align: right;\">\n",
       "      <th></th>\n",
       "      <th></th>\n",
       "      <th></th>\n",
       "      <th></th>\n",
       "      <th>time</th>\n",
       "      <th>1765-01-01 00:00:00</th>\n",
       "      <th>1766-01-01 00:00:00</th>\n",
       "      <th>1767-01-01 00:00:00</th>\n",
       "      <th>1768-01-01 00:00:00</th>\n",
       "      <th>1769-01-01 00:00:00</th>\n",
       "      <th>1770-01-01 00:00:00</th>\n",
       "      <th>1771-01-01 00:00:00</th>\n",
       "      <th>...</th>\n",
       "      <th>2494-01-01 00:00:00</th>\n",
       "      <th>2495-01-01 00:00:00</th>\n",
       "      <th>2496-01-01 00:00:00</th>\n",
       "      <th>2497-01-01 00:00:00</th>\n",
       "      <th>2498-01-01 00:00:00</th>\n",
       "      <th>2499-01-01 00:00:00</th>\n",
       "      <th>2500-01-01 00:00:00</th>\n",
       "    </tr>\n",
       "    <tr>\n",
       "      <th>model</th>\n",
       "      <th>region</th>\n",
       "      <th>scenario</th>\n",
       "      <th>unit</th>\n",
       "      <th>variable</th>\n",
       "      <th></th>\n",
       "      <th></th>\n",
       "      <th></th>\n",
       "      <th></th>\n",
       "      <th></th>\n",
       "      <th></th>\n",
       "      <th></th>\n",
       "      <th></th>\n",
       "      <th></th>\n",
       "      <th></th>\n",
       "      <th></th>\n",
       "      <th></th>\n",
       "      <th></th>\n",
       "      <th></th>\n",
       "      <th></th>\n",
       "    </tr>\n",
       "  </thead>\n",
       "  <tbody>\n",
       "    <tr>\n",
       "      <th>IMAGE</th>\n",
       "      <th>World</th>\n",
       "      <th>RCP26</th>\n",
       "      <th>kg BC / day</th>\n",
       "      <th>Emissions|BC</th>\n",
       "      <td>0.0</td>\n",
       "      <td>292944.558522</td>\n",
       "      <td>365181.6564</td>\n",
       "      <td>437636.605065</td>\n",
       "      <td>510316.112252</td>\n",
       "      <td>583227.186858</td>\n",
       "      <td>656376.947296</td>\n",
       "      <td>...</td>\n",
       "      <td>9.193155e+06</td>\n",
       "      <td>9.193155e+06</td>\n",
       "      <td>9.193155e+06</td>\n",
       "      <td>9.193155e+06</td>\n",
       "      <td>9.193155e+06</td>\n",
       "      <td>9.193155e+06</td>\n",
       "      <td>9.193155e+06</td>\n",
       "    </tr>\n",
       "  </tbody>\n",
       "</table>\n",
       "<p>1 rows × 736 columns</p>\n",
       "</div>"
      ],
      "text/plain": [
       "time                                            1765-01-01 00:00:00  1766-01-01 00:00:00  1767-01-01 00:00:00  1768-01-01 00:00:00  1769-01-01 00:00:00  1770-01-01 00:00:00  1771-01-01 00:00:00  ...  2494-01-01 00:00:00  2495-01-01 00:00:00  \\\n",
       "model region scenario unit        variable                                                                                                                                                         ...                                             \n",
       "IMAGE World  RCP26    kg BC / day Emissions|BC                  0.0        292944.558522          365181.6564        437636.605065        510316.112252        583227.186858        656376.947296  ...         9.193155e+06         9.193155e+06   \n",
       "\n",
       "time                                            2496-01-01 00:00:00  2497-01-01 00:00:00  2498-01-01 00:00:00  2499-01-01 00:00:00  2500-01-01 00:00:00  \n",
       "model region scenario unit        variable                                                                                                               \n",
       "IMAGE World  RCP26    kg BC / day Emissions|BC         9.193155e+06         9.193155e+06         9.193155e+06         9.193155e+06         9.193155e+06  \n",
       "\n",
       "[1 rows x 736 columns]"
      ]
     },
     "execution_count": 15,
     "metadata": {},
     "output_type": "execute_result"
    }
   ],
   "source": [
    "rcp26.filter(variable=\"Emissions|BC\").convert_unit(\"kg BC / day\").timeseries()"
   ]
  },
  {
   "cell_type": "markdown",
   "metadata": {
    "pycharm": {
     "name": "#%% md\n"
    }
   },
   "source": [
    "Note that you must filter your data first as the unit conversion is applied to all available variables. If you do not, you will receive `DimensionalityError`'s."
   ]
  },
  {
   "cell_type": "code",
   "execution_count": 16,
   "metadata": {
    "execution": {
     "iopub.execute_input": "2023-04-03T04:27:16.469589Z",
     "iopub.status.busy": "2023-04-03T04:27:16.469487Z",
     "iopub.status.idle": "2023-04-03T04:27:16.477799Z",
     "shell.execute_reply": "2023-04-03T04:27:16.477555Z"
    },
    "pycharm": {
     "name": "#%%\n"
    }
   },
   "outputs": [
    {
     "name": "stderr",
     "output_type": "stream",
     "text": [
      "pint.errors.DimensionalityError: Cannot convert from 'C * gigametric_ton / a' ([carbon] * [mass] / [time]) to 'BC * kilogram / day' ([black_carbon] * [mass] / [time])\n"
     ]
    }
   ],
   "source": [
    "try:\n",
    "    rcp26.convert_unit(\"kg BC / day\").timeseries()\n",
    "except DimensionalityError:\n",
    "    traceback.print_exc(limit=0, chain=False)"
   ]
  },
  {
   "cell_type": "markdown",
   "metadata": {
    "pycharm": {
     "name": "#%% md\n"
    }
   },
   "source": [
    "Having said this, thanks to Pint's idea of contexts, we are able to trivially convert to CO<sub>2</sub> equivalent units (as long as we restrict our conversion to variables which have a CO<sub>2</sub> equivalent)."
   ]
  },
  {
   "cell_type": "code",
   "execution_count": 17,
   "metadata": {
    "execution": {
     "iopub.execute_input": "2023-04-03T04:27:16.479033Z",
     "iopub.status.busy": "2023-04-03T04:27:16.478950Z",
     "iopub.status.idle": "2023-04-03T04:27:16.487912Z",
     "shell.execute_reply": "2023-04-03T04:27:16.487666Z"
    },
    "pycharm": {
     "name": "#%%\n"
    }
   },
   "outputs": [
    {
     "data": {
      "text/html": [
       "<div>\n",
       "<style scoped>\n",
       "    .dataframe tbody tr th:only-of-type {\n",
       "        vertical-align: middle;\n",
       "    }\n",
       "\n",
       "    .dataframe tbody tr th {\n",
       "        vertical-align: top;\n",
       "    }\n",
       "\n",
       "    .dataframe thead th {\n",
       "        text-align: right;\n",
       "    }\n",
       "</style>\n",
       "<table border=\"1\" class=\"dataframe\">\n",
       "  <thead>\n",
       "    <tr style=\"text-align: right;\">\n",
       "      <th></th>\n",
       "      <th></th>\n",
       "      <th></th>\n",
       "      <th></th>\n",
       "      <th>time</th>\n",
       "      <th>1765-01-01 00:00:00</th>\n",
       "      <th>1766-01-01 00:00:00</th>\n",
       "      <th>1767-01-01 00:00:00</th>\n",
       "      <th>1768-01-01 00:00:00</th>\n",
       "      <th>1769-01-01 00:00:00</th>\n",
       "      <th>1770-01-01 00:00:00</th>\n",
       "      <th>1771-01-01 00:00:00</th>\n",
       "      <th>...</th>\n",
       "      <th>2494-01-01 00:00:00</th>\n",
       "      <th>2495-01-01 00:00:00</th>\n",
       "      <th>2496-01-01 00:00:00</th>\n",
       "      <th>2497-01-01 00:00:00</th>\n",
       "      <th>2498-01-01 00:00:00</th>\n",
       "      <th>2499-01-01 00:00:00</th>\n",
       "      <th>2500-01-01 00:00:00</th>\n",
       "    </tr>\n",
       "    <tr>\n",
       "      <th>model</th>\n",
       "      <th>region</th>\n",
       "      <th>scenario</th>\n",
       "      <th>unit</th>\n",
       "      <th>variable</th>\n",
       "      <th></th>\n",
       "      <th></th>\n",
       "      <th></th>\n",
       "      <th></th>\n",
       "      <th></th>\n",
       "      <th></th>\n",
       "      <th></th>\n",
       "      <th></th>\n",
       "      <th></th>\n",
       "      <th></th>\n",
       "      <th></th>\n",
       "      <th></th>\n",
       "      <th></th>\n",
       "      <th></th>\n",
       "      <th></th>\n",
       "    </tr>\n",
       "  </thead>\n",
       "  <tbody>\n",
       "    <tr>\n",
       "      <th rowspan=\"4\" valign=\"top\">IMAGE</th>\n",
       "      <th rowspan=\"4\" valign=\"top\">World</th>\n",
       "      <th rowspan=\"4\" valign=\"top\">RCP26</th>\n",
       "      <th>Mt CH4 / yr</th>\n",
       "      <th>Emissions|CH4</th>\n",
       "      <td>0.000</td>\n",
       "      <td>1.963262</td>\n",
       "      <td>2.436448</td>\n",
       "      <td>2.911105</td>\n",
       "      <td>3.387278</td>\n",
       "      <td>3.865015</td>\n",
       "      <td>4.344362</td>\n",
       "      <td>...</td>\n",
       "      <td>142.0527</td>\n",
       "      <td>142.0527</td>\n",
       "      <td>142.0527</td>\n",
       "      <td>142.0527</td>\n",
       "      <td>142.0527</td>\n",
       "      <td>142.0527</td>\n",
       "      <td>142.0527</td>\n",
       "    </tr>\n",
       "    <tr>\n",
       "      <th rowspan=\"2\" valign=\"top\">Gt C / yr</th>\n",
       "      <th>Emissions|CO2|MAGICC AFOLU</th>\n",
       "      <td>0.000</td>\n",
       "      <td>0.005338</td>\n",
       "      <td>0.010677</td>\n",
       "      <td>0.016015</td>\n",
       "      <td>0.021353</td>\n",
       "      <td>0.026691</td>\n",
       "      <td>0.032030</td>\n",
       "      <td>...</td>\n",
       "      <td>0.0000</td>\n",
       "      <td>0.0000</td>\n",
       "      <td>0.0000</td>\n",
       "      <td>0.0000</td>\n",
       "      <td>0.0000</td>\n",
       "      <td>0.0000</td>\n",
       "      <td>0.0000</td>\n",
       "    </tr>\n",
       "    <tr>\n",
       "      <th>Emissions|CO2|MAGICC Fossil and Industrial</th>\n",
       "      <td>0.003</td>\n",
       "      <td>0.003000</td>\n",
       "      <td>0.003000</td>\n",
       "      <td>0.003000</td>\n",
       "      <td>0.003000</td>\n",
       "      <td>0.003000</td>\n",
       "      <td>0.004000</td>\n",
       "      <td>...</td>\n",
       "      <td>-0.9308</td>\n",
       "      <td>-0.9308</td>\n",
       "      <td>-0.9308</td>\n",
       "      <td>-0.9308</td>\n",
       "      <td>-0.9308</td>\n",
       "      <td>-0.9308</td>\n",
       "      <td>-0.9308</td>\n",
       "    </tr>\n",
       "    <tr>\n",
       "      <th>Mt N2ON / yr</th>\n",
       "      <th>Emissions|N2O</th>\n",
       "      <td>0.000</td>\n",
       "      <td>0.005191</td>\n",
       "      <td>0.010117</td>\n",
       "      <td>0.015043</td>\n",
       "      <td>0.019969</td>\n",
       "      <td>0.024896</td>\n",
       "      <td>0.029822</td>\n",
       "      <td>...</td>\n",
       "      <td>5.2823</td>\n",
       "      <td>5.2823</td>\n",
       "      <td>5.2823</td>\n",
       "      <td>5.2823</td>\n",
       "      <td>5.2823</td>\n",
       "      <td>5.2823</td>\n",
       "      <td>5.2823</td>\n",
       "    </tr>\n",
       "  </tbody>\n",
       "</table>\n",
       "<p>4 rows × 736 columns</p>\n",
       "</div>"
      ],
      "text/plain": [
       "time                                                                           1765-01-01 00:00:00  1766-01-01 00:00:00  1767-01-01 00:00:00  1768-01-01 00:00:00  1769-01-01 00:00:00  1770-01-01 00:00:00  1771-01-01 00:00:00  ...  \\\n",
       "model region scenario unit         variable                                                                                                                                                                                       ...   \n",
       "IMAGE World  RCP26    Mt CH4 / yr  Emissions|CH4                                             0.000             1.963262             2.436448             2.911105             3.387278             3.865015             4.344362  ...   \n",
       "                      Gt C / yr    Emissions|CO2|MAGICC AFOLU                                0.000             0.005338             0.010677             0.016015             0.021353             0.026691             0.032030  ...   \n",
       "                                   Emissions|CO2|MAGICC Fossil and Industrial                0.003             0.003000             0.003000             0.003000             0.003000             0.003000             0.004000  ...   \n",
       "                      Mt N2ON / yr Emissions|N2O                                             0.000             0.005191             0.010117             0.015043             0.019969             0.024896             0.029822  ...   \n",
       "\n",
       "time                                                                           2494-01-01 00:00:00  2495-01-01 00:00:00  2496-01-01 00:00:00  2497-01-01 00:00:00  2498-01-01 00:00:00  2499-01-01 00:00:00  2500-01-01 00:00:00  \n",
       "model region scenario unit         variable                                                                                                                                                                                       \n",
       "IMAGE World  RCP26    Mt CH4 / yr  Emissions|CH4                                          142.0527             142.0527             142.0527             142.0527             142.0527             142.0527             142.0527  \n",
       "                      Gt C / yr    Emissions|CO2|MAGICC AFOLU                               0.0000               0.0000               0.0000               0.0000               0.0000               0.0000               0.0000  \n",
       "                                   Emissions|CO2|MAGICC Fossil and Industrial              -0.9308              -0.9308              -0.9308              -0.9308              -0.9308              -0.9308              -0.9308  \n",
       "                      Mt N2ON / yr Emissions|N2O                                            5.2823               5.2823               5.2823               5.2823               5.2823               5.2823               5.2823  \n",
       "\n",
       "[4 rows x 736 columns]"
      ]
     },
     "execution_count": 17,
     "metadata": {},
     "output_type": "execute_result"
    }
   ],
   "source": [
    "rcp26.filter(variable=[\"*CO2*\", \"*CH4*\", \"*N2O*\"]).timeseries()"
   ]
  },
  {
   "cell_type": "code",
   "execution_count": 18,
   "metadata": {
    "execution": {
     "iopub.execute_input": "2023-04-03T04:27:16.489038Z",
     "iopub.status.busy": "2023-04-03T04:27:16.488956Z",
     "iopub.status.idle": "2023-04-03T04:27:17.122359Z",
     "shell.execute_reply": "2023-04-03T04:27:17.122078Z"
    },
    "pycharm": {
     "name": "#%%\n"
    }
   },
   "outputs": [
    {
     "data": {
      "text/html": [
       "<div>\n",
       "<style scoped>\n",
       "    .dataframe tbody tr th:only-of-type {\n",
       "        vertical-align: middle;\n",
       "    }\n",
       "\n",
       "    .dataframe tbody tr th {\n",
       "        vertical-align: top;\n",
       "    }\n",
       "\n",
       "    .dataframe thead th {\n",
       "        text-align: right;\n",
       "    }\n",
       "</style>\n",
       "<table border=\"1\" class=\"dataframe\">\n",
       "  <thead>\n",
       "    <tr style=\"text-align: right;\">\n",
       "      <th></th>\n",
       "      <th></th>\n",
       "      <th></th>\n",
       "      <th></th>\n",
       "      <th></th>\n",
       "      <th>time</th>\n",
       "      <th>1765-01-01 00:00:00</th>\n",
       "      <th>1766-01-01 00:00:00</th>\n",
       "      <th>1767-01-01 00:00:00</th>\n",
       "      <th>1768-01-01 00:00:00</th>\n",
       "      <th>1769-01-01 00:00:00</th>\n",
       "      <th>1770-01-01 00:00:00</th>\n",
       "      <th>1771-01-01 00:00:00</th>\n",
       "      <th>...</th>\n",
       "      <th>2494-01-01 00:00:00</th>\n",
       "      <th>2495-01-01 00:00:00</th>\n",
       "      <th>2496-01-01 00:00:00</th>\n",
       "      <th>2497-01-01 00:00:00</th>\n",
       "      <th>2498-01-01 00:00:00</th>\n",
       "      <th>2499-01-01 00:00:00</th>\n",
       "      <th>2500-01-01 00:00:00</th>\n",
       "    </tr>\n",
       "    <tr>\n",
       "      <th>model</th>\n",
       "      <th>region</th>\n",
       "      <th>scenario</th>\n",
       "      <th>unit</th>\n",
       "      <th>unit_context</th>\n",
       "      <th>variable</th>\n",
       "      <th></th>\n",
       "      <th></th>\n",
       "      <th></th>\n",
       "      <th></th>\n",
       "      <th></th>\n",
       "      <th></th>\n",
       "      <th></th>\n",
       "      <th></th>\n",
       "      <th></th>\n",
       "      <th></th>\n",
       "      <th></th>\n",
       "      <th></th>\n",
       "      <th></th>\n",
       "      <th></th>\n",
       "      <th></th>\n",
       "    </tr>\n",
       "  </thead>\n",
       "  <tbody>\n",
       "    <tr>\n",
       "      <th rowspan=\"4\" valign=\"top\">IMAGE</th>\n",
       "      <th rowspan=\"4\" valign=\"top\">World</th>\n",
       "      <th rowspan=\"4\" valign=\"top\">RCP26</th>\n",
       "      <th rowspan=\"4\" valign=\"top\">Mt CO2 / yr</th>\n",
       "      <th rowspan=\"4\" valign=\"top\">AR4GWP100</th>\n",
       "      <th>Emissions|CO2|MAGICC AFOLU</th>\n",
       "      <td>0.0</td>\n",
       "      <td>19.573753</td>\n",
       "      <td>39.147508</td>\n",
       "      <td>58.721260</td>\n",
       "      <td>78.295012</td>\n",
       "      <td>97.868767</td>\n",
       "      <td>117.442519</td>\n",
       "      <td>...</td>\n",
       "      <td>0.000000</td>\n",
       "      <td>0.000000</td>\n",
       "      <td>0.000000</td>\n",
       "      <td>0.000000</td>\n",
       "      <td>0.000000</td>\n",
       "      <td>0.000000</td>\n",
       "      <td>0.000000</td>\n",
       "    </tr>\n",
       "    <tr>\n",
       "      <th>Emissions|CO2|MAGICC Fossil and Industrial</th>\n",
       "      <td>11.0</td>\n",
       "      <td>11.000000</td>\n",
       "      <td>11.000000</td>\n",
       "      <td>11.000000</td>\n",
       "      <td>11.000000</td>\n",
       "      <td>11.000000</td>\n",
       "      <td>14.666666</td>\n",
       "      <td>...</td>\n",
       "      <td>-3412.933333</td>\n",
       "      <td>-3412.933333</td>\n",
       "      <td>-3412.933333</td>\n",
       "      <td>-3412.933333</td>\n",
       "      <td>-3412.933333</td>\n",
       "      <td>-3412.933333</td>\n",
       "      <td>-3412.933333</td>\n",
       "    </tr>\n",
       "    <tr>\n",
       "      <th>Emissions|CH4</th>\n",
       "      <td>0.0</td>\n",
       "      <td>49.081547</td>\n",
       "      <td>60.911202</td>\n",
       "      <td>72.777625</td>\n",
       "      <td>84.681955</td>\n",
       "      <td>96.625365</td>\n",
       "      <td>108.609062</td>\n",
       "      <td>...</td>\n",
       "      <td>3551.317500</td>\n",
       "      <td>3551.317500</td>\n",
       "      <td>3551.317500</td>\n",
       "      <td>3551.317500</td>\n",
       "      <td>3551.317500</td>\n",
       "      <td>3551.317500</td>\n",
       "      <td>3551.317500</td>\n",
       "    </tr>\n",
       "    <tr>\n",
       "      <th>Emissions|N2O</th>\n",
       "      <td>0.0</td>\n",
       "      <td>2.430911</td>\n",
       "      <td>4.737559</td>\n",
       "      <td>7.044330</td>\n",
       "      <td>9.351227</td>\n",
       "      <td>11.658254</td>\n",
       "      <td>13.965417</td>\n",
       "      <td>...</td>\n",
       "      <td>2473.625629</td>\n",
       "      <td>2473.625629</td>\n",
       "      <td>2473.625629</td>\n",
       "      <td>2473.625629</td>\n",
       "      <td>2473.625629</td>\n",
       "      <td>2473.625629</td>\n",
       "      <td>2473.625629</td>\n",
       "    </tr>\n",
       "  </tbody>\n",
       "</table>\n",
       "<p>4 rows × 736 columns</p>\n",
       "</div>"
      ],
      "text/plain": [
       "time                                                                                       1765-01-01 00:00:00  1766-01-01 00:00:00  1767-01-01 00:00:00  1768-01-01 00:00:00  1769-01-01 00:00:00  1770-01-01 00:00:00  1771-01-01 00:00:00  ...  \\\n",
       "model region scenario unit        unit_context variable                                                                                                                                                                                       ...   \n",
       "IMAGE World  RCP26    Mt CO2 / yr AR4GWP100    Emissions|CO2|MAGICC AFOLU                                  0.0            19.573753            39.147508            58.721260            78.295012            97.868767           117.442519  ...   \n",
       "                                               Emissions|CO2|MAGICC Fossil and Industrial                 11.0            11.000000            11.000000            11.000000            11.000000            11.000000            14.666666  ...   \n",
       "                                               Emissions|CH4                                               0.0            49.081547            60.911202            72.777625            84.681955            96.625365           108.609062  ...   \n",
       "                                               Emissions|N2O                                               0.0             2.430911             4.737559             7.044330             9.351227            11.658254            13.965417  ...   \n",
       "\n",
       "time                                                                                       2494-01-01 00:00:00  2495-01-01 00:00:00  2496-01-01 00:00:00  2497-01-01 00:00:00  2498-01-01 00:00:00  2499-01-01 00:00:00  2500-01-01 00:00:00  \n",
       "model region scenario unit        unit_context variable                                                                                                                                                                                       \n",
       "IMAGE World  RCP26    Mt CO2 / yr AR4GWP100    Emissions|CO2|MAGICC AFOLU                             0.000000             0.000000             0.000000             0.000000             0.000000             0.000000             0.000000  \n",
       "                                               Emissions|CO2|MAGICC Fossil and Industrial         -3412.933333         -3412.933333         -3412.933333         -3412.933333         -3412.933333         -3412.933333         -3412.933333  \n",
       "                                               Emissions|CH4                                       3551.317500          3551.317500          3551.317500          3551.317500          3551.317500          3551.317500          3551.317500  \n",
       "                                               Emissions|N2O                                       2473.625629          2473.625629          2473.625629          2473.625629          2473.625629          2473.625629          2473.625629  \n",
       "\n",
       "[4 rows x 736 columns]"
      ]
     },
     "execution_count": 18,
     "metadata": {},
     "output_type": "execute_result"
    }
   ],
   "source": [
    "# NBVAL_IGNORE_OUTPUT\n",
    "rcp26.filter(variable=[\"*CO2*\", \"*CH4*\", \"*N2O*\"]).convert_unit(\n",
    "    \"Mt CO2 / yr\", context=\"AR4GWP100\"\n",
    ").timeseries()"
   ]
  },
  {
   "cell_type": "markdown",
   "metadata": {
    "pycharm": {
     "name": "#%% md\n"
    }
   },
   "source": [
    "Without the context, a `DimensionalityError` is once again raised."
   ]
  },
  {
   "cell_type": "code",
   "execution_count": 19,
   "metadata": {
    "execution": {
     "iopub.execute_input": "2023-04-03T04:27:17.123732Z",
     "iopub.status.busy": "2023-04-03T04:27:17.123639Z",
     "iopub.status.idle": "2023-04-03T04:27:17.134321Z",
     "shell.execute_reply": "2023-04-03T04:27:17.133998Z"
    },
    "pycharm": {
     "name": "#%%\n"
    }
   },
   "outputs": [
    {
     "name": "stderr",
     "output_type": "stream",
     "text": [
      "pint.errors.DimensionalityError: Cannot convert from 'BC * megametric_ton / a' ([black_carbon] * [mass] / [time]) to 'CO2 * megametric_ton / a' ([carbon] * [mass] / [time])\n"
     ]
    }
   ],
   "source": [
    "try:\n",
    "    rcp26.convert_unit(\"Mt CO2 / yr\").timeseries()\n",
    "except DimensionalityError:\n",
    "    traceback.print_exc(limit=0, chain=False)"
   ]
  },
  {
   "cell_type": "markdown",
   "metadata": {
    "pycharm": {
     "name": "#%% md\n"
    }
   },
   "source": [
    "In addition, when we do a conversion with contexts, the context information is automatically added to the metadata. This ensures we can't accidentally use a different context for further conversions."
   ]
  },
  {
   "cell_type": "code",
   "execution_count": 20,
   "metadata": {
    "execution": {
     "iopub.execute_input": "2023-04-03T04:27:17.135510Z",
     "iopub.status.busy": "2023-04-03T04:27:17.135424Z",
     "iopub.status.idle": "2023-04-03T04:27:17.168931Z",
     "shell.execute_reply": "2023-04-03T04:27:17.168645Z"
    },
    "pycharm": {
     "name": "#%%\n"
    }
   },
   "outputs": [
    {
     "data": {
      "text/html": [
       "<div>\n",
       "<style scoped>\n",
       "    .dataframe tbody tr th:only-of-type {\n",
       "        vertical-align: middle;\n",
       "    }\n",
       "\n",
       "    .dataframe tbody tr th {\n",
       "        vertical-align: top;\n",
       "    }\n",
       "\n",
       "    .dataframe thead th {\n",
       "        text-align: right;\n",
       "    }\n",
       "</style>\n",
       "<table border=\"1\" class=\"dataframe\">\n",
       "  <thead>\n",
       "    <tr style=\"text-align: right;\">\n",
       "      <th></th>\n",
       "      <th></th>\n",
       "      <th></th>\n",
       "      <th></th>\n",
       "      <th></th>\n",
       "      <th>time</th>\n",
       "      <th>1765-01-01 00:00:00</th>\n",
       "      <th>1766-01-01 00:00:00</th>\n",
       "      <th>1767-01-01 00:00:00</th>\n",
       "      <th>1768-01-01 00:00:00</th>\n",
       "      <th>1769-01-01 00:00:00</th>\n",
       "      <th>1770-01-01 00:00:00</th>\n",
       "      <th>1771-01-01 00:00:00</th>\n",
       "      <th>...</th>\n",
       "      <th>2494-01-01 00:00:00</th>\n",
       "      <th>2495-01-01 00:00:00</th>\n",
       "      <th>2496-01-01 00:00:00</th>\n",
       "      <th>2497-01-01 00:00:00</th>\n",
       "      <th>2498-01-01 00:00:00</th>\n",
       "      <th>2499-01-01 00:00:00</th>\n",
       "      <th>2500-01-01 00:00:00</th>\n",
       "    </tr>\n",
       "    <tr>\n",
       "      <th>model</th>\n",
       "      <th>region</th>\n",
       "      <th>scenario</th>\n",
       "      <th>unit</th>\n",
       "      <th>unit_context</th>\n",
       "      <th>variable</th>\n",
       "      <th></th>\n",
       "      <th></th>\n",
       "      <th></th>\n",
       "      <th></th>\n",
       "      <th></th>\n",
       "      <th></th>\n",
       "      <th></th>\n",
       "      <th></th>\n",
       "      <th></th>\n",
       "      <th></th>\n",
       "      <th></th>\n",
       "      <th></th>\n",
       "      <th></th>\n",
       "      <th></th>\n",
       "      <th></th>\n",
       "    </tr>\n",
       "  </thead>\n",
       "  <tbody>\n",
       "    <tr>\n",
       "      <th rowspan=\"4\" valign=\"top\">IMAGE</th>\n",
       "      <th rowspan=\"4\" valign=\"top\">World</th>\n",
       "      <th rowspan=\"4\" valign=\"top\">RCP26</th>\n",
       "      <th rowspan=\"4\" valign=\"top\">Mt CO2 / yr</th>\n",
       "      <th rowspan=\"4\" valign=\"top\">AR4GWP100</th>\n",
       "      <th>Emissions|CO2|MAGICC AFOLU</th>\n",
       "      <td>0.0</td>\n",
       "      <td>19.573753</td>\n",
       "      <td>39.147508</td>\n",
       "      <td>58.721260</td>\n",
       "      <td>78.295012</td>\n",
       "      <td>97.868767</td>\n",
       "      <td>117.442519</td>\n",
       "      <td>...</td>\n",
       "      <td>0.000000</td>\n",
       "      <td>0.000000</td>\n",
       "      <td>0.000000</td>\n",
       "      <td>0.000000</td>\n",
       "      <td>0.000000</td>\n",
       "      <td>0.000000</td>\n",
       "      <td>0.000000</td>\n",
       "    </tr>\n",
       "    <tr>\n",
       "      <th>Emissions|CO2|MAGICC Fossil and Industrial</th>\n",
       "      <td>11.0</td>\n",
       "      <td>11.000000</td>\n",
       "      <td>11.000000</td>\n",
       "      <td>11.000000</td>\n",
       "      <td>11.000000</td>\n",
       "      <td>11.000000</td>\n",
       "      <td>14.666666</td>\n",
       "      <td>...</td>\n",
       "      <td>-3412.933333</td>\n",
       "      <td>-3412.933333</td>\n",
       "      <td>-3412.933333</td>\n",
       "      <td>-3412.933333</td>\n",
       "      <td>-3412.933333</td>\n",
       "      <td>-3412.933333</td>\n",
       "      <td>-3412.933333</td>\n",
       "    </tr>\n",
       "    <tr>\n",
       "      <th>Emissions|CH4</th>\n",
       "      <td>0.0</td>\n",
       "      <td>49.081547</td>\n",
       "      <td>60.911202</td>\n",
       "      <td>72.777625</td>\n",
       "      <td>84.681955</td>\n",
       "      <td>96.625365</td>\n",
       "      <td>108.609062</td>\n",
       "      <td>...</td>\n",
       "      <td>3551.317500</td>\n",
       "      <td>3551.317500</td>\n",
       "      <td>3551.317500</td>\n",
       "      <td>3551.317500</td>\n",
       "      <td>3551.317500</td>\n",
       "      <td>3551.317500</td>\n",
       "      <td>3551.317500</td>\n",
       "    </tr>\n",
       "    <tr>\n",
       "      <th>Emissions|N2O</th>\n",
       "      <td>0.0</td>\n",
       "      <td>2.430911</td>\n",
       "      <td>4.737559</td>\n",
       "      <td>7.044330</td>\n",
       "      <td>9.351227</td>\n",
       "      <td>11.658254</td>\n",
       "      <td>13.965417</td>\n",
       "      <td>...</td>\n",
       "      <td>2473.625629</td>\n",
       "      <td>2473.625629</td>\n",
       "      <td>2473.625629</td>\n",
       "      <td>2473.625629</td>\n",
       "      <td>2473.625629</td>\n",
       "      <td>2473.625629</td>\n",
       "      <td>2473.625629</td>\n",
       "    </tr>\n",
       "  </tbody>\n",
       "</table>\n",
       "<p>4 rows × 736 columns</p>\n",
       "</div>"
      ],
      "text/plain": [
       "time                                                                                       1765-01-01 00:00:00  1766-01-01 00:00:00  1767-01-01 00:00:00  1768-01-01 00:00:00  1769-01-01 00:00:00  1770-01-01 00:00:00  1771-01-01 00:00:00  ...  \\\n",
       "model region scenario unit        unit_context variable                                                                                                                                                                                       ...   \n",
       "IMAGE World  RCP26    Mt CO2 / yr AR4GWP100    Emissions|CO2|MAGICC AFOLU                                  0.0            19.573753            39.147508            58.721260            78.295012            97.868767           117.442519  ...   \n",
       "                                               Emissions|CO2|MAGICC Fossil and Industrial                 11.0            11.000000            11.000000            11.000000            11.000000            11.000000            14.666666  ...   \n",
       "                                               Emissions|CH4                                               0.0            49.081547            60.911202            72.777625            84.681955            96.625365           108.609062  ...   \n",
       "                                               Emissions|N2O                                               0.0             2.430911             4.737559             7.044330             9.351227            11.658254            13.965417  ...   \n",
       "\n",
       "time                                                                                       2494-01-01 00:00:00  2495-01-01 00:00:00  2496-01-01 00:00:00  2497-01-01 00:00:00  2498-01-01 00:00:00  2499-01-01 00:00:00  2500-01-01 00:00:00  \n",
       "model region scenario unit        unit_context variable                                                                                                                                                                                       \n",
       "IMAGE World  RCP26    Mt CO2 / yr AR4GWP100    Emissions|CO2|MAGICC AFOLU                             0.000000             0.000000             0.000000             0.000000             0.000000             0.000000             0.000000  \n",
       "                                               Emissions|CO2|MAGICC Fossil and Industrial         -3412.933333         -3412.933333         -3412.933333         -3412.933333         -3412.933333         -3412.933333         -3412.933333  \n",
       "                                               Emissions|CH4                                       3551.317500          3551.317500          3551.317500          3551.317500          3551.317500          3551.317500          3551.317500  \n",
       "                                               Emissions|N2O                                       2473.625629          2473.625629          2473.625629          2473.625629          2473.625629          2473.625629          2473.625629  \n",
       "\n",
       "[4 rows x 736 columns]"
      ]
     },
     "execution_count": 20,
     "metadata": {},
     "output_type": "execute_result"
    }
   ],
   "source": [
    "ar4gwp100_converted = rcp26.filter(variable=[\"*CO2*\", \"*CH4*\", \"*N2O*\"]).convert_unit(\n",
    "    \"Mt CO2 / yr\", context=\"AR4GWP100\"\n",
    ")\n",
    "ar4gwp100_converted.timeseries()"
   ]
  },
  {
   "cell_type": "markdown",
   "metadata": {
    "pycharm": {
     "name": "#%% md\n"
    }
   },
   "source": [
    "Trying to convert without a context, or with a different context, raises an error."
   ]
  },
  {
   "cell_type": "code",
   "execution_count": 21,
   "metadata": {
    "execution": {
     "iopub.execute_input": "2023-04-03T04:27:17.170252Z",
     "iopub.status.busy": "2023-04-03T04:27:17.170165Z",
     "iopub.status.idle": "2023-04-03T04:27:17.173549Z",
     "shell.execute_reply": "2023-04-03T04:27:17.173198Z"
    },
    "pycharm": {
     "name": "#%%\n"
    }
   },
   "outputs": [
    {
     "name": "stderr",
     "output_type": "stream",
     "text": [
      "ValueError: Existing unit conversion context(s), `['AR4GWP100']`, doesn't match input context, `None`, drop `unit_context` metadata before doing conversion\n"
     ]
    }
   ],
   "source": [
    "try:\n",
    "    ar4gwp100_converted.convert_unit(\"Mt CO2 / yr\")\n",
    "except ValueError:\n",
    "    traceback.print_exc(limit=0, chain=False)"
   ]
  },
  {
   "cell_type": "code",
   "execution_count": 22,
   "metadata": {
    "execution": {
     "iopub.execute_input": "2023-04-03T04:27:17.174808Z",
     "iopub.status.busy": "2023-04-03T04:27:17.174714Z",
     "iopub.status.idle": "2023-04-03T04:27:17.178179Z",
     "shell.execute_reply": "2023-04-03T04:27:17.177919Z"
    },
    "pycharm": {
     "name": "#%%\n"
    }
   },
   "outputs": [
    {
     "name": "stderr",
     "output_type": "stream",
     "text": [
      "ValueError: Existing unit conversion context(s), `['AR4GWP100']`, doesn't match input context, `AR5GWP100`, drop `unit_context` metadata before doing conversion\n"
     ]
    }
   ],
   "source": [
    "try:\n",
    "    ar4gwp100_converted.convert_unit(\"Mt CO2 / yr\", context=\"AR5GWP100\")\n",
    "except ValueError:\n",
    "    traceback.print_exc(limit=0, chain=False)"
   ]
  },
  {
   "cell_type": "markdown",
   "metadata": {
    "pycharm": {
     "name": "#%% md\n"
    }
   },
   "source": [
    "## Metadata handling\n",
    "\n",
    "Each timeseries within an `ScmRun` object has metadata associated with it. The `meta` attribute provides the `Timeseries` specific metadata of the timeseries as a `pd.DataFrame`. This DataFrame is effectively the `index` of the `ScmRun.timeseries()` function.\n",
    "\n",
    "This `Timeseries` specific metadata can be modified using the `[]` notation which modify the metadata inplace or alternatively using the `set_meta` function which returns a new `ScmRun` with updated metadata. `set_meta` also makes it easy to update a subset of timeseries."
   ]
  },
  {
   "cell_type": "code",
   "execution_count": 23,
   "metadata": {
    "execution": {
     "iopub.execute_input": "2023-04-03T04:27:17.179505Z",
     "iopub.status.busy": "2023-04-03T04:27:17.179421Z",
     "iopub.status.idle": "2023-04-03T04:27:17.183786Z",
     "shell.execute_reply": "2023-04-03T04:27:17.183372Z"
    },
    "pycharm": {
     "name": "#%%\n"
    }
   },
   "outputs": [
    {
     "data": {
      "text/html": [
       "<div>\n",
       "<style scoped>\n",
       "    .dataframe tbody tr th:only-of-type {\n",
       "        vertical-align: middle;\n",
       "    }\n",
       "\n",
       "    .dataframe tbody tr th {\n",
       "        vertical-align: top;\n",
       "    }\n",
       "\n",
       "    .dataframe thead th {\n",
       "        text-align: right;\n",
       "    }\n",
       "</style>\n",
       "<table border=\"1\" class=\"dataframe\">\n",
       "  <thead>\n",
       "    <tr style=\"text-align: right;\">\n",
       "      <th></th>\n",
       "      <th>model</th>\n",
       "      <th>region</th>\n",
       "      <th>scenario</th>\n",
       "      <th>unit</th>\n",
       "      <th>unit_context</th>\n",
       "      <th>variable</th>\n",
       "    </tr>\n",
       "  </thead>\n",
       "  <tbody>\n",
       "    <tr>\n",
       "      <th>0</th>\n",
       "      <td>IMAGE</td>\n",
       "      <td>World</td>\n",
       "      <td>RCP26</td>\n",
       "      <td>Mt CO2 / yr</td>\n",
       "      <td>AR4GWP100</td>\n",
       "      <td>Emissions|CO2|MAGICC AFOLU</td>\n",
       "    </tr>\n",
       "    <tr>\n",
       "      <th>1</th>\n",
       "      <td>IMAGE</td>\n",
       "      <td>World</td>\n",
       "      <td>RCP26</td>\n",
       "      <td>Mt CO2 / yr</td>\n",
       "      <td>AR4GWP100</td>\n",
       "      <td>Emissions|CO2|MAGICC Fossil and Industrial</td>\n",
       "    </tr>\n",
       "    <tr>\n",
       "      <th>2</th>\n",
       "      <td>IMAGE</td>\n",
       "      <td>World</td>\n",
       "      <td>RCP26</td>\n",
       "      <td>Mt CO2 / yr</td>\n",
       "      <td>AR4GWP100</td>\n",
       "      <td>Emissions|CH4</td>\n",
       "    </tr>\n",
       "    <tr>\n",
       "      <th>3</th>\n",
       "      <td>IMAGE</td>\n",
       "      <td>World</td>\n",
       "      <td>RCP26</td>\n",
       "      <td>Mt CO2 / yr</td>\n",
       "      <td>AR4GWP100</td>\n",
       "      <td>Emissions|N2O</td>\n",
       "    </tr>\n",
       "  </tbody>\n",
       "</table>\n",
       "</div>"
      ],
      "text/plain": [
       "   model region scenario         unit unit_context                                    variable\n",
       "0  IMAGE  World    RCP26  Mt CO2 / yr    AR4GWP100                  Emissions|CO2|MAGICC AFOLU\n",
       "1  IMAGE  World    RCP26  Mt CO2 / yr    AR4GWP100  Emissions|CO2|MAGICC Fossil and Industrial\n",
       "2  IMAGE  World    RCP26  Mt CO2 / yr    AR4GWP100                               Emissions|CH4\n",
       "3  IMAGE  World    RCP26  Mt CO2 / yr    AR4GWP100                               Emissions|N2O"
      ]
     },
     "execution_count": 23,
     "metadata": {},
     "output_type": "execute_result"
    }
   ],
   "source": [
    "ar4gwp100_converted.meta"
   ]
  },
  {
   "cell_type": "code",
   "execution_count": 24,
   "metadata": {
    "execution": {
     "iopub.execute_input": "2023-04-03T04:27:17.185147Z",
     "iopub.status.busy": "2023-04-03T04:27:17.185026Z",
     "iopub.status.idle": "2023-04-03T04:27:17.189373Z",
     "shell.execute_reply": "2023-04-03T04:27:17.189106Z"
    },
    "pycharm": {
     "name": "#%%\n"
    }
   },
   "outputs": [
    {
     "data": {
      "text/plain": [
       "0    inplace\n",
       "1    inplace\n",
       "2    inplace\n",
       "3    inplace\n",
       "Name: unit_context, dtype: object"
      ]
     },
     "execution_count": 24,
     "metadata": {},
     "output_type": "execute_result"
    }
   ],
   "source": [
    "# Update inplace\n",
    "ar4gwp100_converted[\"unit_context\"] = \"inplace\"\n",
    "ar4gwp100_converted[\"unit_context\"]"
   ]
  },
  {
   "cell_type": "code",
   "execution_count": 25,
   "metadata": {
    "execution": {
     "iopub.execute_input": "2023-04-03T04:27:17.190669Z",
     "iopub.status.busy": "2023-04-03T04:27:17.190571Z",
     "iopub.status.idle": "2023-04-03T04:27:17.200285Z",
     "shell.execute_reply": "2023-04-03T04:27:17.200011Z"
    },
    "pycharm": {
     "name": "#%%\n"
    }
   },
   "outputs": [
    {
     "data": {
      "text/plain": [
       "<ScmRun (timeseries: 4, timepoints: 736)>\n",
       "Time:\n",
       "\tStart: 1765-01-01T00:00:00\n",
       "\tEnd: 2500-01-01T00:00:00\n",
       "Meta:\n",
       "\t   model region scenario         unit         unit_context                                    variable\n",
       "\t0  IMAGE  World    RCP26  Mt CO2 / yr  updated-in-set_meta                  Emissions|CO2|MAGICC AFOLU\n",
       "\t1  IMAGE  World    RCP26  Mt CO2 / yr  updated-in-set_meta  Emissions|CO2|MAGICC Fossil and Industrial\n",
       "\t2  IMAGE  World    RCP26  Mt CO2 / yr              inplace                               Emissions|CH4\n",
       "\t3  IMAGE  World    RCP26  Mt CO2 / yr              inplace                               Emissions|N2O"
      ]
     },
     "execution_count": 25,
     "metadata": {},
     "output_type": "execute_result"
    }
   ],
   "source": [
    "# set_meta returns a new `ScmRun` with the updated metadata\n",
    "ar4gwp100_converted.set_meta(\n",
    "    \"unit_context\", \"updated-in-set_meta\", variable=\"Emissions|CO2|*\"\n",
    ")"
   ]
  },
  {
   "cell_type": "code",
   "execution_count": 26,
   "metadata": {
    "execution": {
     "iopub.execute_input": "2023-04-03T04:27:17.201596Z",
     "iopub.status.busy": "2023-04-03T04:27:17.201503Z",
     "iopub.status.idle": "2023-04-03T04:27:17.205040Z",
     "shell.execute_reply": "2023-04-03T04:27:17.204761Z"
    },
    "pycharm": {
     "name": "#%%\n"
    }
   },
   "outputs": [
    {
     "data": {
      "text/plain": [
       "<ScmRun (timeseries: 4, timepoints: 736)>\n",
       "Time:\n",
       "\tStart: 1765-01-01T00:00:00\n",
       "\tEnd: 2500-01-01T00:00:00\n",
       "Meta:\n",
       "\t   model region scenario         unit unit_context                                    variable\n",
       "\t0  IMAGE  World    RCP26  Mt CO2 / yr      inplace                  Emissions|CO2|MAGICC AFOLU\n",
       "\t1  IMAGE  World    RCP26  Mt CO2 / yr      inplace  Emissions|CO2|MAGICC Fossil and Industrial\n",
       "\t2  IMAGE  World    RCP26  Mt CO2 / yr      inplace                               Emissions|CH4\n",
       "\t3  IMAGE  World    RCP26  Mt CO2 / yr      inplace                               Emissions|N2O"
      ]
     },
     "execution_count": 26,
     "metadata": {},
     "output_type": "execute_result"
    }
   ],
   "source": [
    "# The original `ScmRun` was not modified by `set_meta`\n",
    "ar4gwp100_converted"
   ]
  },
  {
   "cell_type": "markdown",
   "metadata": {
    "pycharm": {
     "name": "#%% md\n"
    }
   },
   "source": [
    "`ScmRun` instances are strict with respect to metadata handling. If you either try to either a) instantiate an `ScmRun` instance with duplicate metadata or b) change an existing `ScmRun` instance so that it has duplicate metadata then you will receive a `NonUniqueMetadataError`."
   ]
  },
  {
   "cell_type": "code",
   "execution_count": 27,
   "metadata": {
    "execution": {
     "iopub.execute_input": "2023-04-03T04:27:17.206336Z",
     "iopub.status.busy": "2023-04-03T04:27:17.206247Z",
     "iopub.status.idle": "2023-04-03T04:27:17.212956Z",
     "shell.execute_reply": "2023-04-03T04:27:17.212699Z"
    },
    "pycharm": {
     "name": "#%%\n"
    }
   },
   "outputs": [
    {
     "name": "stderr",
     "output_type": "stream",
     "text": [
      "scmdata.errors.NonUniqueMetadataError: Duplicate metadata (numbers show how many times the given metadata is repeated).\n",
      "       model region   scenario unit   variable  repeats\n",
      "0  idealised  World  idealised   Gt  Emissions        3\n"
     ]
    }
   ],
   "source": [
    "try:\n",
    "    ScmRun(\n",
    "        data=np.arange(6).reshape(2, 3),\n",
    "        index=[10, 20],\n",
    "        columns={\n",
    "            \"variable\": \"Emissions\",\n",
    "            \"unit\": \"Gt\",\n",
    "            \"model\": \"idealised\",\n",
    "            \"scenario\": \"idealised\",\n",
    "            \"region\": \"World\",\n",
    "        },\n",
    "    )\n",
    "except NonUniqueMetadataError:\n",
    "    traceback.print_exc(limit=0, chain=False)"
   ]
  },
  {
   "cell_type": "code",
   "execution_count": 28,
   "metadata": {
    "execution": {
     "iopub.execute_input": "2023-04-03T04:27:17.214168Z",
     "iopub.status.busy": "2023-04-03T04:27:17.214086Z",
     "iopub.status.idle": "2023-04-03T04:27:17.219779Z",
     "shell.execute_reply": "2023-04-03T04:27:17.219520Z"
    },
    "pycharm": {
     "name": "#%%\n"
    }
   },
   "outputs": [
    {
     "name": "stderr",
     "output_type": "stream",
     "text": [
      "scmdata.errors.NonUniqueMetadataError: Duplicate metadata (numbers show how many times the given metadata is repeated).\n",
      "   model region scenario       unit                    variable  repeats\n",
      "0  IMAGE  World    RCP26  Gt C / yr  Emissions|CO2|MAGICC AFOLU        2\n",
      "4  IMAGE  World    RCP26  Mt N / yr  Emissions|CO2|MAGICC AFOLU        2\n"
     ]
    }
   ],
   "source": [
    "# NBVAL_IGNORE_OUTPUT\n",
    "try:\n",
    "    rcp26[\"variable\"] = \"Emissions|CO2|MAGICC AFOLU\"\n",
    "except NonUniqueMetadataError:\n",
    "    traceback.print_exc(limit=0, chain=False)"
   ]
  },
  {
   "cell_type": "markdown",
   "metadata": {
    "pycharm": {
     "name": "#%% md\n"
    }
   },
   "source": [
    "There is also a `metadata` attribute which provides metadata for the `ScmRun` instance.\n",
    "\n",
    "These metadata can be used to store information about the collection of runs as a whole, such as the file where the data are stored or longer-form information about a particular dataset."
   ]
  },
  {
   "cell_type": "code",
   "execution_count": 29,
   "metadata": {
    "execution": {
     "iopub.execute_input": "2023-04-03T04:27:17.221171Z",
     "iopub.status.busy": "2023-04-03T04:27:17.221076Z",
     "iopub.status.idle": "2023-04-03T04:27:17.223265Z",
     "shell.execute_reply": "2023-04-03T04:27:17.223016Z"
    },
    "pycharm": {
     "name": "#%%\n"
    }
   },
   "outputs": [
    {
     "data": {
      "text/plain": [
       "{'filename': 'rcp26_emissions.csv'}"
      ]
     },
     "execution_count": 29,
     "metadata": {},
     "output_type": "execute_result"
    }
   ],
   "source": [
    "rcp26.metadata[\"filename\"] = \"rcp26_emissions.csv\"\n",
    "rcp26.metadata"
   ]
  },
  {
   "cell_type": "markdown",
   "metadata": {
    "pycharm": {
     "name": "#%% md\n"
    }
   },
   "source": [
    "## Convenience methods\n",
    "\n",
    "Below we showcase a few convenience methods of `ScmRun`. These will grow over time, please add a pull request adding more where they are useful!"
   ]
  },
  {
   "cell_type": "markdown",
   "metadata": {
    "pycharm": {
     "name": "#%% md\n"
    }
   },
   "source": [
    "### get_unique_meta\n",
    "\n",
    "This method helps with getting the unique metadata values in an `ScmRun`. Here we show how it can be useful. Check out its docstring for full details. "
   ]
  },
  {
   "cell_type": "markdown",
   "metadata": {
    "pycharm": {
     "name": "#%% md\n"
    }
   },
   "source": [
    "By itself, it doesn't do anything special, just returns the unique metadata values as a list."
   ]
  },
  {
   "cell_type": "code",
   "execution_count": 30,
   "metadata": {
    "execution": {
     "iopub.execute_input": "2023-04-03T04:27:17.224572Z",
     "iopub.status.busy": "2023-04-03T04:27:17.224483Z",
     "iopub.status.idle": "2023-04-03T04:27:17.226714Z",
     "shell.execute_reply": "2023-04-03T04:27:17.226466Z"
    },
    "pycharm": {
     "name": "#%%\n"
    }
   },
   "outputs": [
    {
     "data": {
      "text/plain": [
       "['Emissions|CO2|MAGICC AFOLU']"
      ]
     },
     "execution_count": 30,
     "metadata": {},
     "output_type": "execute_result"
    }
   ],
   "source": [
    "rcp26.get_unique_meta(\"variable\")"
   ]
  },
  {
   "cell_type": "markdown",
   "metadata": {
    "pycharm": {
     "name": "#%% md\n"
    }
   },
   "source": [
    "However, it can be useful if you expect there to only be one unique metadata value. In such a case, you can use the `no_duplicates` argument to ensure that you only get a single value as its native type (not a list) and that an error will be raised if this isn't the case."
   ]
  },
  {
   "cell_type": "code",
   "execution_count": 31,
   "metadata": {
    "execution": {
     "iopub.execute_input": "2023-04-03T04:27:17.227922Z",
     "iopub.status.busy": "2023-04-03T04:27:17.227840Z",
     "iopub.status.idle": "2023-04-03T04:27:17.229975Z",
     "shell.execute_reply": "2023-04-03T04:27:17.229748Z"
    },
    "pycharm": {
     "name": "#%%\n"
    }
   },
   "outputs": [
    {
     "data": {
      "text/plain": [
       "'IMAGE'"
      ]
     },
     "execution_count": 31,
     "metadata": {},
     "output_type": "execute_result"
    }
   ],
   "source": [
    "rcp26.get_unique_meta(\"model\", no_duplicates=True)"
   ]
  },
  {
   "cell_type": "code",
   "execution_count": 32,
   "metadata": {
    "execution": {
     "iopub.execute_input": "2023-04-03T04:27:17.231130Z",
     "iopub.status.busy": "2023-04-03T04:27:17.231048Z",
     "iopub.status.idle": "2023-04-03T04:27:17.233039Z",
     "shell.execute_reply": "2023-04-03T04:27:17.232805Z"
    },
    "pycharm": {
     "name": "#%%\n"
    }
   },
   "outputs": [
    {
     "name": "stderr",
     "output_type": "stream",
     "text": [
      "ValueError: `unit` column is not unique (found values: ['Mt BC / yr', 'kt C2F6 / yr', 'kt C6F14 / yr', 'kt CCl4 / yr', 'kt CF4 / yr', 'kt CFC11 / yr', 'kt CFC113 / yr', 'kt CFC114 / yr', 'kt CFC115 / yr', 'kt CFC12 / yr', 'kt CH3Br / yr', 'kt CH3CCl3 / yr', 'kt CH3Cl / yr', 'Mt CH4 / yr', 'Mt CO / yr', 'Gt C / yr', 'kt HCFC141b / yr', 'kt HCFC142b / yr', 'kt HCFC22 / yr', 'kt HFC125 / yr', 'kt HFC134a / yr', 'kt HFC143a / yr', 'kt HFC227ea / yr', 'kt HFC23 / yr', 'kt HFC245fa / yr', 'kt HFC32 / yr', 'kt HFC4310 / yr', 'kt Halon1202 / yr', 'kt Halon1211 / yr', 'kt Halon1301 / yr', 'kt Halon2402 / yr', 'Mt N2ON / yr', 'Mt N / yr', 'Mt NMVOC / yr', 'Mt OC / yr', 'kt SF6 / yr', 'Mt S / yr'])\n"
     ]
    }
   ],
   "source": [
    "try:\n",
    "    rcp26.get_unique_meta(\"unit\", no_duplicates=True)\n",
    "except ValueError:\n",
    "    traceback.print_exc(limit=0, chain=False)"
   ]
  },
  {
   "cell_type": "code",
   "execution_count": null,
   "metadata": {},
   "outputs": [],
   "source": []
  }
 ],
 "metadata": {
  "kernelspec": {
   "display_name": "Python 3 (ipykernel)",
   "language": "python",
   "name": "python3"
  },
  "language_info": {
   "codemirror_mode": {
    "name": "ipython",
    "version": 3
   },
   "file_extension": ".py",
   "mimetype": "text/x-python",
   "name": "python",
   "nbconvert_exporter": "python",
   "pygments_lexer": "ipython3",
   "version": "3.9.16"
  },
  "pycharm": {
   "stem_cell": {
    "cell_type": "raw",
    "metadata": {
     "collapsed": false
    },
    "source": []
   }
  }
 },
 "nbformat": 4,
 "nbformat_minor": 2
}
