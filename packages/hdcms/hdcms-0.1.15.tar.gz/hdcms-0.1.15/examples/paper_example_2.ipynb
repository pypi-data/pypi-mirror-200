{
 "cells": [
  {
   "cell_type": "code",
   "execution_count": 1,
   "id": "2da375ad",
   "metadata": {},
   "outputs": [],
   "source": [
    "import hdcms as hdc\n",
    "import re\n",
    "import random\n",
    "import numpy as np\n",
    "np.set_printoptions(precision=3, linewidth=99999999999)\n",
    "random.seed(420)\n",
    "\n",
    "%load_ext line_profiler"
   ]
  },
  {
   "cell_type": "markdown",
   "id": "d03d5ed8",
   "metadata": {},
   "source": [
    "```\n",
    "+-----------------------------------------------------+\n",
    "|                 180 replicates                      |\n",
    "+-----------------+-----------------+-----------------+\n",
    "|     60 reps     |     60 reps     |     60 reps     |\n",
    "|      Meta       |     Ortho       |       Para      |\n",
    "+-----------------+-----------------+-----------------+\n",
    "|A |B |C |D |E |F |A |B |C |D |E |F |A |B |C |D |E |F |\n",
    "|10|10|10|10|10|10|10|10|10|10|10|10|10|10|10|10|10|10|\n",
    "+-----------------------------------------------------+\n",
    "```\n",
    "\n",
    "this is the layout of the data"
   ]
  },
  {
   "cell_type": "code",
   "execution_count": null,
   "id": "2f5c3c4d",
   "metadata": {},
   "outputs": [],
   "source": []
  },
  {
   "cell_type": "code",
   "execution_count": 30,
   "id": "7a14892a",
   "metadata": {},
   "outputs": [],
   "source": [
    "DATA = \"/Users/jason/.root/time/sem06/nist/WVU/FF_me/\"\n",
    "compounds = [\"Meta\", \"Ortho\", \"Para\"]\n",
    "labs = [\"A\", \"B\", \"C\", \"D\", \"E\", \"F\"]\n",
    "def f2stats(arg):\n",
    "#     sum_stat = hdc.filenames2stats2d(arg)\n",
    "#     return sum_stat[sum_stat[:,1] != 0]\n",
    "    return hdc.filenames2stats1d(arg)"
   ]
  },
  {
   "cell_type": "code",
   "execution_count": 1,
   "id": "d1f8fc92",
   "metadata": {},
   "outputs": [
    {
     "ename": "NameError",
     "evalue": "name 'hdc' is not defined",
     "output_type": "error",
     "traceback": [
      "\u001b[0;31m---------------------------------------------------------------------------\u001b[0m",
      "\u001b[0;31mNameError\u001b[0m                                 Traceback (most recent call last)",
      "Cell \u001b[0;32mIn[1], line 1\u001b[0m\n\u001b[0;32m----> 1\u001b[0m lab_b_meta \u001b[38;5;241m=\u001b[39m \u001b[43mhdc\u001b[49m\u001b[38;5;241m.\u001b[39mregex2stats2d(\u001b[38;5;124mr\u001b[39m\u001b[38;5;124m\"\u001b[39m\u001b[38;5;124mB_Meta-\u001b[39m\u001b[38;5;124m\\\u001b[39m\u001b[38;5;124md[AB].txt\u001b[39m\u001b[38;5;124m\"\u001b[39m, \u001b[38;5;28mdir\u001b[39m\u001b[38;5;241m=\u001b[39mDATA)\n\u001b[1;32m      2\u001b[0m \u001b[38;5;66;03m# remove 0 peaks (since her data is weird)\u001b[39;00m\n\u001b[1;32m      3\u001b[0m lab_b_meta \u001b[38;5;241m=\u001b[39m lab_b_meta[lab_b_meta[:,\u001b[38;5;241m1\u001b[39m] \u001b[38;5;241m!=\u001b[39m \u001b[38;5;241m0\u001b[39m]\n",
      "\u001b[0;31mNameError\u001b[0m: name 'hdc' is not defined"
     ]
    }
   ],
   "source": [
    "lab_b_meta = hdc.regex2stats2d(r\"B_Meta-\\d[AB].txt\", dir=DATA)\n",
    "# remove 0 peaks (since her data is weird)\n",
    "lab_b_meta = lab_b_meta[lab_b_meta[:,1] != 0]\n",
    "im = hdc.write_image(lab_b_meta)\n",
    "plt.imshow(im)\n",
    "plt.show()\n",
    "plt.imshow(im)\n",
    "plt.savefix(\"../images/lab_b_meta.png\")"
   ]
  },
  {
   "cell_type": "code",
   "execution_count": 4,
   "id": "93388934",
   "metadata": {},
   "outputs": [],
   "source": [
    "# helper functions\n",
    "\n",
    "def rand_sel(input, div=-1):\n",
    "    \"\"\"div=-1 means half in this case\"\"\"\n",
    "    l = input.copy()\n",
    "    if div == -1:\n",
    "        div = len(l)//2\n",
    "    random.shuffle(l)\n",
    "    return l[:div], l[div:]\n",
    "\n",
    "def get_filenames(compound, lab, dir=DATA):\n",
    "    \"\"\"ex: get_filenames(\"Meta\", \"A\")\n",
    "    this would get all replicates from lab A, for Meta-FF\n",
    "    \n",
    "    get_filenames(\"Ortho\", \".\")\n",
    "    this would take a random 5 replicates from all labs for Ortho-FF\n",
    "    \"\"\"\n",
    "    files = [f for f in os.listdir(dir) if os.path.isfile(os.path.join(dir, f))]\n",
    "    r = re.compile(lab + \"_\" + compound + r\"-\\d[AB].txt\")\n",
    "    matches = []\n",
    "    for f in files:\n",
    "        match = r.match(f)\n",
    "        if match:\n",
    "            matches.append(f)\n",
    "    \n",
    "    if len(matches) == 0:\n",
    "        raise RuntimeError(f\"No matches for {regex} in directory {dir}\")\n",
    "    final = list(map(lambda f: os.path.join(dir, f), matches))\n",
    "    return final\n",
    "\n",
    "def remove_diag(input):\n",
    "    mat = np.copy(input)\n",
    "    assert(mat.shape[0] == mat.shape[1])\n",
    "    for i in range(mat.shape[0]):\n",
    "        mat[i,i] = 0\n",
    "    return mat"
   ]
  },
  {
   "cell_type": "code",
   "execution_count": 62,
   "id": "4fdd92ec",
   "metadata": {
    "scrolled": false
   },
   "outputs": [
    {
     "name": "stdout",
     "output_type": "stream",
     "text": [
      "PER LAB 10 SAMPLES VS N-10 SAMPLES (excluding lab)\n",
      "compounds: ['Meta', 'Ortho', 'Para']\n",
      "lab: A, compound: Meta HELP: [0.959 0.848 0.962]\n",
      "lab: B, compound: Meta HELP: [0.926 0.855 0.937]\n",
      "lab: C, compound: Meta HELP: [0.796 0.845 0.845]\n",
      "lab: D, compound: Meta GOOD! [0.968 0.854 0.957]\n",
      "lab: E, compound: Meta GOOD! [0.965 0.813 0.955]\n",
      "lab: F, compound: Meta GOOD! [0.868 0.761 0.849]\n",
      "lab: A, compound: Ortho GOOD! [0.889 0.915 0.903]\n",
      "lab: B, compound: Ortho HELP: [0.937 0.874 0.961]\n",
      "lab: C, compound: Ortho GOOD! [0.743 0.811 0.787]\n",
      "lab: D, compound: Ortho GOOD! [0.741 0.823 0.759]\n",
      "lab: E, compound: Ortho HELP: [0.888 0.949 0.955]\n",
      "lab: F, compound: Ortho GOOD! [0.748 0.841 0.74 ]\n",
      "lab: A, compound: Para HELP: [0.878 0.769 0.858]\n",
      "lab: B, compound: Para GOOD! [0.951 0.874 0.952]\n",
      "lab: C, compound: Para HELP: [0.917 0.936 0.913]\n",
      "lab: D, compound: Para GOOD! [0.927 0.924 0.978]\n",
      "lab: E, compound: Para HELP: [0.95  0.846 0.943]\n",
      "lab: F, compound: Para GOOD! [0.877 0.874 0.882]\n",
      "8 / 18 = 55.5%\n"
     ]
    }
   ],
   "source": [
    "bad_count = 0\n",
    "total = 0\n",
    "\n",
    "print(\"PER LAB 10 SAMPLES VS N-10 SAMPLES (excluding lab)\")\n",
    "print(f\"compounds: {compounds}\")\n",
    "for compound in compounds:\n",
    "    for lab in labs:\n",
    "        lab_list = get_filenames(compound, lab)\n",
    "        assert(len(lab_list) == 10)\n",
    "        lab_reps = ','.join(lab_list)\n",
    "        lab_stat = f2stats(lab_reps)\n",
    "        \n",
    "        compounds_excluding_lab = []\n",
    "        for new_compound in compounds:\n",
    "            if compound == new_compound:\n",
    "                new_lab = \"[^\"+lab+\"]\" # not our lab\n",
    "            else:\n",
    "                new_lab = \".\" # anything\n",
    "            new_list = get_filenames(new_compound, new_lab)\n",
    "            assert(len(new_list) == 50 or len(new_list) == 60)\n",
    "            sel, _ = rand_sel(new_list, div=10)\n",
    "            assert(len(sel) == 10)\n",
    "            reps = ','.join(sel)\n",
    "            compounds_excluding_lab.append(f2stats(reps))\n",
    "        mat = hdc.compare(lab_stat, *compounds_excluding_lab)\n",
    "        most_sim = np.argmax(remove_diag(mat),axis=1)[0] # this gets argmax of first row\n",
    "        goal_ind = compounds.index(compound)+1\n",
    "        \n",
    "        print(f\"lab: {lab}, compound: {compound}\", end=\" \")\n",
    "        total += 1\n",
    "        if goal_ind != most_sim:\n",
    "            bad_count += 1\n",
    "            print(\"HELP:\", mat[0,1:])\n",
    "        else:\n",
    "            print(\"GOOD!\", mat[0,1:])\n",
    "\n",
    "print(bad_count, '/', total, '=', f\"{str(100 - bad_count/total * 100)[:4]}%\")"
   ]
  },
  {
   "cell_type": "code",
   "execution_count": 49,
   "id": "401dd80e",
   "metadata": {},
   "outputs": [
    {
     "name": "stdout",
     "output_type": "stream",
     "text": [
      "PER LAB 10 SAMPLES VS 10 SAMPLES (excluding lab)\n",
      "compounds: ['Meta', 'Ortho', 'Para']\n",
      "lab: A, compound: Meta GOOD! [0.946 0.823 0.936]\n",
      "lab: B, compound: Meta GOOD! [0.954 0.834 0.953]\n",
      "lab: C, compound: Meta HELP: [0.79  0.843 0.836]\n",
      "lab: D, compound: Meta GOOD! [0.965 0.876 0.956]\n",
      "lab: E, compound: Meta GOOD! [0.959 0.814 0.948]\n",
      "lab: F, compound: Meta GOOD! [0.863 0.813 0.84 ]\n",
      "lab: A, compound: Ortho HELP: [0.88  0.875 0.906]\n",
      "lab: B, compound: Ortho HELP: [0.933 0.908 0.961]\n",
      "lab: C, compound: Ortho GOOD! [0.745 0.837 0.749]\n",
      "lab: D, compound: Ortho GOOD! [0.754 0.83  0.742]\n",
      "lab: E, compound: Ortho GOOD! [0.909 0.942 0.94 ]\n",
      "lab: F, compound: Ortho GOOD! [0.743 0.836 0.769]\n",
      "lab: A, compound: Para HELP: [0.889 0.78  0.867]\n",
      "lab: B, compound: Para GOOD! [0.95  0.848 0.968]\n",
      "lab: C, compound: Para HELP: [0.898 0.921 0.908]\n",
      "lab: D, compound: Para GOOD! [0.915 0.909 0.949]\n",
      "lab: E, compound: Para GOOD! [0.958 0.839 0.96 ]\n",
      "lab: F, compound: Para HELP: [0.897 0.866 0.887]\n",
      "6 / 18 = 66.6%\n"
     ]
    }
   ],
   "source": [
    "def perlab10():\n",
    "    print(\"PER LAB 10 SAMPLES VS 10 SAMPLES (excluding lab)\")\n",
    "    bad_count = 0\n",
    "    total = 0\n",
    "\n",
    "    print(f\"compounds: {compounds}\")\n",
    "    for compound in compounds:\n",
    "        for lab in labs:\n",
    "            lab_list = get_filenames(compound, lab)\n",
    "            assert(len(lab_list) == 10)\n",
    "            lab_reps = ','.join(lab_list)\n",
    "            lab_stat = f2stats(lab_reps)\n",
    "\n",
    "            compounds_excluding_lab = []\n",
    "            for new_compound in compounds:\n",
    "                if compound == new_compound:\n",
    "                    new_lab = \"[^\"+lab+\"]\" # not our lab\n",
    "                else:\n",
    "                    new_lab = \".\" # anything\n",
    "                new_list = get_filenames(new_compound, new_lab)\n",
    "                assert(len(new_list) == 50 or len(new_list) == 60)\n",
    "                if compound == new_compound:\n",
    "                    sel = new_list\n",
    "                else:\n",
    "                    # drop 10 reps if another comound so everything has 50 (so we don't bias toward/away from original compound)\n",
    "                    _, sel = rand_sel(new_list, div=10)\n",
    "                assert(len(sel) == 50)\n",
    "                reps = ','.join(sel)\n",
    "                compounds_excluding_lab.append(f2stats(reps))\n",
    "            mat = hdc.compare(lab_stat, *compounds_excluding_lab)\n",
    "            most_sim = np.argmax(remove_diag(mat),axis=1)[0] # this gets argmax of first row\n",
    "            goal_ind = compounds.index(compound)+1\n",
    "\n",
    "            print(f\"lab: {lab}, compound: {compound}\", end=\" \")\n",
    "            total += 1\n",
    "            if goal_ind != most_sim:\n",
    "                bad_count += 1\n",
    "                print(\"HELP:\", mat[0,1:])\n",
    "            else:\n",
    "                print(\"GOOD!\", mat[0,1:])\n",
    "\n",
    "    print(bad_count, '/', total, '=', f\"{str(100 - bad_count/total * 100)[:4]}%\")\n",
    "# %lprun -f perlab10 perlab10()\n",
    "perlab10()"
   ]
  },
  {
   "cell_type": "code",
   "execution_count": 60,
   "id": "b9ab0316",
   "metadata": {
    "scrolled": true
   },
   "outputs": [
    {
     "name": "stdout",
     "output_type": "stream",
     "text": [
      "COUNT REPS: PER LAB 10 SAMPLES VS ALL-10 SAMPLES (excluding lab)\n",
      "223.9814814814815\n",
      "205.66666666666666\n"
     ]
    }
   ],
   "source": [
    "# all this cell does is count replicates\n",
    "print(\"COUNT REPS: PER LAB 10 SAMPLES VS ALL-10 SAMPLES (excluding lab)\")\n",
    "# print(f\"compounds: {compounds}\")\n",
    "lib_num_reps = []\n",
    "query_num_reps = []\n",
    "for compound in compounds:\n",
    "    for lab in labs:\n",
    "#         print(f\"compound: {compound}, lab: {lab}\")\n",
    "        lab_list = get_filenames(compound, lab)\n",
    "        assert(len(lab_list) == 10)\n",
    "        lab_reps = ','.join(lab_list)\n",
    "        lab_stat = f2stats(lab_reps)\n",
    "        query_num_reps.append(np.count_nonzero(lab_stat[:, 0]))\n",
    "        \n",
    "        for new_compound in compounds:\n",
    "            if compound == new_compound:\n",
    "                new_lab = \"[^\"+lab+\"]\" # not our lab\n",
    "            else:\n",
    "                new_lab = \".\" # anything\n",
    "            new_list = get_filenames(new_compound, new_lab)\n",
    "            assert(len(new_list) == 50 or len(new_list) == 60)\n",
    "            sel, _ = rand_sel(new_list, div=10)\n",
    "            assert(len(sel) == 10)\n",
    "            reps = ','.join(sel)\n",
    "            sum_stat = f2stats(reps)\n",
    "            lib_num_reps.append(np.count_nonzero(sum_stat[:, 0]))\n",
    "\n",
    "print(np.mean(np.array(lib_num_reps)))\n",
    "print(np.mean(np.array(query_num_reps)))"
   ]
  },
  {
   "cell_type": "code",
   "execution_count": 61,
   "id": "df98177f",
   "metadata": {
    "scrolled": true
   },
   "outputs": [
    {
     "name": "stdout",
     "output_type": "stream",
     "text": [
      "PER LAB 10 SAMPLES VS 10 SAMPLES (excluding lab)\n",
      "240.40740740740742\n",
      "205.66666666666666\n"
     ]
    }
   ],
   "source": [
    "# all this cell does is count replicates\n",
    "print(\"PER LAB 10 SAMPLES VS 10 SAMPLES (excluding lab)\")\n",
    "# print(f\"compounds: {compounds}\")\n",
    "lib_num_reps = []\n",
    "query_num_reps = []\n",
    "for compound in compounds:\n",
    "    for lab in labs:\n",
    "#         print(f\"compound: {compound}, lab: {lab}\")\n",
    "        lab_list = get_filenames(compound, lab)\n",
    "        assert(len(lab_list) == 10)\n",
    "        lab_reps = ','.join(lab_list)\n",
    "        lab_stat = f2stats(lab_reps)\n",
    "        query_num_reps.append(np.count_nonzero(lab_stat[:, 0]))\n",
    "\n",
    "        for new_compound in compounds:\n",
    "            if compound == new_compound:\n",
    "                new_lab = \"[^\"+lab+\"]\" # not our lab\n",
    "            else:\n",
    "                new_lab = \".\" # anything\n",
    "            new_list = get_filenames(new_compound, new_lab)\n",
    "            assert(len(new_list) == 50 or len(new_list) == 60)\n",
    "            if compound == new_compound:\n",
    "                sel = new_list\n",
    "            else:\n",
    "                # drop 10 reps if another comound so everything has 50 (so we don't bias toward/away from original compound)\n",
    "                _, sel = rand_sel(new_list, div=10)\n",
    "            assert(len(sel) == 50)\n",
    "            reps = ','.join(sel)\n",
    "            sum_stat = f2stats(reps)\n",
    "            lib_num_reps.append(np.count_nonzero(sum_stat[:, 0]))\n",
    "            \n",
    "print(np.mean(np.array(lib_num_reps)))\n",
    "print(np.mean(np.array(query_num_reps)))"
   ]
  }
 ],
 "metadata": {
  "kernelspec": {
   "display_name": "Python (hdcms)",
   "language": "python",
   "name": "hdcms"
  },
  "language_info": {
   "codemirror_mode": {
    "name": "ipython",
    "version": 3
   },
   "file_extension": ".py",
   "mimetype": "text/x-python",
   "name": "python",
   "nbconvert_exporter": "python",
   "pygments_lexer": "ipython3",
   "version": "3.9.16"
  }
 },
 "nbformat": 4,
 "nbformat_minor": 5
}
