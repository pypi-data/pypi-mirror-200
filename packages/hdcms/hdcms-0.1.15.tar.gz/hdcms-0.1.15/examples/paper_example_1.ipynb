{
 "cells": [
  {
   "cell_type": "code",
   "execution_count": 3,
   "id": "c9bb8365",
   "metadata": {},
   "outputs": [],
   "source": [
    "import hdcms as hdc\n",
    "import matplotlib.pyplot as plt"
   ]
  },
  {
   "cell_type": "markdown",
   "id": "e16fe76f",
   "metadata": {},
   "source": [
    "First, we gather the data files into summary statistics."
   ]
  },
  {
   "cell_type": "code",
   "execution_count": 4,
   "id": "05706989",
   "metadata": {},
   "outputs": [],
   "source": [
    "compound1 = hdc.regex2stats1d(r\"01-\\d+.txt\", dir=\"./data/CM1\")\n",
    "compound2 = hdc.regex2stats1d(r\"02-\\d+.txt\", dir=\"./data/CM1\")\n",
    "compound3 = hdc.regex2stats1d(r\"03-\\d+.txt\", dir=\"./data/CM1\")"
   ]
  },
  {
   "cell_type": "markdown",
   "id": "40535fa8",
   "metadata": {},
   "source": [
    "# Similarity\n",
    "\n",
    "We will look at the similarity of the summary statistics we gathered above. To get an idea of what they look like, we can print them out:"
   ]
  },
  {
   "cell_type": "code",
   "execution_count": 8,
   "id": "642563b9",
   "metadata": {},
   "outputs": [
    {
     "name": "stdout",
     "output_type": "stream",
     "text": [
      "shape: (9000, 2)\n",
      "array: [[0. 0.]\n",
      " [0. 0.]\n",
      " [0. 0.]\n",
      " ...\n",
      " [0. 0.]\n",
      " [0. 0.]\n",
      " [0. 0.]]\n"
     ]
    }
   ],
   "source": [
    "print('shape:', compound1.shape)\n",
    "\n",
    "with np.printoptions(threshold=50): # causes summarization since it's a shape 9000x2 array, remove to see all 9000 entries\n",
    "    print('array:', compound1)"
   ]
  },
  {
   "cell_type": "markdown",
   "id": "5e7bc0b5",
   "metadata": {},
   "source": [
    "Because they are a 9000 element array of pairs, it's hard too see what's going on. We can tell that most of the elements are 0. We can visualize the summary statistic better using the following."
   ]
  },
  {
   "cell_type": "code",
   "execution_count": 16,
   "id": "d2788d0a",
   "metadata": {},
   "outputs": [
    {
     "ename": "TypeError",
     "evalue": "write_image() missing 1 required positional argument: 'filename'",
     "output_type": "error",
     "traceback": [
      "\u001b[0;31m---------------------------------------------------------------------------\u001b[0m",
      "\u001b[0;31mTypeError\u001b[0m                                 Traceback (most recent call last)",
      "Cell \u001b[0;32mIn[16], line 1\u001b[0m\n\u001b[0;32m----> 1\u001b[0m im \u001b[38;5;241m=\u001b[39m \u001b[43mhdc\u001b[49m\u001b[38;5;241;43m.\u001b[39;49m\u001b[43mwrite_image\u001b[49m\u001b[43m(\u001b[49m\u001b[43mcompound1\u001b[49m\u001b[43m)\u001b[49m\n\u001b[1;32m      2\u001b[0m plt\u001b[38;5;241m.\u001b[39mimshow(im)\n\u001b[1;32m      3\u001b[0m plt\u001b[38;5;241m.\u001b[39mshow()\n",
      "\u001b[0;31mTypeError\u001b[0m: write_image() missing 1 required positional argument: 'filename'"
     ]
    }
   ],
   "source": [
    "im = hdc.write_image(compound1)\n",
    "plt.imshow(im)\n",
    "plt.show()\n",
    "plt.imshow(im)\n",
    "plt.savefig(\"/tmp/tmp.png\")"
   ]
  },
  {
   "cell_type": "markdown",
   "id": "3a55f01a",
   "metadata": {},
   "source": [
    "Finally, we can compare the compounds like so:"
   ]
  },
  {
   "cell_type": "code",
   "execution_count": 5,
   "id": "477e0d52",
   "metadata": {},
   "outputs": [
    {
     "name": "stdout",
     "output_type": "stream",
     "text": [
      "0.029733101813582064\n",
      "\n",
      "[[1.         0.0297331  0.03402488]\n",
      " [0.0297331  1.         0.02170931]\n",
      " [0.03402488 0.02170931 1.        ]]\n"
     ]
    }
   ],
   "source": [
    "print(hdc.compare(compound1, compound2))\n",
    "print()\n",
    "print(hdc.compare(compound1, compound2, compound3))"
   ]
  },
  {
   "cell_type": "markdown",
   "id": "835b727f",
   "metadata": {},
   "source": [
    "# Library\n",
    "\n",
    "Now, we will create a list of tuples (`name`, `summary_statistic`) to represent a library of mass spectra.\n",
    "\n",
    "The resulting library will look like:\n",
    "```\n",
    "[\n",
    "  (\"01\", [...]),\n",
    "  (\"02\", [...]),\n",
    "  ...,\n",
    "]\n",
    "```"
   ]
  },
  {
   "cell_type": "code",
   "execution_count": 6,
   "id": "9ebba10f",
   "metadata": {},
   "outputs": [],
   "source": [
    "library = [(name, hdc.regex2stats1d(f\"{name}-\\\\d+.txt\", dir=\"./data/CM1\")) for name in [\n",
    "    \"01\", \"02\", \"03\", \"04\", \"05\", \"06\", \"07\", \"08\", \"09\", \n",
    "    \"10\", \"11\", \"12\", \"13\", \"14\", \"15\", \"16\", \"17\", \"18\", \"19\", \n",
    "    \"20\", \"21\", \"22\", \"23\", \"24\", \"25\", \"26\", \"27\", \"28\" \n",
    "]]"
   ]
  },
  {
   "cell_type": "markdown",
   "id": "e7f3abfb",
   "metadata": {},
   "source": [
    "Next, we'll define a search function for our library. It will return a list of tuples (`name`, `similarity_score`), sorted by similarity score. The output will look like:\n",
    "\n",
    "```\n",
    "[\n",
    "  (\"11\", 0.0323),\n",
    "  (\"02\", 0.9881),\n",
    "  ...,\n",
    "]\n",
    "```"
   ]
  },
  {
   "cell_type": "code",
   "execution_count": 7,
   "id": "f038e4ce",
   "metadata": {},
   "outputs": [],
   "source": [
    "def search(query_stat):\n",
    "    results = [(name, hdc.compare(stat, query_stat)) for name, stat in library]\n",
    "    results.sort(key=lambda x: x[1], reverse=True)\n",
    "    return results"
   ]
  },
  {
   "cell_type": "markdown",
   "id": "df94411a",
   "metadata": {},
   "source": [
    "Now we will look at how to use this search function on a previously defined summary statistic. And on a new one."
   ]
  },
  {
   "cell_type": "code",
   "execution_count": 8,
   "id": "72f61f44",
   "metadata": {
    "scrolled": false
   },
   "outputs": [
    {
     "data": {
      "text/plain": [
       "[('01', 1.0),\n",
       " ('22', 0.10534684795783125),\n",
       " ('11', 0.04089280788519011),\n",
       " ('03', 0.034024882840827365),\n",
       " ('24', 0.03011176158020755),\n",
       " ('02', 0.029733101813582064),\n",
       " ('10', 0.02880552653785082),\n",
       " ('12', 0.02868626266890866),\n",
       " ('17', 0.028212600925155738),\n",
       " ('05', 0.027594011680106844),\n",
       " ('15', 0.026138552383615142),\n",
       " ('20', 0.02600569762544869),\n",
       " ('16', 0.02473467906281094),\n",
       " ('19', 0.024250299920701927),\n",
       " ('09', 0.02355592672846528),\n",
       " ('21', 0.023039596216427254),\n",
       " ('26', 0.022912835862035404),\n",
       " ('28', 0.02251912911017232),\n",
       " ('23', 0.022473152980977327),\n",
       " ('25', 0.019901711726135755),\n",
       " ('07', 0.017334206878426718),\n",
       " ('04', 0.0162216988036626),\n",
       " ('27', 0.015944476452852702),\n",
       " ('06', 0.015888629212813893),\n",
       " ('14', 0.014130453381876372),\n",
       " ('08', 0.010513748623967584),\n",
       " ('18', 0.009569875148059025),\n",
       " ('13', 0.008502112890293583)]"
      ]
     },
     "execution_count": 8,
     "metadata": {},
     "output_type": "execute_result"
    }
   ],
   "source": [
    "search(compound1)"
   ]
  },
  {
   "cell_type": "code",
   "execution_count": 9,
   "id": "44aeb0ed",
   "metadata": {
    "scrolled": true
   },
   "outputs": [
    {
     "data": {
      "text/plain": [
       "[('28', 1.0),\n",
       " ('20', 0.2815313381263563),\n",
       " ('21', 0.20502814949999149),\n",
       " ('11', 0.0662990403719213),\n",
       " ('17', 0.06362304303400718),\n",
       " ('03', 0.04991178677580614),\n",
       " ('05', 0.049597665128017415),\n",
       " ('19', 0.046675458953594),\n",
       " ('16', 0.04623491678265274),\n",
       " ('25', 0.041264598345041315),\n",
       " ('10', 0.04012499712239262),\n",
       " ('12', 0.038507708625198714),\n",
       " ('26', 0.037230145342915744),\n",
       " ('09', 0.03688985054035831),\n",
       " ('27', 0.035569551931445884),\n",
       " ('06', 0.03552552524019236),\n",
       " ('15', 0.03456500760222549),\n",
       " ('04', 0.030797982146856393),\n",
       " ('24', 0.030239891437487187),\n",
       " ('22', 0.029425103403972114),\n",
       " ('07', 0.02763832510222726),\n",
       " ('23', 0.025164134204552716),\n",
       " ('02', 0.02416266159546645),\n",
       " ('14', 0.022835090374944914),\n",
       " ('01', 0.022519129110172318),\n",
       " ('08', 0.006612938995487065),\n",
       " ('18', 0.005844177222388435),\n",
       " ('13', 0.005407626397174957)]"
      ]
     },
     "execution_count": 9,
     "metadata": {},
     "output_type": "execute_result"
    }
   ],
   "source": [
    "compound28 = hdc.regex2stats1d(r\"28-\\d+.txt\", dir=\"./data/CM1\")\n",
    "search(compound28)"
   ]
  },
  {
   "cell_type": "markdown",
   "id": "fd3f7e2e",
   "metadata": {},
   "source": [
    "Notice that in each example, we get a similarity score of 1 for the compound compared with itself. This is expected, since it means they are identical."
   ]
  }
 ],
 "metadata": {
  "kernelspec": {
   "display_name": "Python (hdcms)",
   "language": "python",
   "name": "hdcms"
  },
  "language_info": {
   "codemirror_mode": {
    "name": "ipython",
    "version": 3
   },
   "file_extension": ".py",
   "mimetype": "text/x-python",
   "name": "python",
   "nbconvert_exporter": "python",
   "pygments_lexer": "ipython3",
   "version": "3.9.16"
  }
 },
 "nbformat": 4,
 "nbformat_minor": 5
}
