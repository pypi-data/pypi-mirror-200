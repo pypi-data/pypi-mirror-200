{
 "cells": [
  {
   "cell_type": "code",
   "execution_count": 1,
   "outputs": [],
   "source": [
    "%load_ext autoreload\n",
    "%autoreload 2\n",
    "\n",
    "import torch\n",
    "import datamol as dm\n",
    "import numpy as np"
   ],
   "metadata": {
    "collapsed": false
   }
  },
  {
   "cell_type": "markdown",
   "source": [
    "All featurizers in Molfeat inherit from at least one of three classes:\n",
    "1. `molfeat.calc.SerializableCalculator`:</br>A calculator is a Callable that featurizes a single molecule.\n",
    "2. `molfeat.trans.MoleculeTransformer`:</br>A transformer is a class that wraps a calculator in a featurization pipeline.\n",
    "3. `molfeat.trans.pretrained.PretrainedMolTransformer`:</br>A subclass of `MoleculeTransformer` that extends the transformer interface to support the usage of pretrained models.\n",
    "\n",
    "In this tutorial, we will look at each of these classes in more detail.\n",
    "\n",
    "## Calculators\n",
    "A calculator is a Callable that takes an RDKit `Chem.Mol` object or a SMILES string and returns a feature vector.\n",
    "In the following example, we will us The `FPCalculator`, which is ."
   ],
   "metadata": {
    "collapsed": false
   }
  },
  {
   "cell_type": "code",
   "execution_count": 2,
   "metadata": {
    "collapsed": true
   },
   "outputs": [
    {
     "data": {
      "text/plain": "(167,)"
     },
     "execution_count": 2,
     "metadata": {},
     "output_type": "execute_result"
    }
   ],
   "source": [
    "from molfeat.calc import FPCalculator\n",
    "\n",
    "smiles = \"CN1C=NC2=C1C(=O)N(C(=O)N2C)C\"\n",
    "calc = FPCalculator(\"maccs\")\n",
    "X = calc(smiles)\n",
    "X.shape"
   ]
  },
  {
   "cell_type": "markdown",
   "source": [
    "The `FPCalculator` implements several popular molecular fingerprints:"
   ],
   "metadata": {
    "collapsed": false
   }
  },
  {
   "cell_type": "code",
   "execution_count": 3,
   "outputs": [
    {
     "data": {
      "text/plain": "dict_keys(['maccs', 'avalon', 'ecfp', 'fcfp', 'topological', 'atompair', 'rdkit', 'pattern', 'layered', 'map4', 'secfp', 'erg', 'estate', 'avalon-count', 'rdkit-count', 'ecfp-count', 'fcfp-count', 'topological-count', 'atompair-count'])"
     },
     "execution_count": 3,
     "metadata": {},
     "output_type": "execute_result"
    }
   ],
   "source": [
    "from molfeat.calc import FP_FUNCS\n",
    "FP_FUNCS.keys()"
   ],
   "metadata": {
    "collapsed": false
   }
  },
  {
   "cell_type": "markdown",
   "source": [
    "Switching to any other fingerprint is easy:"
   ],
   "metadata": {
    "collapsed": false
   }
  },
  {
   "cell_type": "code",
   "execution_count": 4,
   "outputs": [
    {
     "data": {
      "text/plain": "(2048,)"
     },
     "execution_count": 4,
     "metadata": {},
     "output_type": "execute_result"
    }
   ],
   "source": [
    "calc = FPCalculator(\"ecfp\")\n",
    "X = calc(smiles)\n",
    "X.shape"
   ],
   "metadata": {
    "collapsed": false
   }
  },
  {
   "cell_type": "markdown",
   "source": [
    "Besides these fingerprints, Molfeat also provides calculators for other molecular descriptors. The list of available options can be even further extended through [plugins](../developers/create-plugin.html). All available calculator classes, both built-in and plugin-based, can be found through the `molfeat.calc` module:"
   ],
   "metadata": {
    "collapsed": false
   }
  },
  {
   "cell_type": "code",
   "execution_count": 5,
   "outputs": [
    {
     "data": {
      "text/plain": "dict_keys(['CATS', 'RDKitDescriptors2D', 'MordredDescriptors', 'RDKitDescriptors3D', 'FPCalculator', 'Pharmacophore2D', 'Pharmacophore3D', 'ScaffoldKeyCalculator', 'USRDescriptors', 'ElectroShapeDescriptors'])"
     },
     "execution_count": 5,
     "metadata": {},
     "output_type": "execute_result"
    }
   ],
   "source": [
    "from molfeat.calc import _CALCULATORS\n",
    "_CALCULATORS.keys()"
   ],
   "metadata": {
    "collapsed": false
   }
  },
  {
   "cell_type": "markdown",
   "source": [
    "Every calculator is serializable, meaning it can be efficiently stored to - and loaded from - disk. To learn more, please see the [tutorial on saving and loading featurizers](./save_and_load.html).\n",
    "\n",
    "## Transformers\n",
    "In practice, you won't want to featurize a single molecule, but rather a batch of molecules. This is where transformers come in. A transformer is a class that wraps a calculator in a featurization pipeline. The `MoleculeTransformer` class provides a convenient interface for featurizing a batch of molecules. It also provides a number of useful methods to customize the featurization pipeline."
   ],
   "metadata": {
    "collapsed": false
   }
  },
  {
   "cell_type": "code",
   "execution_count": 6,
   "outputs": [
    {
     "data": {
      "text/plain": "(642, 214)"
     },
     "execution_count": 6,
     "metadata": {},
     "output_type": "execute_result"
    }
   ],
   "source": [
    "from molfeat.calc import RDKitDescriptors2D\n",
    "from molfeat.trans import MoleculeTransformer\n",
    "\n",
    "data = dm.data.freesolv().smiles.values\n",
    "\n",
    "# Let's try a different calculator!\n",
    "# This is a descriptor with all 2D, physicochemical descriptors from RDKit\n",
    "calc = RDKitDescriptors2D(replace_nan=True)\n",
    "\n",
    "# Wrap the calculator in a transformer instance\n",
    "trans = MoleculeTransformer(calc, dtype=np.float64)\n",
    "\n",
    "with dm.without_rdkit_log():\n",
    "    feats = trans(data)\n",
    "\n",
    "feats.shape"
   ],
   "metadata": {
    "collapsed": false
   }
  },
  {
   "cell_type": "markdown",
   "source": [
    "The `MoleculeTransformer` class provides a number of useful methods to customize the featurization pipeline. For example, you can easily change the dtype of the features or use parallelization."
   ],
   "metadata": {
    "collapsed": false
   }
  },
  {
   "cell_type": "code",
   "execution_count": 7,
   "outputs": [
    {
     "data": {
      "text/plain": "dtype('float64')"
     },
     "execution_count": 7,
     "metadata": {},
     "output_type": "execute_result"
    }
   ],
   "source": [
    "feats.dtype"
   ],
   "metadata": {
    "collapsed": false
   }
  },
  {
   "cell_type": "code",
   "execution_count": 8,
   "outputs": [
    {
     "data": {
      "text/plain": "dtype('float32')"
     },
     "execution_count": 8,
     "metadata": {},
     "output_type": "execute_result"
    }
   ],
   "source": [
    "# To save on memory, we would rather use `float32` than `float64`. Let's change that!\n",
    "trans = MoleculeTransformer(calc, dtype=np.float32)\n",
    "\n",
    "with dm.without_rdkit_log():\n",
    "    feats = np.stack(trans(data))\n",
    "\n",
    "feats.dtype"
   ],
   "metadata": {
    "collapsed": false
   }
  },
  {
   "cell_type": "code",
   "execution_count": 9,
   "outputs": [
    {
     "data": {
      "text/plain": "torch.float32"
     },
     "execution_count": 9,
     "metadata": {},
     "output_type": "execute_result"
    }
   ],
   "source": [
    "# Even better, let's directly cast to Torch vectors so we can use them in PyTorch!\n",
    "trans = MoleculeTransformer(calc, dtype=torch.float32)\n",
    "\n",
    "with dm.without_rdkit_log():\n",
    "    feats = trans(data)\n",
    "feats.dtype"
   ],
   "metadata": {
    "collapsed": false
   }
  },
  {
   "cell_type": "code",
   "execution_count": 10,
   "outputs": [
    {
     "name": "stdout",
     "output_type": "stream",
     "text": [
      "2.65 s ± 34.9 ms per loop (mean ± std. dev. of 7 runs, 1 loop each)\n"
     ]
    }
   ],
   "source": [
    "%%timeit\n",
    "# Let's time our current featurization pipeline\n",
    "trans = MoleculeTransformer(calc, n_jobs=1, dtype=torch.float32)\n",
    "with dm.without_rdkit_log():\n",
    "    X = trans(data)"
   ],
   "metadata": {
    "collapsed": false
   }
  },
  {
   "cell_type": "code",
   "execution_count": 11,
   "outputs": [
    {
     "name": "stdout",
     "output_type": "stream",
     "text": [
      "2.18 s ± 25.7 ms per loop (mean ± std. dev. of 7 runs, 1 loop each)\n"
     ]
    }
   ],
   "source": [
    "%%timeit\n",
    "# With transformer classes, it's really easy to add parallelization! Let's try speed this up.\n",
    "trans = MoleculeTransformer(calc, n_jobs=4, dtype=torch.float32)\n",
    "with dm.without_rdkit_log():\n",
    "    X = trans(data)"
   ],
   "metadata": {
    "collapsed": false
   }
  },
  {
   "cell_type": "markdown",
   "source": [],
   "metadata": {
    "collapsed": false
   }
  },
  {
   "cell_type": "markdown",
   "source": [
    "Even with such a small dataset, we can already see some performance improvements.\n",
    "\n",
    "### Concatenate featurizers\n",
    "Another interesting features offered in Molfeat is the ability to concatenate multiple featurizers together. Feature concatenation has some limitations, though. The major limitation being the inability to set the parameters of all transformers in a single call. It is therefore not compatible with the Scikit-learn grid search CV API and you will need to handle the update of the parameters of the concatenated featurizer yourself."
   ],
   "metadata": {
    "collapsed": false
   }
  },
  {
   "cell_type": "code",
   "execution_count": 12,
   "outputs": [
    {
     "data": {
      "text/plain": "((1, 167), (1, 2000))"
     },
     "execution_count": 12,
     "metadata": {},
     "output_type": "execute_result"
    }
   ],
   "source": [
    "from molfeat.trans.fp import FPVecTransformer\n",
    "\n",
    "# We will use the FPVecTransformer to automatically create a calculator by name\n",
    "maccs = FPVecTransformer(\"maccs\", dtype=np.float32)\n",
    "ecfp4 = FPVecTransformer(\"ecfp:4\", dtype=np.float32)\n",
    "\n",
    "maccs([smiles]).shape, ecfp4([smiles]).shape"
   ],
   "metadata": {
    "collapsed": false
   }
  },
  {
   "cell_type": "code",
   "execution_count": 13,
   "outputs": [
    {
     "data": {
      "text/plain": "(1, 2167)"
     },
     "execution_count": 13,
     "metadata": {},
     "output_type": "execute_result"
    }
   ],
   "source": [
    "from molfeat.trans.concat import FeatConcat\n",
    "\n",
    "trans = FeatConcat([maccs, ecfp4], dtype=np.float32)\n",
    "trans([smiles]).shape"
   ],
   "metadata": {
    "collapsed": false
   }
  },
  {
   "cell_type": "markdown",
   "source": [
    "### Further reading\n",
    "\n",
    "This has only scratched the surface of what the `MoleculeTransformer` class offers. Subsequent tutorials will dive in more detail:\n",
    "\n",
    "- [Easily add your own featurizers](./add_your_own.html): Learn how to easily add your own featurizers to Molfeat to take full control.\n",
    "- [Integrations with ML frameworks](./integrations.html): Learn how to easily integrate Molfeat with PyTorch and Scikit-learn.\n",
    "\n",
    "## Pretrained transformers\n",
    "Finally, the `PretrainedMolTransformer` class extends the transformer interface to support the usage of pretrained models. This class is a subclass of `MoleculeTransformer` and inherits all its methods. On top of that, it adds the `_embed()`, `_preload()` and `_convert()`.\n",
    "\n",
    "- `_embed()`: Since pre-trained models benefit from batched featurization, this method is called by the transformer instead of the calculator.\n",
    "- `_convert()`: This method is called by the transformer to convert the input. For example:\n",
    "  - For a pre-trained language model, we convert from a SMILES string or Mol object to a SELFIES string.\n",
    "  - For a pre-trained GNN, we convert from a SMILES string or Mol object to a DGL graph.\n",
    "\n",
    "Furthermore, the `PretrainedMolTransformer` support the use of a caching system. To learn more, see the [tutorial on the cache](./datacache.html)."
   ],
   "metadata": {
    "collapsed": false
   }
  }
 ],
 "metadata": {
  "kernelspec": {
   "display_name": "Python 3",
   "language": "python",
   "name": "python3"
  },
  "language_info": {
   "codemirror_mode": {
    "name": "ipython",
    "version": 2
   },
   "file_extension": ".py",
   "mimetype": "text/x-python",
   "name": "python",
   "nbconvert_exporter": "python",
   "pygments_lexer": "ipython2",
   "version": "2.7.6"
  }
 },
 "nbformat": 4,
 "nbformat_minor": 0
}
