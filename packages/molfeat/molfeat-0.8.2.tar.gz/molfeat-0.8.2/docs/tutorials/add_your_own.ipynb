{
 "cells": [
  {
   "cell_type": "code",
   "execution_count": 22,
   "outputs": [],
   "source": [
    "%load_ext autoreload\n",
    "%autoreload 2\n",
    "\n",
    "import numpy as np"
   ],
   "metadata": {
    "collapsed": false
   }
  },
  {
   "cell_type": "markdown",
   "source": [
    "## Define your own calculator\n",
    "Remember that a calculator is simply a Callable that takes in a molecule (either a RDKit `Chem.Mol` object or SMILES string) and returns a dictionary of features.\n",
    "We can thus easily define our own calculator!"
   ],
   "metadata": {
    "collapsed": false
   }
  },
  {
   "cell_type": "code",
   "execution_count": 36,
   "outputs": [
    {
     "data": {
      "text/plain": "[array([14.        , 15.        ,  6.        ,  0.63696169])]"
     },
     "execution_count": 36,
     "metadata": {},
     "output_type": "execute_result"
    }
   ],
   "source": [
    "from molfeat.trans import MoleculeTransformer\n",
    "from rdkit.Chem.rdMolDescriptors import CalcNumHeteroatoms\n",
    "\n",
    "def my_calculator(mol):\n",
    "    \"\"\"My custom featurizer\"\"\"\n",
    "    mol = dm.to_mol(mol)\n",
    "    rng = np.random.default_rng(0)\n",
    "    return [mol.GetNumAtoms(), mol.GetNumBonds(), CalcNumHeteroatoms(mol), rng.random()]\n",
    "\n",
    "# This directly works with the MoleculeTransformer\n",
    "trans = MoleculeTransformer(my_calculator)\n",
    "trans([\"CN1C=NC2=C1C(=O)N(C(=O)N2C)C\"])"
   ],
   "metadata": {
    "collapsed": false
   }
  },
  {
   "cell_type": "markdown",
   "source": [
    "If such functions get more complex, it might however be easier to wrap it in class.\n",
    "This also ensures the calculator remains serializable."
   ],
   "metadata": {
    "collapsed": false
   }
  },
  {
   "cell_type": "code",
   "execution_count": 37,
   "outputs": [
    {
     "name": "stderr",
     "output_type": "stream",
     "text": [
      "2023-03-21 14:26:26.358 | WARNING  | molfeat.calc.base:__init__:23 - The 'MyCalculator' interaction has been superseded by a new class with id 0x5624f1236620\n"
     ]
    },
    {
     "data": {
      "text/plain": "[array([14.        , 15.        ,  6.        ,  0.63696169])]"
     },
     "execution_count": 37,
     "metadata": {},
     "output_type": "execute_result"
    }
   ],
   "source": [
    "from molfeat.calc import SerializableCalculator\n",
    "\n",
    "\n",
    "class MyCalculator(SerializableCalculator):\n",
    "    def __call__(self, mol):\n",
    "        mol = dm.to_mol(mol)\n",
    "        rng = np.random.default_rng(0)\n",
    "        return [mol.GetNumAtoms(), mol.GetNumBonds(), CalcNumHeteroatoms(mol), rng.random()]\n",
    "\n",
    "\n",
    "trans = MoleculeTransformer(MyCalculator())\n",
    "trans([\"CN1C=NC2=C1C(=O)N(C(=O)N2C)C\"])"
   ],
   "metadata": {
    "collapsed": false
   }
  },
  {
   "cell_type": "markdown",
   "source": [
    "## Define your own transformer\n",
    "The above example shows that in many cases, there's no direct need to create your own transformer class. You can simply use the `MoleculeTransformer` base class.\n",
    "In more complex cases, such as with pretrained models, it will however be better to create your own subclass."
   ],
   "metadata": {
    "collapsed": false
   }
  },
  {
   "cell_type": "code",
   "execution_count": 71,
   "outputs": [
    {
     "name": "stderr",
     "output_type": "stream",
     "text": [
      "2023-03-21 15:35:59.406 | WARNING  | molfeat.trans.base:__init__:52 - The 'MyFoundationModel' interaction has been superseded by a new class with id 0x5624f1ddce60\n"
     ]
    }
   ],
   "source": [
    "import datamol as dm\n",
    "from sklearn.ensemble import RandomForestRegressor\n",
    "from molfeat.trans.pretrained import PretrainedMolTransformer\n",
    "\n",
    "\n",
    "class MyFoundationModel(PretrainedMolTransformer):\n",
    "\n",
    "    def __init__(self):\n",
    "        super().__init__(dtype=np.float32)\n",
    "        self._featurizer = MoleculeTransformer(\"maccs\", dtype=np.float32)\n",
    "        self._model = RandomForestRegressor()\n",
    "        self.train_dummy_model()\n",
    "\n",
    "    def train_dummy_model(self):\n",
    "        \"\"\"\n",
    "        Load the pretrained model.\n",
    "        In this dummy example, we train a RF model to predict the cLogP\n",
    "        \"\"\"\n",
    "        data = dm.data.freesolv().smiles.values\n",
    "        X = self._featurizer(data)\n",
    "        y = np.array([dm.descriptors.clogp(dm.to_mol(smi)) for smi in data])\n",
    "        self._model.fit(X, y)\n",
    "\n",
    "    def _convert(self, inputs: list, **kwargs):\n",
    "        \"\"\"Convert the molecule to a format that the model expects\"\"\"\n",
    "        return self._featurizer(inputs)\n",
    "\n",
    "    def _embed(self,  mols: list, **kwargs):\n",
    "        \"\"\"\n",
    "        Embed the molecules using the pretrained model\n",
    "        In this dummy example, we simply multiply the features by the importance of the feature\n",
    "        \"\"\"\n",
    "        return [feats * self._model.feature_importances_ for feats in mols]"
   ],
   "metadata": {
    "collapsed": false
   }
  },
  {
   "cell_type": "code",
   "execution_count": 72,
   "outputs": [
    {
     "data": {
      "text/plain": "(1, 167)"
     },
     "execution_count": 72,
     "metadata": {},
     "output_type": "execute_result"
    }
   ],
   "source": [
    "trans = MyFoundationModel()\n",
    "trans([\"CN1C=NC2=C1C(=O)N(C(=O)N2C)C\"]).shape"
   ],
   "metadata": {
    "collapsed": false
   }
  },
  {
   "cell_type": "markdown",
   "source": [
    "## Add it to the Model Store\n",
    "Molfeat has a Model store to publish your models in a central place.\n",
    "The default is a read-only GCP bucket, but you can replace this with your own file storage. This can for example be useful to share private featurizers with your team."
   ],
   "metadata": {
    "collapsed": false
   }
  },
  {
   "cell_type": "code",
   "execution_count": 74,
   "outputs": [
    {
     "data": {
      "text/plain": "0"
     },
     "execution_count": 74,
     "metadata": {},
     "output_type": "execute_result"
    }
   ],
   "source": [
    "import platformdirs\n",
    "from molfeat.store.modelstore import ModelStore\n",
    "from molfeat.store import ModelInfo\n",
    "\n",
    "path = dm.fs.join(platformdirs.user_cache_dir(\"molfeat\"), \"custom_model_store\")\n",
    "store = ModelStore(model_store_bucket=path)\n",
    "len(store.available_models)"
   ],
   "metadata": {
    "collapsed": false
   }
  },
  {
   "cell_type": "code",
   "execution_count": 77,
   "outputs": [
    {
     "data": {
      "text/plain": "[ModelInfo(name='my_foundation_model', inputs='smiles', type='pretrained', version=0, group='my_group', submitter='Datamol', description='Solves chemistry!', representation='vector', require_3D=False, tags=['foundation_model', 'random_forest'], authors=['Datamol'], reference='/fake/ref', created_at=datetime.datetime(2023, 3, 21, 15, 37, 4, 59739), sha256sum='9c298d589a2158eb513cb52191144518a2acab2cb0c04f1df14fca0f712fa4a1')]"
     },
     "execution_count": 77,
     "metadata": {},
     "output_type": "execute_result"
    }
   ],
   "source": [
    "# Let's define our model's info\n",
    "info = ModelInfo(\n",
    "    name = \"my_foundation_model\",\n",
    "    inputs = \"smiles\",\n",
    "    type=\"pretrained\",\n",
    "    group=\"my_group\",\n",
    "    version=0,\n",
    "    submitter=\"Datamol\",\n",
    "    description=\"Solves chemistry!\",\n",
    "    representation=\"vector\",\n",
    "    require_3D=False,\n",
    "    tags = [\"foundation_model\", \"random_forest\"],\n",
    "    authors= [\"Datamol\"],\n",
    "    reference = \"/fake/ref\"\n",
    ")\n",
    "\n",
    "store.register(info)\n",
    "store.available_models"
   ],
   "metadata": {
    "collapsed": false
   }
  },
  {
   "cell_type": "markdown",
   "source": [
    "## Share with the community\n",
    "We invite you to share your featurizers with the community to progress the field.\n",
    "To learn more, visit [the developer documentation](../developers/create-plugin.html).\n"
   ],
   "metadata": {
    "collapsed": false
   }
  }
 ],
 "metadata": {
  "kernelspec": {
   "display_name": "Python 3",
   "language": "python",
   "name": "python3"
  },
  "language_info": {
   "codemirror_mode": {
    "name": "ipython",
    "version": 2
   },
   "file_extension": ".py",
   "mimetype": "text/x-python",
   "name": "python",
   "nbconvert_exporter": "python",
   "pygments_lexer": "ipython2",
   "version": "2.7.6"
  }
 },
 "nbformat": 4,
 "nbformat_minor": 0
}
