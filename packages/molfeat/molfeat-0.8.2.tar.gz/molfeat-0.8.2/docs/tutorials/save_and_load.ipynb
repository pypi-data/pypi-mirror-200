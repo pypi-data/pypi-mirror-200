{
 "cells": [
  {
   "cell_type": "code",
   "execution_count": 1,
   "outputs": [],
   "source": [
    "%load_ext autoreload\n",
    "%autoreload 2\n",
    "\n",
    "import datamol as dm"
   ],
   "metadata": {
    "collapsed": false
   }
  },
  {
   "cell_type": "markdown",
   "source": [
    "Any Molfeat featurizer should be serializable. This makes it easy to share a specific instantiation of a featurizer.\n",
    "Any featurizer can thus be created from - or saved to - a state dictionary. We support native support to save these state dicts to both YAML and JSON\n",
    "\n",
    "## Example"
   ],
   "metadata": {
    "collapsed": false
   }
  },
  {
   "cell_type": "code",
   "execution_count": 2,
   "outputs": [],
   "source": [
    "from molfeat.trans import MoleculeTransformer\n",
    "\n",
    "trans = MoleculeTransformer(\"ecfp\")"
   ],
   "metadata": {
    "collapsed": false
   }
  },
  {
   "cell_type": "code",
   "execution_count": 3,
   "outputs": [
    {
     "name": "stdout",
     "output_type": "stream",
     "text": [
      "_molfeat_version: 0.0.1\n",
      "args:\n",
      "  dtype: null\n",
      "  featurizer: ecfp\n",
      "  n_jobs: 1\n",
      "  parallel_kwargs: null\n",
      "  verbose: false\n",
      "name: MoleculeTransformer\n",
      "\n"
     ]
    }
   ],
   "source": [
    "print(trans.to_state_yaml())"
   ],
   "metadata": {
    "collapsed": false
   }
  },
  {
   "cell_type": "code",
   "execution_count": 4,
   "outputs": [
    {
     "name": "stdout",
     "output_type": "stream",
     "text": [
      "{\"name\": \"MoleculeTransformer\", \"args\": {\"featurizer\": \"ecfp\", \"n_jobs\": 1, \"verbose\": false, \"dtype\": null, \"parallel_kwargs\": null}, \"_molfeat_version\": \"0.0.1\"}\n"
     ]
    }
   ],
   "source": [
    "print(trans.to_state_json())"
   ],
   "metadata": {
    "collapsed": false
   }
  },
  {
   "cell_type": "code",
   "execution_count": 5,
   "outputs": [
    {
     "name": "stdout",
     "output_type": "stream",
     "text": [
      "{'name': 'MoleculeTransformer', 'args': {'featurizer': 'ecfp', 'n_jobs': 1, 'verbose': False, 'dtype': None, 'parallel_kwargs': None}, '_molfeat_version': '0.0.1'}\n"
     ]
    }
   ],
   "source": [
    "print(trans.to_state_dict())"
   ],
   "metadata": {
    "collapsed": false
   }
  },
  {
   "cell_type": "code",
   "execution_count": 6,
   "outputs": [
    {
     "name": "stdout",
     "output_type": "stream",
     "text": [
      "{\"name\": \"MoleculeTransformer\", \"args\": {\"featurizer\": \"ecfp\", \"n_jobs\": 1, \"verbose\": false, \"dtype\": null, \"parallel_kwargs\": null}, \"_molfeat_version\": \"0.0.1\"}\n"
     ]
    }
   ],
   "source": [
    "print(trans.to_state_json())"
   ],
   "metadata": {
    "collapsed": false
   }
  },
  {
   "cell_type": "code",
   "execution_count": 7,
   "outputs": [],
   "source": [
    "# You can also directly save to files:\n",
    "import tempfile\n",
    "\n",
    "with tempfile.TemporaryDirectory() as tmpdir:\n",
    "    path = dm.fs.join(tmpdir, \"state_dict.yml\")\n",
    "    trans.to_state_yaml_file(path)\n",
    "    trans = MoleculeTransformer.from_state_yaml_file(path)"
   ],
   "metadata": {
    "collapsed": false
   }
  },
  {
   "cell_type": "markdown",
   "source": [
    "## Loop over multiple featurizers\n",
    "One implication of this, is that despite the various different interfaces, you can eaisly loop over multiple featurizers."
   ],
   "metadata": {
    "collapsed": false
   }
  },
  {
   "cell_type": "code",
   "execution_count": 8,
   "outputs": [],
   "source": [
    "FEATURIZERS = [\n",
    "    {\"name\": \"MoleculeTransformer\", \"args\": {\"featurizer\": \"ecfp\", \"n_jobs\": 1, \"verbose\": False, \"dtype\": None, \"parallel_kwargs\": None}, \"_molfeat_version\": \"0.0.1\"},\n",
    "    {\"name\": \"MoleculeTransformer\", \"args\": {\"featurizer\": \"maccs\", \"n_jobs\": 1, \"verbose\": False, \"dtype\": None, \"parallel_kwargs\": None}, \"_molfeat_version\": \"0.0.1\"},\n",
    "    {\"name\": \"MoleculeTransformer\", \"args\": {\"featurizer\": \"fcfp\", \"n_jobs\": 1, \"verbose\": False, \"dtype\": None, \"parallel_kwargs\": None}, \"_molfeat_version\": \"0.0.1\"},\n",
    "]"
   ],
   "metadata": {
    "collapsed": false
   }
  },
  {
   "cell_type": "code",
   "execution_count": 9,
   "outputs": [],
   "source": [
    "for state_dict in FEATURIZERS:\n",
    "    trans = MoleculeTransformer.from_state_dict(state_dict)\n",
    "    # ... Work your magic!"
   ],
   "metadata": {
    "collapsed": false
   }
  }
 ],
 "metadata": {
  "kernelspec": {
   "display_name": "Python 3",
   "language": "python",
   "name": "python3"
  },
  "language_info": {
   "codemirror_mode": {
    "name": "ipython",
    "version": 2
   },
   "file_extension": ".py",
   "mimetype": "text/x-python",
   "name": "python",
   "nbconvert_exporter": "python",
   "pygments_lexer": "ipython2",
   "version": "2.7.6"
  }
 },
 "nbformat": 4,
 "nbformat_minor": 0
}
