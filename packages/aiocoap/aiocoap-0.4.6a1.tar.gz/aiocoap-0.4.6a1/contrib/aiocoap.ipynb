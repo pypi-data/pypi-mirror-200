{
  "metadata": {
    "language_info": {
      "codemirror_mode": {
        "name": "python",
        "version": 3
      },
      "file_extension": ".py",
      "mimetype": "text/x-python",
      "name": "python",
      "nbconvert_exporter": "python",
      "pygments_lexer": "ipython3",
      "version": "3.8"
    },
    "kernelspec": {
      "name": "python",
      "display_name": "Python (Pyodide)",
      "language": "python"
    }
  },
  "nbformat_minor": 4,
  "nbformat": 4,
  "cells": [
    {
      "cell_type": "code",
      "source": "import micropip\nawait micropip.install(\"https://christian.amsuess.com/aiocoap-0.4.5.post0-py3-none-any.whl\")\nimport aiocoap\nctx = await aiocoap.Context.create_client_context()",
      "metadata": {
        "trusted": true
      },
      "execution_count": 1,
      "outputs": []
    },
    {
      "cell_type": "code",
      "source": "req = aiocoap.Message(code=aiocoap.GET, uri=\"coaps+ws://rd.coap.amsuess.com/.well-known/core\")\nprint((await ctx.request(req).response).payload.decode('utf8'))",
      "metadata": {
        "trusted": true
      },
      "execution_count": 2,
      "outputs": [
        {
          "name": "stdout",
          "text": "</.well-known/core>;ct=\"40\",</.well-known/rd>,</rd>;ct=\"40\";rt=\"core.rd\",</endpoint-lookup/>;ct=\"40\";rt=\"core.rd-lookup-ep\";obs,</resource-lookup/>;ct=\"40\";rt=\"core.rd-lookup-res\";obs,<https://christian.amsuess.com/tools/aiocoap/#version-0.4.5.post0>;rel=\"impl-info\"\n",
          "output_type": "stream"
        }
      ]
    }
  ]
}