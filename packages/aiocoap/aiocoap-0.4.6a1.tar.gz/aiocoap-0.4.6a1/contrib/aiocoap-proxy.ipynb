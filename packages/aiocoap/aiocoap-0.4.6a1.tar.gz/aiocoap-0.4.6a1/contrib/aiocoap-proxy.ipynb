{
  "metadata": {
    "toc-showcode": false,
    "toc-autonumbering": false,
    "toc-showtags": false,
    "language_info": {
      "codemirror_mode": {
        "name": "python",
        "version": 3
      },
      "file_extension": ".py",
      "mimetype": "text/x-python",
      "name": "python",
      "nbconvert_exporter": "python",
      "pygments_lexer": "ipython3",
      "version": "3.8"
    },
    "kernelspec": {
      "name": "python",
      "display_name": "Python (Pyodide)",
      "language": "python"
    }
  },
  "nbformat_minor": 4,
  "nbformat": 4,
  "cells": [
    {
      "cell_type": "code",
      "source": "import micropip\nawait micropip.install(\"https://christian.amsuess.com/aiocoap-0.4.5.post0-py3-none-any.whl\")\nimport aiocoap\nctx = await aiocoap.Context.create_client_context()",
      "metadata": {
        "trusted": true
      },
      "execution_count": 1,
      "outputs": []
    },
    {
      "cell_type": "code",
      "source": "req = aiocoap.Message(\n    code=aiocoap.GET,\n    proxy_scheme=\"coap\",\n    uri_host=\"coap.me\",\n    uri_path=[\"blåbærsyltetøy\"])\nreq.remote = aiocoap.message.UndecidedRemote(\"coaps+ws\", \"proxy.coap.amsuess.com\")\nprint((await ctx.request(req).response).payload.decode('utf8'))",
      "metadata": {
        "trusted": true
      },
      "execution_count": 2,
      "outputs": [
        {
          "name": "stdout",
          "text": "Übergrößenträger = 特大の人 = 超大航母\n",
          "output_type": "stream"
        }
      ]
    }
  ]
}