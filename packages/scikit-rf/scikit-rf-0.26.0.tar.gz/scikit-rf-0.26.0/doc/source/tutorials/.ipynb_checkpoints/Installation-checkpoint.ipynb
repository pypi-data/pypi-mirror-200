{
 "cells": [
  {
   "cell_type": "markdown",
   "metadata": {},
   "source": [
    "# Installation"
   ]
  },
  {
   "cell_type": "markdown",
   "metadata": {},
   "source": [
    "## anaconda (recommended)\n",
    "\n",
    "The easiest way to install scikit-rf is to first install \n",
    "[anaconda](http://continuum.io/downloads), a binary package manager for python modules. Once anaconda is setup you can install scikit-rf by entering the following into a terminal\n",
    "\n",
    "    conda install -c conda-forge  scikit-rf"
   ]
  },
  {
   "cell_type": "markdown",
   "metadata": {},
   "source": [
    "## pip\n",
    "\n",
    "\n",
    "If you dont want to install anaconda (really, why not?), you can use  `pip`\n",
    "\n",
    "    pip install scikit-rf"
   ]
  },
  {
   "cell_type": "markdown",
   "metadata": {},
   "source": [
    "## git\n",
    "\n",
    "The bleeding-edge development version of **scikit-rf** may be installed from our [github page](https://github.com/scikit-rf/scikit-rf). You can use git directly, or  download a zipfile.\n",
    "\n",
    "    git clone git@github.com:scikit-rf/scikit-rf.git\n",
    "    cd scikit-rf\n",
    "    python setup.py install"
   ]
  },
  {
   "cell_type": "markdown",
   "metadata": {},
   "source": [
    "## Optional Modules\n",
    "\n",
    "Some features of scikit-rf wont be available until you install additional\n",
    "modules. You can install these using conda or pip."
   ]
  },
  {
   "cell_type": "markdown",
   "metadata": {},
   "source": [
    "### Instrument Control\n",
    "\n",
    "To use the vi module, you must install all of its dependencies. This can be done\n",
    "with\n",
    "\n",
    "$ pip install scikit-rf[vi]\n",
    "\n",
    "which will install the following:\n",
    "- [pyvisa](https://pyvisa.readthedocs.io/en/latest/)\n",
    "- [pyvisa-py](https://pyvisa.readthedocs.io/projects/pyvisa-py/en/latest/)\n",
    "- [python-ivi](http://alexforencich.com/wiki/en/python-ivi/start)\n",
    "- [python-vxi11](http://alexforencich.com/wiki/en/python-vxi11/start)\n",
    "- [python-usbtmc](http://alexforencich.com/wiki/en/python-usbtmc/start)\n",
    "- [pyserial](https://pyserial.readthedocs.io/en/latest/pyserial.html)"
   ]
  },
  {
   "cell_type": "raw",
   "metadata": {},
   "source": [
    ".. warning::\n",
    "    The above should be enough to communicate with many instruments. However,\n",
    "    some of us have had difficult to resolve issues with certain instrument\n",
    "    configurations that require particular setups. For example, to communicate\n",
    "    with Keysight's N5227B PNA, we had to install the [Keysight IO Libraries\n",
    "    Suite](https://www.keysight.com/us/en/lib/software-detail/computer-software/io-libraries-suite-downloads-2175637.html). \n",
    "\n",
    "    When using the virtual instrument module, you have the option of specifying\n",
    "    the backend that PyVISA uses to communicate with instruments. By default,\n",
    "    this is PyVISA-py, the fully Python VISA implementation, but in the case\n",
    "    above with the Keysight Analyzer, we had to specify the exact .dll of the\n",
    "    VISA driver. More information can be found\n",
    "    [here](https://pyvisa.readthedocs.io/en/latest/advanced/backends.html) on\n",
    "    VISA backends, but if you have issues, please submit a detailed bug report!"
   ]
  },
  {
   "cell_type": "markdown",
   "metadata": {},
   "source": [
    "### Excel file export\n",
    "\n",
    "*   xlrd\n",
    "*   xlwt http://www.python-excel.org/ - for xls reading/writing"
   ]
  }
 ],
 "metadata": {
  "anaconda-cloud": {},
  "celltoolbar": "Raw Cell Format",
  "kernelspec": {
   "display_name": "Python 3 (ipykernel)",
   "language": "python",
   "name": "python3"
  },
  "language_info": {
   "codemirror_mode": {
    "name": "ipython",
    "version": 3
   },
   "file_extension": ".py",
   "mimetype": "text/x-python",
   "name": "python",
   "nbconvert_exporter": "python",
   "pygments_lexer": "ipython3",
   "version": "3.9.7"
  },
  "toc": {
   "nav_menu": {},
   "number_sections": true,
   "sideBar": true,
   "skip_h1_title": false,
   "toc_cell": false,
   "toc_position": {},
   "toc_section_display": "block",
   "toc_window_display": false
  },
  "vscode": {
   "interpreter": {
    "hash": "6e9ab46c0308d25f8ecf2297d605bcf30c0184a06f23fc8ad30aef47f26c08c0"
   }
  }
 },
 "nbformat": 4,
 "nbformat_minor": 1
}
