{
 "cells": [
  {
   "cell_type": "markdown",
   "metadata": {},
   "source": [
    "#  Config\n",
    "\n",
    "> Configuration parameters and synthetic datasets creation"
   ]
  },
  {
   "cell_type": "code",
   "execution_count": null,
   "metadata": {},
   "outputs": [],
   "source": [
    "#| default_exp config"
   ]
  },
  {
   "cell_type": "code",
   "execution_count": null,
   "metadata": {},
   "outputs": [],
   "source": [
    "#| hide\n",
    "from nbdev.showdoc import *"
   ]
  },
  {
   "cell_type": "code",
   "execution_count": null,
   "metadata": {},
   "outputs": [],
   "source": [
    "#| export\n",
    "import numpy as np\n",
    "import pandas as pd"
   ]
  },
  {
   "cell_type": "code",
   "execution_count": null,
   "metadata": {},
   "outputs": [],
   "source": [
    "#| export\n",
    "REF_COLOR = \"k\"\n",
    "FEMALE_COLOR = \"C1\"\n",
    "MALE_COLOR = \"C0\"\n",
    "ALL_COLOR = \"C5\"\n",
    "\n",
    "GLUC_COLOR = \"C0\"\n",
    "FOOD_COLOR = \"C1\""
   ]
  },
  {
   "cell_type": "code",
   "execution_count": null,
   "metadata": {},
   "outputs": [],
   "source": [
    "#| export\n",
    "\n",
    "def generate_synthetic_data(n: int = 1000) -> pd.DataFrame:\n",
    "    \"\"\"\n",
    "    Generates a sample DataFrame containing age, gender, and value data.\n",
    "\n",
    "    Args:\n",
    "        n: The number of rows in the generated DataFrame.\n",
    "\n",
    "    Returns:\n",
    "        A pandas DataFrame with columns 'age', 'gender', and 'val'.\n",
    "    \"\"\"\n",
    "    pids = np.arange(n)\n",
    "    # Set start and end dates\n",
    "    start_date = pd.Timestamp('2020-01-01')\n",
    "    end_date = pd.Timestamp('now')\n",
    "    dates = pd.to_datetime(pd.to_datetime(np.random.uniform(start_date.value, end_date.value, n).astype(np.int64)).date)  \n",
    "    ages = np.random.uniform(35, 73, size=n)\n",
    "    genders = np.random.choice([0, 1], size=n)\n",
    "    vals = np.random.normal(30 + 1 * ages + 40 * genders, 20, size=n)\n",
    "    \n",
    "    data = pd.DataFrame(data={\"participant_id\":pids,\"date_of_research_stage\": dates,\"age_at_research_stage\": ages, \"sex\": genders, \"val1\": vals}).set_index(\"participant_id\")\n",
    "    data[\"val2\"] = data[\"val1\"]*0.3 + 0.5*np.random.normal(0,50) + 0.2*10*data[\"sex\"]\n",
    "    return data"
   ]
  },
  {
   "cell_type": "code",
   "execution_count": null,
   "metadata": {},
   "outputs": [
    {
     "data": {
      "text/html": [
       "<div>\n",
       "<style scoped>\n",
       "    .dataframe tbody tr th:only-of-type {\n",
       "        vertical-align: middle;\n",
       "    }\n",
       "\n",
       "    .dataframe tbody tr th {\n",
       "        vertical-align: top;\n",
       "    }\n",
       "\n",
       "    .dataframe thead th {\n",
       "        text-align: right;\n",
       "    }\n",
       "</style>\n",
       "<table border=\"1\" class=\"dataframe\">\n",
       "  <thead>\n",
       "    <tr style=\"text-align: right;\">\n",
       "      <th></th>\n",
       "      <th>date_of_research_stage</th>\n",
       "      <th>age_at_research_stage</th>\n",
       "      <th>sex</th>\n",
       "      <th>val1</th>\n",
       "      <th>val2</th>\n",
       "    </tr>\n",
       "    <tr>\n",
       "      <th>participant_id</th>\n",
       "      <th></th>\n",
       "      <th></th>\n",
       "      <th></th>\n",
       "      <th></th>\n",
       "      <th></th>\n",
       "    </tr>\n",
       "  </thead>\n",
       "  <tbody>\n",
       "    <tr>\n",
       "      <th>0</th>\n",
       "      <td>2022-09-30</td>\n",
       "      <td>66.164378</td>\n",
       "      <td>0</td>\n",
       "      <td>93.087297</td>\n",
       "      <td>24.564893</td>\n",
       "    </tr>\n",
       "    <tr>\n",
       "      <th>1</th>\n",
       "      <td>2022-12-25</td>\n",
       "      <td>53.070666</td>\n",
       "      <td>0</td>\n",
       "      <td>91.391330</td>\n",
       "      <td>24.056103</td>\n",
       "    </tr>\n",
       "    <tr>\n",
       "      <th>2</th>\n",
       "      <td>2020-08-12</td>\n",
       "      <td>36.070647</td>\n",
       "      <td>0</td>\n",
       "      <td>47.200916</td>\n",
       "      <td>10.798979</td>\n",
       "    </tr>\n",
       "    <tr>\n",
       "      <th>3</th>\n",
       "      <td>2020-04-12</td>\n",
       "      <td>53.006367</td>\n",
       "      <td>1</td>\n",
       "      <td>112.068038</td>\n",
       "      <td>32.259115</td>\n",
       "    </tr>\n",
       "    <tr>\n",
       "      <th>4</th>\n",
       "      <td>2022-09-04</td>\n",
       "      <td>67.249748</td>\n",
       "      <td>0</td>\n",
       "      <td>112.129756</td>\n",
       "      <td>30.277630</td>\n",
       "    </tr>\n",
       "  </tbody>\n",
       "</table>\n",
       "</div>"
      ],
      "text/plain": [
       "               date_of_research_stage  age_at_research_stage  sex        val1  \\\n",
       "participant_id                                                                  \n",
       "0                          2022-09-30              66.164378    0   93.087297   \n",
       "1                          2022-12-25              53.070666    0   91.391330   \n",
       "2                          2020-08-12              36.070647    0   47.200916   \n",
       "3                          2020-04-12              53.006367    1  112.068038   \n",
       "4                          2022-09-04              67.249748    0  112.129756   \n",
       "\n",
       "                     val2  \n",
       "participant_id             \n",
       "0               24.564893  \n",
       "1               24.056103  \n",
       "2               10.798979  \n",
       "3               32.259115  \n",
       "4               30.277630  "
      ]
     },
     "execution_count": null,
     "metadata": {},
     "output_type": "execute_result"
    }
   ],
   "source": [
    "data = generate_synthetic_data()\n",
    "data.head()"
   ]
  },
  {
   "cell_type": "code",
   "execution_count": null,
   "metadata": {},
   "outputs": [],
   "source": [
    "#| hide\n",
    "import nbdev; nbdev.nbdev_export()"
   ]
  }
 ],
 "metadata": {
  "kernelspec": {
   "display_name": "python3",
   "language": "python",
   "name": "python3"
  }
 },
 "nbformat": 4,
 "nbformat_minor": 4
}
