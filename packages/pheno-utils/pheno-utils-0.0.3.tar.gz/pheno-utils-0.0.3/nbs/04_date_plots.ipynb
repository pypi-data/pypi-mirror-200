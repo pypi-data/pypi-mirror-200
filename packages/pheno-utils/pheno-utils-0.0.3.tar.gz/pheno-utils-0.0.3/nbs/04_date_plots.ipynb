{
 "cells": [
  {
   "cell_type": "markdown",
   "metadata": {},
   "source": [
    "#  Dates plots\n",
    "\n",
    "> "
   ]
  },
  {
   "cell_type": "code",
   "execution_count": null,
   "metadata": {},
   "outputs": [],
   "source": [
    "#| default_exp dates_plots"
   ]
  },
  {
   "cell_type": "code",
   "execution_count": null,
   "metadata": {},
   "outputs": [],
   "source": [
    "#| hide\n",
    "from nbdev.showdoc import *"
   ]
  },
  {
   "cell_type": "code",
   "execution_count": null,
   "metadata": {},
   "outputs": [],
   "source": [
    "#| export\n",
    "import numpy as np\n",
    "import pandas as pd\n",
    "import matplotlib.pyplot as plt\n",
    "from typing import Optional, List, Tuple\n",
    "from pandas._typing import Axes"
   ]
  },
  {
   "cell_type": "code",
   "execution_count": null,
   "metadata": {},
   "outputs": [],
   "source": [
    "#| export\n",
    "from pheno_utils.config import *"
   ]
  },
  {
   "cell_type": "code",
   "execution_count": null,
   "metadata": {},
   "outputs": [],
   "source": [
    "#| export\n",
    "\n",
    "def dates_dist_plot(df: pd.DataFrame, col: str, sampling_period: str = \"W-MON\", ax: Optional[Axes] = None,\n",
    "                    date_index: str = 'Date', ylim: Optional[Tuple[float, float]] = None,\n",
    "                    quantiles: Optional[List[Tuple[float, str]]] = None) -> None:\n",
    "    \"\"\"\n",
    "    Creates a scatter plot of data points and their statistics based on a specified sampling period.\n",
    "\n",
    "    Args:\n",
    "        df (pd.DataFrame): The input DataFrame containing the data.\n",
    "        col (str): The column name in the DataFrame to plot.\n",
    "        sampling_period (str, optional): The frequency to resample the data. Defaults to 'W-MON'.\n",
    "        ax (Optional[Axes], optional): A matplotlib axes object to plot on. Defaults to None.\n",
    "        date_index (str, optional): The name of the date index in the DataFrame. Defaults to 'Date'.\n",
    "        ylim (Optional[Tuple[float, float]], optional): A tuple defining the y-axis limits. Defaults to None.\n",
    "        quantiles (Optional[List[Tuple[float, str]]], optional): A list of tuples containing quantiles and their\n",
    "            labels. Defaults to [(0.1, \"10%\"), (0.9, \"90%\")].\n",
    "    \"\"\"\n",
    "    if quantiles is None:\n",
    "        quantiles = [(0.1, \"10%\"), (0.9, \"90%\")]\n",
    "\n",
    "    df = df.reset_index().set_index(date_index)\n",
    "\n",
    "    if ax is None:\n",
    "        fig, ax = plt.subplots(1, 1, figsize=(14, 8))\n",
    "\n",
    "    # All data scatterplot\n",
    "    ax.scatter(df.index.get_level_values(date_index), df[col].values, s=40, alpha=0.2,\n",
    "               marker=\"o\", facecolors=\"none\", linewidths=1, color=\"k\")\n",
    "\n",
    "    # Define statistics and their styles\n",
    "    stats = [\n",
    "        ('quantile', q, f\"{label} quantile\", \"-\", 3, 0.4) for q, label in quantiles\n",
    "    ] + [('median', None, f\"{sampling_period} Median\", \"-\", 5, 0.5)]\n",
    "\n",
    "    # Plot sampling period statistics\n",
    "    for stat, param, label, ls, lw, alpha in stats:\n",
    "        stat_line = df[col].resample(sampling_period)\n",
    "        stat_line = stat_line.quantile(param) if stat == 'quantile' else stat_line.median()\n",
    "        ax.plot(stat_line.index, stat_line.values, label=label, ls=ls, lw=lw, alpha=alpha, color=\"b\")\n",
    "\n",
    "    # Plot all sample stats\n",
    "    hline = df[col].median()\n",
    "    ax.axhline(hline, color=\"r\", label=\"All samples Median\", ls=\"--\", lw=3, alpha=0.5)\n",
    "\n",
    "    # Prettify the plot\n",
    "    ax.legend()\n",
    "    ax.spines[\"right\"].set_visible(False)\n",
    "    ax.spines[\"top\"].set_visible(False)\n",
    "    ax.set_xlabel(col, fontsize=16)\n",
    "    if ylim is not None:\n",
    "        ax.set_ylim(ylim)"
   ]
  },
  {
   "cell_type": "code",
   "execution_count": null,
   "metadata": {},
   "outputs": [],
   "source": [
    "data = generate_synthetic_data()"
   ]
  },
  {
   "cell_type": "code",
   "execution_count": null,
   "metadata": {},
   "outputs": [],
   "source": [
    "#| hide\n",
    "import nbdev; nbdev.nbdev_export()"
   ]
  }
 ],
 "metadata": {
  "kernelspec": {
   "display_name": "python3",
   "language": "python",
   "name": "python3"
  }
 },
 "nbformat": 4,
 "nbformat_minor": 4
}
