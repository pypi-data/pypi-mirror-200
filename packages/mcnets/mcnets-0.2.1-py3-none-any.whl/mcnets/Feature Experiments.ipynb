{
 "cells": [
  {
   "cell_type": "code",
   "execution_count": 11,
   "metadata": {},
   "outputs": [],
   "source": [
    "import matplotlib.pyplot as plt\n",
    "from main import *\n",
    "import numpy as np\n",
    "import random as rn\n",
    "import math as m"
   ]
  },
  {
   "cell_type": "code",
   "execution_count": 12,
   "metadata": {},
   "outputs": [
    {
     "name": "stdout",
     "output_type": "stream",
     "text": [
      "================================================================\n",
      "                  Neural Net Characteristics:                   \n",
      "1. Layer Sizes = [1, 10, 1]\n",
      "2. Weight Medians = [-0.15, 0.07]\n",
      "3. Number of Parameters: 20\n",
      "4. Activation Functions: ['ATAN', 'ATAN']\n",
      "================================================================\n",
      "R2: 0.863199 | Training: ========================================\n"
     ]
    },
    {
     "data": {
      "image/png": "[encoded data removed]",
      "text/plain": [
       "<Figure size 432x288 with 1 Axes>"
      ]
     },
     "metadata": {
      "needs_background": "light"
     },
     "output_type": "display_data"
    }
   ],
   "source": [
    "## Feature Functions ##\n",
    "\n",
    "\n",
    "## Training Tests ##\n",
    "\n",
    "# Setup net\n",
    "NN = AdvNet(1, [10]*1, 1, \"ATAN\")\n",
    "print(NN)\n",
    "\n",
    "# Make X and Y data\n",
    "xT = [*range(60)]\n",
    "xArr = np.array(xT)\n",
    "# xT2 = [0]\n",
    "# for i, xi in enumerate(xT[1:]):\n",
    "#     if xi > xT[i-1]:\n",
    "#         xT2.append(1)\n",
    "#     else:\n",
    "#         xT2.append(0)\n",
    "# xArr = np.array([xT, xT2]).T\n",
    "\n",
    "yT = [m.sin(i/24)**2 for i in xT]\n",
    "yArr = np.array(yT)\n",
    "yArr = yArr / np.max(yArr)\n",
    "\n",
    "# Thin data\n",
    "xThin, yThin, xPlot = thinData(xArr, yArr, 4)\n",
    "\n",
    "# Train net\n",
    "NN, R2 = genTrain(NN, xThin, yThin)\n",
    "\n",
    "# Net Predictions\n",
    "yHatThin = Forecast(NN, xThin, plotResults=False)\n",
    "\n",
    "# Plot predictions and such\n",
    "plt.plot(xPlot, yHatThin)\n",
    "plt.plot(xPlot, yThin, 'X')\n",
    "plt.plot(xArr, yArr, '--')\n",
    "plt.legend([\"Predictions\", \"Train Data\", \"True Data\"])\n",
    "plt.title(\"Net Predictions vs Train / True Data\")\n",
    "plt.show()"
   ]
  },
  {
   "cell_type": "code",
   "execution_count": 17,
   "metadata": {},
   "outputs": [
    {
     "name": "stdout",
     "output_type": "stream",
     "text": [
      "R2: 0.906551 | Training: ========================================\n",
      "R2: 0.784877 | Training: ========================================\n",
      "R2: 0.898442 | Training: ========================================\n",
      "R2: 0.694942 | Training: ========================================\n",
      "R2: 0.842626 | Training: ========================================\n",
      "R2: 0.831842 | Training: ========================================\n",
      "R2: 0.878782 | Training: ========================================\n",
      "R2: 0.893935 | Training: ========================================\n",
      "\n",
      "T1 = 5.297518100000161\n",
      "T2 = 3.714165800000046\n",
      "T3 = 7.308545600000798\n",
      "T4 = 18.205850700000155\n"
     ]
    }
   ],
   "source": [
    "from time import perf_counter as pc\n",
    "\n",
    "# Rscores0  = []\n",
    "# Rscores10 = []\n",
    "# Rscores20 = []\n",
    "# Rscores50 = []\n",
    "\n",
    "numIterations = 2\n",
    "quiet = False\n",
    "\n",
    "# Default\n",
    "t1 = pc()\n",
    "for i in range(numIterations):\n",
    "    NN = AdvNet(1, [10], 1, \"ATAN\")\n",
    "    dump, R2 = genTrain(NN, xThin, yThin, Silent=quiet)\n",
    "    # Rscores0.append(R2)\n",
    "\n",
    "# Default\n",
    "t2 = pc()\n",
    "for i in range(numIterations):\n",
    "    NN = AdvNet(1, [10], 1, \"ATAN\")\n",
    "    dump, R2 = genTrain(NN, xThin, yThin, batchSize=10, Silent=quiet)\n",
    "    # Rscores10.append(R2)\n",
    "\n",
    "# Default\n",
    "t3 = pc()\n",
    "for i in range(numIterations):\n",
    "    NN = AdvNet(1, [10], 1, \"ATAN\")\n",
    "    dump, R2 = genTrain(NN, xThin, yThin, batchSize=20, Silent=quiet)\n",
    "    # Rscores20.append(R2)\n",
    "\n",
    "# Default\n",
    "t4 = pc()\n",
    "for i in range(numIterations):\n",
    "    NN = AdvNet(1, [10], 1, \"ATAN\")\n",
    "    dump, R2 = genTrain(NN, xThin, yThin, batchSize=50, Silent=quiet)\n",
    "    # Rscores50.append(R2)\n",
    "\n",
    "t5 = pc()\n",
    "\n",
    "# Results\n",
    "# print()\n",
    "# print(\"R^2 Data Per Batch Size:\")\n",
    "# print(f\"Default Method: Avg = {np.average(Rscores0):.6f}, Med = {np.median(Rscores0):.6f}\")\n",
    "# print(f\"10 Batch Size: Avg = {np.average(Rscores10):.6f}, Med = {np.median(Rscores10):.6f}\")\n",
    "# print(f\"20 Batch Size: Avg = {np.average(Rscores20):.6f}, Med = {np.median(Rscores20):.6f}\")\n",
    "# print(f\"50 Batch Size: Avg = {np.average(Rscores50):.6f}, Med = {np.median(Rscores50):.6f}\")\n",
    "\n",
    "print()\n",
    "print(f\"T1 = {t2-t1}\")\n",
    "print(f\"T2 = {t3-t2}\")\n",
    "print(f\"T3 = {t4-t3}\")\n",
    "print(f\"T4 = {t5-t4}\")\n",
    "\n",
    "results = \"\"\"\n",
    "\n",
    "Accuracies (50 iterations):\n",
    "Default0 Size: Avg = 0.787037, Med = 0.786065\n",
    "10 Batch Size: Avg = 0.780430, Med = 0.776033\n",
    "20 Batch Size: Avg = 0.799839, Med = 0.790577\n",
    "50 Batch Size: Avg = 0.837653, Med = 0.854896\n",
    "\n",
    "Time to Complete (2 iterations)\n",
    "T1 = 5.297518100000161   / 2\n",
    "T2 = 3.714165800000046   / 2\n",
    "T3 = 7.308545600000798   / 2\n",
    "T4 = 18.205850700000155  / 2\n",
    "\n",
    "Results:\n",
    "- The default method (exponential decay from 20 to 10 depth) is about\n",
    "  right in the middle of the 10 and 20 fixed depths (no suprise). It\n",
    "  might actually be a bit better in accuracy and time (do more iterations\n",
    "  for the time case to check) though so definitely will keep as the default.\n",
    "- Might be useful for being able to change the starting value of the depth\n",
    "  if using the exponential decay style.\n",
    "\"\"\""
   ]
  }
 ],
 "metadata": {
  "kernelspec": {
   "display_name": "Python 3",
   "language": "python",
   "name": "python3"
  },
  "language_info": {
   "codemirror_mode": {
    "name": "ipython",
    "version": 3
   },
   "file_extension": ".py",
   "mimetype": "text/x-python",
   "name": "python",
   "nbconvert_exporter": "python",
   "pygments_lexer": "ipython3",
   "version": "3.8.8 (tags/v3.8.8:024d805, Feb 19 2021, 13:18:16) [MSC v.1928 64 bit (AMD64)]"
  },
  "orig_nbformat": 4,
  "vscode": {
   "interpreter": {
    "hash": "0359b4785db930eb8f1ea876bf7ba349bace0e70fea48707a8a08ed9921e0151"
   }
  }
 },
 "nbformat": 4,
 "nbformat_minor": 2
}
