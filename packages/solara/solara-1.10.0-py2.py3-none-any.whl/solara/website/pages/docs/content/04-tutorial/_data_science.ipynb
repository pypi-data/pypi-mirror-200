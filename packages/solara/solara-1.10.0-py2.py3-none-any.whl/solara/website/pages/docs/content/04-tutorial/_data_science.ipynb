{
    "cells": [
        {
            "attachments": {},
            "cell_type": "markdown",
            "id": "8a4ce07d",
            "metadata": {},
            "source": [
                "# Tutorial: Data Science\n",
                "\n",
                "In this tutorial, we will introduce Solara from the perspective of a data scientist or when you are thinking of using Solara for a data science app.\n",
                "It is therefore focussed on data (Pandas), visualizations (plotly) and how to add interactivity.\n",
                "\n",
                "## You should know\n",
                "This tutorial will assume:\n",
                "\n",
                "  * You have succesfully installed Solara\n",
                "  * You know how to display a Solara component in a notebook or script\n",
                "\n",
                "If not, please follow the [Quick start](/docs/quickstart).\n",
                "\n",
                "## Extra packages you need to install\n",
                "\n",
                "For this tutorial, you need plotly and pandas, you can install them using pip:\n",
                "\n",
                "  $ pip install plotly pandas\n",
                "\n",
                "## You will learn\n",
                "\n",
                "In this tutorial, you will learn:\n",
                "\n",
                "   * [To create a scatter plot using plotly.express](#our-first-scatter-plot)\n",
                "   * [Display your plot in a Solara component](#our-first-scatter-plot).\n",
                "   * [Build a UI to configure the X and Y axis](#configure-the-x-axis).\n",
                "   * [Handle a click event and record which point was clicked on](#interactive-plot).\n",
                "   * [Refactor your code to build a reusable Solara component](#make-a-reusable-component).\n",
                "   * [Compose your newly built component into a larger application](#make-a-reusable-component)."
            ]
        },
        {
            "cell_type": "markdown",
            "id": "dfe143dc",
            "metadata": {},
            "source": [
                "## The dataset\n",
                "\n",
                "For this tutorial, we will use the [Iris flow data set](https://en.wikipedia.org/wiki/Iris_flower_data_set) which contains the lengths and widths of the petals and sepals of three species of Iris (setosa, virginica and versicolor).\n",
                "\n",
                "This dataset comes with many packages, but since we are doing to use plotly.express for this tutorial, we will use:\n",
                "\n",
                "```python\n",
                "import plotly.express as px\n",
                "df = px.data.iris()\n",
                "```"
            ]
        },
        {
            "cell_type": "code",
            "execution_count": null,
            "id": "e9e78d49",
            "metadata": {},
            "outputs": [],
            "source": [
                "## solara: skip\n",
                "import plotly.express as px\n",
                "\n",
                "\n",
                "df = px.data.iris()\n",
                "df\n"
            ]
        },
        {
            "cell_type": "markdown",
            "id": "0cccd2f7",
            "metadata": {},
            "source": [
                "## Our first scatter plot\n",
                "\n",
                "We use plotly express to create our scatter plot with just a single line.\n",
                "\n",
                "```python\n",
                "fig = px.scatter(df, \"sepal_length\", \"sepal_width\", color=\"species\")\n",
                "```\n",
                "\n",
                "To display this figure in a Solara component, we should return an element that can render the plotly figure. [FigurePlotly](/api/plotly) will do the job for us.\n",
                "\n",
                "Putting this together"
            ]
        },
        {
            "cell_type": "code",
            "execution_count": null,
            "id": "5d51ea0d",
            "metadata": {},
            "outputs": [],
            "source": [
                "import plotly.express as px\n",
                "import solara\n",
                "\n",
                "df = px.data.iris()\n",
                "\n",
                "\n",
                "@solara.component\n",
                "def Page():\n",
                "    fig = px.scatter(df, \"sepal_length\", \"sepal_width\", color=\"species\")\n",
                "    solara.FigurePlotly(fig)"
            ]
        },
        {
            "cell_type": "code",
            "execution_count": null,
            "id": "b3307cf5",
            "metadata": {},
            "outputs": [],
            "source": [
                "## solara: skip\n",
                "Page()"
            ]
        },
        {
            "cell_type": "markdown",
            "id": "704b6061",
            "metadata": {},
            "source": [
                "## Configure the X-axis.\n",
                "\n",
                "We now add a [`Select`](/api/select) component to list all columns.\n",
                "\n",
                "```python\n",
                "columns = list(df.columns)\n",
                "solara.Select(label=\"X-axis\", values=columns, value=x on_value=set_x)\n",
                "```\n",
                "\n",
                "However, we need to do a few things.\n",
                "\n",
                "   1. Set an initial value (`x`) and pass it to our `Select` component (`value=x`) *and* `px.scatter`.\n",
                "   2. Respond to the change in the the value of our `Select` (`on_value=set_x`)\n",
                "   3. Store the changed value, and re-render our component.\n",
                "\n",
                "If we write the following in our component:\n",
                "   \n",
                "```python\n",
                "x, set_x = solara.use_state(\"sepal_length\")\n",
                "```\n",
                "\n",
                "We tell Solara to create a piece of \"state\", that it initially set to \"sepal_length\". Which will be return as `x` in this case. Solara will also give us a function that we can call to change the state. If we invoke this function (`set_x`), the function body of our component will be executed again. However, instead of returning the initial value, the return value of `use_state` will return the last set value of `set_x`.\n",
                "\n",
                "\n",
                "If we now pass `set_x` to the `on_value` event hander of our `Select` component, we solved item 2 and 3, neat!\n"
            ]
        },
        {
            "cell_type": "code",
            "execution_count": null,
            "id": "860bb9cd",
            "metadata": {},
            "outputs": [],
            "source": [
                "columns = list(df.columns)\n",
                "\n",
                "\n",
                "@solara.component\n",
                "def Page():\n",
                "    # initially, x is set to \"sepal_length\"\n",
                "    x, set_x = solara.use_state(\"sepal_length\")\n",
                "    # calling set_x(\"some_value\"), will re-execute this 'render function'\n",
                "    # and will set \"x\" to \"some_value\"\n",
                "    \n",
                "    # we pass \"x\" to px.scatter\n",
                "    fig = px.scatter(df, x, \"sepal_width\", color=\"species\")\n",
                "    solara.FigurePlotly(fig)\n",
                "    # and we also pass it back to Select again\n",
                "    # on_value triggers when the value changes, because we set it to\n",
                "    # set_x, it changes the state (x), and triggers a rerender\n",
                "    solara.Select(label=\"X-axis\", value=x, values=columns, on_value=set_x)"
            ]
        },
        {
            "cell_type": "code",
            "execution_count": null,
            "id": "0cb44e1d",
            "metadata": {},
            "outputs": [],
            "source": [
                "## solara: skip\n",
                "Page()"
            ]
        },
        {
            "cell_type": "markdown",
            "id": "9c8f3895",
            "metadata": {},
            "source": [
                "### Understanding (optional)\n",
                "\n",
                "#### State\n",
                "\n",
                "Understanding `use_state`, and how to link it to callbacks, and how Solara re-renders component is crucial for understanding building larger applications. If you don't fully graps it now, that is ok. You should first get used to the pattern, and consider reading [Understanding Solara Basics](/docs/understanding/reacton-basics) later on to get a deeper understanding.\n",
                "\n",
                "\n",
                "#### Layout and Context managers\n",
                "\n",
                "We also introduced two new concepts, hierarchical connections (`VBox` can have children), and using components as context managers (`with solara.VBox():`). See [Understanding Containers](/docs/understanding/containers) to understand these topics better."
            ]
        },
        {
            "cell_type": "markdown",
            "id": "fa60244f",
            "metadata": {},
            "source": [
                "## Configure the Y-axis.\n",
                "\n",
                "Now that we can configure the X-axis, we can repeat the same for the Y-axis. Try to do this yourself, without looking at the code, as a good practice."
            ]
        },
        {
            "cell_type": "code",
            "execution_count": null,
            "id": "1157505b",
            "metadata": {},
            "outputs": [],
            "source": [
                "@solara.component\n",
                "def Page():\n",
                "    x, set_x = solara.use_state(\"sepal_length\")\n",
                "    y, set_y = solara.use_state(\"sepal_width\")\n",
                "\n",
                "    fig = px.scatter(df, x, y, color=\"species\")\n",
                "\n",
                "    with solara.VBox() as main:\n",
                "        solara.FigurePlotly(fig)\n",
                "        solara.Select(label=\"X-axis\", value=x, values=columns, on_value=set_x)\n",
                "        solara.Select(label=\"Y-axis\", value=y, values=columns, on_value=set_y)\n",
                "    return main\n",
                "        "
            ]
        },
        {
            "cell_type": "code",
            "execution_count": null,
            "id": "eb348680",
            "metadata": {},
            "outputs": [],
            "source": [
                "## solara: skip\n",
                "Page()"
            ]
        },
        {
            "cell_type": "markdown",
            "id": "13b71701",
            "metadata": {},
            "source": [
                "## Interactive plot\n",
                "\n",
                "We now built a small UI to control a scatter plot. However, often we also want to interact with the data, for instance select a point in our scatter plot.\n",
                "\n",
                "We could look up in the plotly documentation how exactly we can extract the right data, but lets take a different approach. We are simply going to store the data we get from `on_click` into a new state variable (`click_data`) and display the raw data into a Markdown component."
            ]
        },
        {
            "cell_type": "code",
            "execution_count": null,
            "id": "e74ce31e",
            "metadata": {},
            "outputs": [],
            "source": [
                "@solara.component\n",
                "def Page():\n",
                "    x, set_x = solara.use_state(\"sepal_length\")\n",
                "    y, set_y = solara.use_state(\"sepal_width\")\n",
                "    # store the click data in local state\n",
                "    click_data, set_click_data = solara.use_state(None)\n",
                "\n",
                "    fig = px.scatter(df, x, y, color=\"species\")\n",
                "\n",
                "    solara.FigurePlotly(fig, on_click=set_click_data)\n",
                "    solara.Select(label=\"X-axis\", value=x, values=columns, on_value=set_x)\n",
                "    solara.Select(label=\"Y-axis\", value=y, values=columns, on_value=set_y)\n",
                "    # display it pre-formatted using the backticks `` using Markdown\n",
                "    solara.Markdown(f\"`{click_data}`\")\n",
                "        "
            ]
        },
        {
            "cell_type": "code",
            "execution_count": null,
            "id": "84497014",
            "metadata": {},
            "outputs": [],
            "source": [
                "## solara: skip\n",
                "Page()"
            ]
        },
        {
            "cell_type": "markdown",
            "id": "299460db",
            "metadata": {},
            "source": [
                "### Inspecting the on_click data\n",
                "\n",
                "Click a point and you should see the data printed out like:\n",
                "\n",
                "```python\n",
                "{'event_type': 'plotly_click', 'points': {'trace_indexes': [1], 'point_indexes': [34], 'xs': [5.4], 'ys': [3]}, 'device_state': {'alt': False, 'ctrl': False, 'meta': False, 'shift': False, 'button': 0, 'buttons': 1}, 'selector': None}\n",
                "```\n",
                "\n",
                "We can see from the raw data that we can access the trace index we clicked on (we have 3 traces, one for setosa, versicolor and virginica). We can also get access to the point_index (which point in the trace). With these two numbers we can find the row number we clicked\n",
                "\n",
                "### Finding row number (optional)\n",
                "\n",
                "It is slightly annoying that plotly express splits up our dataframe into 3 traces, since now we don't have enough information to find back to row number.\n",
                "\n",
                "There is a trick we can do to get the row index, if we pass `df.index` to the custom data argument, plotly express will also 'distribute' the index along the traces. This information we can use to reconstruct the row index from the trace index and point index.\n",
                "\n",
                "\n",
                "### Displaying the row number\n",
                "\n",
                "Ok, we sorted out how to get the row number, we simply display it to test if our code works."
            ]
        },
        {
            "cell_type": "code",
            "execution_count": null,
            "id": "650752f6",
            "metadata": {},
            "outputs": [],
            "source": [
                "def find_row_index(fig, click_data):\n",
                "    # goes from trace index and point index to row index in a dataframe\n",
                "    # requires passing df.index as to custom_data\n",
                "    trace_index = click_data['points']['trace_indexes'][0]\n",
                "    point_index = click_data['points']['point_indexes'][0]\n",
                "    trace = fig.data[trace_index]\n",
                "    return trace.customdata[point_index][0]\n",
                "    \n",
                "\n",
                "@solara.component\n",
                "def Page():\n",
                "    x, set_x = solara.use_state(\"sepal_length\")\n",
                "    y, set_y = solara.use_state(\"sepal_width\")\n",
                "    clicked_row, set_clicked_row = solara.use_state(None)\n",
                "\n",
                "    fig = px.scatter(df, x, y, color=\"species\", custom_data=[df.index])\n",
                "\n",
                "    # Instead of passing FigurePlotly the set_clicked_row directly\n",
                "    # we need to do some data manipulation first.\n",
                "    # we do this in a local function, so that we can acess the local\n",
                "    # variables we need (set_clicked_row function and fig)\n",
                "    def on_click(click_data):\n",
                "        # sanity checks\n",
                "        assert click_data['event_type'] == \"plotly_click\"        \n",
                "        row_index = find_row_index(fig, click_data)\n",
                "        set_clicked_row(row_index)\n",
                "\n",
                "    solara.FigurePlotly(fig, on_click=on_click)\n",
                "    solara.Select(label=\"X-axis\", value=x, values=columns, on_value=set_x)\n",
                "    solara.Select(label=\"Y-axis\", value=y, values=columns, on_value=set_y)\n",
                "    if clicked_row is not None:\n",
                "        solara.Markdown(f\"Clicked on `index={clicked_row}`\")\n",
                "    else:\n",
                "        solara.Info(\"Click to select a point\")\n",
                "        "
            ]
        },
        {
            "cell_type": "code",
            "execution_count": null,
            "id": "4a1db95d",
            "metadata": {
                "scrolled": false
            },
            "outputs": [],
            "source": [
                "## solara: skip\n",
                "Page()"
            ]
        },
        {
            "cell_type": "markdown",
            "id": "4762caa2",
            "metadata": {},
            "source": [
                "## Displaying the nearest neighbours\n",
                "\n",
                "We now have the row index of the point we clicked on, we will use that to improve our component, we will.\n",
                "\n",
                "   1. Add an indicator in the scatter plot to highlight which point we clicked on.\n",
                "   2. Find the nearest neighbours and display them in a table.\n",
                "  \n",
                "For the first item, we simply use plotly express again, and add the single trace it generated to the existing figure (instead of displaying two separate figures).\n",
                "\n",
                "We add a function to find the `n` nearest neighbours:\n",
                "\n",
                "```python\n",
                "def find_nearest_neighbours(df, xcol, ycol, x, y, n=10):\n",
                "    df = df.copy()\n",
                "    df[\"distance\"] = ((df[xcol] - x)**2 + (df[ycol] - y)**2)**0.5\n",
                "    return df.sort_values('distance')[1:n+1]\n",
                "```\n",
                "\n",
                "We now only find the nearest neighbours if `clicked_row`, and display the dataframe using the [`DataFrame`](/api/dataframe) component.\n"
            ]
        },
        {
            "cell_type": "code",
            "execution_count": null,
            "id": "6bfbb986",
            "metadata": {},
            "outputs": [],
            "source": [
                "def find_nearest_neighbours(df, xcol, ycol, x, y, n=10):\n",
                "    df = df.copy()\n",
                "    df[\"distance\"] = ((df[xcol] - x)**2 + (df[ycol] - y)**2)**0.5\n",
                "    return df.sort_values('distance')[1:n+1]\n",
                "\n",
                "\n",
                "@solara.component\n",
                "def Page():\n",
                "    x, set_x = solara.use_state(\"sepal_length\")\n",
                "    y, set_y = solara.use_state(\"sepal_width\")\n",
                "    clicked_row, set_clicked_row = solara.use_state(None)\n",
                "\n",
                "    fig = px.scatter(df, x, y, color=\"species\", custom_data=[df.index])\n",
                "\n",
                "    if clicked_row is not None:\n",
                "        # add an indicator \n",
                "        click_x = df[x].values[clicked_row]\n",
                "        click_y = df[y].values[clicked_row]\n",
                "        fig.add_trace(px.scatter(x=[click_x], y=[click_y], text=[\"⭐️\"]).data[0])\n",
                "        df_nearest = find_nearest_neighbours(df, x, y, click_x, click_y, n=3)\n",
                "\n",
                "    def on_click(click_data):\n",
                "        # sanity checks\n",
                "        assert click_data['event_type'] == \"plotly_click\"\n",
                "        row_index = find_row_index(fig, click_data)\n",
                "        set_clicked_row(row_index)\n",
                "\n",
                "    solara.FigurePlotly(fig, on_click=on_click)\n",
                "    solara.Select(label=\"X-axis\", value=x, values=columns, on_value=set_x)\n",
                "    solara.Select(label=\"Y-axis\", value=y, values=columns, on_value=set_y)\n",
                "    if clicked_row is not None:\n",
                "        solara.Markdown(\"## Nearest 3 neighbours\")\n",
                "        solara.DataFrame(df_nearest)\n",
                "    else:\n",
                "        solara.Info(\"Click to select a point\")"
            ]
        },
        {
            "cell_type": "code",
            "execution_count": null,
            "id": "334d22b1",
            "metadata": {
                "scrolled": false
            },
            "outputs": [],
            "source": [
                "## solara: skip\n",
                "Page()"
            ]
        },
        {
            "cell_type": "markdown",
            "id": "c3679e2b",
            "metadata": {},
            "source": [
                "## Make a reusable component\n",
                "\n",
                "Our main `Page` component is now getting complex, and is not reusable. We will now create a new `FindNearestNeighbours` component that takes over the work of finding the nearest neighbours and displaying them.\n",
                "\n",
                "Our `FindNearestNeighbours` should take as arguments:\n",
                "\n",
                "  * `df` - A dataframe.\n",
                "  * `x` - The initial column name for the x axis.\n",
                "  * `y` - The initial column name for the y axis.\n",
                "  * `color` - The column name for the color.\n",
                "  * `on_clicked_row` - A callback for when we click on a row.\n",
                "\n",
                "This way our top level `Page` component can create two `FindNearestNeighbours` elements, each working on different data. Using the `on_clicked_row` callback, we can get data from out child component into our parent component.\n"
            ]
        },
        {
            "cell_type": "code",
            "execution_count": null,
            "id": "e0990394",
            "metadata": {},
            "outputs": [],
            "source": [
                "from typing import Callable\n",
                "\n",
                "\n",
                "@solara.component\n",
                "def FindNearestNeighbours(df, x, y, color=None, n=3, on_clicked_row: Callable[[int], None] = None):\n",
                "    x, set_x = solara.use_state(x)\n",
                "    y, set_y = solara.use_state(y)\n",
                "    clicked_row, set_clicked_row = solara.use_state(None)\n",
                "\n",
                "    # instead of doing this globally, we do it in the component\n",
                "    # since the dataframe is now passed in as an argument\n",
                "    columns = list(df.columns)\n",
                "\n",
                "    fig = px.scatter(df, x, y, color=color, custom_data=[df.index])\n",
                "\n",
                "    if clicked_row is not None:\n",
                "        # add an indicator \n",
                "        click_x = df[x].values[clicked_row]\n",
                "        click_y = df[y].values[clicked_row]\n",
                "        fig.add_trace(px.scatter(x=[click_x], y=[click_y], text=[\"⭐️\"]).data[0])\n",
                "        df_nearest = find_nearest_neighbours(df, x, y, click_x, click_y, n=3)\n",
                "\n",
                "    def on_click(click_data):\n",
                "        # sanity checks\n",
                "        assert click_data['event_type'] == \"plotly_click\"\n",
                "        row_index = find_row_index(fig, click_data)\n",
                "        set_clicked_row(row_index)\n",
                "        # bubble up the row index using an event\n",
                "        if on_clicked_row is not None:\n",
                "            on_clicked_row(row_index)\n",
                "\n",
                "    solara.FigurePlotly(fig, on_click=on_click)\n",
                "    solara.Select(label=\"X-axis\", value=x, values=columns, on_value=set_x)\n",
                "    solara.Select(label=\"Y-axis\", value=y, values=columns, on_value=set_y)\n",
                "    if clicked_row is not None:\n",
                "        solara.Markdown(\"## Nearest 3 neighbours\")\n",
                "        solara.DataFrame(df_nearest)\n",
                "    else:\n",
                "        solara.Info(\"Click to select a point\")"
            ]
        },
        {
            "cell_type": "markdown",
            "id": "ba847ee5",
            "metadata": {},
            "source": [
                "Putting it all together, we now create an application with two `FindNearestNeighbours` components, each working on a different dataset\n",
                "."
            ]
        },
        {
            "cell_type": "code",
            "execution_count": null,
            "id": "086c4654",
            "metadata": {},
            "outputs": [],
            "source": [
                "\n",
                "\n",
                "df_iris = px.data.iris()\n",
                "df_gapminder = px.data.gapminder()\n",
                "\n",
                "\n",
                "@solara.component\n",
                "def Page():\n",
                "    clicked_row_gapminder, set_clicked_row_gapminder = solara.use_state(None)\n",
                "\n",
                "    with solara.ColumnsResponsive():\n",
                "        with solara.Card(\"Iris\"):\n",
                "            FindNearestNeighbours(df_iris, \"sepal_length\", \"sepal_width\", color=\"species\")\n",
                "\n",
                "        title = \"Gapminder\"\n",
                "        if clicked_row_gapminder is not None:\n",
                "            title += f\" (clicked on {clicked_row_gapminder})\"\n",
                "        with solara.Card(title):\n",
                "            FindNearestNeighbours(df_gapminder, \"gdpPercap\", \"lifeExp\", color=\"continent\", on_clicked_row=set_clicked_row_gapminder)"
            ]
        },
        {
            "cell_type": "code",
            "execution_count": null,
            "id": "bb01aa30",
            "metadata": {
                "scrolled": false
            },
            "outputs": [],
            "source": [
                "## solara: skip\n",
                "Page()"
            ]
        },
        {
            "cell_type": "markdown",
            "id": "169ae01d",
            "metadata": {},
            "source": [
                "We only respond to the `on_clicked_row` for the second component, showing that this argument is optional. \n",
                "\n"
            ]
        },
        {
            "cell_type": "markdown",
            "id": "1b6e8ae9",
            "metadata": {},
            "source": []
        }
    ],
    "metadata": {
        "kernelspec": {
            "display_name": "Python 3 (ipykernel)",
            "language": "python",
            "name": "python3"
        },
        "language_info": {
            "codemirror_mode": {
                "name": "ipython",
                "version": 3
            },
            "file_extension": ".py",
            "mimetype": "text/x-python",
            "name": "python",
            "nbconvert_exporter": "python",
            "pygments_lexer": "ipython3",
            "version": "3.9.10"
        },
        "vscode": {
            "interpreter": {
                "hash": "3f54047370d637df4a365f9bae65e296d7b1c0737aca7baed81d825616d991e7"
            }
        }
    },
    "nbformat": 4,
    "nbformat_minor": 5
}
