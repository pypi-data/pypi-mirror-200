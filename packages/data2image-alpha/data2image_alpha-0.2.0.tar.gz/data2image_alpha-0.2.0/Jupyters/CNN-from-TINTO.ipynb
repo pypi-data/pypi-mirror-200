{
 "cells": [
  {
   "cell_type": "code",
   "execution_count": 10,
   "metadata": {},
   "outputs": [
    {
     "name": "stdout",
     "output_type": "stream",
     "text": [
      "\u001b[31mERROR: Could not find a version that satisfies the requirement imblearn.over_sampling (from versions: none)\u001b[0m\u001b[31m\r\n",
      "\u001b[0m\u001b[31mERROR: No matching distribution found for imblearn.over_sampling\u001b[0m\u001b[31m\r\n",
      "\u001b[0m"
     ]
    }
   ],
   "source": [
    "!pip install sklearn"
   ]
  },
  {
   "cell_type": "code",
   "execution_count": 52,
   "metadata": {
    "execution": {
     "iopub.execute_input": "2022-11-14T18:51:11.074650Z",
     "iopub.status.busy": "2022-11-14T18:51:11.074216Z",
     "iopub.status.idle": "2022-11-14T18:51:11.085383Z",
     "shell.execute_reply": "2022-11-14T18:51:11.084200Z",
     "shell.execute_reply.started": "2022-11-14T18:51:11.074594Z"
    }
   },
   "outputs": [],
   "source": [
    "import os\n",
    "import pandas as pd\n",
    "import numpy as np\n",
    "from tqdm import tqdm\n",
    "#import cv2\n",
    "import gc\n",
    "import matplotlib.pyplot as plt\n",
    "#import openslide\n",
    "#from openslide.deepzoom import DeepZoomGenerator\n",
    "import tifffile as tifi\n",
    "import sklearn\n",
    "\n",
    "from keras_preprocessing.image import ImageDataGenerator\n",
    "from tensorflow.keras.models import load_model\n",
    "\n",
    "from sklearn.model_selection import train_test_split\n",
    "from tensorflow.keras.applications import vgg16, vgg19, resnet50, mobilenet, inception_resnet_v2, densenet, inception_v3, xception, nasnet, ResNet152V2\n",
    "from tensorflow.keras.models import Sequential, Model, load_model\n",
    "from tensorflow.keras.layers import Dense, Conv2D, MaxPool2D, Flatten, Dropout, BatchNormalization, InputLayer, LayerNormalization\n",
    "from tensorflow.keras.callbacks import ModelCheckpoint, ReduceLROnPlateau, EarlyStopping\n",
    "from tensorflow.keras.optimizers import SGD, Adam, Adadelta, Adamax\n",
    "\n",
    "from imblearn.over_sampling import RandomOverSampler"
   ]
  },
  {
   "cell_type": "code",
   "execution_count": 53,
   "metadata": {
    "execution": {
     "iopub.execute_input": "2022-11-14T18:51:11.088910Z",
     "iopub.status.busy": "2022-11-14T18:51:11.088010Z",
     "iopub.status.idle": "2022-11-14T18:51:11.095858Z",
     "shell.execute_reply": "2022-11-14T18:51:11.094857Z",
     "shell.execute_reply.started": "2022-11-14T18:51:11.088874Z"
    }
   },
   "outputs": [
    {
     "name": "stdout",
     "output_type": "stream",
     "text": [
      ": /physical_device:CPU:0\n",
      ": /physical_device:GPU:0\n"
     ]
    }
   ],
   "source": [
    "import tensorflow as tf\n",
    "for device in tf.config.list_physical_devices():\n",
    "    print(\": {}\".format(device.name))"
   ]
  },
  {
   "cell_type": "code",
   "execution_count": 150,
   "metadata": {
    "execution": {
     "iopub.execute_input": "2022-11-14T18:51:11.098282Z",
     "iopub.status.busy": "2022-11-14T18:51:11.097240Z",
     "iopub.status.idle": "2022-11-14T18:51:11.109986Z",
     "shell.execute_reply": "2022-11-14T18:51:11.109092Z",
     "shell.execute_reply.started": "2022-11-14T18:51:11.098245Z"
    }
   },
   "outputs": [],
   "source": [
    "import random\n",
    "import torch\n",
    "seed = 123\n",
    "def seed_everything(seed):\n",
    "    random.seed(seed)\n",
    "    os.environ['PYTHONHASHSEED'] = str(seed)\n",
    "    np.random.seed(seed)\n",
    "    torch.manual_seed(seed)\n",
    "    torch.cuda.manual_seed(seed)\n",
    "    torch.backends.cudnn.deterministic = True\n",
    "    torch.backends.cudnn.benchmark = True\n",
    "\n",
    "seed_everything(seed)"
   ]
  },
  {
   "cell_type": "code",
   "execution_count": 180,
   "metadata": {
    "execution": {
     "iopub.execute_input": "2022-11-14T18:51:11.112364Z",
     "iopub.status.busy": "2022-11-14T18:51:11.111618Z",
     "iopub.status.idle": "2022-11-14T18:51:11.211788Z",
     "shell.execute_reply": "2022-11-14T18:51:11.210726Z",
     "shell.execute_reply.started": "2022-11-14T18:51:11.112325Z"
    }
   },
   "outputs": [
    {
     "name": "stdout",
     "output_type": "stream",
     "text": [
      "(118621, 2)\n"
     ]
    },
    {
     "data": {
      "text/html": [
       "<div>\n",
       "<style scoped>\n",
       "    .dataframe tbody tr th:only-of-type {\n",
       "        vertical-align: middle;\n",
       "    }\n",
       "\n",
       "    .dataframe tbody tr th {\n",
       "        vertical-align: top;\n",
       "    }\n",
       "\n",
       "    .dataframe thead th {\n",
       "        text-align: right;\n",
       "    }\n",
       "</style>\n",
       "<table border=\"1\" class=\"dataframe\">\n",
       "  <thead>\n",
       "    <tr style=\"text-align: right;\">\n",
       "      <th></th>\n",
       "      <th>file_name</th>\n",
       "      <th>label</th>\n",
       "    </tr>\n",
       "  </thead>\n",
       "  <tbody>\n",
       "    <tr>\n",
       "      <th>0</th>\n",
       "      <td>Scaled/NoBlurr/NoBlurr-PCA-20-Stand/00/018833.png</td>\n",
       "      <td>No_DB</td>\n",
       "    </tr>\n",
       "    <tr>\n",
       "      <th>1</th>\n",
       "      <td>Scaled/NoBlurr/NoBlurr-PCA-20-Stand/00/132782.png</td>\n",
       "      <td>No_DB</td>\n",
       "    </tr>\n",
       "  </tbody>\n",
       "</table>\n",
       "</div>"
      ],
      "text/plain": [
       "                                           file_name  label\n",
       "0  Scaled/NoBlurr/NoBlurr-PCA-20-Stand/00/018833.png  No_DB\n",
       "1  Scaled/NoBlurr/NoBlurr-PCA-20-Stand/00/132782.png  No_DB"
      ]
     },
     "execution_count": 180,
     "metadata": {},
     "output_type": "execute_result"
    }
   ],
   "source": [
    "#df_0 = os.path.join('../input/blurrpca20mean-00/00')\n",
    "df_0 = os.path.join('Scaled/NoBlurr/NoBlurr-PCA-20-Stand/00/')\n",
    "x0 = [i for i in os.listdir(df_0) if not i.startswith(\".\")]\n",
    "x0 = pd.DataFrame(x0, columns = ['file_name'])\n",
    "x0['file_name'] = 'Scaled/NoBlurr/NoBlurr-PCA-20-Stand/00/' + x0['file_name']\n",
    "x0['label'] = 'No_DB'\n",
    "print(x0.shape)\n",
    "x0.head(2)"
   ]
  },
  {
   "cell_type": "code",
   "execution_count": 181,
   "metadata": {
    "execution": {
     "iopub.execute_input": "2022-11-14T18:51:11.215680Z",
     "iopub.status.busy": "2022-11-14T18:51:11.215385Z",
     "iopub.status.idle": "2022-11-14T18:51:11.237738Z",
     "shell.execute_reply": "2022-11-14T18:51:11.236784Z",
     "shell.execute_reply.started": "2022-11-14T18:51:11.215654Z"
    }
   },
   "outputs": [
    {
     "name": "stdout",
     "output_type": "stream",
     "text": [
      "(14787, 2)\n"
     ]
    },
    {
     "data": {
      "text/html": [
       "<div>\n",
       "<style scoped>\n",
       "    .dataframe tbody tr th:only-of-type {\n",
       "        vertical-align: middle;\n",
       "    }\n",
       "\n",
       "    .dataframe tbody tr th {\n",
       "        vertical-align: top;\n",
       "    }\n",
       "\n",
       "    .dataframe thead th {\n",
       "        text-align: right;\n",
       "    }\n",
       "</style>\n",
       "<table border=\"1\" class=\"dataframe\">\n",
       "  <thead>\n",
       "    <tr style=\"text-align: right;\">\n",
       "      <th></th>\n",
       "      <th>file_name</th>\n",
       "      <th>label</th>\n",
       "    </tr>\n",
       "  </thead>\n",
       "  <tbody>\n",
       "    <tr>\n",
       "      <th>0</th>\n",
       "      <td>Scaled/Mean/NoBlurr/NoBlurr-PCA-20-Stand/01/09...</td>\n",
       "      <td>Yes_DB</td>\n",
       "    </tr>\n",
       "    <tr>\n",
       "      <th>1</th>\n",
       "      <td>Scaled/Mean/NoBlurr/NoBlurr-PCA-20-Stand/01/03...</td>\n",
       "      <td>Yes_DB</td>\n",
       "    </tr>\n",
       "  </tbody>\n",
       "</table>\n",
       "</div>"
      ],
      "text/plain": [
       "                                           file_name   label\n",
       "0  Scaled/Mean/NoBlurr/NoBlurr-PCA-20-Stand/01/09...  Yes_DB\n",
       "1  Scaled/Mean/NoBlurr/NoBlurr-PCA-20-Stand/01/03...  Yes_DB"
      ]
     },
     "execution_count": 181,
     "metadata": {},
     "output_type": "execute_result"
    }
   ],
   "source": [
    "#df_1 = os.path.join('../input/blurrpca20mean-01/01')\n",
    "df_1 = os.path.join('Scaled/NoBlurr/NoBlurr-PCA-20-Stand/01/')\n",
    "x1= [i for i in os.listdir(df_1) if not i.startswith(\".\")]\n",
    "x1 = pd.DataFrame(x1, columns = ['file_name'])\n",
    "x1['file_name'] = 'Scaled/Mean/NoBlurr/NoBlurr-PCA-20-Stand/01/' + x1['file_name']\n",
    "x1['label'] = 'Yes_DB'\n",
    "print(x1.shape)\n",
    "x1.head(2)"
   ]
  },
  {
   "cell_type": "code",
   "execution_count": 182,
   "metadata": {
    "execution": {
     "iopub.execute_input": "2022-11-14T18:51:11.239746Z",
     "iopub.status.busy": "2022-11-14T18:51:11.239161Z",
     "iopub.status.idle": "2022-11-14T18:51:11.260973Z",
     "shell.execute_reply": "2022-11-14T18:51:11.259949Z",
     "shell.execute_reply.started": "2022-11-14T18:51:11.239711Z"
    }
   },
   "outputs": [
    {
     "name": "stdout",
     "output_type": "stream",
     "text": [
      "No_DB     118621\n",
      "Yes_DB     14787\n",
      "Name: label, dtype: int64\n",
      "Scaled/NoBlurr/NoBlurr-PCA-20-Stand/00/018833.png\n"
     ]
    },
    {
     "data": {
      "text/html": [
       "<div>\n",
       "<style scoped>\n",
       "    .dataframe tbody tr th:only-of-type {\n",
       "        vertical-align: middle;\n",
       "    }\n",
       "\n",
       "    .dataframe tbody tr th {\n",
       "        vertical-align: top;\n",
       "    }\n",
       "\n",
       "    .dataframe thead th {\n",
       "        text-align: right;\n",
       "    }\n",
       "</style>\n",
       "<table border=\"1\" class=\"dataframe\">\n",
       "  <thead>\n",
       "    <tr style=\"text-align: right;\">\n",
       "      <th></th>\n",
       "      <th>file_name</th>\n",
       "      <th>label</th>\n",
       "    </tr>\n",
       "  </thead>\n",
       "  <tbody>\n",
       "    <tr>\n",
       "      <th>0</th>\n",
       "      <td>Scaled/NoBlurr/NoBlurr-PCA-20-Stand/00/018833.png</td>\n",
       "      <td>No_DB</td>\n",
       "    </tr>\n",
       "    <tr>\n",
       "      <th>1</th>\n",
       "      <td>Scaled/NoBlurr/NoBlurr-PCA-20-Stand/00/132782.png</td>\n",
       "      <td>No_DB</td>\n",
       "    </tr>\n",
       "    <tr>\n",
       "      <th>2</th>\n",
       "      <td>Scaled/NoBlurr/NoBlurr-PCA-20-Stand/00/050115.png</td>\n",
       "      <td>No_DB</td>\n",
       "    </tr>\n",
       "    <tr>\n",
       "      <th>3</th>\n",
       "      <td>Scaled/NoBlurr/NoBlurr-PCA-20-Stand/00/122370.png</td>\n",
       "      <td>No_DB</td>\n",
       "    </tr>\n",
       "    <tr>\n",
       "      <th>4</th>\n",
       "      <td>Scaled/NoBlurr/NoBlurr-PCA-20-Stand/00/047634.png</td>\n",
       "      <td>No_DB</td>\n",
       "    </tr>\n",
       "  </tbody>\n",
       "</table>\n",
       "</div>"
      ],
      "text/plain": [
       "                                           file_name  label\n",
       "0  Scaled/NoBlurr/NoBlurr-PCA-20-Stand/00/018833.png  No_DB\n",
       "1  Scaled/NoBlurr/NoBlurr-PCA-20-Stand/00/132782.png  No_DB\n",
       "2  Scaled/NoBlurr/NoBlurr-PCA-20-Stand/00/050115.png  No_DB\n",
       "3  Scaled/NoBlurr/NoBlurr-PCA-20-Stand/00/122370.png  No_DB\n",
       "4  Scaled/NoBlurr/NoBlurr-PCA-20-Stand/00/047634.png  No_DB"
      ]
     },
     "execution_count": 182,
     "metadata": {},
     "output_type": "execute_result"
    }
   ],
   "source": [
    "df = pd.concat([x0, x1])\n",
    "print(df['label'].value_counts())\n",
    "print(df['file_name'].iloc[0])\n",
    "df.head(5)"
   ]
  },
  {
   "cell_type": "code",
   "execution_count": 183,
   "metadata": {
    "execution": {
     "iopub.execute_input": "2022-11-14T18:51:11.263124Z",
     "iopub.status.busy": "2022-11-14T18:51:11.262723Z",
     "iopub.status.idle": "2022-11-14T18:51:11.298232Z",
     "shell.execute_reply": "2022-11-14T18:51:11.297337Z",
     "shell.execute_reply.started": "2022-11-14T18:51:11.263086Z"
    }
   },
   "outputs": [],
   "source": [
    "df_x = df.drop('label', axis = 1)\n",
    "df_y = df['label']\n",
    "\n",
    "\n",
    "X_train, X_val, y_train, y_val = train_test_split(df_x, df_y, test_size = 0.40, random_state = 123)\n",
    "X_val, X_test, y_val, y_test = train_test_split(X_val, y_val, test_size = 0.50, random_state = 123)"
   ]
  },
  {
   "cell_type": "code",
   "execution_count": 184,
   "metadata": {
    "execution": {
     "iopub.execute_input": "2022-11-14T18:51:11.300057Z",
     "iopub.status.busy": "2022-11-14T18:51:11.299680Z",
     "iopub.status.idle": "2022-11-14T18:51:11.451772Z",
     "shell.execute_reply": "2022-11-14T18:51:11.450852Z",
     "shell.execute_reply.started": "2022-11-14T18:51:11.300022Z"
    }
   },
   "outputs": [],
   "source": [
    "ros = RandomOverSampler(sampling_strategy = 'auto', random_state = 123)\n",
    "X_train, y_train = ros.fit_resample(X_train, y_train)"
   ]
  },
  {
   "cell_type": "code",
   "execution_count": 185,
   "metadata": {
    "execution": {
     "iopub.execute_input": "2022-11-14T18:51:11.453558Z",
     "iopub.status.busy": "2022-11-14T18:51:11.453190Z",
     "iopub.status.idle": "2022-11-14T18:51:11.468153Z",
     "shell.execute_reply": "2022-11-14T18:51:11.467294Z",
     "shell.execute_reply.started": "2022-11-14T18:51:11.453522Z"
    }
   },
   "outputs": [],
   "source": [
    "df_train = pd.concat([X_train, y_train], axis = 1)\n",
    "df_test = pd.concat([X_test, y_test], axis = 1)\n",
    "df_val = pd.concat([X_val, y_val], axis = 1)"
   ]
  },
  {
   "cell_type": "code",
   "execution_count": 186,
   "metadata": {
    "execution": {
     "iopub.execute_input": "2022-11-14T18:51:11.470142Z",
     "iopub.status.busy": "2022-11-14T18:51:11.469744Z",
     "iopub.status.idle": "2022-11-14T18:51:11.486984Z",
     "shell.execute_reply": "2022-11-14T18:51:11.485650Z",
     "shell.execute_reply.started": "2022-11-14T18:51:11.470106Z"
    }
   },
   "outputs": [
    {
     "name": "stdout",
     "output_type": "stream",
     "text": [
      "No_DB     71222\n",
      "Yes_DB    71222\n",
      "Name: label, dtype: int64\n",
      " \n",
      " \n",
      "No_DB     23723\n",
      "Yes_DB     2959\n",
      "Name: label, dtype: int64\n",
      " \n",
      " \n",
      "No_DB     23676\n",
      "Yes_DB     3006\n",
      "Name: label, dtype: int64\n"
     ]
    }
   ],
   "source": [
    "print(df_train['label'].value_counts())\n",
    "print(' ')\n",
    "print(' ')\n",
    "print(df_test['label'].value_counts())\n",
    "print(' ')\n",
    "print(' ')\n",
    "print(df_val['label'].value_counts())"
   ]
  },
  {
   "cell_type": "code",
   "execution_count": 187,
   "metadata": {
    "execution": {
     "iopub.execute_input": "2022-11-14T18:51:11.488790Z",
     "iopub.status.busy": "2022-11-14T18:51:11.488363Z",
     "iopub.status.idle": "2022-11-14T18:51:11.497347Z",
     "shell.execute_reply": "2022-11-14T18:51:11.496471Z",
     "shell.execute_reply.started": "2022-11-14T18:51:11.488755Z"
    }
   },
   "outputs": [],
   "source": [
    "train_datagen = ImageDataGenerator(rescale = 1./255)\n",
    "valid_datagen = ImageDataGenerator(rescale = 1./255)\n",
    "teste_datagen = ImageDataGenerator(rescale = 1./255)"
   ]
  },
  {
   "cell_type": "code",
   "execution_count": 188,
   "metadata": {
    "execution": {
     "iopub.execute_input": "2022-11-14T18:51:11.499140Z",
     "iopub.status.busy": "2022-11-14T18:51:11.498731Z",
     "iopub.status.idle": "2022-11-14T18:51:11.513997Z",
     "shell.execute_reply": "2022-11-14T18:51:11.513012Z",
     "shell.execute_reply.started": "2022-11-14T18:51:11.499098Z"
    }
   },
   "outputs": [
    {
     "data": {
      "text/html": [
       "<div>\n",
       "<style scoped>\n",
       "    .dataframe tbody tr th:only-of-type {\n",
       "        vertical-align: middle;\n",
       "    }\n",
       "\n",
       "    .dataframe tbody tr th {\n",
       "        vertical-align: top;\n",
       "    }\n",
       "\n",
       "    .dataframe thead th {\n",
       "        text-align: right;\n",
       "    }\n",
       "</style>\n",
       "<table border=\"1\" class=\"dataframe\">\n",
       "  <thead>\n",
       "    <tr style=\"text-align: right;\">\n",
       "      <th></th>\n",
       "      <th>file_name</th>\n",
       "      <th>label</th>\n",
       "    </tr>\n",
       "  </thead>\n",
       "  <tbody>\n",
       "    <tr>\n",
       "      <th>0</th>\n",
       "      <td>Scaled/NoBlurr/NoBlurr-PCA-20-Stand/00/077343.png</td>\n",
       "      <td>No_DB</td>\n",
       "    </tr>\n",
       "    <tr>\n",
       "      <th>1</th>\n",
       "      <td>Scaled/NoBlurr/NoBlurr-PCA-20-Stand/00/067604.png</td>\n",
       "      <td>No_DB</td>\n",
       "    </tr>\n",
       "    <tr>\n",
       "      <th>2</th>\n",
       "      <td>Scaled/NoBlurr/NoBlurr-PCA-20-Stand/00/049177.png</td>\n",
       "      <td>No_DB</td>\n",
       "    </tr>\n",
       "    <tr>\n",
       "      <th>3</th>\n",
       "      <td>Scaled/NoBlurr/NoBlurr-PCA-20-Stand/00/057109.png</td>\n",
       "      <td>No_DB</td>\n",
       "    </tr>\n",
       "    <tr>\n",
       "      <th>4</th>\n",
       "      <td>Scaled/Mean/NoBlurr/NoBlurr-PCA-20-Stand/01/06...</td>\n",
       "      <td>Yes_DB</td>\n",
       "    </tr>\n",
       "  </tbody>\n",
       "</table>\n",
       "</div>"
      ],
      "text/plain": [
       "                                           file_name   label\n",
       "0  Scaled/NoBlurr/NoBlurr-PCA-20-Stand/00/077343.png   No_DB\n",
       "1  Scaled/NoBlurr/NoBlurr-PCA-20-Stand/00/067604.png   No_DB\n",
       "2  Scaled/NoBlurr/NoBlurr-PCA-20-Stand/00/049177.png   No_DB\n",
       "3  Scaled/NoBlurr/NoBlurr-PCA-20-Stand/00/057109.png   No_DB\n",
       "4  Scaled/Mean/NoBlurr/NoBlurr-PCA-20-Stand/01/06...  Yes_DB"
      ]
     },
     "execution_count": 188,
     "metadata": {},
     "output_type": "execute_result"
    }
   ],
   "source": [
    "df_train.head(5)"
   ]
  },
  {
   "cell_type": "code",
   "execution_count": 189,
   "metadata": {
    "execution": {
     "iopub.execute_input": "2022-11-14T18:51:11.515847Z",
     "iopub.status.busy": "2022-11-14T18:51:11.515484Z",
     "iopub.status.idle": "2022-11-14T18:51:11.524172Z",
     "shell.execute_reply": "2022-11-14T18:51:11.523030Z",
     "shell.execute_reply.started": "2022-11-14T18:51:11.515813Z"
    }
   },
   "outputs": [
    {
     "name": "stdout",
     "output_type": "stream",
     "text": [
      "(142444, 2)\n",
      "(26682, 2)\n",
      "(26682, 2)\n"
     ]
    }
   ],
   "source": [
    "print(df_train.shape)\n",
    "print(df_val.shape)\n",
    "print(df_test.shape)"
   ]
  },
  {
   "cell_type": "code",
   "execution_count": 190,
   "metadata": {
    "execution": {
     "iopub.execute_input": "2022-11-14T18:51:11.530788Z",
     "iopub.status.busy": "2022-11-14T18:51:11.530498Z",
     "iopub.status.idle": "2022-11-14T18:51:11.537851Z",
     "shell.execute_reply": "2022-11-14T18:51:11.536782Z",
     "shell.execute_reply.started": "2022-11-14T18:51:11.530750Z"
    }
   },
   "outputs": [],
   "source": [
    "image_length = 32\n",
    "image_height = 32"
   ]
  },
  {
   "cell_type": "code",
   "execution_count": 191,
   "metadata": {
    "execution": {
     "iopub.execute_input": "2022-11-14T18:51:11.540331Z",
     "iopub.status.busy": "2022-11-14T18:51:11.539685Z",
     "iopub.status.idle": "2022-11-14T18:55:54.805836Z",
     "shell.execute_reply": "2022-11-14T18:55:54.804918Z",
     "shell.execute_reply.started": "2022-11-14T18:51:11.540298Z"
    }
   },
   "outputs": [
    {
     "name": "stderr",
     "output_type": "stream",
     "text": [
      "/home/manwest/Documentos/Jupyter/jupyterEnv/lib/python3.8/site-packages/keras_preprocessing/image/dataframe_iterator.py:279: UserWarning: Found 71222 invalid image filename(s) in x_col=\"file_name\". These filename(s) will be ignored.\n",
      "  warnings.warn(\n"
     ]
    },
    {
     "name": "stdout",
     "output_type": "stream",
     "text": [
      "Found 71222 validated image filenames belonging to 1 classes.\n"
     ]
    }
   ],
   "source": [
    "train_iter = train_datagen.flow_from_dataframe(\n",
    "    df_train, \n",
    "    target_size = (image_length, image_height),\n",
    "    x_col = 'file_name',\n",
    "    y_col = 'label',\n",
    "    class_mode = 'categorical',\n",
    "    batch_size = 32,\n",
    "    shuffle = True\n",
    ")"
   ]
  },
  {
   "cell_type": "code",
   "execution_count": 192,
   "metadata": {
    "execution": {
     "iopub.execute_input": "2022-11-14T18:55:54.808244Z",
     "iopub.status.busy": "2022-11-14T18:55:54.807360Z",
     "iopub.status.idle": "2022-11-14T18:57:27.508035Z",
     "shell.execute_reply": "2022-11-14T18:57:27.506206Z",
     "shell.execute_reply.started": "2022-11-14T18:55:54.808205Z"
    }
   },
   "outputs": [
    {
     "name": "stdout",
     "output_type": "stream",
     "text": [
      "Found 23676 validated image filenames belonging to 1 classes.\n"
     ]
    },
    {
     "name": "stderr",
     "output_type": "stream",
     "text": [
      "/home/manwest/Documentos/Jupyter/jupyterEnv/lib/python3.8/site-packages/keras_preprocessing/image/dataframe_iterator.py:279: UserWarning: Found 3006 invalid image filename(s) in x_col=\"file_name\". These filename(s) will be ignored.\n",
      "  warnings.warn(\n"
     ]
    }
   ],
   "source": [
    "valid_iter = train_datagen.flow_from_dataframe(\n",
    "    df_val, \n",
    "    target_size = (image_length, image_height),\n",
    "    x_col = 'file_name',\n",
    "    y_col = 'label',\n",
    "    class_mode = 'categorical',\n",
    "    batch_size = 32\n",
    ")"
   ]
  },
  {
   "cell_type": "code",
   "execution_count": 193,
   "metadata": {
    "execution": {
     "iopub.execute_input": "2022-11-14T18:57:27.509993Z",
     "iopub.status.busy": "2022-11-14T18:57:27.509603Z",
     "iopub.status.idle": "2022-11-14T18:59:01.062071Z",
     "shell.execute_reply": "2022-11-14T18:59:01.061064Z",
     "shell.execute_reply.started": "2022-11-14T18:57:27.509955Z"
    }
   },
   "outputs": [
    {
     "name": "stderr",
     "output_type": "stream",
     "text": [
      "/home/manwest/Documentos/Jupyter/jupyterEnv/lib/python3.8/site-packages/keras_preprocessing/image/dataframe_iterator.py:279: UserWarning: Found 2959 invalid image filename(s) in x_col=\"file_name\". These filename(s) will be ignored.\n",
      "  warnings.warn(\n"
     ]
    },
    {
     "name": "stdout",
     "output_type": "stream",
     "text": [
      "Found 23723 validated image filenames belonging to 1 classes.\n"
     ]
    }
   ],
   "source": [
    "test_iter = train_datagen.flow_from_dataframe(\n",
    "    df_test, \n",
    "    target_size = (image_length, image_height),\n",
    "    x_col = 'file_name',\n",
    "    y_col = 'label',\n",
    "    class_mode = 'categorical',\n",
    "    batch_size = 32,\n",
    "    shuffle = True\n",
    ")"
   ]
  },
  {
   "cell_type": "code",
   "execution_count": 194,
   "metadata": {
    "execution": {
     "iopub.execute_input": "2022-11-14T18:59:01.064789Z",
     "iopub.status.busy": "2022-11-14T18:59:01.063768Z",
     "iopub.status.idle": "2022-11-14T18:59:01.070746Z",
     "shell.execute_reply": "2022-11-14T18:59:01.069747Z",
     "shell.execute_reply.started": "2022-11-14T18:59:01.064752Z"
    }
   },
   "outputs": [
    {
     "name": "stdout",
     "output_type": "stream",
     "text": [
      "(32, 32, 3)\n",
      "(32, 32, 3)\n",
      "(32, 32, 3)\n"
     ]
    }
   ],
   "source": [
    "print(train_iter.image_shape)\n",
    "print(valid_iter.image_shape)\n",
    "print(test_iter.image_shape)"
   ]
  },
  {
   "cell_type": "code",
   "execution_count": 195,
   "metadata": {
    "execution": {
     "iopub.execute_input": "2022-11-14T18:59:01.072863Z",
     "iopub.status.busy": "2022-11-14T18:59:01.072155Z",
     "iopub.status.idle": "2022-11-14T18:59:01.082231Z",
     "shell.execute_reply": "2022-11-14T18:59:01.081100Z",
     "shell.execute_reply.started": "2022-11-14T18:59:01.072823Z"
    }
   },
   "outputs": [],
   "source": [
    "#model = tf.keras.models.Sequential()\n",
    "\n",
    "#model.add(tf.keras.layers.Conv2D(256, (1, 1), activation = 'relu', input_shape = (image_length, image_height, 3)))\n",
    "#model.add(tf.keras.layers.Dropout(0.2))\n",
    "#model.add(tf.keras.layers.MaxPooling2D(pool_size=(2, 2)))\n",
    "\n",
    "#model.add(tf.keras.layers.Conv2D(64, (1, 1), activation = 'relu'))\n",
    "#model.add(tf.keras.layers.Dropout(0.2))\n",
    "#model.add(tf.keras.layers.MaxPooling2D(pool_size = (2, 2)))\n",
    "\n",
    "#model.add(tf.keras.layers.Conv2D(32, (1, 1), activation = 'relu'))\n",
    "#model.add(tf.keras.layers.Dropout(0.2))\n",
    "#model.add(tf.keras.layers.MaxPooling2D(pool_size = (2, 2)))\n",
    "\n",
    "#model.add(tf.keras.layers.Conv2D(16, (1, 1), activation = 'relu'))\n",
    "#model.add(tf.keras.layers.Dropout(0.2))\n",
    "#model.add(tf.keras.layers.MaxPooling2D(pool_size = (2, 2)))\n",
    "\n",
    "#model.add(tf.keras.layers.Flatten())\n",
    "#model.add(tf.keras.layers.Dense(8, activation = 'relu'))\n",
    "#model.add(tf.keras.layers.Dropout(0.5))\n",
    "\n",
    "#model.add(tf.keras.layers.Dense(2, activation = 'softmax'))"
   ]
  },
  {
   "cell_type": "code",
   "execution_count": 196,
   "metadata": {
    "execution": {
     "iopub.execute_input": "2022-11-14T18:59:01.084198Z",
     "iopub.status.busy": "2022-11-14T18:59:01.083744Z",
     "iopub.status.idle": "2022-11-14T18:59:01.406889Z",
     "shell.execute_reply": "2022-11-14T18:59:01.405947Z",
     "shell.execute_reply.started": "2022-11-14T18:59:01.084161Z"
    }
   },
   "outputs": [],
   "source": [
    "model = vgg16.VGG16(\n",
    "                    input_shape = (image_length, image_height, 3),\n",
    "                    include_top = False,\n",
    "                    pooling = 'avg',\n",
    "                    weights = 'imagenet'\n",
    "                    )\n",
    "\n",
    "\n",
    "model.trainable = False\n",
    "\n",
    "\n",
    "x = Dense(2,\n",
    "          activation = 'softmax',\n",
    "          name = 'new_output')(model.output) \n",
    "\n",
    "\n",
    "model = Model(model.input, x)"
   ]
  },
  {
   "cell_type": "code",
   "execution_count": 197,
   "metadata": {
    "execution": {
     "iopub.execute_input": "2022-11-14T18:59:01.408642Z",
     "iopub.status.busy": "2022-11-14T18:59:01.408269Z",
     "iopub.status.idle": "2022-11-14T18:59:01.433040Z",
     "shell.execute_reply": "2022-11-14T18:59:01.432078Z",
     "shell.execute_reply.started": "2022-11-14T18:59:01.408607Z"
    }
   },
   "outputs": [],
   "source": [
    "METRICS = [\n",
    "      tf.keras.metrics.TruePositives(name = 'tp'),\n",
    "      tf.keras.metrics.FalsePositives(name = 'fp'),\n",
    "      tf.keras.metrics.TrueNegatives(name = 'tn'),\n",
    "      tf.keras.metrics.FalseNegatives(name = 'fn'), \n",
    "      tf.keras.metrics.BinaryAccuracy(name ='accuracy'),\n",
    "      tf.keras.metrics.Precision(name = 'precision'),\n",
    "      tf.keras.metrics.Recall(name = 'recall'),\n",
    "      tf.keras.metrics.AUC(name = 'auc'),\n",
    "]"
   ]
  },
  {
   "cell_type": "code",
   "execution_count": 198,
   "metadata": {
    "execution": {
     "iopub.execute_input": "2022-11-14T18:59:01.434847Z",
     "iopub.status.busy": "2022-11-14T18:59:01.434501Z",
     "iopub.status.idle": "2022-11-14T18:59:01.444436Z",
     "shell.execute_reply": "2022-11-14T18:59:01.443457Z",
     "shell.execute_reply.started": "2022-11-14T18:59:01.434785Z"
    }
   },
   "outputs": [],
   "source": [
    "model.compile(\n",
    "                #optimizer = sgd,\n",
    "                #optimizer = opt,\n",
    "                optimizer = 'adam',\n",
    "                #optimizer = 'Adadelta',\n",
    "                #optimizer = 'Adamax',\n",
    "                \n",
    "                metrics = METRICS,\n",
    "                #metrics = ['accuracy'],\n",
    "                #metrics = ['mse'],\n",
    "                \n",
    "                #loss = 'binary_crossentropy'\n",
    "                loss = 'categorical_crossentropy'\n",
    "                #loss = 'mean_absolute_error'\n",
    "                #loss = 'mse'\n",
    "                #loss = 'mean_squared_logarithmic_error'\n",
    "                )"
   ]
  },
  {
   "cell_type": "code",
   "execution_count": 199,
   "metadata": {
    "execution": {
     "iopub.execute_input": "2022-11-14T18:59:01.446503Z",
     "iopub.status.busy": "2022-11-14T18:59:01.445678Z",
     "iopub.status.idle": "2022-11-14T18:59:01.453676Z",
     "shell.execute_reply": "2022-11-14T18:59:01.452868Z",
     "shell.execute_reply.started": "2022-11-14T18:59:01.446464Z"
    }
   },
   "outputs": [],
   "source": [
    "checkpointpath = \"./Baseline.h5\"\n",
    "checkpoint = ModelCheckpoint(checkpointpath, \n",
    "                             #monitor = 'val_accuracy', \n",
    "                             monitor = 'val_loss',\n",
    "                             verbose = 0, \n",
    "                             save_best_only = True,\n",
    "                             #mode = 'max'\n",
    "                             mode = 'min'\n",
    "                             )\n",
    "callbacks_list = [checkpoint]"
   ]
  },
  {
   "cell_type": "code",
   "execution_count": 200,
   "metadata": {
    "execution": {
     "iopub.execute_input": "2022-11-14T18:59:01.455552Z",
     "iopub.status.busy": "2022-11-14T18:59:01.454779Z",
     "iopub.status.idle": "2022-11-14T18:59:01.464674Z",
     "shell.execute_reply": "2022-11-14T18:59:01.463717Z",
     "shell.execute_reply.started": "2022-11-14T18:59:01.455517Z"
    }
   },
   "outputs": [],
   "source": [
    "reduce_lr = ReduceLROnPlateau(monitor = 'val_loss', \n",
    "                              factor = 0.1,\n",
    "                              patience = 1, \n",
    "                              min_lr = 0.0001,\n",
    "                              cooldown = 1)"
   ]
  },
  {
   "cell_type": "code",
   "execution_count": 201,
   "metadata": {
    "execution": {
     "iopub.execute_input": "2022-11-14T18:59:01.466455Z",
     "iopub.status.busy": "2022-11-14T18:59:01.466031Z",
     "iopub.status.idle": "2022-11-14T18:59:01.479677Z",
     "shell.execute_reply": "2022-11-14T18:59:01.478827Z",
     "shell.execute_reply.started": "2022-11-14T18:59:01.466420Z"
    }
   },
   "outputs": [],
   "source": [
    "early_stop = EarlyStopping(monitor = 'val_loss', \n",
    "                           patience = 5,\n",
    "                           mode = 'min')"
   ]
  },
  {
   "cell_type": "code",
   "execution_count": 203,
   "metadata": {
    "execution": {
     "iopub.execute_input": "2022-11-14T18:59:01.483224Z",
     "iopub.status.busy": "2022-11-14T18:59:01.482787Z",
     "iopub.status.idle": "2022-11-14T19:22:04.974829Z",
     "shell.execute_reply": "2022-11-14T19:22:04.973783Z",
     "shell.execute_reply.started": "2022-11-14T18:59:01.483108Z"
    },
    "scrolled": true
   },
   "outputs": [
    {
     "name": "stdout",
     "output_type": "stream",
     "text": [
      "Epoch 1/5\n"
     ]
    },
    {
     "name": "stderr",
     "output_type": "stream",
     "text": [
      "2022-11-15 14:59:51.372948: W tensorflow/core/framework/op_kernel.cc:1780] OP_REQUIRES failed at segment_reduction_ops_impl.h:482 : INVALID_ARGUMENT: data.shape = [32] does not start with segment_ids.shape = [64]\n",
      "2022-11-15 14:59:51.374111: W tensorflow/core/framework/op_kernel.cc:1780] OP_REQUIRES failed at segment_reduction_ops_impl.h:482 : INVALID_ARGUMENT: data.shape = [32] does not start with segment_ids.shape = [64]\n"
     ]
    },
    {
     "ename": "InvalidArgumentError",
     "evalue": "Graph execution error:\n\nDetected at node 'UnsortedSegmentSum' defined at (most recent call last):\n    File \"/usr/lib/python3.8/runpy.py\", line 194, in _run_module_as_main\n      return _run_code(code, main_globals, None,\n    File \"/usr/lib/python3.8/runpy.py\", line 87, in _run_code\n      exec(code, run_globals)\n    File \"/home/manwest/Documentos/Jupyter/jupyterEnv/lib/python3.8/site-packages/ipykernel_launcher.py\", line 17, in <module>\n      app.launch_new_instance()\n    File \"/home/manwest/Documentos/Jupyter/jupyterEnv/lib/python3.8/site-packages/traitlets/config/application.py\", line 846, in launch_instance\n      app.start()\n    File \"/home/manwest/Documentos/Jupyter/jupyterEnv/lib/python3.8/site-packages/ipykernel/kernelapp.py\", line 712, in start\n      self.io_loop.start()\n    File \"/home/manwest/Documentos/Jupyter/jupyterEnv/lib/python3.8/site-packages/tornado/platform/asyncio.py\", line 199, in start\n      self.asyncio_loop.run_forever()\n    File \"/usr/lib/python3.8/asyncio/base_events.py\", line 570, in run_forever\n      self._run_once()\n    File \"/usr/lib/python3.8/asyncio/base_events.py\", line 1859, in _run_once\n      handle._run()\n    File \"/usr/lib/python3.8/asyncio/events.py\", line 81, in _run\n      self._context.run(self._callback, *self._args)\n    File \"/home/manwest/Documentos/Jupyter/jupyterEnv/lib/python3.8/site-packages/ipykernel/kernelbase.py\", line 504, in dispatch_queue\n      await self.process_one()\n    File \"/home/manwest/Documentos/Jupyter/jupyterEnv/lib/python3.8/site-packages/ipykernel/kernelbase.py\", line 493, in process_one\n      await dispatch(*args)\n    File \"/home/manwest/Documentos/Jupyter/jupyterEnv/lib/python3.8/site-packages/ipykernel/kernelbase.py\", line 400, in dispatch_shell\n      await result\n    File \"/home/manwest/Documentos/Jupyter/jupyterEnv/lib/python3.8/site-packages/ipykernel/kernelbase.py\", line 724, in execute_request\n      reply_content = await reply_content\n    File \"/home/manwest/Documentos/Jupyter/jupyterEnv/lib/python3.8/site-packages/ipykernel/ipkernel.py\", line 383, in do_execute\n      res = shell.run_cell(\n    File \"/home/manwest/Documentos/Jupyter/jupyterEnv/lib/python3.8/site-packages/ipykernel/zmqshell.py\", line 528, in run_cell\n      return super().run_cell(*args, **kwargs)\n    File \"/home/manwest/Documentos/Jupyter/jupyterEnv/lib/python3.8/site-packages/IPython/core/interactiveshell.py\", line 2880, in run_cell\n      result = self._run_cell(\n    File \"/home/manwest/Documentos/Jupyter/jupyterEnv/lib/python3.8/site-packages/IPython/core/interactiveshell.py\", line 2935, in _run_cell\n      return runner(coro)\n    File \"/home/manwest/Documentos/Jupyter/jupyterEnv/lib/python3.8/site-packages/IPython/core/async_helpers.py\", line 129, in _pseudo_sync_runner\n      coro.send(None)\n    File \"/home/manwest/Documentos/Jupyter/jupyterEnv/lib/python3.8/site-packages/IPython/core/interactiveshell.py\", line 3134, in run_cell_async\n      has_raised = await self.run_ast_nodes(code_ast.body, cell_name,\n    File \"/home/manwest/Documentos/Jupyter/jupyterEnv/lib/python3.8/site-packages/IPython/core/interactiveshell.py\", line 3337, in run_ast_nodes\n      if await self.run_code(code, result, async_=asy):\n    File \"/home/manwest/Documentos/Jupyter/jupyterEnv/lib/python3.8/site-packages/IPython/core/interactiveshell.py\", line 3397, in run_code\n      exec(code_obj, self.user_global_ns, self.user_ns)\n    File \"/tmp/ipykernel_8543/1842867924.py\", line 4, in <cell line: 4>\n      modelfitprogress2 = model.fit(\n    File \"/home/manwest/Documentos/Jupyter/jupyterEnv/lib/python3.8/site-packages/keras/utils/traceback_utils.py\", line 64, in error_handler\n      return fn(*args, **kwargs)\n    File \"/home/manwest/Documentos/Jupyter/jupyterEnv/lib/python3.8/site-packages/keras/engine/training.py\", line 1409, in fit\n      tmp_logs = self.train_function(iterator)\n    File \"/home/manwest/Documentos/Jupyter/jupyterEnv/lib/python3.8/site-packages/keras/engine/training.py\", line 1051, in train_function\n      return step_function(self, iterator)\n    File \"/home/manwest/Documentos/Jupyter/jupyterEnv/lib/python3.8/site-packages/keras/engine/training.py\", line 1040, in step_function\n      outputs = model.distribute_strategy.run(run_step, args=(data,))\n    File \"/home/manwest/Documentos/Jupyter/jupyterEnv/lib/python3.8/site-packages/keras/engine/training.py\", line 1030, in run_step\n      outputs = model.train_step(data)\n    File \"/home/manwest/Documentos/Jupyter/jupyterEnv/lib/python3.8/site-packages/keras/engine/training.py\", line 894, in train_step\n      return self.compute_metrics(x, y, y_pred, sample_weight)\n    File \"/home/manwest/Documentos/Jupyter/jupyterEnv/lib/python3.8/site-packages/keras/engine/training.py\", line 987, in compute_metrics\n      self.compiled_metrics.update_state(y, y_pred, sample_weight)\n    File \"/home/manwest/Documentos/Jupyter/jupyterEnv/lib/python3.8/site-packages/keras/engine/compile_utils.py\", line 501, in update_state\n      metric_obj.update_state(y_t, y_p, sample_weight=mask)\n    File \"/home/manwest/Documentos/Jupyter/jupyterEnv/lib/python3.8/site-packages/keras/utils/metrics_utils.py\", line 70, in decorated\n      update_op = update_state_fn(*args, **kwargs)\n    File \"/home/manwest/Documentos/Jupyter/jupyterEnv/lib/python3.8/site-packages/keras/metrics/base_metric.py\", line 140, in update_state_fn\n      return ag_update_state(*args, **kwargs)\n    File \"/home/manwest/Documentos/Jupyter/jupyterEnv/lib/python3.8/site-packages/keras/metrics/metrics.py\", line 1759, in update_state\n      return metrics_utils.update_confusion_matrix_variables(\n    File \"/home/manwest/Documentos/Jupyter/jupyterEnv/lib/python3.8/site-packages/keras/utils/metrics_utils.py\", line 628, in update_confusion_matrix_variables\n      return _update_confusion_matrix_variables_optimized(\n    File \"/home/manwest/Documentos/Jupyter/jupyterEnv/lib/python3.8/site-packages/keras/utils/metrics_utils.py\", line 426, in _update_confusion_matrix_variables_optimized\n      tp_bucket_v = tf.math.unsorted_segment_sum(\nNode: 'UnsortedSegmentSum'\nDetected at node 'UnsortedSegmentSum' defined at (most recent call last):\n    File \"/usr/lib/python3.8/runpy.py\", line 194, in _run_module_as_main\n      return _run_code(code, main_globals, None,\n    File \"/usr/lib/python3.8/runpy.py\", line 87, in _run_code\n      exec(code, run_globals)\n    File \"/home/manwest/Documentos/Jupyter/jupyterEnv/lib/python3.8/site-packages/ipykernel_launcher.py\", line 17, in <module>\n      app.launch_new_instance()\n    File \"/home/manwest/Documentos/Jupyter/jupyterEnv/lib/python3.8/site-packages/traitlets/config/application.py\", line 846, in launch_instance\n      app.start()\n    File \"/home/manwest/Documentos/Jupyter/jupyterEnv/lib/python3.8/site-packages/ipykernel/kernelapp.py\", line 712, in start\n      self.io_loop.start()\n    File \"/home/manwest/Documentos/Jupyter/jupyterEnv/lib/python3.8/site-packages/tornado/platform/asyncio.py\", line 199, in start\n      self.asyncio_loop.run_forever()\n    File \"/usr/lib/python3.8/asyncio/base_events.py\", line 570, in run_forever\n      self._run_once()\n    File \"/usr/lib/python3.8/asyncio/base_events.py\", line 1859, in _run_once\n      handle._run()\n    File \"/usr/lib/python3.8/asyncio/events.py\", line 81, in _run\n      self._context.run(self._callback, *self._args)\n    File \"/home/manwest/Documentos/Jupyter/jupyterEnv/lib/python3.8/site-packages/ipykernel/kernelbase.py\", line 504, in dispatch_queue\n      await self.process_one()\n    File \"/home/manwest/Documentos/Jupyter/jupyterEnv/lib/python3.8/site-packages/ipykernel/kernelbase.py\", line 493, in process_one\n      await dispatch(*args)\n    File \"/home/manwest/Documentos/Jupyter/jupyterEnv/lib/python3.8/site-packages/ipykernel/kernelbase.py\", line 400, in dispatch_shell\n      await result\n    File \"/home/manwest/Documentos/Jupyter/jupyterEnv/lib/python3.8/site-packages/ipykernel/kernelbase.py\", line 724, in execute_request\n      reply_content = await reply_content\n    File \"/home/manwest/Documentos/Jupyter/jupyterEnv/lib/python3.8/site-packages/ipykernel/ipkernel.py\", line 383, in do_execute\n      res = shell.run_cell(\n    File \"/home/manwest/Documentos/Jupyter/jupyterEnv/lib/python3.8/site-packages/ipykernel/zmqshell.py\", line 528, in run_cell\n      return super().run_cell(*args, **kwargs)\n    File \"/home/manwest/Documentos/Jupyter/jupyterEnv/lib/python3.8/site-packages/IPython/core/interactiveshell.py\", line 2880, in run_cell\n      result = self._run_cell(\n    File \"/home/manwest/Documentos/Jupyter/jupyterEnv/lib/python3.8/site-packages/IPython/core/interactiveshell.py\", line 2935, in _run_cell\n      return runner(coro)\n    File \"/home/manwest/Documentos/Jupyter/jupyterEnv/lib/python3.8/site-packages/IPython/core/async_helpers.py\", line 129, in _pseudo_sync_runner\n      coro.send(None)\n    File \"/home/manwest/Documentos/Jupyter/jupyterEnv/lib/python3.8/site-packages/IPython/core/interactiveshell.py\", line 3134, in run_cell_async\n      has_raised = await self.run_ast_nodes(code_ast.body, cell_name,\n    File \"/home/manwest/Documentos/Jupyter/jupyterEnv/lib/python3.8/site-packages/IPython/core/interactiveshell.py\", line 3337, in run_ast_nodes\n      if await self.run_code(code, result, async_=asy):\n    File \"/home/manwest/Documentos/Jupyter/jupyterEnv/lib/python3.8/site-packages/IPython/core/interactiveshell.py\", line 3397, in run_code\n      exec(code_obj, self.user_global_ns, self.user_ns)\n    File \"/tmp/ipykernel_8543/1842867924.py\", line 4, in <cell line: 4>\n      modelfitprogress2 = model.fit(\n    File \"/home/manwest/Documentos/Jupyter/jupyterEnv/lib/python3.8/site-packages/keras/utils/traceback_utils.py\", line 64, in error_handler\n      return fn(*args, **kwargs)\n    File \"/home/manwest/Documentos/Jupyter/jupyterEnv/lib/python3.8/site-packages/keras/engine/training.py\", line 1409, in fit\n      tmp_logs = self.train_function(iterator)\n    File \"/home/manwest/Documentos/Jupyter/jupyterEnv/lib/python3.8/site-packages/keras/engine/training.py\", line 1051, in train_function\n      return step_function(self, iterator)\n    File \"/home/manwest/Documentos/Jupyter/jupyterEnv/lib/python3.8/site-packages/keras/engine/training.py\", line 1040, in step_function\n      outputs = model.distribute_strategy.run(run_step, args=(data,))\n    File \"/home/manwest/Documentos/Jupyter/jupyterEnv/lib/python3.8/site-packages/keras/engine/training.py\", line 1030, in run_step\n      outputs = model.train_step(data)\n    File \"/home/manwest/Documentos/Jupyter/jupyterEnv/lib/python3.8/site-packages/keras/engine/training.py\", line 894, in train_step\n      return self.compute_metrics(x, y, y_pred, sample_weight)\n    File \"/home/manwest/Documentos/Jupyter/jupyterEnv/lib/python3.8/site-packages/keras/engine/training.py\", line 987, in compute_metrics\n      self.compiled_metrics.update_state(y, y_pred, sample_weight)\n    File \"/home/manwest/Documentos/Jupyter/jupyterEnv/lib/python3.8/site-packages/keras/engine/compile_utils.py\", line 501, in update_state\n      metric_obj.update_state(y_t, y_p, sample_weight=mask)\n    File \"/home/manwest/Documentos/Jupyter/jupyterEnv/lib/python3.8/site-packages/keras/utils/metrics_utils.py\", line 70, in decorated\n      update_op = update_state_fn(*args, **kwargs)\n    File \"/home/manwest/Documentos/Jupyter/jupyterEnv/lib/python3.8/site-packages/keras/metrics/base_metric.py\", line 140, in update_state_fn\n      return ag_update_state(*args, **kwargs)\n    File \"/home/manwest/Documentos/Jupyter/jupyterEnv/lib/python3.8/site-packages/keras/metrics/metrics.py\", line 1759, in update_state\n      return metrics_utils.update_confusion_matrix_variables(\n    File \"/home/manwest/Documentos/Jupyter/jupyterEnv/lib/python3.8/site-packages/keras/utils/metrics_utils.py\", line 628, in update_confusion_matrix_variables\n      return _update_confusion_matrix_variables_optimized(\n    File \"/home/manwest/Documentos/Jupyter/jupyterEnv/lib/python3.8/site-packages/keras/utils/metrics_utils.py\", line 426, in _update_confusion_matrix_variables_optimized\n      tp_bucket_v = tf.math.unsorted_segment_sum(\nNode: 'UnsortedSegmentSum'\n2 root error(s) found.\n  (0) INVALID_ARGUMENT:  data.shape = [32] does not start with segment_ids.shape = [64]\n\t [[{{node UnsortedSegmentSum}}]]\n\t [[assert_less_equal_2/Assert/AssertGuard/pivot_f/_53/_107]]\n  (1) INVALID_ARGUMENT:  data.shape = [32] does not start with segment_ids.shape = [64]\n\t [[{{node UnsortedSegmentSum}}]]\n0 successful operations.\n0 derived errors ignored. [Op:__inference_train_function_1613338]",
     "output_type": "error",
     "traceback": [
      "\u001b[0;31m---------------------------------------------------------------------------\u001b[0m",
      "\u001b[0;31mInvalidArgumentError\u001b[0m                      Traceback (most recent call last)",
      "Input \u001b[0;32mIn [203]\u001b[0m, in \u001b[0;36m<cell line: 4>\u001b[0;34m()\u001b[0m\n\u001b[1;32m      1\u001b[0m number_epoch \u001b[38;5;241m=\u001b[39m \u001b[38;5;241m5\u001b[39m\n\u001b[0;32m----> 4\u001b[0m modelfitprogress2 \u001b[38;5;241m=\u001b[39m \u001b[43mmodel\u001b[49m\u001b[38;5;241;43m.\u001b[39;49m\u001b[43mfit\u001b[49m\u001b[43m(\u001b[49m\n\u001b[1;32m      5\u001b[0m \u001b[43m                              \u001b[49m\u001b[43mtrain_iter\u001b[49m\u001b[43m,\u001b[49m\n\u001b[1;32m      6\u001b[0m \u001b[43m                              \u001b[49m\u001b[43mvalidation_data\u001b[49m\u001b[43m \u001b[49m\u001b[38;5;241;43m=\u001b[39;49m\u001b[43m \u001b[49m\u001b[43mvalid_iter\u001b[49m\u001b[43m,\u001b[49m\n\u001b[1;32m      7\u001b[0m \u001b[43m                              \u001b[49m\u001b[43mepochs\u001b[49m\u001b[43m \u001b[49m\u001b[38;5;241;43m=\u001b[39;49m\u001b[43m \u001b[49m\u001b[43mnumber_epoch\u001b[49m\u001b[43m,\u001b[49m\n\u001b[1;32m      8\u001b[0m \u001b[43m                              \u001b[49m\u001b[43msteps_per_epoch\u001b[49m\u001b[43m \u001b[49m\u001b[38;5;241;43m=\u001b[39;49m\u001b[43m \u001b[49m\u001b[43mdf_train\u001b[49m\u001b[38;5;241;43m.\u001b[39;49m\u001b[43mshape\u001b[49m\u001b[43m[\u001b[49m\u001b[38;5;241;43m0\u001b[39;49m\u001b[43m]\u001b[49m\u001b[38;5;241;43m/\u001b[39;49m\u001b[38;5;241;43m/\u001b[39;49m\u001b[43mtrain_iter\u001b[49m\u001b[38;5;241;43m.\u001b[39;49m\u001b[43mbatch_size\u001b[49m\u001b[43m,\u001b[49m\n\u001b[1;32m      9\u001b[0m \u001b[43m                              \u001b[49m\u001b[43mvalidation_steps\u001b[49m\u001b[43m \u001b[49m\u001b[38;5;241;43m=\u001b[39;49m\u001b[43m \u001b[49m\u001b[43mdf_val\u001b[49m\u001b[38;5;241;43m.\u001b[39;49m\u001b[43mshape\u001b[49m\u001b[43m[\u001b[49m\u001b[38;5;241;43m0\u001b[39;49m\u001b[43m]\u001b[49m\u001b[38;5;241;43m/\u001b[39;49m\u001b[38;5;241;43m/\u001b[39;49m\u001b[43mvalid_iter\u001b[49m\u001b[38;5;241;43m.\u001b[39;49m\u001b[43mbatch_size\u001b[49m\u001b[43m,\u001b[49m\n\u001b[1;32m     10\u001b[0m \u001b[43m                              \u001b[49m\u001b[43mcallbacks\u001b[49m\u001b[43m \u001b[49m\u001b[38;5;241;43m=\u001b[39;49m\u001b[43m \u001b[49m\u001b[43m[\u001b[49m\u001b[43mreduce_lr\u001b[49m\u001b[43m,\u001b[49m\u001b[43m \u001b[49m\u001b[43mearly_stop\u001b[49m\u001b[43m,\u001b[49m\u001b[43m \u001b[49m\u001b[43mcheckpoint\u001b[49m\u001b[43m]\u001b[49m\n\u001b[1;32m     11\u001b[0m \u001b[43m                              \u001b[49m\u001b[43m)\u001b[49m\n",
      "File \u001b[0;32m~/Documentos/Jupyter/jupyterEnv/lib/python3.8/site-packages/keras/utils/traceback_utils.py:67\u001b[0m, in \u001b[0;36mfilter_traceback.<locals>.error_handler\u001b[0;34m(*args, **kwargs)\u001b[0m\n\u001b[1;32m     65\u001b[0m \u001b[38;5;28;01mexcept\u001b[39;00m \u001b[38;5;167;01mException\u001b[39;00m \u001b[38;5;28;01mas\u001b[39;00m e:  \u001b[38;5;66;03m# pylint: disable=broad-except\u001b[39;00m\n\u001b[1;32m     66\u001b[0m   filtered_tb \u001b[38;5;241m=\u001b[39m _process_traceback_frames(e\u001b[38;5;241m.\u001b[39m__traceback__)\n\u001b[0;32m---> 67\u001b[0m   \u001b[38;5;28;01mraise\u001b[39;00m e\u001b[38;5;241m.\u001b[39mwith_traceback(filtered_tb) \u001b[38;5;28;01mfrom\u001b[39;00m \u001b[38;5;28mNone\u001b[39m\n\u001b[1;32m     68\u001b[0m \u001b[38;5;28;01mfinally\u001b[39;00m:\n\u001b[1;32m     69\u001b[0m   \u001b[38;5;28;01mdel\u001b[39;00m filtered_tb\n",
      "File \u001b[0;32m~/Documentos/Jupyter/jupyterEnv/lib/python3.8/site-packages/tensorflow/python/eager/execute.py:54\u001b[0m, in \u001b[0;36mquick_execute\u001b[0;34m(op_name, num_outputs, inputs, attrs, ctx, name)\u001b[0m\n\u001b[1;32m     52\u001b[0m \u001b[38;5;28;01mtry\u001b[39;00m:\n\u001b[1;32m     53\u001b[0m   ctx\u001b[38;5;241m.\u001b[39mensure_initialized()\n\u001b[0;32m---> 54\u001b[0m   tensors \u001b[38;5;241m=\u001b[39m pywrap_tfe\u001b[38;5;241m.\u001b[39mTFE_Py_Execute(ctx\u001b[38;5;241m.\u001b[39m_handle, device_name, op_name,\n\u001b[1;32m     55\u001b[0m                                       inputs, attrs, num_outputs)\n\u001b[1;32m     56\u001b[0m \u001b[38;5;28;01mexcept\u001b[39;00m core\u001b[38;5;241m.\u001b[39m_NotOkStatusException \u001b[38;5;28;01mas\u001b[39;00m e:\n\u001b[1;32m     57\u001b[0m   \u001b[38;5;28;01mif\u001b[39;00m name \u001b[38;5;129;01mis\u001b[39;00m \u001b[38;5;129;01mnot\u001b[39;00m \u001b[38;5;28;01mNone\u001b[39;00m:\n",
      "\u001b[0;31mInvalidArgumentError\u001b[0m: Graph execution error:\n\nDetected at node 'UnsortedSegmentSum' defined at (most recent call last):\n    File \"/usr/lib/python3.8/runpy.py\", line 194, in _run_module_as_main\n      return _run_code(code, main_globals, None,\n    File \"/usr/lib/python3.8/runpy.py\", line 87, in _run_code\n      exec(code, run_globals)\n    File \"/home/manwest/Documentos/Jupyter/jupyterEnv/lib/python3.8/site-packages/ipykernel_launcher.py\", line 17, in <module>\n      app.launch_new_instance()\n    File \"/home/manwest/Documentos/Jupyter/jupyterEnv/lib/python3.8/site-packages/traitlets/config/application.py\", line 846, in launch_instance\n      app.start()\n    File \"/home/manwest/Documentos/Jupyter/jupyterEnv/lib/python3.8/site-packages/ipykernel/kernelapp.py\", line 712, in start\n      self.io_loop.start()\n    File \"/home/manwest/Documentos/Jupyter/jupyterEnv/lib/python3.8/site-packages/tornado/platform/asyncio.py\", line 199, in start\n      self.asyncio_loop.run_forever()\n    File \"/usr/lib/python3.8/asyncio/base_events.py\", line 570, in run_forever\n      self._run_once()\n    File \"/usr/lib/python3.8/asyncio/base_events.py\", line 1859, in _run_once\n      handle._run()\n    File \"/usr/lib/python3.8/asyncio/events.py\", line 81, in _run\n      self._context.run(self._callback, *self._args)\n    File \"/home/manwest/Documentos/Jupyter/jupyterEnv/lib/python3.8/site-packages/ipykernel/kernelbase.py\", line 504, in dispatch_queue\n      await self.process_one()\n    File \"/home/manwest/Documentos/Jupyter/jupyterEnv/lib/python3.8/site-packages/ipykernel/kernelbase.py\", line 493, in process_one\n      await dispatch(*args)\n    File \"/home/manwest/Documentos/Jupyter/jupyterEnv/lib/python3.8/site-packages/ipykernel/kernelbase.py\", line 400, in dispatch_shell\n      await result\n    File \"/home/manwest/Documentos/Jupyter/jupyterEnv/lib/python3.8/site-packages/ipykernel/kernelbase.py\", line 724, in execute_request\n      reply_content = await reply_content\n    File \"/home/manwest/Documentos/Jupyter/jupyterEnv/lib/python3.8/site-packages/ipykernel/ipkernel.py\", line 383, in do_execute\n      res = shell.run_cell(\n    File \"/home/manwest/Documentos/Jupyter/jupyterEnv/lib/python3.8/site-packages/ipykernel/zmqshell.py\", line 528, in run_cell\n      return super().run_cell(*args, **kwargs)\n    File \"/home/manwest/Documentos/Jupyter/jupyterEnv/lib/python3.8/site-packages/IPython/core/interactiveshell.py\", line 2880, in run_cell\n      result = self._run_cell(\n    File \"/home/manwest/Documentos/Jupyter/jupyterEnv/lib/python3.8/site-packages/IPython/core/interactiveshell.py\", line 2935, in _run_cell\n      return runner(coro)\n    File \"/home/manwest/Documentos/Jupyter/jupyterEnv/lib/python3.8/site-packages/IPython/core/async_helpers.py\", line 129, in _pseudo_sync_runner\n      coro.send(None)\n    File \"/home/manwest/Documentos/Jupyter/jupyterEnv/lib/python3.8/site-packages/IPython/core/interactiveshell.py\", line 3134, in run_cell_async\n      has_raised = await self.run_ast_nodes(code_ast.body, cell_name,\n    File \"/home/manwest/Documentos/Jupyter/jupyterEnv/lib/python3.8/site-packages/IPython/core/interactiveshell.py\", line 3337, in run_ast_nodes\n      if await self.run_code(code, result, async_=asy):\n    File \"/home/manwest/Documentos/Jupyter/jupyterEnv/lib/python3.8/site-packages/IPython/core/interactiveshell.py\", line 3397, in run_code\n      exec(code_obj, self.user_global_ns, self.user_ns)\n    File \"/tmp/ipykernel_8543/1842867924.py\", line 4, in <cell line: 4>\n      modelfitprogress2 = model.fit(\n    File \"/home/manwest/Documentos/Jupyter/jupyterEnv/lib/python3.8/site-packages/keras/utils/traceback_utils.py\", line 64, in error_handler\n      return fn(*args, **kwargs)\n    File \"/home/manwest/Documentos/Jupyter/jupyterEnv/lib/python3.8/site-packages/keras/engine/training.py\", line 1409, in fit\n      tmp_logs = self.train_function(iterator)\n    File \"/home/manwest/Documentos/Jupyter/jupyterEnv/lib/python3.8/site-packages/keras/engine/training.py\", line 1051, in train_function\n      return step_function(self, iterator)\n    File \"/home/manwest/Documentos/Jupyter/jupyterEnv/lib/python3.8/site-packages/keras/engine/training.py\", line 1040, in step_function\n      outputs = model.distribute_strategy.run(run_step, args=(data,))\n    File \"/home/manwest/Documentos/Jupyter/jupyterEnv/lib/python3.8/site-packages/keras/engine/training.py\", line 1030, in run_step\n      outputs = model.train_step(data)\n    File \"/home/manwest/Documentos/Jupyter/jupyterEnv/lib/python3.8/site-packages/keras/engine/training.py\", line 894, in train_step\n      return self.compute_metrics(x, y, y_pred, sample_weight)\n    File \"/home/manwest/Documentos/Jupyter/jupyterEnv/lib/python3.8/site-packages/keras/engine/training.py\", line 987, in compute_metrics\n      self.compiled_metrics.update_state(y, y_pred, sample_weight)\n    File \"/home/manwest/Documentos/Jupyter/jupyterEnv/lib/python3.8/site-packages/keras/engine/compile_utils.py\", line 501, in update_state\n      metric_obj.update_state(y_t, y_p, sample_weight=mask)\n    File \"/home/manwest/Documentos/Jupyter/jupyterEnv/lib/python3.8/site-packages/keras/utils/metrics_utils.py\", line 70, in decorated\n      update_op = update_state_fn(*args, **kwargs)\n    File \"/home/manwest/Documentos/Jupyter/jupyterEnv/lib/python3.8/site-packages/keras/metrics/base_metric.py\", line 140, in update_state_fn\n      return ag_update_state(*args, **kwargs)\n    File \"/home/manwest/Documentos/Jupyter/jupyterEnv/lib/python3.8/site-packages/keras/metrics/metrics.py\", line 1759, in update_state\n      return metrics_utils.update_confusion_matrix_variables(\n    File \"/home/manwest/Documentos/Jupyter/jupyterEnv/lib/python3.8/site-packages/keras/utils/metrics_utils.py\", line 628, in update_confusion_matrix_variables\n      return _update_confusion_matrix_variables_optimized(\n    File \"/home/manwest/Documentos/Jupyter/jupyterEnv/lib/python3.8/site-packages/keras/utils/metrics_utils.py\", line 426, in _update_confusion_matrix_variables_optimized\n      tp_bucket_v = tf.math.unsorted_segment_sum(\nNode: 'UnsortedSegmentSum'\nDetected at node 'UnsortedSegmentSum' defined at (most recent call last):\n    File \"/usr/lib/python3.8/runpy.py\", line 194, in _run_module_as_main\n      return _run_code(code, main_globals, None,\n    File \"/usr/lib/python3.8/runpy.py\", line 87, in _run_code\n      exec(code, run_globals)\n    File \"/home/manwest/Documentos/Jupyter/jupyterEnv/lib/python3.8/site-packages/ipykernel_launcher.py\", line 17, in <module>\n      app.launch_new_instance()\n    File \"/home/manwest/Documentos/Jupyter/jupyterEnv/lib/python3.8/site-packages/traitlets/config/application.py\", line 846, in launch_instance\n      app.start()\n    File \"/home/manwest/Documentos/Jupyter/jupyterEnv/lib/python3.8/site-packages/ipykernel/kernelapp.py\", line 712, in start\n      self.io_loop.start()\n    File \"/home/manwest/Documentos/Jupyter/jupyterEnv/lib/python3.8/site-packages/tornado/platform/asyncio.py\", line 199, in start\n      self.asyncio_loop.run_forever()\n    File \"/usr/lib/python3.8/asyncio/base_events.py\", line 570, in run_forever\n      self._run_once()\n    File \"/usr/lib/python3.8/asyncio/base_events.py\", line 1859, in _run_once\n      handle._run()\n    File \"/usr/lib/python3.8/asyncio/events.py\", line 81, in _run\n      self._context.run(self._callback, *self._args)\n    File \"/home/manwest/Documentos/Jupyter/jupyterEnv/lib/python3.8/site-packages/ipykernel/kernelbase.py\", line 504, in dispatch_queue\n      await self.process_one()\n    File \"/home/manwest/Documentos/Jupyter/jupyterEnv/lib/python3.8/site-packages/ipykernel/kernelbase.py\", line 493, in process_one\n      await dispatch(*args)\n    File \"/home/manwest/Documentos/Jupyter/jupyterEnv/lib/python3.8/site-packages/ipykernel/kernelbase.py\", line 400, in dispatch_shell\n      await result\n    File \"/home/manwest/Documentos/Jupyter/jupyterEnv/lib/python3.8/site-packages/ipykernel/kernelbase.py\", line 724, in execute_request\n      reply_content = await reply_content\n    File \"/home/manwest/Documentos/Jupyter/jupyterEnv/lib/python3.8/site-packages/ipykernel/ipkernel.py\", line 383, in do_execute\n      res = shell.run_cell(\n    File \"/home/manwest/Documentos/Jupyter/jupyterEnv/lib/python3.8/site-packages/ipykernel/zmqshell.py\", line 528, in run_cell\n      return super().run_cell(*args, **kwargs)\n    File \"/home/manwest/Documentos/Jupyter/jupyterEnv/lib/python3.8/site-packages/IPython/core/interactiveshell.py\", line 2880, in run_cell\n      result = self._run_cell(\n    File \"/home/manwest/Documentos/Jupyter/jupyterEnv/lib/python3.8/site-packages/IPython/core/interactiveshell.py\", line 2935, in _run_cell\n      return runner(coro)\n    File \"/home/manwest/Documentos/Jupyter/jupyterEnv/lib/python3.8/site-packages/IPython/core/async_helpers.py\", line 129, in _pseudo_sync_runner\n      coro.send(None)\n    File \"/home/manwest/Documentos/Jupyter/jupyterEnv/lib/python3.8/site-packages/IPython/core/interactiveshell.py\", line 3134, in run_cell_async\n      has_raised = await self.run_ast_nodes(code_ast.body, cell_name,\n    File \"/home/manwest/Documentos/Jupyter/jupyterEnv/lib/python3.8/site-packages/IPython/core/interactiveshell.py\", line 3337, in run_ast_nodes\n      if await self.run_code(code, result, async_=asy):\n    File \"/home/manwest/Documentos/Jupyter/jupyterEnv/lib/python3.8/site-packages/IPython/core/interactiveshell.py\", line 3397, in run_code\n      exec(code_obj, self.user_global_ns, self.user_ns)\n    File \"/tmp/ipykernel_8543/1842867924.py\", line 4, in <cell line: 4>\n      modelfitprogress2 = model.fit(\n    File \"/home/manwest/Documentos/Jupyter/jupyterEnv/lib/python3.8/site-packages/keras/utils/traceback_utils.py\", line 64, in error_handler\n      return fn(*args, **kwargs)\n    File \"/home/manwest/Documentos/Jupyter/jupyterEnv/lib/python3.8/site-packages/keras/engine/training.py\", line 1409, in fit\n      tmp_logs = self.train_function(iterator)\n    File \"/home/manwest/Documentos/Jupyter/jupyterEnv/lib/python3.8/site-packages/keras/engine/training.py\", line 1051, in train_function\n      return step_function(self, iterator)\n    File \"/home/manwest/Documentos/Jupyter/jupyterEnv/lib/python3.8/site-packages/keras/engine/training.py\", line 1040, in step_function\n      outputs = model.distribute_strategy.run(run_step, args=(data,))\n    File \"/home/manwest/Documentos/Jupyter/jupyterEnv/lib/python3.8/site-packages/keras/engine/training.py\", line 1030, in run_step\n      outputs = model.train_step(data)\n    File \"/home/manwest/Documentos/Jupyter/jupyterEnv/lib/python3.8/site-packages/keras/engine/training.py\", line 894, in train_step\n      return self.compute_metrics(x, y, y_pred, sample_weight)\n    File \"/home/manwest/Documentos/Jupyter/jupyterEnv/lib/python3.8/site-packages/keras/engine/training.py\", line 987, in compute_metrics\n      self.compiled_metrics.update_state(y, y_pred, sample_weight)\n    File \"/home/manwest/Documentos/Jupyter/jupyterEnv/lib/python3.8/site-packages/keras/engine/compile_utils.py\", line 501, in update_state\n      metric_obj.update_state(y_t, y_p, sample_weight=mask)\n    File \"/home/manwest/Documentos/Jupyter/jupyterEnv/lib/python3.8/site-packages/keras/utils/metrics_utils.py\", line 70, in decorated\n      update_op = update_state_fn(*args, **kwargs)\n    File \"/home/manwest/Documentos/Jupyter/jupyterEnv/lib/python3.8/site-packages/keras/metrics/base_metric.py\", line 140, in update_state_fn\n      return ag_update_state(*args, **kwargs)\n    File \"/home/manwest/Documentos/Jupyter/jupyterEnv/lib/python3.8/site-packages/keras/metrics/metrics.py\", line 1759, in update_state\n      return metrics_utils.update_confusion_matrix_variables(\n    File \"/home/manwest/Documentos/Jupyter/jupyterEnv/lib/python3.8/site-packages/keras/utils/metrics_utils.py\", line 628, in update_confusion_matrix_variables\n      return _update_confusion_matrix_variables_optimized(\n    File \"/home/manwest/Documentos/Jupyter/jupyterEnv/lib/python3.8/site-packages/keras/utils/metrics_utils.py\", line 426, in _update_confusion_matrix_variables_optimized\n      tp_bucket_v = tf.math.unsorted_segment_sum(\nNode: 'UnsortedSegmentSum'\n2 root error(s) found.\n  (0) INVALID_ARGUMENT:  data.shape = [32] does not start with segment_ids.shape = [64]\n\t [[{{node UnsortedSegmentSum}}]]\n\t [[assert_less_equal_2/Assert/AssertGuard/pivot_f/_53/_107]]\n  (1) INVALID_ARGUMENT:  data.shape = [32] does not start with segment_ids.shape = [64]\n\t [[{{node UnsortedSegmentSum}}]]\n0 successful operations.\n0 derived errors ignored. [Op:__inference_train_function_1613338]"
     ]
    }
   ],
   "source": [
    "number_epoch = 5\n",
    "\n",
    "\n",
    "modelfitprogress2 = model.fit(\n",
    "                              train_iter,\n",
    "                              validation_data = valid_iter,\n",
    "                              epochs = number_epoch,\n",
    "                              steps_per_epoch = df_train.shape[0]//train_iter.batch_size,\n",
    "                              validation_steps = df_val.shape[0]//valid_iter.batch_size,\n",
    "                              callbacks = [reduce_lr, early_stop, checkpoint]\n",
    "                              )"
   ]
  },
  {
   "cell_type": "code",
   "execution_count": null,
   "metadata": {
    "execution": {
     "iopub.execute_input": "2022-11-14T19:22:04.976947Z",
     "iopub.status.busy": "2022-11-14T19:22:04.976468Z",
     "iopub.status.idle": "2022-11-14T19:22:05.200699Z",
     "shell.execute_reply": "2022-11-14T19:22:05.199838Z",
     "shell.execute_reply.started": "2022-11-14T19:22:04.976909Z"
    }
   },
   "outputs": [],
   "source": [
    "plt.plot(modelfitprogress2.history['loss'], color = 'red', label = 'loss')\n",
    "plt.plot(modelfitprogress2.history['val_loss'], color = 'green', label = 'val loss')\n",
    "plt.legend(loc = 'upper right')\n",
    "plt.show()"
   ]
  },
  {
   "cell_type": "code",
   "execution_count": null,
   "metadata": {
    "execution": {
     "iopub.execute_input": "2022-11-14T19:22:05.202835Z",
     "iopub.status.busy": "2022-11-14T19:22:05.202418Z",
     "iopub.status.idle": "2022-11-14T19:22:05.412730Z",
     "shell.execute_reply": "2022-11-14T19:22:05.411736Z",
     "shell.execute_reply.started": "2022-11-14T19:22:05.202779Z"
    }
   },
   "outputs": [],
   "source": [
    "plt.plot(modelfitprogress2.history['accuracy'], color = 'red', label = 'accuracy')\n",
    "plt.plot(modelfitprogress2.history['val_accuracy'], color = 'green', label = 'val accuracy')\n",
    "plt.legend(loc = 'upper right')\n",
    "plt.show()"
   ]
  },
  {
   "cell_type": "code",
   "execution_count": null,
   "metadata": {
    "execution": {
     "iopub.execute_input": "2022-11-14T19:27:21.668565Z",
     "iopub.status.busy": "2022-11-14T19:27:21.667889Z",
     "iopub.status.idle": "2022-11-14T19:27:22.552561Z",
     "shell.execute_reply": "2022-11-14T19:27:22.551531Z",
     "shell.execute_reply.started": "2022-11-14T19:27:21.668513Z"
    }
   },
   "outputs": [],
   "source": [
    "model = load_model('./Baseline.h5')"
   ]
  },
  {
   "cell_type": "code",
   "execution_count": null,
   "metadata": {
    "execution": {
     "iopub.execute_input": "2022-11-14T19:27:24.254144Z",
     "iopub.status.busy": "2022-11-14T19:27:24.253678Z",
     "iopub.status.idle": "2022-11-14T19:28:06.367196Z",
     "shell.execute_reply": "2022-11-14T19:28:06.366140Z",
     "shell.execute_reply.started": "2022-11-14T19:27:24.254102Z"
    }
   },
   "outputs": [],
   "source": [
    "score = model.evaluate(valid_iter, steps = df_val.shape[0]//valid_iter.batch_size)\n",
    "print(\"Loss in validation: {} \\nAccuracy in validation: {}\".format(score[0], score[5]))"
   ]
  },
  {
   "cell_type": "code",
   "execution_count": null,
   "metadata": {
    "execution": {
     "iopub.execute_input": "2022-11-14T19:28:06.369726Z",
     "iopub.status.busy": "2022-11-14T19:28:06.369356Z",
     "iopub.status.idle": "2022-11-14T19:28:47.388501Z",
     "shell.execute_reply": "2022-11-14T19:28:47.387465Z",
     "shell.execute_reply.started": "2022-11-14T19:28:06.369687Z"
    }
   },
   "outputs": [],
   "source": [
    "score = model.evaluate(test_iter, steps = df_test.shape[0]//test_iter.batch_size)\n",
    "print(\"Loss in test: {} \\nAccuracy in test: {}\".format(score[0], score[5]))"
   ]
  },
  {
   "cell_type": "code",
   "execution_count": null,
   "metadata": {
    "execution": {
     "iopub.execute_input": "2022-11-14T19:28:47.390680Z",
     "iopub.status.busy": "2022-11-14T19:28:47.390269Z",
     "iopub.status.idle": "2022-11-14T19:28:47.397017Z",
     "shell.execute_reply": "2022-11-14T19:28:47.395948Z",
     "shell.execute_reply.started": "2022-11-14T19:28:47.390642Z"
    }
   },
   "outputs": [],
   "source": [
    "print(train_iter.class_indices)\n",
    "print(test_iter.class_indices)\n",
    "print(valid_iter.class_indices)"
   ]
  },
  {
   "cell_type": "code",
   "execution_count": null,
   "metadata": {
    "execution": {
     "iopub.execute_input": "2022-11-14T19:28:47.400381Z",
     "iopub.status.busy": "2022-11-14T19:28:47.399970Z",
     "iopub.status.idle": "2022-11-14T19:29:08.162682Z",
     "shell.execute_reply": "2022-11-14T19:29:08.161738Z",
     "shell.execute_reply.started": "2022-11-14T19:28:47.400345Z"
    }
   },
   "outputs": [],
   "source": [
    "prediction = model.predict(test_iter, steps = np.math.ceil(test_iter.samples/test_iter.batch_size))\n",
    "print(prediction)"
   ]
  },
  {
   "cell_type": "code",
   "execution_count": null,
   "metadata": {
    "execution": {
     "iopub.execute_input": "2022-11-14T19:29:08.166175Z",
     "iopub.status.busy": "2022-11-14T19:29:08.165895Z",
     "iopub.status.idle": "2022-11-14T19:29:08.174969Z",
     "shell.execute_reply": "2022-11-14T19:29:08.173857Z",
     "shell.execute_reply.started": "2022-11-14T19:29:08.166149Z"
    }
   },
   "outputs": [],
   "source": [
    "predicted_classes = np.argmax(prediction, axis = 1)\n",
    "print(predicted_classes)"
   ]
  },
  {
   "cell_type": "code",
   "execution_count": 123,
   "metadata": {
    "execution": {
     "iopub.execute_input": "2022-11-14T19:29:08.177900Z",
     "iopub.status.busy": "2022-11-14T19:29:08.176897Z",
     "iopub.status.idle": "2022-11-14T19:29:08.188572Z",
     "shell.execute_reply": "2022-11-14T19:29:08.187208Z",
     "shell.execute_reply.started": "2022-11-14T19:29:08.177854Z"
    }
   },
   "outputs": [
    {
     "data": {
      "text/plain": [
       "0    15772\n",
       "1    10910\n",
       "Name: class, dtype: int64"
      ]
     },
     "execution_count": 123,
     "metadata": {},
     "output_type": "execute_result"
    }
   ],
   "source": [
    "x = pd.DataFrame(predicted_classes, columns = ['class'])\n",
    "x['class'].value_counts()"
   ]
  },
  {
   "cell_type": "code",
   "execution_count": 124,
   "metadata": {
    "execution": {
     "iopub.execute_input": "2022-11-14T19:29:08.191104Z",
     "iopub.status.busy": "2022-11-14T19:29:08.189767Z",
     "iopub.status.idle": "2022-11-14T19:29:08.195644Z",
     "shell.execute_reply": "2022-11-14T19:29:08.194640Z",
     "shell.execute_reply.started": "2022-11-14T19:29:08.191077Z"
    }
   },
   "outputs": [],
   "source": [
    "true_classes = test_iter.classes\n",
    "class_labels = list(test_iter.class_indices.keys())  "
   ]
  },
  {
   "cell_type": "code",
   "execution_count": 125,
   "metadata": {
    "execution": {
     "iopub.execute_input": "2022-11-14T19:29:08.198368Z",
     "iopub.status.busy": "2022-11-14T19:29:08.197074Z",
     "iopub.status.idle": "2022-11-14T19:29:08.244822Z",
     "shell.execute_reply": "2022-11-14T19:29:08.243858Z",
     "shell.execute_reply.started": "2022-11-14T19:29:08.198315Z"
    }
   },
   "outputs": [
    {
     "name": "stdout",
     "output_type": "stream",
     "text": [
      "              precision    recall  f1-score   support\n",
      "\n",
      "       No_DB       0.89      0.59      0.71     23723\n",
      "      Yes_DB       0.11      0.42      0.18      2959\n",
      "\n",
      "    accuracy                           0.57     26682\n",
      "   macro avg       0.50      0.51      0.45     26682\n",
      "weighted avg       0.80      0.57      0.65     26682\n",
      "\n"
     ]
    }
   ],
   "source": [
    "report = sklearn.metrics.classification_report(true_classes, \n",
    "                                               predicted_classes, \n",
    "                                               target_names = class_labels)\n",
    "print(report) "
   ]
  },
  {
   "cell_type": "code",
   "execution_count": 126,
   "metadata": {
    "execution": {
     "iopub.execute_input": "2022-11-14T19:34:28.853362Z",
     "iopub.status.busy": "2022-11-14T19:34:28.852871Z",
     "iopub.status.idle": "2022-11-14T19:34:29.195791Z",
     "shell.execute_reply": "2022-11-14T19:34:29.194763Z",
     "shell.execute_reply.started": "2022-11-14T19:34:28.853309Z"
    }
   },
   "outputs": [
    {
     "data": {
      "text/plain": [
       "<sklearn.metrics._plot.confusion_matrix.ConfusionMatrixDisplay at 0x7f61ed084310>"
      ]
     },
     "execution_count": 126,
     "metadata": {},
     "output_type": "execute_result"
    },
    {
     "data": {
      "image/png": "[encoded data removed]",
      "text/plain": [
       "<Figure size 432x288 with 2 Axes>"
      ]
     },
     "metadata": {
      "needs_background": "light"
     },
     "output_type": "display_data"
    }
   ],
   "source": [
    "from sklearn.metrics import confusion_matrix\n",
    "cm = confusion_matrix(true_classes, predicted_classes)\n",
    "disp = sklearn.metrics.ConfusionMatrixDisplay(confusion_matrix = cm)\n",
    "disp.plot()"
   ]
  },
  {
   "cell_type": "code",
   "execution_count": null,
   "metadata": {},
   "outputs": [],
   "source": []
  },
  {
   "cell_type": "code",
   "execution_count": null,
   "metadata": {},
   "outputs": [],
   "source": []
  }
 ],
 "metadata": {
  "kernelspec": {
   "display_name": "Python 3 (ipykernel)",
   "language": "python",
   "name": "python3"
  },
  "language_info": {
   "codemirror_mode": {
    "name": "ipython",
    "version": 3
   },
   "file_extension": ".py",
   "mimetype": "text/x-python",
   "name": "python",
   "nbconvert_exporter": "python",
   "pygments_lexer": "ipython3",
   "version": "3.8.10"
  }
 },
 "nbformat": 4,
 "nbformat_minor": 4
}
