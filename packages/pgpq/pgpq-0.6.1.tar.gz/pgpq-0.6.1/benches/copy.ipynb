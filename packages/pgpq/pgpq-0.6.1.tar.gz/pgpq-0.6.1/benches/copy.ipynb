{
 "cells": [
  {
   "cell_type": "code",
   "execution_count": 4,
   "metadata": {},
   "outputs": [],
   "source": [
    "import pyarrow.parquet as pq\n",
    "from pyarrow.csv import write_csv\n",
    "from pgpq import ArrowToPostgresBinaryEncoder"
   ]
  },
  {
   "cell_type": "code",
   "execution_count": 5,
   "metadata": {},
   "outputs": [],
   "source": [
    "from pathlib import Path\n",
    "import requests\n",
    "\n",
    "file = Path(\".\").resolve().parent.parent / \"yellow_tripdata_2022-01.parquet\"\n",
    "if not file.exists():\n",
    "    with requests.get(\"https://d37ci6vzurychx.cloudfront.net/trip-data/yellow_tripdata_2022-01.parquet\", stream=True) as r:\n",
    "        r.raise_for_status()\n",
    "        with file.open(\"wb\") as f:\n",
    "            for chunk in r.iter_content(chunk_size=1024 * 1024):\n",
    "                f.write(chunk)"
   ]
  },
  {
   "cell_type": "code",
   "execution_count": 14,
   "metadata": {},
   "outputs": [],
   "source": [
    "arrow_table = pq.read_table(file)\n",
    "\n",
    "csv_file = file.with_suffix(\".csv\")\n",
    "binary_file = file.with_suffix(\".bin\")\n",
    "\n",
    "write_csv(arrow_table, csv_file)\n",
    "\n",
    "\n",
    "def encode_file():\n",
    "    encoder = ArrowToPostgresBinaryEncoder(arrow_table.schema)\n",
    "    with binary_file.open(\"wb\") as f:\n",
    "        f.write(encoder.write_header())\n",
    "        for batch in arrow_table.to_batches():\n",
    "            f.write(encoder.write_batch(batch))\n",
    "        f.write(encoder.finish())\n"
   ]
  },
  {
   "cell_type": "code",
   "execution_count": 31,
   "metadata": {},
   "outputs": [
    {
     "name": "stdout",
     "output_type": "stream",
     "text": [
      "4.85\n",
      "3.64\n"
     ]
    }
   ],
   "source": [
    "from contextlib import contextmanager\n",
    "import subprocess\n",
    "from time import time\n",
    "from typing import Iterator\n",
    "import psycopg\n",
    "from testing.postgresql import Postgresql\n",
    "\n",
    "\n",
    "@contextmanager\n",
    "def get_dsn() -> Iterator[str]:\n",
    "    postgres = Postgresql()\n",
    "    dsn = postgres.url()\n",
    "    try:\n",
    "        yield dsn\n",
    "    finally:\n",
    "        postgres.terminate()\n",
    "\n",
    "\n",
    "def clean(dsn: str):\n",
    "    with psycopg.connect(dsn) as conn:\n",
    "        with conn.cursor() as cursor:\n",
    "            cursor.execute(\"DROP TABLE IF EXISTS data\")\n",
    "            encoder = ArrowToPostgresBinaryEncoder(arrow_table.schema)\n",
    "            pg_schema = encoder.schema()\n",
    "            cols = [f\"\\\"{col['name']}\\\" {col['data_type']['ddl']}\" for col in pg_schema[\"columns\"]]\n",
    "            ddl = f\"CREATE TABLE data ({','.join(cols)})\"\n",
    "            cursor.execute(ddl)\n",
    "            conn.commit()\n",
    "\n",
    "\n",
    "# using psql just because it's the \"gold standard\" for this\n",
    "with get_dsn() as dsn:\n",
    "    clean(dsn)\n",
    "    start = time()\n",
    "    subprocess.run([\"psql\", dsn, \"-c\", f\"\\\\copy data FROM '{csv_file}' WITH (FORMAT CSV, HEADER);\"], check=True, capture_output=True)\n",
    "    end = time()\n",
    "    print(f\"{end-start:.2f}\")\n",
    "\n",
    "    clean(dsn)\n",
    "    start = time()\n",
    "    encode_file()\n",
    "    subprocess.run([\"psql\", dsn, \"-c\", f\"\\\\copy data FROM '{binary_file}' WITH (FORMAT BINARY);\"], check=True, capture_output=True)\n",
    "    end = time()\n",
    "    print(f\"{end-start:.2f}\")"
   ]
  }
 ],
 "metadata": {
  "kernelspec": {
   "display_name": ".venv",
   "language": "python",
   "name": "python3"
  },
  "language_info": {
   "codemirror_mode": {
    "name": "ipython",
    "version": 3
   },
   "file_extension": ".py",
   "mimetype": "text/x-python",
   "name": "python",
   "nbconvert_exporter": "python",
   "pygments_lexer": "ipython3",
   "version": "3.10.9"
  },
  "vscode": {
   "interpreter": {
    "hash": "bfe9facd2a803056c7d94beaa559586e38ec822d68c7c39f2e0c752e8e6533cf"
   }
  }
 },
 "nbformat": 4,
 "nbformat_minor": 4
}
