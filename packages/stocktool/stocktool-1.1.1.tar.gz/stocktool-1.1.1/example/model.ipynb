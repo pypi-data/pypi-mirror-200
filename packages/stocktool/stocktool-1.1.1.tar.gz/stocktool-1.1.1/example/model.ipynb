{
 "cells": [
  {
   "cell_type": "markdown",
   "id": "d5b41c73",
   "metadata": {},
   "source": [
    "# Import functios"
   ]
  },
  {
   "cell_type": "code",
   "execution_count": 1,
   "id": "45508773",
   "metadata": {
    "scrolled": true
   },
   "outputs": [],
   "source": [
    "from stocktool import StockData, StockPrediction, StockEvaluation"
   ]
  },
  {
   "cell_type": "markdown",
   "id": "2b265f4b",
   "metadata": {},
   "source": [
    "# Forecast\n",
    "\n",
    "**Use `StockPrediction(data, val)` or `StockPrediction(val, stocks, start, end, period)` to get prediction data structure.**  \n",
    "\n",
    "- Here we can use the data obtained before, and can also specify new stocks and time period.\n",
    "- Our forecasting based on TBATS model, which combines trend analysis, seasonality analysis, ARIMA and box-cox transformation."
   ]
  },
  {
   "cell_type": "code",
   "execution_count": 2,
   "id": "fc1d4c33",
   "metadata": {},
   "outputs": [],
   "source": [
    "data1 = StockData(stocks = [\"Meta\", \"AMZN\"], start = \"2022-01-20\", period = 180)\n",
    "model = StockPrediction(data1)"
   ]
  },
  {
   "cell_type": "code",
   "execution_count": 3,
   "id": "9ae49f79",
   "metadata": {},
   "outputs": [],
   "source": [
    "model1 = StockPrediction(val = \"Open\", \n",
    "                         stocks = [\"AAPL\", \"MSFT\", \"TM\", \"MCD\", \"TSLA\"], \n",
    "                         start = \"2020-10-20\", \n",
    "                         end = \"2022-11-28\")"
   ]
  },
  {
   "cell_type": "markdown",
   "id": "93ba0afc",
   "metadata": {},
   "source": [
    "**Use `predict(days, level)` to predict the stock price in next few days (default days is next 1 day), along with confidence interval (default level is 95%).**  \n",
    "\n",
    "- `model.predict()` is a dictionary, you can access the prediction of a stock by `model.predict()[\"stock_name\"]`.\n",
    "- You can specify preferred predicting days and confidence interval."
   ]
  },
  {
   "cell_type": "code",
   "execution_count": 4,
   "id": "4fabb8bf",
   "metadata": {},
   "outputs": [
    {
     "data": {
      "text/html": [
       "<div>\n",
       "<style scoped>\n",
       "    .dataframe tbody tr th:only-of-type {\n",
       "        vertical-align: middle;\n",
       "    }\n",
       "\n",
       "    .dataframe tbody tr th {\n",
       "        vertical-align: top;\n",
       "    }\n",
       "\n",
       "    .dataframe thead th {\n",
       "        text-align: right;\n",
       "    }\n",
       "</style>\n",
       "<table border=\"1\" class=\"dataframe\">\n",
       "  <thead>\n",
       "    <tr style=\"text-align: right;\">\n",
       "      <th></th>\n",
       "      <th>Meta</th>\n",
       "      <th>Meta-low</th>\n",
       "      <th>Meta-high</th>\n",
       "    </tr>\n",
       "  </thead>\n",
       "  <tbody>\n",
       "    <tr>\n",
       "      <th>2022-07-19</th>\n",
       "      <td>168.686611</td>\n",
       "      <td>156.989511</td>\n",
       "      <td>181.255248</td>\n",
       "    </tr>\n",
       "    <tr>\n",
       "      <th>2022-07-20</th>\n",
       "      <td>169.131937</td>\n",
       "      <td>153.531302</td>\n",
       "      <td>186.317785</td>\n",
       "    </tr>\n",
       "    <tr>\n",
       "      <th>2022-07-21</th>\n",
       "      <td>168.246717</td>\n",
       "      <td>149.979779</td>\n",
       "      <td>188.738496</td>\n",
       "    </tr>\n",
       "    <tr>\n",
       "      <th>2022-07-22</th>\n",
       "      <td>167.657658</td>\n",
       "      <td>147.320145</td>\n",
       "      <td>190.802761</td>\n",
       "    </tr>\n",
       "    <tr>\n",
       "      <th>2022-07-25</th>\n",
       "      <td>168.561107</td>\n",
       "      <td>146.367641</td>\n",
       "      <td>194.119729</td>\n",
       "    </tr>\n",
       "  </tbody>\n",
       "</table>\n",
       "</div>"
      ],
      "text/plain": [
       "                  Meta    Meta-low   Meta-high\n",
       "2022-07-19  168.686611  156.989511  181.255248\n",
       "2022-07-20  169.131937  153.531302  186.317785\n",
       "2022-07-21  168.246717  149.979779  188.738496\n",
       "2022-07-22  167.657658  147.320145  190.802761\n",
       "2022-07-25  168.561107  146.367641  194.119729"
      ]
     },
     "execution_count": 4,
     "metadata": {},
     "output_type": "execute_result"
    }
   ],
   "source": [
    "model.predict(days = 5, level = 0.9)[\"Meta\"]"
   ]
  },
  {
   "cell_type": "code",
   "execution_count": 5,
   "id": "d4dbc327",
   "metadata": {},
   "outputs": [
    {
     "data": {
      "text/html": [
       "<div>\n",
       "<style scoped>\n",
       "    .dataframe tbody tr th:only-of-type {\n",
       "        vertical-align: middle;\n",
       "    }\n",
       "\n",
       "    .dataframe tbody tr th {\n",
       "        vertical-align: top;\n",
       "    }\n",
       "\n",
       "    .dataframe thead th {\n",
       "        text-align: right;\n",
       "    }\n",
       "</style>\n",
       "<table border=\"1\" class=\"dataframe\">\n",
       "  <thead>\n",
       "    <tr style=\"text-align: right;\">\n",
       "      <th></th>\n",
       "      <th>AAPL</th>\n",
       "      <th>AAPL-low</th>\n",
       "      <th>AAPL-high</th>\n",
       "    </tr>\n",
       "  </thead>\n",
       "  <tbody>\n",
       "    <tr>\n",
       "      <th>2022-11-29</th>\n",
       "      <td>145.27397</td>\n",
       "      <td>139.851063</td>\n",
       "      <td>150.907156</td>\n",
       "    </tr>\n",
       "  </tbody>\n",
       "</table>\n",
       "</div>"
      ],
      "text/plain": [
       "                 AAPL    AAPL-low   AAPL-high\n",
       "2022-11-29  145.27397  139.851063  150.907156"
      ]
     },
     "execution_count": 5,
     "metadata": {},
     "output_type": "execute_result"
    }
   ],
   "source": [
    "model1.predict()[\"AAPL\"]"
   ]
  },
  {
   "cell_type": "markdown",
   "id": "2df01a65",
   "metadata": {},
   "source": [
    "**Use `update(date)` to update model with new stock price data.**\n",
    "\n",
    "- If not specifiy `date` argument, `update()` will update model with data till today."
   ]
  },
  {
   "cell_type": "code",
   "execution_count": 6,
   "id": "1328dd35",
   "metadata": {},
   "outputs": [],
   "source": [
    "model1.update(date=\"2022-12-01\")"
   ]
  },
  {
   "cell_type": "code",
   "execution_count": 7,
   "id": "104dc22c",
   "metadata": {},
   "outputs": [
    {
     "data": {
      "text/html": [
       "<div>\n",
       "<style scoped>\n",
       "    .dataframe tbody tr th:only-of-type {\n",
       "        vertical-align: middle;\n",
       "    }\n",
       "\n",
       "    .dataframe tbody tr th {\n",
       "        vertical-align: top;\n",
       "    }\n",
       "\n",
       "    .dataframe thead th {\n",
       "        text-align: right;\n",
       "    }\n",
       "</style>\n",
       "<table border=\"1\" class=\"dataframe\">\n",
       "  <thead>\n",
       "    <tr style=\"text-align: right;\">\n",
       "      <th></th>\n",
       "      <th>AAPL</th>\n",
       "      <th>AAPL-low</th>\n",
       "      <th>AAPL-high</th>\n",
       "    </tr>\n",
       "  </thead>\n",
       "  <tbody>\n",
       "    <tr>\n",
       "      <th>2022-11-30</th>\n",
       "      <td>144.109063</td>\n",
       "      <td>138.696661</td>\n",
       "      <td>149.732675</td>\n",
       "    </tr>\n",
       "  </tbody>\n",
       "</table>\n",
       "</div>"
      ],
      "text/plain": [
       "                  AAPL    AAPL-low   AAPL-high\n",
       "2022-11-30  144.109063  138.696661  149.732675"
      ]
     },
     "execution_count": 7,
     "metadata": {},
     "output_type": "execute_result"
    }
   ],
   "source": [
    "model1.predict()[\"AAPL\"]"
   ]
  },
  {
   "cell_type": "code",
   "execution_count": 8,
   "id": "a3fdde27",
   "metadata": {},
   "outputs": [
    {
     "name": "stdout",
     "output_type": "stream",
     "text": [
      "The Stock Market if not open on 2023-04-02, update until the last open date.\n"
     ]
    }
   ],
   "source": [
    "model1.update()"
   ]
  },
  {
   "cell_type": "code",
   "execution_count": 9,
   "id": "3e2b9826",
   "metadata": {},
   "outputs": [
    {
     "data": {
      "text/html": [
       "<div>\n",
       "<style scoped>\n",
       "    .dataframe tbody tr th:only-of-type {\n",
       "        vertical-align: middle;\n",
       "    }\n",
       "\n",
       "    .dataframe tbody tr th {\n",
       "        vertical-align: top;\n",
       "    }\n",
       "\n",
       "    .dataframe thead th {\n",
       "        text-align: right;\n",
       "    }\n",
       "</style>\n",
       "<table border=\"1\" class=\"dataframe\">\n",
       "  <thead>\n",
       "    <tr style=\"text-align: right;\">\n",
       "      <th></th>\n",
       "      <th>AAPL</th>\n",
       "      <th>AAPL-low</th>\n",
       "      <th>AAPL-high</th>\n",
       "    </tr>\n",
       "  </thead>\n",
       "  <tbody>\n",
       "    <tr>\n",
       "      <th>2022-12-05</th>\n",
       "      <td>146.001231</td>\n",
       "      <td>140.442754</td>\n",
       "      <td>151.779703</td>\n",
       "    </tr>\n",
       "  </tbody>\n",
       "</table>\n",
       "</div>"
      ],
      "text/plain": [
       "                  AAPL    AAPL-low   AAPL-high\n",
       "2022-12-05  146.001231  140.442754  151.779703"
      ]
     },
     "execution_count": 9,
     "metadata": {},
     "output_type": "execute_result"
    }
   ],
   "source": [
    "model1.predict()[\"AAPL\"]"
   ]
  }
 ],
 "metadata": {
  "kernelspec": {
   "display_name": "Python 3 (ipykernel)",
   "language": "python",
   "name": "python3"
  },
  "language_info": {
   "codemirror_mode": {
    "name": "ipython",
    "version": 3
   },
   "file_extension": ".py",
   "mimetype": "text/x-python",
   "name": "python",
   "nbconvert_exporter": "python",
   "pygments_lexer": "ipython3",
   "version": "3.7.13"
  }
 },
 "nbformat": 4,
 "nbformat_minor": 5
}
