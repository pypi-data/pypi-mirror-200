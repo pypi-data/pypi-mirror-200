{
 "cells": [
  {
   "cell_type": "markdown",
   "source": [
    "## Calculator class"
   ],
   "metadata": {
    "collapsed": false
   }
  },
  {
   "cell_type": "code",
   "execution_count": 42,
   "id": "vbgEGbvVgtQY",
   "metadata": {
    "colab": {
     "base_uri": "https://localhost:8080/"
    },
    "id": "vbgEGbvVgtQY",
    "outputId": "e70c65dd-e61a-4059-ce6d-e537137aad59"
   },
   "outputs": [],
   "source": [
    "# %%writefile calculator.py\n",
    "\n",
    "import math\n",
    "\n",
    "class Calculator:\n",
    "\n",
    "    def __init__(self, accum=math.inf):\n",
    "        \"\"\"default state of the accumulator is +infinity\n",
    "        \"\"\"\n",
    "        self.__accum = accum\n",
    "\n",
    "    def add(self, num: int):\n",
    "        \"\"\"add num to accumulator,\n",
    "           if accumulator in default state then use num as starting value.\n",
    "\n",
    "           For example:\n",
    "               >>> cal = Calculator()\n",
    "               >>> cal.add(2)\n",
    "               >>> print(cal.accum_state)\n",
    "               2\n",
    "               >>> cal.add(2)\n",
    "               >>> print(cal.accum_state)\n",
    "               4\n",
    "        \"\"\"\n",
    "        if self.is_accum_inf():\n",
    "            self.__accum = num\n",
    "        else:\n",
    "            self.__accum += num\n",
    "\n",
    "    def subtract(self, num: int):\n",
    "        \"\"\"subtract num from accumulator,\n",
    "           if accumulator in defualt state then use num as starting value.\n",
    "\n",
    "           For example:\n",
    "               >>> cal = Calculator()\n",
    "               >>> cal.subtract(2)\n",
    "               >>> print(cal.accum_state)\n",
    "               2\n",
    "               >>> cal.subtract(2)\n",
    "               >>> print(cal.accum_state)\n",
    "               0\n",
    "        \"\"\"\n",
    "        if self.is_accum_inf():\n",
    "            self.__accum = num\n",
    "        else:\n",
    "            self.__accum -= num\n",
    "\n",
    "    def multiply(self, num: int):\n",
    "        \"\"\"multipy accumulator by num,\n",
    "           if default value in accumulator then use num as starting value.\n",
    "\n",
    "           For example:\n",
    "               >>> cal = Calculator()\n",
    "               >>> cal.add(2)\n",
    "               >>> print(cal.accum_state)\n",
    "               2\n",
    "               >>> cal.add(2)\n",
    "               >>> print(cal.accum_state)\n",
    "               4\n",
    "        \"\"\"\n",
    "        if self.is_accum_inf():\n",
    "            self.__accum = num\n",
    "        else:\n",
    "            self.__accum *= num\n",
    "\n",
    "    def divide(self, num: int):\n",
    "        \"\"\"divide accumulator by num,\n",
    "           if default value in accumulator then use num as starting value.\n",
    "\n",
    "           For example:\n",
    "               >>> cal = Calculator()\n",
    "               >>> cal.divide(2)\n",
    "               >>> print(cal.accum_state)\n",
    "               2\n",
    "               >>> cal.divide(2)\n",
    "               >>> print(cal.accum_state)\n",
    "               1.0\n",
    "        \"\"\"\n",
    "        if self.is_accum_inf():\n",
    "            self.__accum = num\n",
    "        else:\n",
    "            self.__accum /= num\n",
    "\n",
    "    def root(self, num: int):\n",
    "        \"\"\"find root of number.\n",
    "           \n",
    "           For example:\n",
    "               >>> cal = Calculator()\n",
    "               >>> cal.root(4)\n",
    "               >>> print(cal.accum_state)\n",
    "               2.0\n",
    "        \"\"\"\n",
    "        self.__accum = math.sqrt(num)\n",
    "\n",
    "    def reset(self, state=math.inf):\n",
    "        \"\"\"reset accumulator to defualt value of +infinity\n",
    "           \n",
    "           For example:\n",
    "               >>> cal = Calculator()\n",
    "               >>> cal.reset(2)\n",
    "               >>> print(cal.accum_state)\n",
    "               2\n",
    "        \"\"\"\n",
    "        self.__accum = state\n",
    "\n",
    "    @property\n",
    "    def accum_state(self):\n",
    "        \"\"\"get current state/value of accumulator\n",
    "           \n",
    "           For example:\n",
    "               >>> cal = Calculator()\n",
    "               >>> print(cal.accum_state)\n",
    "               inf\n",
    "        \"\"\"\n",
    "        return self.__accum\n",
    "\n",
    "    def is_accum_inf(self):\n",
    "        \"\"\"check accumulator is set to default of +infinity\n",
    "           \n",
    "           For example:\n",
    "               >>> cal = Calculator()\n",
    "               >>> print(cal.is_accum_inf())\n",
    "               True\n",
    "        \"\"\"\n",
    "        return True if self.__accum == math.inf else False\n"
   ]
  },
  {
   "cell_type": "markdown",
   "id": "abEmFjpbVmLe",
   "metadata": {
    "id": "abEmFjpbVmLe"
   },
   "source": [
    "## Calculator Test class"
   ]
  },
  {
   "cell_type": "code",
   "execution_count": 43,
   "id": "UxY_fEH_g7q8",
   "metadata": {
    "colab": {
     "base_uri": "https://localhost:8080/"
    },
    "id": "UxY_fEH_g7q8",
    "outputId": "15199045-d241-4b25-9863-04512339b5de"
   },
   "outputs": [],
   "source": [
    "# %%writefile calculator_test.py\n",
    "\n",
    "import math\n",
    "from calculator_olu_ile.calculator import Calculator\n",
    "\n",
    "cal = Calculator()\n",
    "\n",
    "\n",
    "def test_add_default_accum_state_path():\n",
    "    cal.reset()\n",
    "    cal.add(2)\n",
    "    assert cal.accum_state == 2, \"Should be 2\"\n",
    "\n",
    "\n",
    "def test_add_addition_path():\n",
    "    cal.reset()\n",
    "    cal.add(2)\n",
    "    cal.add(2)\n",
    "    assert cal.accum_state == 4, \"Should be 4\"\n",
    "\n",
    "\n",
    "def test_subtract_default_accum_state_path():\n",
    "    cal.reset()\n",
    "    cal.subtract(2)\n",
    "    assert cal.accum_state == 2, \"Should be 2\"\n",
    "\n",
    "\n",
    "def test_subtract_subtraction_path():\n",
    "    cal.reset()\n",
    "    cal.subtract(2)\n",
    "    cal.subtract(2)\n",
    "    assert cal.accum_state == 0, \"Should be 0\"\n",
    "\n",
    "\n",
    "def test_multiply_default_accum_state_path():\n",
    "    cal.reset()\n",
    "    cal.multiply(2)\n",
    "    assert cal.accum_state == 2, \"Should be 2\"\n",
    "\n",
    "\n",
    "def test_multiply_multiplication_path():\n",
    "    cal.reset()\n",
    "    cal.multiply(2)\n",
    "    cal.multiply(2)\n",
    "    assert cal.accum_state == 4, \"Should be 4\"\n",
    "\n",
    "\n",
    "def test_divide_default_accum_state_path():\n",
    "    cal.reset()\n",
    "    cal.divide(2)\n",
    "    assert cal.accum_state == 2, \"Should be 2\"\n",
    "\n",
    "\n",
    "def test_divide_division_path():\n",
    "    cal.reset()\n",
    "    cal.divide(2)\n",
    "    cal.divide(2)\n",
    "    assert cal.accum_state == 1, \"Should be 1\"\n",
    "\n",
    "\n",
    "def test_root():\n",
    "    cal.reset()\n",
    "    cal.root(4)\n",
    "    assert cal.accum_state == 2, \"Should be 2\"\n",
    "\n",
    "\n",
    "def test_reset():\n",
    "    cal.reset()\n",
    "    assert cal.accum_state == math.inf, \"Should be math.inf or +infinity\"\n"
   ]
  },
  {
   "cell_type": "markdown",
   "id": "oNWgGKdmV8Nx",
   "metadata": {
    "id": "oNWgGKdmV8Nx"
   },
   "source": [
    "## Execute Calculator class"
   ]
  },
  {
   "cell_type": "code",
   "execution_count": 44,
   "id": "IS5-62b_1OZ7",
   "metadata": {
    "colab": {
     "base_uri": "https://localhost:8080/"
    },
    "id": "IS5-62b_1OZ7",
    "outputId": "1f47edea-8d30-4a94-9e2d-8f67664590d9"
   },
   "outputs": [
    {
     "name": "stdout",
     "output_type": "stream",
     "text": [
      "=============== Calculator ==================\n",
      "\n",
      "Calculators current result:  4\n",
      "\n"
     ]
    }
   ],
   "source": [
    "from calculator_olu_ile.calculator import Calculator\n",
    "cal = Calculator()\n",
    "cal.add(2)\n",
    "cal.add(2)\n",
    "print('='*15, 'Calculator', '='*18, end='\\n\\n')\n",
    "print('Calculators current result: ', cal.accum_state, end='\\n\\n')"
   ]
  },
  {
   "cell_type": "markdown",
   "id": "tt3FwSlvU4ya",
   "metadata": {
    "id": "tt3FwSlvU4ya"
   },
   "source": [
    "## Execute doctest"
   ]
  },
  {
   "cell_type": "code",
   "execution_count": 45,
   "id": "V5VwRq0O_oOq",
   "metadata": {
    "colab": {
     "base_uri": "https://localhost:8080/"
    },
    "id": "V5VwRq0O_oOq",
    "outputId": "794ef74e-6deb-486e-9d9a-2d69e2fd48a4"
   },
   "outputs": [
    {
     "name": "stdout",
     "output_type": "stream",
     "text": [
      "Trying:\n",
      "    cal = Calculator()\n",
      "Expecting nothing\n",
      "ok\n",
      "Trying:\n",
      "    print(cal.accum_state)\n",
      "Expecting:\n",
      "    inf\n",
      "ok\n",
      "Trying:\n",
      "    cal = Calculator()\n",
      "Expecting nothing\n",
      "ok\n",
      "Trying:\n",
      "    cal.add(2)\n",
      "Expecting nothing\n",
      "ok\n",
      "Trying:\n",
      "    print(cal.accum_state)\n",
      "Expecting:\n",
      "    2\n",
      "ok\n",
      "Trying:\n",
      "    cal.add(2)\n",
      "Expecting nothing\n",
      "ok\n",
      "Trying:\n",
      "    print(cal.accum_state)\n",
      "Expecting:\n",
      "    4\n",
      "ok\n",
      "Trying:\n",
      "    cal = Calculator()\n",
      "Expecting nothing\n",
      "ok\n",
      "Trying:\n",
      "    cal.divide(2)\n",
      "Expecting nothing\n",
      "ok\n",
      "Trying:\n",
      "    print(cal.accum_state)\n",
      "Expecting:\n",
      "    2\n",
      "ok\n",
      "Trying:\n",
      "    cal.divide(2)\n",
      "Expecting nothing\n",
      "ok\n",
      "Trying:\n",
      "    print(cal.accum_state)\n",
      "Expecting:\n",
      "    1.0\n",
      "ok\n",
      "Trying:\n",
      "    cal = Calculator()\n",
      "Expecting nothing\n",
      "ok\n",
      "Trying:\n",
      "    print(cal.is_accum_inf())\n",
      "Expecting:\n",
      "    True\n",
      "ok\n",
      "Trying:\n",
      "    cal = Calculator()\n",
      "Expecting nothing\n",
      "ok\n",
      "Trying:\n",
      "    cal.add(2)\n",
      "Expecting nothing\n",
      "ok\n",
      "Trying:\n",
      "    print(cal.accum_state)\n",
      "Expecting:\n",
      "    2\n",
      "ok\n",
      "Trying:\n",
      "    cal.add(2)\n",
      "Expecting nothing\n",
      "ok\n",
      "Trying:\n",
      "    print(cal.accum_state)\n",
      "Expecting:\n",
      "    4\n",
      "ok\n",
      "Trying:\n",
      "    cal = Calculator()\n",
      "Expecting nothing\n",
      "ok\n",
      "Trying:\n",
      "    cal.reset(2)\n",
      "Expecting nothing\n",
      "ok\n",
      "Trying:\n",
      "    print(cal.accum_state)\n",
      "Expecting:\n",
      "    2\n",
      "ok\n",
      "Trying:\n",
      "    cal = Calculator()\n",
      "Expecting nothing\n",
      "ok\n",
      "Trying:\n",
      "    cal.root(4)\n",
      "Expecting nothing\n",
      "ok\n",
      "Trying:\n",
      "    print(cal.accum_state)\n",
      "Expecting:\n",
      "    2.0\n",
      "ok\n",
      "Trying:\n",
      "    cal = Calculator()\n",
      "Expecting nothing\n",
      "ok\n",
      "Trying:\n",
      "    cal.subtract(2)\n",
      "Expecting nothing\n",
      "ok\n",
      "Trying:\n",
      "    print(cal.accum_state)\n",
      "Expecting:\n",
      "    2\n",
      "ok\n",
      "Trying:\n",
      "    cal.subtract(2)\n",
      "Expecting nothing\n",
      "ok\n",
      "Trying:\n",
      "    print(cal.accum_state)\n",
      "Expecting:\n",
      "    0\n",
      "ok\n",
      "3 items had no tests:\n",
      "    calculator\n",
      "    calculator.Calculator\n",
      "    calculator.Calculator.__init__\n",
      "8 items passed all tests:\n",
      "   2 tests in calculator.Calculator.accum_state\n",
      "   5 tests in calculator.Calculator.add\n",
      "   5 tests in calculator.Calculator.divide\n",
      "   2 tests in calculator.Calculator.is_accum_inf\n",
      "   5 tests in calculator.Calculator.multiply\n",
      "   3 tests in calculator.Calculator.reset\n",
      "   3 tests in calculator.Calculator.root\n",
      "   5 tests in calculator.Calculator.subtract\n",
      "30 tests in 11 items.\n",
      "30 passed and 0 failed.\n",
      "Test passed.\n"
     ]
    }
   ],
   "source": [
    "# run doctest on calculator.py\n",
    "!python -m doctest -v \\calculator_olu_ile\\calculator.py"
   ]
  },
  {
   "cell_type": "markdown",
   "id": "RZ_EgrYUVE92",
   "metadata": {
    "id": "RZ_EgrYUVE92"
   },
   "source": [
    "## Execute pytest"
   ]
  },
  {
   "cell_type": "code",
   "execution_count": 46,
   "id": "38rtKR0SkcyA",
   "metadata": {
    "colab": {
     "base_uri": "https://localhost:8080/"
    },
    "id": "38rtKR0SkcyA",
    "outputId": "b7ea8200-fa58-4eac-812e-3853e16dfdac"
   },
   "outputs": [
    {
     "name": "stdout",
     "output_type": "stream",
     "text": [
      "\u001B[1m============================= test session starts =============================\u001B[0m\n",
      "platform win32 -- Python 3.8.5, pytest-6.1.1, py-1.9.0, pluggy-0.13.1 -- C:\\ProgramData\\Anaconda3\\python.exe\n",
      "cachedir: .pytest_cache\n",
      "rootdir: C:\\Users\\abayomi\\Desktop\\olilesa-DWWP.1\n",
      "\u001B[1mcollecting ... \u001B[0mcollected 10 items\n",
      "\n",
      "..\\tests\\calculator_test.py::test_add_default_accum_state_path \u001B[32mPASSED\u001B[0m\u001B[33m    [ 10%]\u001B[0m\n",
      "..\\tests\\calculator_test.py::test_add_addition_path \u001B[32mPASSED\u001B[0m\u001B[33m               [ 20%]\u001B[0m\n",
      "..\\tests\\calculator_test.py::test_subtract_default_accum_state_path \u001B[32mPASSED\u001B[0m\u001B[33m [ 30%]\u001B[0m\n",
      "..\\tests\\calculator_test.py::test_subtract_subtraction_path \u001B[32mPASSED\u001B[0m\u001B[33m       [ 40%]\u001B[0m\n",
      "..\\tests\\calculator_test.py::test_multiply_default_accum_state_path \u001B[32mPASSED\u001B[0m\u001B[33m [ 50%]\u001B[0m\n",
      "..\\tests\\calculator_test.py::test_multiply_multiplication_path \u001B[32mPASSED\u001B[0m\u001B[33m    [ 60%]\u001B[0m\n",
      "..\\tests\\calculator_test.py::test_divide_default_accum_state_path \u001B[32mPASSED\u001B[0m\u001B[33m [ 70%]\u001B[0m\n",
      "..\\tests\\calculator_test.py::test_divide_division_path \u001B[32mPASSED\u001B[0m\u001B[33m            [ 80%]\u001B[0m\n",
      "..\\tests\\calculator_test.py::test_root \u001B[32mPASSED\u001B[0m\u001B[33m                            [ 90%]\u001B[0m\n",
      "..\\tests\\calculator_test.py::test_reset \u001B[32mPASSED\u001B[0m\u001B[33m                           [100%]\u001B[0m\n",
      "\n",
      "\u001B[33m============================== warnings summary ===============================\u001B[0m\n",
      "..\\..\\..\\..\\..\\ProgramData\\Anaconda3\\lib\\site-packages\\pyreadline\\py3k_compat.py:8\n",
      "  C:\\ProgramData\\Anaconda3\\lib\\site-packages\\pyreadline\\py3k_compat.py:8: DeprecationWarning: Using or importing the ABCs from 'collections' instead of from 'collections.abc' is deprecated since Python 3.3, and in 3.9 it will stop working\n",
      "    return isinstance(x, collections.Callable)\n",
      "\n",
      "-- Docs: https://docs.pytest.org/en/stable/warnings.html\n",
      "\u001B[33m======================== \u001B[32m10 passed\u001B[0m, \u001B[33m\u001B[1m1 warning\u001B[0m\u001B[33m in 0.04s\u001B[0m\u001B[33m ========================\u001B[0m\n"
     ]
    }
   ],
   "source": [
    "# run pytest on calculator_test.py\n",
    "!python -m pytest -v C:\\Users\\abayomi\\Desktop\\olilesa-DWWP.1\\tests"
   ]
  },
  {
   "cell_type": "markdown",
   "id": "AZR3MrfZVSVF",
   "metadata": {
    "id": "AZR3MrfZVSVF"
   },
   "source": [
    "## Execute mypy"
   ]
  },
  {
   "cell_type": "code",
   "execution_count": 47,
   "id": "kUAvb6XdtOEZ",
   "metadata": {
    "colab": {
     "base_uri": "https://localhost:8080/"
    },
    "id": "kUAvb6XdtOEZ",
    "outputId": "9d6f6ca1-eafe-4449-967a-a11a104ddfcb"
   },
   "outputs": [
    {
     "name": "stderr",
     "output_type": "stream",
     "text": [
      "C:\\ProgramData\\Anaconda3\\python.exe: No module named mypy\n"
     ]
    }
   ],
   "source": [
    "!python -m mypy -v \\calculator_olu_ile\\calculator.py"
   ]
  },
  {
   "cell_type": "code",
   "execution_count": null,
   "outputs": [],
   "source": [],
   "metadata": {
    "collapsed": false
   }
  },
  {
   "cell_type": "markdown",
   "id": "dyL5vICrWKY5",
   "metadata": {
    "id": "dyL5vICrWKY5"
   },
   "source": [
    "## Commands used in the course of this solution"
   ]
  },
  {
   "cell_type": "code",
   "execution_count": 48,
   "id": "pt1UGk57tueJ",
   "metadata": {
    "id": "pt1UGk57tueJ"
   },
   "outputs": [],
   "source": [
    "# !touch __init__.py\n",
    "# %mkdir calculatorpkg\n",
    "# %cd ../\n",
    "# !pwd\n",
    "# %rm -r /content/calculation"
   ]
  }
 ],
 "metadata": {
  "colab": {
   "provenance": []
  },
  "kernelspec": {
   "display_name": "Python 3 (ipykernel)",
   "language": "python",
   "name": "python3"
  },
  "language_info": {
   "codemirror_mode": {
    "name": "ipython",
    "version": 3
   },
   "file_extension": ".py",
   "mimetype": "text/x-python",
   "name": "python",
   "nbconvert_exporter": "python",
   "pygments_lexer": "ipython3",
   "version": "3.8.8"
  }
 },
 "nbformat": 4,
 "nbformat_minor": 5
}
