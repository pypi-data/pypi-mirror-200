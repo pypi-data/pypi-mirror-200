{
 "cells": [
  {
   "cell_type": "code",
   "execution_count": null,
   "id": "982e0607-c785-4394-a07c-eb7ca79efdeb",
   "metadata": {},
   "outputs": [],
   "source": []
  },
  {
   "cell_type": "code",
   "execution_count": 1,
   "id": "0cb87e60-4168-4be3-a4aa-1969e0b52579",
   "metadata": {
    "tags": []
   },
   "outputs": [],
   "source": [
    "%load_ext autoreload\n",
    "%autoreload 2"
   ]
  },
  {
   "cell_type": "code",
   "execution_count": 2,
   "id": "63827672-c00c-418e-b3dc-f38241b8341a",
   "metadata": {
    "tags": []
   },
   "outputs": [],
   "source": [
    "import os\n",
    "import sys\n",
    "\n",
    "os.chdir(\"..\")"
   ]
  },
  {
   "cell_type": "code",
   "execution_count": 3,
   "id": "eeaf9979-b5d4-45ac-a2ee-498cc6096d19",
   "metadata": {
    "tags": []
   },
   "outputs": [],
   "source": [
    "import matplotlib.pyplot as plt\n",
    "import numpy as np\n",
    "import pandas as pd\n",
    "import sklearn.calibration as calibration\n",
    "import sklearn.metrics as metrics\n",
    "import torch\n",
    "\n",
    "import flippers"
   ]
  },
  {
   "cell_type": "markdown",
   "id": "8d4e0c48-76d1-40a3-9080-b3e987c04c5b",
   "metadata": {
    "tags": []
   },
   "source": [
    "# Loading benchmarks from `wrench`"
   ]
  },
  {
   "cell_type": "markdown",
   "id": "3699bcc4-36b4-46d5-ac0b-0b6583a724d8",
   "metadata": {},
   "source": [
    "`wrench` is an open source weak supervision benchmark and library created by Jieyu Zhang.\n",
    "\n",
    "To learn more, visit https://github.com/JieyuZ2/wrench"
   ]
  },
  {
   "cell_type": "markdown",
   "id": "9b692be1-e956-45a7-943e-b383e3bdabaf",
   "metadata": {},
   "source": [
    "To get the datasets, you will need to run `sh scripts/download_wrench_datasets.sh` from the root of the repository\n",
    "Or grab them yourself from https://github.com/JieyuZ2/wrench#-available-datasets"
   ]
  },
  {
   "cell_type": "code",
   "execution_count": 4,
   "id": "2718e19b-4bc2-4a13-ba3b-42d5209701da",
   "metadata": {},
   "outputs": [],
   "source": [
    "# !cat scripts/download_wrench_datasets.sh\n",
    "# !sh scripts/download_wrench_datasets.sh"
   ]
  },
  {
   "cell_type": "code",
   "execution_count": 5,
   "id": "fa68bfad-8533-43d6-a947-28b600fddb21",
   "metadata": {
    "tags": []
   },
   "outputs": [],
   "source": [
    "# This helper loads any dataset in the wrench benchmarks\n",
    "# and creates monopolar label matrices from their multipolar data\n",
    "def load_wrench_dataset(dataset):\n",
    "    dataset = \"datasets/\" + f\"{dataset}\" + \"/{}.json\"\n",
    "    train = pd.read_json(dataset.format(\"train\")).T\n",
    "    dev = pd.read_json(dataset.format(\"valid\")).T\n",
    "    test = pd.read_json(dataset.format(\"test\")).T\n",
    "\n",
    "    L_train, polarities, polarities_mapping = flippers.multipolar_to_monopolar(\n",
    "        train[\"weak_labels\"].apply(pd.Series)\n",
    "    )\n",
    "    L_dev, _, _ = flippers.multipolar_to_monopolar(\n",
    "        dev[\"weak_labels\"].apply(pd.Series), polarities_mapping\n",
    "    )\n",
    "    L_test, _, _ = flippers.multipolar_to_monopolar(\n",
    "        test[\"weak_labels\"].apply(pd.Series), polarities_mapping\n",
    "    )\n",
    "\n",
    "    return (train, dev, test), (L_train, L_dev, L_test), polarities"
   ]
  },
  {
   "cell_type": "markdown",
   "id": "9c9afb02-cb5c-432c-a953-103703d7b70d",
   "metadata": {},
   "source": [
    "Choose your dataset here"
   ]
  },
  {
   "cell_type": "code",
   "execution_count": 6,
   "id": "bd7c4f65-6011-485e-91d3-b795ccf6972f",
   "metadata": {
    "tags": []
   },
   "outputs": [
    {
     "name": "stderr",
     "output_type": "stream",
     "text": [
      "/home/bern/Repos/flippers/flippers/_core/_core.py:132: UserWarning: Polarity mapping if not furnished.\n",
      "Make sure L captures all possible values of each weak labelers.\n",
      "  warnings.warn(\n"
     ]
    }
   ],
   "source": [
    "dataset = \"cdr\"\n",
    "# dataset = \"yelp\"\n",
    "# dataset = \"youtube\"\n",
    "# dataset = \"census\"\n",
    "# dataset= \"semeval\"\n",
    "# dataset = \"spouse\"\n",
    "\n",
    "\n",
    "data, weak_labels, polarities = load_wrench_dataset(dataset)\n",
    "train, dev, test = data\n",
    "L_train, L_dev, L_test = weak_labels"
   ]
  },
  {
   "cell_type": "code",
   "execution_count": 7,
   "id": "b3ffc40c-3fcc-411c-b327-f9c01909e726",
   "metadata": {
    "tags": []
   },
   "outputs": [
    {
     "data": {
      "text/plain": [
       "[0.6673913043478261, 0.33260869565217394]"
      ]
     },
     "execution_count": 7,
     "metadata": {},
     "output_type": "execute_result"
    }
   ],
   "source": [
    "class_balances = list(\n",
    "    dev[\"label\"].astype(int).value_counts(normalize=True).sort_index()\n",
    ")\n",
    "class_balances"
   ]
  },
  {
   "cell_type": "markdown",
   "id": "a15d3128-887f-42a0-95dd-c033089761f4",
   "metadata": {},
   "source": [
    "# Brief overview of `flippers`"
   ]
  },
  {
   "cell_type": "markdown",
   "id": "500ea14d-501b-4622-8196-1934c7e92ef9",
   "metadata": {},
   "source": [
    "The following is the weak label matrix binary format used by `flippers`.\n",
    "\n",
    "All labeling functions are unimodal, either predicting 0 (\"Abstain\") or a 1.\n",
    "\n",
    "This is different than some other weak supervision libraries like Snorkel, where Abstains are -1, and other outputs are polarized predictions."
   ]
  },
  {
   "cell_type": "code",
   "execution_count": 8,
   "id": "1823c4ef-f278-4e4c-aac3-c78786630a9c",
   "metadata": {
    "tags": []
   },
   "outputs": [
    {
     "data": {
      "text/html": [
       "<div>\n",
       "<style scoped>\n",
       "    .dataframe tbody tr th:only-of-type {\n",
       "        vertical-align: middle;\n",
       "    }\n",
       "\n",
       "    .dataframe tbody tr th {\n",
       "        vertical-align: top;\n",
       "    }\n",
       "\n",
       "    .dataframe thead th {\n",
       "        text-align: right;\n",
       "    }\n",
       "</style>\n",
       "<table border=\"1\" class=\"dataframe\">\n",
       "  <thead>\n",
       "    <tr style=\"text-align: right;\">\n",
       "      <th></th>\n",
       "      <th>0</th>\n",
       "      <th>1</th>\n",
       "      <th>2</th>\n",
       "      <th>3</th>\n",
       "      <th>4</th>\n",
       "      <th>5</th>\n",
       "      <th>6</th>\n",
       "      <th>7</th>\n",
       "      <th>8</th>\n",
       "      <th>9</th>\n",
       "      <th>...</th>\n",
       "      <th>23</th>\n",
       "      <th>24</th>\n",
       "      <th>25</th>\n",
       "      <th>26</th>\n",
       "      <th>27</th>\n",
       "      <th>28</th>\n",
       "      <th>29</th>\n",
       "      <th>30</th>\n",
       "      <th>31</th>\n",
       "      <th>32</th>\n",
       "    </tr>\n",
       "  </thead>\n",
       "  <tbody>\n",
       "    <tr>\n",
       "      <th>0</th>\n",
       "      <td>0</td>\n",
       "      <td>0</td>\n",
       "      <td>0</td>\n",
       "      <td>1</td>\n",
       "      <td>1</td>\n",
       "      <td>0</td>\n",
       "      <td>0</td>\n",
       "      <td>0</td>\n",
       "      <td>0</td>\n",
       "      <td>0</td>\n",
       "      <td>...</td>\n",
       "      <td>0</td>\n",
       "      <td>0</td>\n",
       "      <td>0</td>\n",
       "      <td>0</td>\n",
       "      <td>0</td>\n",
       "      <td>0</td>\n",
       "      <td>0</td>\n",
       "      <td>0</td>\n",
       "      <td>0</td>\n",
       "      <td>0</td>\n",
       "    </tr>\n",
       "    <tr>\n",
       "      <th>1</th>\n",
       "      <td>0</td>\n",
       "      <td>0</td>\n",
       "      <td>0</td>\n",
       "      <td>0</td>\n",
       "      <td>0</td>\n",
       "      <td>0</td>\n",
       "      <td>0</td>\n",
       "      <td>0</td>\n",
       "      <td>1</td>\n",
       "      <td>0</td>\n",
       "      <td>...</td>\n",
       "      <td>0</td>\n",
       "      <td>0</td>\n",
       "      <td>0</td>\n",
       "      <td>0</td>\n",
       "      <td>0</td>\n",
       "      <td>0</td>\n",
       "      <td>0</td>\n",
       "      <td>1</td>\n",
       "      <td>0</td>\n",
       "      <td>0</td>\n",
       "    </tr>\n",
       "    <tr>\n",
       "      <th>2</th>\n",
       "      <td>0</td>\n",
       "      <td>0</td>\n",
       "      <td>0</td>\n",
       "      <td>0</td>\n",
       "      <td>0</td>\n",
       "      <td>0</td>\n",
       "      <td>0</td>\n",
       "      <td>0</td>\n",
       "      <td>0</td>\n",
       "      <td>0</td>\n",
       "      <td>...</td>\n",
       "      <td>0</td>\n",
       "      <td>0</td>\n",
       "      <td>0</td>\n",
       "      <td>0</td>\n",
       "      <td>0</td>\n",
       "      <td>0</td>\n",
       "      <td>0</td>\n",
       "      <td>0</td>\n",
       "      <td>0</td>\n",
       "      <td>0</td>\n",
       "    </tr>\n",
       "    <tr>\n",
       "      <th>3</th>\n",
       "      <td>0</td>\n",
       "      <td>0</td>\n",
       "      <td>0</td>\n",
       "      <td>0</td>\n",
       "      <td>0</td>\n",
       "      <td>0</td>\n",
       "      <td>0</td>\n",
       "      <td>0</td>\n",
       "      <td>0</td>\n",
       "      <td>0</td>\n",
       "      <td>...</td>\n",
       "      <td>0</td>\n",
       "      <td>0</td>\n",
       "      <td>0</td>\n",
       "      <td>0</td>\n",
       "      <td>0</td>\n",
       "      <td>0</td>\n",
       "      <td>0</td>\n",
       "      <td>0</td>\n",
       "      <td>0</td>\n",
       "      <td>0</td>\n",
       "    </tr>\n",
       "    <tr>\n",
       "      <th>4</th>\n",
       "      <td>0</td>\n",
       "      <td>0</td>\n",
       "      <td>0</td>\n",
       "      <td>0</td>\n",
       "      <td>0</td>\n",
       "      <td>0</td>\n",
       "      <td>0</td>\n",
       "      <td>0</td>\n",
       "      <td>0</td>\n",
       "      <td>0</td>\n",
       "      <td>...</td>\n",
       "      <td>0</td>\n",
       "      <td>0</td>\n",
       "      <td>0</td>\n",
       "      <td>0</td>\n",
       "      <td>0</td>\n",
       "      <td>0</td>\n",
       "      <td>0</td>\n",
       "      <td>0</td>\n",
       "      <td>0</td>\n",
       "      <td>0</td>\n",
       "    </tr>\n",
       "    <tr>\n",
       "      <th>...</th>\n",
       "      <td>...</td>\n",
       "      <td>...</td>\n",
       "      <td>...</td>\n",
       "      <td>...</td>\n",
       "      <td>...</td>\n",
       "      <td>...</td>\n",
       "      <td>...</td>\n",
       "      <td>...</td>\n",
       "      <td>...</td>\n",
       "      <td>...</td>\n",
       "      <td>...</td>\n",
       "      <td>...</td>\n",
       "      <td>...</td>\n",
       "      <td>...</td>\n",
       "      <td>...</td>\n",
       "      <td>...</td>\n",
       "      <td>...</td>\n",
       "      <td>...</td>\n",
       "      <td>...</td>\n",
       "      <td>...</td>\n",
       "      <td>...</td>\n",
       "    </tr>\n",
       "    <tr>\n",
       "      <th>8425</th>\n",
       "      <td>0</td>\n",
       "      <td>0</td>\n",
       "      <td>0</td>\n",
       "      <td>0</td>\n",
       "      <td>0</td>\n",
       "      <td>0</td>\n",
       "      <td>0</td>\n",
       "      <td>0</td>\n",
       "      <td>0</td>\n",
       "      <td>0</td>\n",
       "      <td>...</td>\n",
       "      <td>1</td>\n",
       "      <td>0</td>\n",
       "      <td>0</td>\n",
       "      <td>0</td>\n",
       "      <td>0</td>\n",
       "      <td>0</td>\n",
       "      <td>0</td>\n",
       "      <td>0</td>\n",
       "      <td>0</td>\n",
       "      <td>0</td>\n",
       "    </tr>\n",
       "    <tr>\n",
       "      <th>8426</th>\n",
       "      <td>0</td>\n",
       "      <td>0</td>\n",
       "      <td>0</td>\n",
       "      <td>1</td>\n",
       "      <td>1</td>\n",
       "      <td>0</td>\n",
       "      <td>0</td>\n",
       "      <td>0</td>\n",
       "      <td>0</td>\n",
       "      <td>0</td>\n",
       "      <td>...</td>\n",
       "      <td>0</td>\n",
       "      <td>0</td>\n",
       "      <td>0</td>\n",
       "      <td>0</td>\n",
       "      <td>0</td>\n",
       "      <td>0</td>\n",
       "      <td>0</td>\n",
       "      <td>0</td>\n",
       "      <td>0</td>\n",
       "      <td>0</td>\n",
       "    </tr>\n",
       "    <tr>\n",
       "      <th>8427</th>\n",
       "      <td>0</td>\n",
       "      <td>0</td>\n",
       "      <td>0</td>\n",
       "      <td>1</td>\n",
       "      <td>1</td>\n",
       "      <td>0</td>\n",
       "      <td>0</td>\n",
       "      <td>0</td>\n",
       "      <td>0</td>\n",
       "      <td>1</td>\n",
       "      <td>...</td>\n",
       "      <td>0</td>\n",
       "      <td>0</td>\n",
       "      <td>0</td>\n",
       "      <td>0</td>\n",
       "      <td>0</td>\n",
       "      <td>0</td>\n",
       "      <td>0</td>\n",
       "      <td>0</td>\n",
       "      <td>0</td>\n",
       "      <td>0</td>\n",
       "    </tr>\n",
       "    <tr>\n",
       "      <th>8428</th>\n",
       "      <td>0</td>\n",
       "      <td>0</td>\n",
       "      <td>0</td>\n",
       "      <td>0</td>\n",
       "      <td>0</td>\n",
       "      <td>1</td>\n",
       "      <td>0</td>\n",
       "      <td>0</td>\n",
       "      <td>0</td>\n",
       "      <td>0</td>\n",
       "      <td>...</td>\n",
       "      <td>0</td>\n",
       "      <td>0</td>\n",
       "      <td>1</td>\n",
       "      <td>0</td>\n",
       "      <td>0</td>\n",
       "      <td>0</td>\n",
       "      <td>0</td>\n",
       "      <td>0</td>\n",
       "      <td>0</td>\n",
       "      <td>0</td>\n",
       "    </tr>\n",
       "    <tr>\n",
       "      <th>8429</th>\n",
       "      <td>0</td>\n",
       "      <td>0</td>\n",
       "      <td>0</td>\n",
       "      <td>0</td>\n",
       "      <td>0</td>\n",
       "      <td>0</td>\n",
       "      <td>0</td>\n",
       "      <td>0</td>\n",
       "      <td>0</td>\n",
       "      <td>0</td>\n",
       "      <td>...</td>\n",
       "      <td>1</td>\n",
       "      <td>0</td>\n",
       "      <td>0</td>\n",
       "      <td>0</td>\n",
       "      <td>0</td>\n",
       "      <td>0</td>\n",
       "      <td>0</td>\n",
       "      <td>0</td>\n",
       "      <td>0</td>\n",
       "      <td>0</td>\n",
       "    </tr>\n",
       "  </tbody>\n",
       "</table>\n",
       "<p>8430 rows × 33 columns</p>\n",
       "</div>"
      ],
      "text/plain": [
       "      0  1  2  3  4  5  6  7  8  9  ...  23  24  25  26  27  28  29  30  31  \\\n",
       "0     0  0  0  1  1  0  0  0  0  0  ...   0   0   0   0   0   0   0   0   0   \n",
       "1     0  0  0  0  0  0  0  0  1  0  ...   0   0   0   0   0   0   0   1   0   \n",
       "2     0  0  0  0  0  0  0  0  0  0  ...   0   0   0   0   0   0   0   0   0   \n",
       "3     0  0  0  0  0  0  0  0  0  0  ...   0   0   0   0   0   0   0   0   0   \n",
       "4     0  0  0  0  0  0  0  0  0  0  ...   0   0   0   0   0   0   0   0   0   \n",
       "...  .. .. .. .. .. .. .. .. .. ..  ...  ..  ..  ..  ..  ..  ..  ..  ..  ..   \n",
       "8425  0  0  0  0  0  0  0  0  0  0  ...   1   0   0   0   0   0   0   0   0   \n",
       "8426  0  0  0  1  1  0  0  0  0  0  ...   0   0   0   0   0   0   0   0   0   \n",
       "8427  0  0  0  1  1  0  0  0  0  1  ...   0   0   0   0   0   0   0   0   0   \n",
       "8428  0  0  0  0  0  1  0  0  0  0  ...   0   0   1   0   0   0   0   0   0   \n",
       "8429  0  0  0  0  0  0  0  0  0  0  ...   1   0   0   0   0   0   0   0   0   \n",
       "\n",
       "      32  \n",
       "0      0  \n",
       "1      0  \n",
       "2      0  \n",
       "3      0  \n",
       "4      0  \n",
       "...   ..  \n",
       "8425   0  \n",
       "8426   0  \n",
       "8427   0  \n",
       "8428   0  \n",
       "8429   0  \n",
       "\n",
       "[8430 rows x 33 columns]"
      ]
     },
     "execution_count": 8,
     "metadata": {},
     "output_type": "execute_result"
    }
   ],
   "source": [
    "L_train"
   ]
  },
  {
   "cell_type": "markdown",
   "id": "ed1c881e-badd-443b-bbf0-550373c77c66",
   "metadata": {},
   "source": [
    "The polarity of a labeling function informs which class it is trying to detect.\n",
    "\n",
    "We have `#|weak labelers| = L.shape[1] = len(polarities)`"
   ]
  },
  {
   "cell_type": "code",
   "execution_count": 9,
   "id": "a0d07c75-f0da-423c-a83a-9764223957d4",
   "metadata": {
    "tags": []
   },
   "outputs": [
    {
     "data": {
      "text/plain": [
       "array([1, 1, 1, 0, 0, 0, 0, 1, 1, 0, 0, 1, 1, 1, 1, 0, 1, 0, 0, 0, 0, 1,\n",
       "       0, 1, 1, 0, 0, 0, 0, 1, 0, 0, 0])"
      ]
     },
     "execution_count": 9,
     "metadata": {},
     "output_type": "execute_result"
    }
   ],
   "source": [
    "polarities"
   ]
  },
  {
   "cell_type": "code",
   "execution_count": 10,
   "id": "0025642f-8670-4895-9cc9-637ee864164b",
   "metadata": {
    "tags": []
   },
   "outputs": [
    {
     "data": {
      "text/html": [
       "<div>\n",
       "<style scoped>\n",
       "    .dataframe tbody tr th:only-of-type {\n",
       "        vertical-align: middle;\n",
       "    }\n",
       "\n",
       "    .dataframe tbody tr th {\n",
       "        vertical-align: top;\n",
       "    }\n",
       "\n",
       "    .dataframe thead th {\n",
       "        text-align: right;\n",
       "    }\n",
       "</style>\n",
       "<table border=\"1\" class=\"dataframe\">\n",
       "  <thead>\n",
       "    <tr style=\"text-align: right;\">\n",
       "      <th></th>\n",
       "      <th>polarity</th>\n",
       "      <th>coverage</th>\n",
       "      <th>confidence</th>\n",
       "      <th>overlaps</th>\n",
       "      <th>matched</th>\n",
       "      <th>conflicted</th>\n",
       "    </tr>\n",
       "  </thead>\n",
       "  <tbody>\n",
       "    <tr>\n",
       "      <th>0</th>\n",
       "      <td>1</td>\n",
       "      <td>0.032</td>\n",
       "      <td>1.0</td>\n",
       "      <td>0.028</td>\n",
       "      <td>0.0</td>\n",
       "      <td>0.0</td>\n",
       "    </tr>\n",
       "    <tr>\n",
       "      <th>1</th>\n",
       "      <td>1</td>\n",
       "      <td>0.022</td>\n",
       "      <td>1.0</td>\n",
       "      <td>0.018</td>\n",
       "      <td>0.0</td>\n",
       "      <td>0.0</td>\n",
       "    </tr>\n",
       "    <tr>\n",
       "      <th>2</th>\n",
       "      <td>1</td>\n",
       "      <td>0.004</td>\n",
       "      <td>1.0</td>\n",
       "      <td>0.004</td>\n",
       "      <td>0.0</td>\n",
       "      <td>0.0</td>\n",
       "    </tr>\n",
       "    <tr>\n",
       "      <th>3</th>\n",
       "      <td>0</td>\n",
       "      <td>0.048</td>\n",
       "      <td>1.0</td>\n",
       "      <td>0.048</td>\n",
       "      <td>0.0</td>\n",
       "      <td>0.0</td>\n",
       "    </tr>\n",
       "    <tr>\n",
       "      <th>4</th>\n",
       "      <td>0</td>\n",
       "      <td>0.088</td>\n",
       "      <td>1.0</td>\n",
       "      <td>0.087</td>\n",
       "      <td>0.0</td>\n",
       "      <td>0.0</td>\n",
       "    </tr>\n",
       "    <tr>\n",
       "      <th>5</th>\n",
       "      <td>0</td>\n",
       "      <td>0.188</td>\n",
       "      <td>1.0</td>\n",
       "      <td>0.170</td>\n",
       "      <td>0.0</td>\n",
       "      <td>0.0</td>\n",
       "    </tr>\n",
       "    <tr>\n",
       "      <th>6</th>\n",
       "      <td>0</td>\n",
       "      <td>0.014</td>\n",
       "      <td>1.0</td>\n",
       "      <td>0.014</td>\n",
       "      <td>0.0</td>\n",
       "      <td>0.0</td>\n",
       "    </tr>\n",
       "    <tr>\n",
       "      <th>7</th>\n",
       "      <td>1</td>\n",
       "      <td>0.018</td>\n",
       "      <td>1.0</td>\n",
       "      <td>0.018</td>\n",
       "      <td>0.0</td>\n",
       "      <td>0.0</td>\n",
       "    </tr>\n",
       "    <tr>\n",
       "      <th>8</th>\n",
       "      <td>1</td>\n",
       "      <td>0.020</td>\n",
       "      <td>1.0</td>\n",
       "      <td>0.020</td>\n",
       "      <td>0.0</td>\n",
       "      <td>0.0</td>\n",
       "    </tr>\n",
       "    <tr>\n",
       "      <th>9</th>\n",
       "      <td>0</td>\n",
       "      <td>0.047</td>\n",
       "      <td>1.0</td>\n",
       "      <td>0.047</td>\n",
       "      <td>0.0</td>\n",
       "      <td>0.0</td>\n",
       "    </tr>\n",
       "    <tr>\n",
       "      <th>10</th>\n",
       "      <td>0</td>\n",
       "      <td>0.058</td>\n",
       "      <td>1.0</td>\n",
       "      <td>0.058</td>\n",
       "      <td>0.0</td>\n",
       "      <td>0.0</td>\n",
       "    </tr>\n",
       "    <tr>\n",
       "      <th>11</th>\n",
       "      <td>1</td>\n",
       "      <td>0.017</td>\n",
       "      <td>1.0</td>\n",
       "      <td>0.017</td>\n",
       "      <td>0.0</td>\n",
       "      <td>0.0</td>\n",
       "    </tr>\n",
       "    <tr>\n",
       "      <th>12</th>\n",
       "      <td>1</td>\n",
       "      <td>0.000</td>\n",
       "      <td>1.0</td>\n",
       "      <td>0.000</td>\n",
       "      <td>0.0</td>\n",
       "      <td>0.0</td>\n",
       "    </tr>\n",
       "    <tr>\n",
       "      <th>13</th>\n",
       "      <td>1</td>\n",
       "      <td>0.036</td>\n",
       "      <td>1.0</td>\n",
       "      <td>0.034</td>\n",
       "      <td>0.0</td>\n",
       "      <td>0.0</td>\n",
       "    </tr>\n",
       "    <tr>\n",
       "      <th>14</th>\n",
       "      <td>1</td>\n",
       "      <td>0.018</td>\n",
       "      <td>1.0</td>\n",
       "      <td>0.018</td>\n",
       "      <td>0.0</td>\n",
       "      <td>0.0</td>\n",
       "    </tr>\n",
       "    <tr>\n",
       "      <th>15</th>\n",
       "      <td>0</td>\n",
       "      <td>0.027</td>\n",
       "      <td>1.0</td>\n",
       "      <td>0.024</td>\n",
       "      <td>0.0</td>\n",
       "      <td>0.0</td>\n",
       "    </tr>\n",
       "    <tr>\n",
       "      <th>16</th>\n",
       "      <td>1</td>\n",
       "      <td>0.001</td>\n",
       "      <td>1.0</td>\n",
       "      <td>0.001</td>\n",
       "      <td>0.0</td>\n",
       "      <td>0.0</td>\n",
       "    </tr>\n",
       "    <tr>\n",
       "      <th>17</th>\n",
       "      <td>0</td>\n",
       "      <td>0.109</td>\n",
       "      <td>1.0</td>\n",
       "      <td>0.097</td>\n",
       "      <td>0.0</td>\n",
       "      <td>0.0</td>\n",
       "    </tr>\n",
       "    <tr>\n",
       "      <th>18</th>\n",
       "      <td>0</td>\n",
       "      <td>0.082</td>\n",
       "      <td>1.0</td>\n",
       "      <td>0.070</td>\n",
       "      <td>0.0</td>\n",
       "      <td>0.0</td>\n",
       "    </tr>\n",
       "    <tr>\n",
       "      <th>19</th>\n",
       "      <td>0</td>\n",
       "      <td>0.002</td>\n",
       "      <td>1.0</td>\n",
       "      <td>0.001</td>\n",
       "      <td>0.0</td>\n",
       "      <td>0.0</td>\n",
       "    </tr>\n",
       "    <tr>\n",
       "      <th>20</th>\n",
       "      <td>0</td>\n",
       "      <td>0.299</td>\n",
       "      <td>1.0</td>\n",
       "      <td>0.258</td>\n",
       "      <td>0.0</td>\n",
       "      <td>0.0</td>\n",
       "    </tr>\n",
       "    <tr>\n",
       "      <th>21</th>\n",
       "      <td>1</td>\n",
       "      <td>0.612</td>\n",
       "      <td>1.0</td>\n",
       "      <td>0.442</td>\n",
       "      <td>0.0</td>\n",
       "      <td>0.0</td>\n",
       "    </tr>\n",
       "    <tr>\n",
       "      <th>22</th>\n",
       "      <td>0</td>\n",
       "      <td>0.002</td>\n",
       "      <td>1.0</td>\n",
       "      <td>0.001</td>\n",
       "      <td>0.0</td>\n",
       "      <td>0.0</td>\n",
       "    </tr>\n",
       "    <tr>\n",
       "      <th>23</th>\n",
       "      <td>1</td>\n",
       "      <td>0.090</td>\n",
       "      <td>1.0</td>\n",
       "      <td>0.084</td>\n",
       "      <td>0.0</td>\n",
       "      <td>0.0</td>\n",
       "    </tr>\n",
       "    <tr>\n",
       "      <th>24</th>\n",
       "      <td>1</td>\n",
       "      <td>0.007</td>\n",
       "      <td>1.0</td>\n",
       "      <td>0.006</td>\n",
       "      <td>0.0</td>\n",
       "      <td>0.0</td>\n",
       "    </tr>\n",
       "    <tr>\n",
       "      <th>25</th>\n",
       "      <td>0</td>\n",
       "      <td>0.041</td>\n",
       "      <td>1.0</td>\n",
       "      <td>0.040</td>\n",
       "      <td>0.0</td>\n",
       "      <td>0.0</td>\n",
       "    </tr>\n",
       "    <tr>\n",
       "      <th>26</th>\n",
       "      <td>0</td>\n",
       "      <td>0.007</td>\n",
       "      <td>1.0</td>\n",
       "      <td>0.005</td>\n",
       "      <td>0.0</td>\n",
       "      <td>0.0</td>\n",
       "    </tr>\n",
       "    <tr>\n",
       "      <th>27</th>\n",
       "      <td>0</td>\n",
       "      <td>0.004</td>\n",
       "      <td>1.0</td>\n",
       "      <td>0.003</td>\n",
       "      <td>0.0</td>\n",
       "      <td>0.0</td>\n",
       "    </tr>\n",
       "    <tr>\n",
       "      <th>28</th>\n",
       "      <td>0</td>\n",
       "      <td>0.018</td>\n",
       "      <td>1.0</td>\n",
       "      <td>0.015</td>\n",
       "      <td>0.0</td>\n",
       "      <td>0.0</td>\n",
       "    </tr>\n",
       "    <tr>\n",
       "      <th>29</th>\n",
       "      <td>1</td>\n",
       "      <td>0.005</td>\n",
       "      <td>1.0</td>\n",
       "      <td>0.005</td>\n",
       "      <td>0.0</td>\n",
       "      <td>0.0</td>\n",
       "    </tr>\n",
       "    <tr>\n",
       "      <th>30</th>\n",
       "      <td>0</td>\n",
       "      <td>0.022</td>\n",
       "      <td>1.0</td>\n",
       "      <td>0.020</td>\n",
       "      <td>0.0</td>\n",
       "      <td>0.0</td>\n",
       "    </tr>\n",
       "    <tr>\n",
       "      <th>31</th>\n",
       "      <td>0</td>\n",
       "      <td>0.018</td>\n",
       "      <td>1.0</td>\n",
       "      <td>0.017</td>\n",
       "      <td>0.0</td>\n",
       "      <td>0.0</td>\n",
       "    </tr>\n",
       "    <tr>\n",
       "      <th>32</th>\n",
       "      <td>0</td>\n",
       "      <td>0.113</td>\n",
       "      <td>1.0</td>\n",
       "      <td>0.099</td>\n",
       "      <td>0.0</td>\n",
       "      <td>0.0</td>\n",
       "    </tr>\n",
       "  </tbody>\n",
       "</table>\n",
       "</div>"
      ],
      "text/plain": [
       "    polarity  coverage  confidence  overlaps  matched  conflicted\n",
       "0          1     0.032         1.0     0.028      0.0         0.0\n",
       "1          1     0.022         1.0     0.018      0.0         0.0\n",
       "2          1     0.004         1.0     0.004      0.0         0.0\n",
       "3          0     0.048         1.0     0.048      0.0         0.0\n",
       "4          0     0.088         1.0     0.087      0.0         0.0\n",
       "5          0     0.188         1.0     0.170      0.0         0.0\n",
       "6          0     0.014         1.0     0.014      0.0         0.0\n",
       "7          1     0.018         1.0     0.018      0.0         0.0\n",
       "8          1     0.020         1.0     0.020      0.0         0.0\n",
       "9          0     0.047         1.0     0.047      0.0         0.0\n",
       "10         0     0.058         1.0     0.058      0.0         0.0\n",
       "11         1     0.017         1.0     0.017      0.0         0.0\n",
       "12         1     0.000         1.0     0.000      0.0         0.0\n",
       "13         1     0.036         1.0     0.034      0.0         0.0\n",
       "14         1     0.018         1.0     0.018      0.0         0.0\n",
       "15         0     0.027         1.0     0.024      0.0         0.0\n",
       "16         1     0.001         1.0     0.001      0.0         0.0\n",
       "17         0     0.109         1.0     0.097      0.0         0.0\n",
       "18         0     0.082         1.0     0.070      0.0         0.0\n",
       "19         0     0.002         1.0     0.001      0.0         0.0\n",
       "20         0     0.299         1.0     0.258      0.0         0.0\n",
       "21         1     0.612         1.0     0.442      0.0         0.0\n",
       "22         0     0.002         1.0     0.001      0.0         0.0\n",
       "23         1     0.090         1.0     0.084      0.0         0.0\n",
       "24         1     0.007         1.0     0.006      0.0         0.0\n",
       "25         0     0.041         1.0     0.040      0.0         0.0\n",
       "26         0     0.007         1.0     0.005      0.0         0.0\n",
       "27         0     0.004         1.0     0.003      0.0         0.0\n",
       "28         0     0.018         1.0     0.015      0.0         0.0\n",
       "29         1     0.005         1.0     0.005      0.0         0.0\n",
       "30         0     0.022         1.0     0.020      0.0         0.0\n",
       "31         0     0.018         1.0     0.017      0.0         0.0\n",
       "32         0     0.113         1.0     0.099      0.0         0.0"
      ]
     },
     "execution_count": 10,
     "metadata": {},
     "output_type": "execute_result"
    }
   ],
   "source": [
    "flippers.summary(L_train, polarities)"
   ]
  },
  {
   "cell_type": "markdown",
   "id": "70ff5ca6-b6cf-4355-beff-2c2d4bf4b22f",
   "metadata": {
    "tags": []
   },
   "source": [
    "Scoring utils:"
   ]
  },
  {
   "cell_type": "code",
   "execution_count": 11,
   "id": "69e729d1-2adc-4f84-bad6-189db6ec7a13",
   "metadata": {
    "jupyter": {
     "source_hidden": true
    },
    "tags": []
   },
   "outputs": [],
   "source": [
    "y_true = test[\"label\"].astype(int).values\n",
    "\n",
    "\n",
    "def fill_proba(proba):\n",
    "    proba = proba.copy()\n",
    "    proba[L_test.sum(axis=1) == 0] = class_balances[1]\n",
    "    return proba\n",
    "\n",
    "\n",
    "Metrics = {}\n",
    "\n",
    "\n",
    "def score(y_pred, name=\"\", boxplots=True):\n",
    "    y_pred = fill_proba(y_pred)\n",
    "    AP = metrics.average_precision_score(y_true, y_pred)\n",
    "    F1 = metrics.f1_score(y_true, y_pred > 0.5)\n",
    "    AUC = metrics.roc_auc_score(y_true, y_pred)\n",
    "    Accuracy = metrics.accuracy_score(y_true, y_pred > 0.5)\n",
    "    M = {\"F1\": F1, \"Average_Precision\": AP, \"AUC\": AUC, \"Accuracy\": Accuracy}\n",
    "    for key, value in M.items():\n",
    "        print(f\"{key}: {value.round(3)}\")\n",
    "\n",
    "    if name:\n",
    "        global Metrics\n",
    "        Metrics[name] = M\n",
    "\n",
    "    if boxplots:\n",
    "        fig, axs = plt.subplots(1, 2, figsize=(8, 3))\n",
    "        pd.DataFrame({\"y_pred\": y_pred, \"y_true\": y_true}).boxplot(\n",
    "            by=\"y_true\", ax=axs[0]\n",
    "        )\n",
    "        axs[0].set_title(\"Predicted probabilities grouped by ground truth\")\n",
    "        axs[0].set_ylim([0, 1])\n",
    "        axs[0].get_figure().suptitle(\"\")\n",
    "        plt.ylabel(\"y_pred\")\n",
    "\n",
    "        pd.Series(y_pred).plot.box(ax=axs[1])\n",
    "        axs[1].set_title(\"Predicted probabilties\")\n",
    "        axs[1].set_ylim([0, 1])\n",
    "        axs[1].axhline(\n",
    "            y_true.mean(), color=\"g\", linestyle=\"--\", alpha=0.3, label=\"Mean of y_true\"\n",
    "        )\n",
    "        axs[1].legend()\n",
    "        plt.ylabel(\"y_pred\")\n",
    "        plt.tight_layout()\n",
    "        plt.show()"
   ]
  },
  {
   "cell_type": "markdown",
   "id": "585fcec4-5e98-4968-8184-f9cb40104844",
   "metadata": {
    "tags": []
   },
   "source": [
    "# Training Label Models"
   ]
  },
  {
   "cell_type": "markdown",
   "id": "6b2a9c01-f113-4b09-a31b-192a421e8d14",
   "metadata": {
    "tags": []
   },
   "source": [
    "## Majority Vote Model"
   ]
  },
  {
   "cell_type": "code",
   "execution_count": 12,
   "id": "61a398f2-74ef-4aed-bb19-5616e2dfadae",
   "metadata": {
    "tags": []
   },
   "outputs": [],
   "source": [
    "from flippers.models import Voter"
   ]
  },
  {
   "cell_type": "code",
   "execution_count": 13,
   "id": "ac3a15d5-dd08-4633-9ea7-990b70865b55",
   "metadata": {
    "tags": []
   },
   "outputs": [
    {
     "name": "stdout",
     "output_type": "stream",
     "text": [
      "F1: 0.613\n",
      "Average_Precision: 0.586\n",
      "AUC: 0.821\n",
      "Accuracy: 0.753\n"
     ]
    },
    {
     "data": {
      "image/png": "[encoded data removed]",
      "text/plain": [
       "<Figure size 800x300 with 2 Axes>"
      ]
     },
     "metadata": {},
     "output_type": "display_data"
    }
   ],
   "source": [
    "preds_vote = Voter(polarities).predict_proba(L_test)[:, 1]\n",
    "score(preds_vote, name=\"MV\")"
   ]
  },
  {
   "cell_type": "markdown",
   "id": "6b987745-adf6-47ec-ac16-537660cc82b6",
   "metadata": {},
   "source": [
    "## `flippers`' Snorkel Model"
   ]
  },
  {
   "cell_type": "code",
   "execution_count": 14,
   "id": "e1e491c6-d322-4959-9c7f-aea135887449",
   "metadata": {
    "tags": []
   },
   "outputs": [],
   "source": [
    "from flippers.models import SnorkelModel"
   ]
  },
  {
   "cell_type": "code",
   "execution_count": 15,
   "id": "0cd61595-0ed8-45bd-a0d0-b4ce75a8a153",
   "metadata": {
    "tags": []
   },
   "outputs": [
    {
     "name": "stderr",
     "output_type": "stream",
     "text": [
      "100%|██████████████████████████████████████████████████████████████████████████████████████████████████████████████████████████████████████████████████████████████████████████| 100/100 [00:00<00:00, 1476.92it/s]\n"
     ]
    }
   ],
   "source": [
    "m = SnorkelModel(polarities=polarities, class_balances=class_balances)\n",
    "m.fit(L_train, learning_rate=5e-3, prec_init=0.8, num_epochs=100)"
   ]
  },
  {
   "cell_type": "markdown",
   "id": "1d0405e9-9cd3-402b-9dd5-c679434470ab",
   "metadata": {},
   "source": [
    "### Update priors with votes and abstains"
   ]
  },
  {
   "cell_type": "code",
   "execution_count": 16,
   "id": "cf6c043d-ab0c-441f-bc82-fe07aad7dcef",
   "metadata": {
    "tags": []
   },
   "outputs": [
    {
     "name": "stdout",
     "output_type": "stream",
     "text": [
      "Last loss 0.04525687950591044\n",
      "\n",
      "F1: 0.713\n",
      "Average_Precision: 0.66\n",
      "AUC: 0.847\n",
      "Accuracy: 0.782\n"
     ]
    },
    {
     "data": {
      "image/png": "[encoded data removed]",
      "text/plain": [
       "<Figure size 800x300 with 2 Axes>"
      ]
     },
     "metadata": {},
     "output_type": "display_data"
    }
   ],
   "source": [
    "print(\"Last loss\", f\"{m.loss_history[-1]}\\n\")\n",
    "score(m.predict_proba(L_test)[:, 1], name=\"flippers_abstains\")"
   ]
  },
  {
   "cell_type": "markdown",
   "id": "3facb75c-cf51-42c3-87c9-0d551a7cbe2b",
   "metadata": {},
   "source": [
    "### Ignore abstains in prior update"
   ]
  },
  {
   "cell_type": "code",
   "execution_count": 17,
   "id": "0169dbba-462a-493d-8c7b-9310e79fb8f4",
   "metadata": {
    "tags": []
   },
   "outputs": [
    {
     "name": "stdout",
     "output_type": "stream",
     "text": [
      "F1: 0.679\n",
      "Average_Precision: 0.618\n",
      "AUC: 0.8\n",
      "Accuracy: 0.758\n"
     ]
    },
    {
     "data": {
      "image/png": "[encoded data removed]",
      "text/plain": [
       "<Figure size 800x300 with 2 Axes>"
      ]
     },
     "metadata": {},
     "output_type": "display_data"
    }
   ],
   "source": [
    "# This is the Uniform Marginals calculation the Snorkel and Metal libraries use\n",
    "# Performance should be very similar to the Snorkel model\n",
    "score(m.predict_proba(L_test, \"ignore_abstains\")[:, 1], name=\"flippers_ignore_abstains\")"
   ]
  },
  {
   "cell_type": "markdown",
   "id": "6f307f71-880e-4e9b-bea8-dfe80b5706b1",
   "metadata": {},
   "source": [
    "## `Snorkel`'s Snorkel model"
   ]
  },
  {
   "cell_type": "code",
   "execution_count": 18,
   "id": "7f3c4d4c-54d1-42f0-807d-bc0bf55c15c8",
   "metadata": {},
   "outputs": [],
   "source": [
    "# Snorkel is not a dependency for flippers' model as it was rewritten from scracth\n",
    "# !pip install snorkel"
   ]
  },
  {
   "cell_type": "code",
   "execution_count": 19,
   "id": "b873bd36-33bb-45a8-811a-b4f391f9df3a",
   "metadata": {
    "tags": []
   },
   "outputs": [],
   "source": [
    "from snorkel.labeling.model.label_model import LabelModel"
   ]
  },
  {
   "cell_type": "markdown",
   "id": "d821fd8f-9c2b-4e68-9ae0-7bf0011cdc35",
   "metadata": {},
   "source": [
    "### With priors"
   ]
  },
  {
   "cell_type": "code",
   "execution_count": 20,
   "id": "48e222e4-3c86-4048-9c7d-f11428c72ca6",
   "metadata": {
    "tags": []
   },
   "outputs": [
    {
     "name": "stderr",
     "output_type": "stream",
     "text": [
      "INFO:root:Computing O...\n",
      "INFO:root:Estimating \\mu...\n",
      "  0%|                                                                                                                                                                                   | 0/100 [00:00<?, ?epoch/s]INFO:root:[0 epochs]: TRAIN:[loss=0.333]\n",
      "INFO:root:[99 epochs]: TRAIN:[loss=0.022]\n",
      "100%|███████████████████████████████████████████████████████████████████████████████████████████████████████████████████████████████████████████████████████████████████████| 100/100 [00:00<00:00, 1490.12epoch/s]\n",
      "INFO:root:Finished Training\n"
     ]
    },
    {
     "name": "stdout",
     "output_type": "stream",
     "text": [
      "F1: 0.415\n",
      "Average_Precision: 0.575\n",
      "AUC: 0.739\n",
      "Accuracy: 0.717\n"
     ]
    },
    {
     "data": {
      "image/png": "[encoded data removed]",
      "text/plain": [
       "<Figure size 800x300 with 2 Axes>"
      ]
     },
     "metadata": {},
     "output_type": "display_data"
    }
   ],
   "source": [
    "sn = LabelModel()\n",
    "sn.fit(\n",
    "    train[\"weak_labels\"].apply(pd.Series).values,\n",
    "    prec_init=0.8,\n",
    "    lr=5e-3,\n",
    "    n_epochs=100,\n",
    "    class_balance=class_balances,\n",
    "    log_freq=99,\n",
    ")\n",
    "sn_preds = sn.predict_proba(test[\"weak_labels\"].apply(pd.Series).values)[:, 1]\n",
    "\n",
    "score(sn_preds, name=\"Snorkel_with_priors\")"
   ]
  },
  {
   "cell_type": "markdown",
   "id": "d309623c-2060-4196-a3cb-2d3cc0148c48",
   "metadata": {},
   "source": [
    "Sometimes Snorkel does not behave well with class balance priors and its better to leave the default uniform value."
   ]
  },
  {
   "cell_type": "markdown",
   "id": "ec031258-3b8c-4390-a26f-460afa267839",
   "metadata": {},
   "source": [
    "### Without priors"
   ]
  },
  {
   "cell_type": "code",
   "execution_count": 21,
   "id": "4a6c9eb5-4951-468e-913a-5413e504a4c6",
   "metadata": {
    "tags": []
   },
   "outputs": [
    {
     "name": "stderr",
     "output_type": "stream",
     "text": [
      "INFO:root:Computing O...\n",
      "INFO:root:Estimating \\mu...\n",
      "  0%|                                                                                                                                                                                   | 0/100 [00:00<?, ?epoch/s]INFO:root:[0 epochs]: TRAIN:[loss=0.256]\n",
      "INFO:root:[99 epochs]: TRAIN:[loss=0.021]\n",
      "100%|███████████████████████████████████████████████████████████████████████████████████████████████████████████████████████████████████████████████████████████████████████| 100/100 [00:00<00:00, 1441.58epoch/s]\n",
      "INFO:root:Finished Training\n"
     ]
    },
    {
     "name": "stdout",
     "output_type": "stream",
     "text": [
      "F1: 0.678\n",
      "Average_Precision: 0.602\n",
      "AUC: 0.785\n",
      "Accuracy: 0.752\n"
     ]
    },
    {
     "data": {
      "image/png": "[encoded data removed]",
      "text/plain": [
       "<Figure size 800x300 with 2 Axes>"
      ]
     },
     "metadata": {},
     "output_type": "display_data"
    }
   ],
   "source": [
    "sn = LabelModel()\n",
    "sn.fit(\n",
    "    train[\"weak_labels\"].apply(pd.Series).values,\n",
    "    prec_init=0.8,\n",
    "    lr=5e-3,\n",
    "    class_balance=None,\n",
    "    log_freq=99,\n",
    ")\n",
    "sn_preds = sn.predict_proba(test[\"weak_labels\"].apply(pd.Series).values)[:, 1]\n",
    "\n",
    "score(sn_preds, name=\"Snorkel_no_priors\")"
   ]
  },
  {
   "cell_type": "markdown",
   "id": "bfc06114-7f3d-4ec5-a23e-014f499ca859",
   "metadata": {
    "tags": []
   },
   "source": [
    "# Final Metric comparison"
   ]
  },
  {
   "cell_type": "code",
   "execution_count": 22,
   "id": "412fba31-ee1b-4c0d-8e5d-f4bdc9db18d5",
   "metadata": {
    "tags": []
   },
   "outputs": [],
   "source": [
    "metrics_df = pd.DataFrame.from_dict(Metrics).T"
   ]
  },
  {
   "cell_type": "code",
   "execution_count": 23,
   "id": "4ec703e0-7f6f-420f-a6d3-9fe511590ebd",
   "metadata": {
    "tags": []
   },
   "outputs": [
    {
     "data": {
      "text/html": [
       "<style type=\"text/css\">\n",
       "#T_f2c2b_row1_col0, #T_f2c2b_row1_col1, #T_f2c2b_row1_col2, #T_f2c2b_row1_col3 {\n",
       "  text-decoration: underline;\n",
       "}\n",
       "</style>\n",
       "<table id=\"T_f2c2b\">\n",
       "  <thead>\n",
       "    <tr>\n",
       "      <th class=\"blank level0\" >&nbsp;</th>\n",
       "      <th id=\"T_f2c2b_level0_col0\" class=\"col_heading level0 col0\" >F1</th>\n",
       "      <th id=\"T_f2c2b_level0_col1\" class=\"col_heading level0 col1\" >Average_Precision</th>\n",
       "      <th id=\"T_f2c2b_level0_col2\" class=\"col_heading level0 col2\" >AUC</th>\n",
       "      <th id=\"T_f2c2b_level0_col3\" class=\"col_heading level0 col3\" >Accuracy</th>\n",
       "    </tr>\n",
       "  </thead>\n",
       "  <tbody>\n",
       "    <tr>\n",
       "      <th id=\"T_f2c2b_level0_row0\" class=\"row_heading level0 row0\" >MV</th>\n",
       "      <td id=\"T_f2c2b_row0_col0\" class=\"data row0 col0\" >0.613011</td>\n",
       "      <td id=\"T_f2c2b_row0_col1\" class=\"data row0 col1\" >0.586330</td>\n",
       "      <td id=\"T_f2c2b_row0_col2\" class=\"data row0 col2\" >0.821305</td>\n",
       "      <td id=\"T_f2c2b_row0_col3\" class=\"data row0 col3\" >0.753049</td>\n",
       "    </tr>\n",
       "    <tr>\n",
       "      <th id=\"T_f2c2b_level0_row1\" class=\"row_heading level0 row1\" >flippers_abstains</th>\n",
       "      <td id=\"T_f2c2b_row1_col0\" class=\"data row1 col0\" >0.713279</td>\n",
       "      <td id=\"T_f2c2b_row1_col1\" class=\"data row1 col1\" >0.659746</td>\n",
       "      <td id=\"T_f2c2b_row1_col2\" class=\"data row1 col2\" >0.847028</td>\n",
       "      <td id=\"T_f2c2b_row1_col3\" class=\"data row1 col3\" >0.782367</td>\n",
       "    </tr>\n",
       "    <tr>\n",
       "      <th id=\"T_f2c2b_level0_row2\" class=\"row_heading level0 row2\" >flippers_ignore_abstains</th>\n",
       "      <td id=\"T_f2c2b_row2_col0\" class=\"data row2 col0\" >0.678602</td>\n",
       "      <td id=\"T_f2c2b_row2_col1\" class=\"data row2 col1\" >0.618391</td>\n",
       "      <td id=\"T_f2c2b_row2_col2\" class=\"data row2 col2\" >0.799958</td>\n",
       "      <td id=\"T_f2c2b_row2_col3\" class=\"data row2 col3\" >0.757971</td>\n",
       "    </tr>\n",
       "    <tr>\n",
       "      <th id=\"T_f2c2b_level0_row3\" class=\"row_heading level0 row3\" >Snorkel_with_priors</th>\n",
       "      <td id=\"T_f2c2b_row3_col0\" class=\"data row3 col0\" >0.415194</td>\n",
       "      <td id=\"T_f2c2b_row3_col1\" class=\"data row3 col1\" >0.574866</td>\n",
       "      <td id=\"T_f2c2b_row3_col2\" class=\"data row3 col2\" >0.738937</td>\n",
       "      <td id=\"T_f2c2b_row3_col3\" class=\"data row3 col3\" >0.716670</td>\n",
       "    </tr>\n",
       "    <tr>\n",
       "      <th id=\"T_f2c2b_level0_row4\" class=\"row_heading level0 row4\" >Snorkel_no_priors</th>\n",
       "      <td id=\"T_f2c2b_row4_col0\" class=\"data row4 col0\" >0.678145</td>\n",
       "      <td id=\"T_f2c2b_row4_col1\" class=\"data row4 col1\" >0.601560</td>\n",
       "      <td id=\"T_f2c2b_row4_col2\" class=\"data row4 col2\" >0.785356</td>\n",
       "      <td id=\"T_f2c2b_row4_col3\" class=\"data row4 col3\" >0.751979</td>\n",
       "    </tr>\n",
       "  </tbody>\n",
       "</table>\n"
      ],
      "text/plain": [
       "<pandas.io.formats.style.Styler at 0x7f5885273520>"
      ]
     },
     "execution_count": 23,
     "metadata": {},
     "output_type": "execute_result"
    }
   ],
   "source": [
    "metrics_df.style.apply(\n",
    "    lambda x: [\"text-decoration: underline\" if v == x.max() else \"\" for v in x], axis=0\n",
    ")"
   ]
  },
  {
   "cell_type": "code",
   "execution_count": null,
   "id": "dcd2240a-a7af-4b8f-887f-a8d03be65623",
   "metadata": {},
   "outputs": [],
   "source": []
  }
 ],
 "metadata": {
  "kernelspec": {
   "display_name": "flippers",
   "language": "python",
   "name": "flippers"
  },
  "language_info": {
   "codemirror_mode": {
    "name": "ipython",
    "version": 3
   },
   "file_extension": ".py",
   "mimetype": "text/x-python",
   "name": "python",
   "nbconvert_exporter": "python",
   "pygments_lexer": "ipython3",
   "version": "3.10.10"
  },
  "toc-autonumbering": true,
  "toc-showcode": false
 },
 "nbformat": 4,
 "nbformat_minor": 5
}
