{
 "cells": [
  {
   "cell_type": "markdown",
   "metadata": {},
   "source": [
    "# MMDGraph"
   ]
  },
  {
   "cell_type": "markdown",
   "metadata": {},
   "source": [
    "## What is this package for?\n",
    "\n",
    "This package contains code to perform kernel two-sample hypothesis testing on samples of graphs. The code additionally allows for estimation of graphs from a real data matrix.\n"
   ]
  },
  {
   "attachments": {},
   "cell_type": "markdown",
   "metadata": {},
   "source": [
    "## How to install\n",
    "\n",
    "<code> pip install GTST </code>"
   ]
  },
  {
   "cell_type": "markdown",
   "metadata": {},
   "source": [
    "## Usage"
   ]
  },
  {
   "cell_type": "markdown",
   "metadata": {},
   "source": [
    "We will go thorugh multiple scenariros: The case when the user has it own networkx graphs, when they are estimated from data matricies, using different kernels and using different MMD estimators."
   ]
  },
  {
   "cell_type": "code",
   "execution_count": 2,
   "metadata": {},
   "outputs": [],
   "source": [
    "import numpy as np\n",
    "import networkx as nx\n",
    "import matplotlib.pyplot as plt\n",
    "import GTST"
   ]
  },
  {
   "cell_type": "markdown",
   "metadata": {},
   "source": [
    "### Fit when H1 true, different edge probability"
   ]
  },
  {
   "attachments": {},
   "cell_type": "markdown",
   "metadata": {},
   "source": [
    "In this example, we simulate binomial graphs assuming that samples two have different edge probabilties. There will be 50 graphs in each sample and the number of nodes is 30 for all graphs. Sample 1 has edge probabilty 0.3 and sample 2 has edge probability 0.4. We will label each node with its corresponding degree so that graph kernels that assume labels can be used."
   ]
  },
  {
   "cell_type": "markdown",
   "metadata": {},
   "source": [
    "Start by creating sample graphs"
   ]
  },
  {
   "cell_type": "code",
   "execution_count": 3,
   "metadata": {},
   "outputs": [],
   "source": [
    "\n",
    "n1 = n2 = 50  # sample sizes\n",
    "# generate two samples\n",
    "g1 = [nx.fast_gnp_random_graph(30,0.3) for _ in range(n1)]\n",
    "g2 = [nx.fast_gnp_random_graph(30,0.4) for _ in range(n2)]\n",
    "\n",
    "# Set node labels as the degree\n",
    "for j in range(len(g1)):\n",
    "    nx.set_node_attributes(g1[j],  {key: str(value) for key, value in dict(g1[j].degree).items()} , 'label')\n",
    "for j in range(len(g2)):\n",
    "    nx.set_node_attributes(g2[j], {key: str(value) for key, value in dict(g2[j].degree).items()}, 'label')\n"
   ]
  },
  {
   "attachments": {},
   "cell_type": "markdown",
   "metadata": {},
   "source": [
    "Perform MMD test using various kernels. Note that the unbiases MMD estimator is used"
   ]
  },
  {
   "cell_type": "code",
   "execution_count": 4,
   "metadata": {},
   "outputs": [
    {
     "name": "stdout",
     "output_type": "stream",
     "text": [
      " RW_ARKU_plus {'MMD_u': 0.0}\n"
     ]
    }
   ],
   "source": [
    "# Random Walk, r is number of eigen-pairs, c is the discount constant\n",
    "MMD_out = GTST.MMD()\n",
    "MMD_out.fit(G1 = g1, G2 = g2, kernel = 'RW_ARKU_plus', mmd_estimators = 'MMD_u', r = 6, c = 0.001)  \n",
    "print(f\" RW_ARKU_plus {MMD_out.p_values}\")"
   ]
  },
  {
   "cell_type": "code",
   "execution_count": 5,
   "metadata": {},
   "outputs": [
    {
     "name": "stdout",
     "output_type": "stream",
     "text": [
      "Using label as node labels\n",
      " RW_ARKL {'MMD_u': 0.0}\n"
     ]
    }
   ],
   "source": [
    "# RW kernel with labels, Note that we input the label list (all node labels encountered in both graph samples)\n",
    "MMD_out = GTST.MMD()\n",
    "MMD_out.fit(G1 = g1, G2 = g2, kernel = 'RW_ARKL', mmd_estimators = 'MMD_u', r = 4, c = 1e-3,node_label = 'label',\n",
    "                                    unique_node_labels= set(np.concatenate([list(nx.get_node_attributes(g, 'label').values())for g in g1+g2])))\n",
    "print(f\" RW_ARKL {MMD_out.p_values}\")\n"
   ]
  },
  {
   "cell_type": "code",
   "execution_count": 6,
   "metadata": {},
   "outputs": [
    {
     "name": "stderr",
     "output_type": "stream",
     "text": [
      "100%|██████████| 5050/5050.0 [00:11<00:00, 438.12it/s]"
     ]
    },
    {
     "name": "stdout",
     "output_type": "stream",
     "text": [
      " GNTK {'MMD_u': 0.0}\n"
     ]
    },
    {
     "name": "stderr",
     "output_type": "stream",
     "text": [
      "\n"
     ]
    }
   ],
   "source": [
    "# GNTK kernel,\n",
    "# num_layers is number of layers in neural network,\n",
    "# num_mlp_layers is number of multi-layer perceptron layeres\n",
    "# jk indicate whether to add jumping knowledge\n",
    "# scale how to aggregate neighbours uniform or degree.\n",
    "MMD_out = GTST.MMD()\n",
    "MMD_out.fit(G1 = g1, G2 = g2, kernel = 'GNTK', mmd_estimators = 'MMD_u', num_layers = 2, num_mlp_lauers = 2, jk = True, scale = 'uniform')\n",
    "print(f\" GNTK {MMD_out.p_values}\")"
   ]
  },
  {
   "cell_type": "code",
   "execution_count": 8,
   "metadata": {},
   "outputs": [
    {
     "name": "stdout",
     "output_type": "stream",
     "text": [
      "Using label as node labels\n",
      " WWL {'MMD_u': 0.0}\n"
     ]
    }
   ],
   "source": [
    "# WWL kernel\n",
    "# discount is discount\n",
    "# h is number of WL iterations\n",
    "# node_label is name of node labels\n",
    "MMD_out = GTST.MMD()\n",
    "MMD_out.fit(G1 = g1, G2 = g2, kernel = 'WWL', mmd_estimators = 'MMD_u', discount = 0.1, h = 2, node_label = 'label')\n",
    "print(f\" WWL {MMD_out.p_values}\")"
   ]
  },
  {
   "cell_type": "code",
   "execution_count": 9,
   "metadata": {},
   "outputs": [
    {
     "name": "stdout",
     "output_type": "stream",
     "text": [
      "Using label as node labels\n",
      " ML DK {'MMD_u': 0.0}\n"
     ]
    }
   ],
   "source": [
    "# Deep Kernel without the deepness\n",
    "# type is wl= wl closeness or sp: shortest path closeness\n",
    "# wl_it is number of wl iterations, only applicable for wl.\n",
    "# no deepness in this case only a frequency similarity\n",
    "MMD_out = GTST.MMD()\n",
    "MMD_out.fit(G1 = g1, G2 = g2, kernel = 'DK', mmd_estimators = 'MMD_u', type = 'wl', wl_it = 4, node_label = 'label')\n",
    "print(f\" ML DK {MMD_out.p_values}\")"
   ]
  },
  {
   "cell_type": "code",
   "execution_count": 171,
   "metadata": {},
   "outputs": [
    {
     "name": "stdout",
     "output_type": "stream",
     "text": [
      "Using label as node labels\n",
      " Deep DK {'MMD_u': 0.0}\n"
     ]
    }
   ],
   "source": [
    "\n",
    "# Deep kernel with deepness, user has to install gensim, this might take some time, can try to increase number of workers\n",
    "MMD_out = GTST.MMD()\n",
    "MMD_out.fit(G1 = g1, G2 = g2, kernel = 'DK', mmd_estimators = 'MMD_u', type = 'wl', wl_it = 4, opt_type = 'word2vec', node_label = 'label', workers = 10)\n",
    "print(f\" Deep DK {MMD_out.p_values}\")"
   ]
  },
  {
   "cell_type": "code",
   "execution_count": 172,
   "metadata": {},
   "outputs": [
    {
     "name": "stdout",
     "output_type": "stream",
     "text": [
      "Using label as node labels\n",
      "label\n",
      " WL {'MMD_u': 0.0}\n"
     ]
    }
   ],
   "source": [
    "# It is also possible to use the Grakel library\n",
    "kernel = [{\"name\": \"weisfeiler_lehman\", \"n_iter\": 1}, {\"name\": \"vertex_histogram\"}]\n",
    "MMD_out = GTST.MMD()\n",
    "MMD_out.fit(G1 = g1, G2 = g2, kernel = kernel, mmd_estimators = 'MMD_u', node_label = 'label')\n",
    "print(f\" WL {MMD_out.p_values}\")"
   ]
  },
  {
   "cell_type": "code",
   "execution_count": null,
   "metadata": {},
   "outputs": [
    {
     "name": "stdout",
     "output_type": "stream",
     "text": [
      "Using label as node labels\n",
      "label\n",
      " propagation {'MMD_u': 0.0}\n"
     ]
    }
   ],
   "source": [
    "# Grakel propagation\n",
    "kernel = [ {\"name\":\"propagation\", 't_max':5, 'w':0.1, 'M':\"TV\"}]\n",
    "MMD_out = GTST.MMD()\n",
    "MMD_out.fit(G1 = g1, G2 = g2, kernel = kernel, mmd_estimators = 'MMD_u', node_label = 'label')\n",
    "print(f\" propagation {MMD_out.p_values}\")\n"
   ]
  },
  {
   "attachments": {},
   "cell_type": "markdown",
   "metadata": {},
   "source": [
    "### Using different MMD estimators\n",
    "\n",
    "It is also pssobile to use other MMD estimators such as the biases, linear and robust."
   ]
  },
  {
   "cell_type": "code",
   "execution_count": null,
   "metadata": {},
   "outputs": [
    {
     "name": "stderr",
     "output_type": "stream",
     "text": [
      "c:\\Users\\User\\Code\\MMDGraph\\MMDGraph\\kernels\\RandomWalk.py:560: FutureWarning: adjacency_matrix will return a scipy.sparse array instead of a matrix in Networkx 3.0.\n",
      "  return scipy.sparse.csr_matrix(nx.adjacency_matrix(G ,weight=edge_attr), dtype=np.float64)\n"
     ]
    },
    {
     "name": "stdout",
     "output_type": "stream",
     "text": [
      " RW_ARKU_plus {'MMD_u': 0.0, 'MMD_b': 0.0, 'MMD_l': 0.0, 'MONK_EST': 0.0}\n"
     ]
    }
   ],
   "source": [
    "# Q is the number of partitions in the MONK estimator\n",
    "\n",
    "MMD_out = GTST.MMD()\n",
    "MMD_out.fit(G1 = g1, G2 = g2, kernel = 'RW_ARKU_plus', mmd_estimators = ['MMD_u', 'MMD_b', 'MMD_l', 'MONK_EST'], r = 2, c = 0.001, Q = 5)\n",
    "print(f\" RW_ARKU_plus {MMD_out.p_values}\")"
   ]
  },
  {
   "attachments": {},
   "cell_type": "markdown",
   "metadata": {},
   "source": [
    "### H1 true, Graphs with different weights\n",
    "\n",
    "It is possible to test graphs which are topologically the same but have different edge weights. Here there are 50 graphs in each sample and the number of nodes is 30 for all graphs. The edge probabilty is 0.3. We will label each node with its corresponding degree so that graph kernels that assume labels can be used."
   ]
  },
  {
   "cell_type": "code",
   "execution_count": 87,
   "metadata": {},
   "outputs": [],
   "source": [
    "n1 = n2 = 100\n",
    "g1_weights = [nx.fast_gnp_random_graph(30,0.3) for _ in range(n1)]  # sample 1\n",
    "g2_weights = [nx.fast_gnp_random_graph(30,0.3) for _ in range(n2)]  # sample 2\n",
    "\n",
    "# For loops to label each node accoriding to its degree for the two samples.\n",
    "for j in range(len(g1_weights)):\n",
    "    nx.set_node_attributes(g1_weights[j],  {key: str(value) for key, value in dict(g1_weights[j].degree).items()} , 'label')\n",
    "for j in range(len(g2_weights)):\n",
    "    nx.set_node_attributes(g2_weights[j], {key: str(value) for key, value in dict(g2_weights[j].degree).items()}, 'label')\n",
    "\n",
    "\n",
    "# For loops for the two samples and functions to generate random weights with uniform distribution\n",
    "def edge_dist(loc, scale ):\n",
    "    from scipy.stats import uniform\n",
    "    return np.random.normal(loc = loc, scale = scale)# uniform.rvs(size=1,  loc = loc , scale = scale)[0]\n",
    "def add_weight(G, loc, scale ):\n",
    "    edge_w = dict()\n",
    "    for e in G.edges():\n",
    "        edge_w[e] = edge_dist(loc, scale)\n",
    "    return edge_w\n",
    "\n",
    "\n",
    "for G in g1_weights:\n",
    "    nx.set_edge_attributes(G, add_weight(G, loc = 0.5, scale = 1), \"weight\")\n",
    "for G in g2_weights:\n",
    "    nx.set_edge_attributes(G, add_weight(G, loc = 0.5, scale = 2), \"weight\")\n"
   ]
  },
  {
   "cell_type": "code",
   "execution_count": 77,
   "metadata": {},
   "outputs": [
    {
     "name": "stdout",
     "output_type": "stream",
     "text": [
      "Using weight as edge attributes\n",
      " RW_ARKU_plus {'MMD_u': 0.0}\n"
     ]
    }
   ],
   "source": [
    "# Random Walk\n",
    "MMD_out = GTST.MMD()\n",
    "MMD_out.fit(G1 = g1_weights, G2 = g2_weights, kernel = 'RW_ARKU_plus', mmd_estimators = 'MMD_u', r = 2, c = 0.001, edge_attr = 'weight')\n",
    "print(f\" RW_ARKU_plus {MMD_out.p_values}\")"
   ]
  },
  {
   "attachments": {},
   "cell_type": "markdown",
   "metadata": {},
   "source": [
    "Note that if we use a graph kernel that does not take edge weights into account, the test will not be rejected"
   ]
  },
  {
   "cell_type": "code",
   "execution_count": 79,
   "metadata": {},
   "outputs": [
    {
     "name": "stdout",
     "output_type": "stream",
     "text": [
      " RW_ARKU_plus no labels {'MMD_u': 0.462}\n"
     ]
    }
   ],
   "source": [
    "# Random Walk weights ignored, should not reject\n",
    "MMD_out = GTST.MMD()\n",
    "MMD_out.fit(G1 = g1_weights, G2 = g2_weights, kernel = 'RW_ARKU_plus', mmd_estimators = 'MMD_u', r = 2, c = 0.001)\n",
    "print(f\" RW_ARKU_plus no labels {MMD_out.p_values}\")"
   ]
  },
  {
   "cell_type": "code",
   "execution_count": 80,
   "metadata": {},
   "outputs": [
    {
     "name": "stdout",
     "output_type": "stream",
     "text": [
      "Using weight as edge attributes\n",
      "None\n",
      " pyramid_match {'MMD_u': 0.0}\n"
     ]
    }
   ],
   "source": [
    "# Grakel pyramid match kernel\n",
    "kernel = [{\"name\": \"pyramid_match\", \"L\": 6, \"d\":6, 'with_labels':False}]\n",
    "MMD_out = GTST.MMD()\n",
    "MMD_out.fit(G1 = g1_weights, G2 = g2_weights, kernel = kernel, mmd_estimators = 'MMD_u', edge_attr = 'weight')\n",
    "print(f\" pyramid_match {MMD_out.p_values}\")"
   ]
  },
  {
   "cell_type": "code",
   "execution_count": 85,
   "metadata": {},
   "outputs": [
    {
     "name": "stdout",
     "output_type": "stream",
     "text": [
      "Using weight as edge attributes\n",
      "Using label as node labels\n",
      "label\n",
      " propagation {'MMD_u': 0.0}\n"
     ]
    }
   ],
   "source": [
    "# propagation, needs node attribute or label \n",
    "kernel = [ {\"name\":\"propagation\", 't_max':5, 'w':0.05, 'M':\"TV\"}]\n",
    "MMD_out = GTST.MMD()\n",
    "MMD_out.fit(G1 = g1_weights, G2 = g2_weights, kernel = kernel, mmd_estimators = 'MMD_u', edge_attr = 'weight', node_label = 'label')\n",
    "print(f\" propagation {MMD_out.p_values}\")"
   ]
  },
  {
   "cell_type": "markdown",
   "metadata": {},
   "source": [
    " ### H1 true different attributes"
   ]
  },
  {
   "attachments": {},
   "cell_type": "markdown",
   "metadata": {},
   "source": [
    "Some kernels can be used to compare graph with node attributes"
   ]
  },
  {
   "cell_type": "code",
   "execution_count": 88,
   "metadata": {},
   "outputs": [],
   "source": [
    "\n",
    "n1 = n2 = 50\n",
    "g1_attr = [nx.fast_gnp_random_graph(30,0.2) for _ in range(n1)]  # sample 1\n",
    "g2_attr = [nx.fast_gnp_random_graph(30,0.2) for _ in range(n2)]  # sample 2\n",
    "# For loop for the two samples to add node attributes for each graph which have different normal distributions\n",
    "for j in range(len(g1_attr)):\n",
    "    nx.set_node_attributes(g1_attr[j], dict( ( (i, np.random.normal(loc = 0, scale = 0.1, size = (1,))) for i in range(len(g1_attr[j])) ) ), 'attr')\n",
    "for j in range(len(g2_attr)):\n",
    "    nx.set_node_attributes(g2_attr[j], dict( ( (i, np.random.normal(loc = 0.1, scale = 0.1, size = (1,))) for i in range(len(g2_attr[j])) ) ), 'attr')\n"
   ]
  },
  {
   "cell_type": "code",
   "execution_count": 89,
   "metadata": {},
   "outputs": [
    {
     "name": "stdout",
     "output_type": "stream",
     "text": [
      "Using attr as node attributes\n"
     ]
    },
    {
     "name": "stderr",
     "output_type": "stream",
     "text": [
      "c:\\Users\\User\\Code\\MMDGraph\\MMDGraph\\kernels\\RandomWalk.py:560: FutureWarning: adjacency_matrix will return a scipy.sparse array instead of a matrix in Networkx 3.0.\n",
      "  return scipy.sparse.csr_matrix(nx.adjacency_matrix(G ,weight=edge_attr), dtype=np.float64)\n"
     ]
    },
    {
     "name": "stdout",
     "output_type": "stream",
     "text": [
      " RW_ARKU_plus {'MMD_u': 0.0}\n"
     ]
    }
   ],
   "source": [
    "# Random Walk with weights and node attributes\n",
    "MMD_out = GTST.MMD()\n",
    "MMD_out.fit(G1 = g1_attr, G2 = g2_attr, kernel = 'RW_ARKU_plus', mmd_estimators = 'MMD_u', r = 4, c = 0.01, node_attr = 'attr')\n",
    "print(f\" RW_ARKU_plus {MMD_out.p_values}\")"
   ]
  },
  {
   "cell_type": "code",
   "execution_count": 90,
   "metadata": {},
   "outputs": [
    {
     "name": "stdout",
     "output_type": "stream",
     "text": [
      "Using attr as node attributes\n"
     ]
    },
    {
     "name": "stderr",
     "output_type": "stream",
     "text": [
      "100%|██████████| 5050/5050.0 [00:04<00:00, 1246.33it/s]\n"
     ]
    },
    {
     "name": "stdout",
     "output_type": "stream",
     "text": [
      " GNTK {'MMD_u': 0.0}\n"
     ]
    }
   ],
   "source": [
    "# GNTK with node attributes\n",
    "MMD_out = GTST.MMD()\n",
    "MMD_out.fit(G1 = g1_attr, G2 = g2_attr, kernel = 'GNTK', mmd_estimators = 'MMD_u', num_layers = 2, num_mlp_lauers = 2, jk = True, scale = 'uniform', node_attr = 'attr')\n",
    "print(f\" GNTK {MMD_out.p_values}\")"
   ]
  },
  {
   "cell_type": "code",
   "execution_count": 91,
   "metadata": {},
   "outputs": [
    {
     "name": "stdout",
     "output_type": "stream",
     "text": [
      "Using attr as node attributes\n",
      "attr\n"
     ]
    },
    {
     "name": "stderr",
     "output_type": "stream",
     "text": [
      "c:\\Users\\User\\Code\\MMDGraph\\.mmdvenv8\\lib\\site-packages\\grakel\\kernels\\propagation.py:527: RuntimeWarning: invalid value encountered in true_divide\n",
      "  transition_matrix[n] = (T.T / np.sum(T, axis=1)).T\n"
     ]
    },
    {
     "name": "stdout",
     "output_type": "stream",
     "text": [
      " Propagation {'MMD_u': 0.0}\n"
     ]
    }
   ],
   "source": [
    "# Grakel propagation\n",
    "kernel = [ {\"name\":\"propagation\", 't_max':5, 'w':0.1, 'M':\"L1\",'with_attributes':True}]\n",
    "MMD_out = GTST.MMD()\n",
    "MMD_out.fit(G1 = g1_attr, G2 = g2_attr, kernel = kernel, mmd_estimators = 'MMD_u', discount = 0.1, h = 2, node_attr = 'attr')\n",
    "print(f\" Propagation {MMD_out.p_values}\")"
   ]
  },
  {
   "cell_type": "markdown",
   "metadata": {},
   "source": [
    "### Different edge labels\n",
    "\n",
    "The RW kernel can take different edge labels"
   ]
  },
  {
   "cell_type": "code",
   "execution_count": 134,
   "metadata": {},
   "outputs": [],
   "source": [
    "n1 = n2 = 50\n",
    "g1_edge = [nx.fast_gnp_random_graph(30,0.3) for _ in range(n1)]  # sample 1\n",
    "g2_edge = [nx.fast_gnp_random_graph(30,0.3) for _ in range(n2)]  # sample 2\n",
    "\n",
    "# For loop to label each edge either 'a' or 'b' the labelling probabilities are different for the two samples\n",
    "for j in range(len(g1_edge)):\n",
    "    nx.set_edge_attributes(g1_edge[j], {(i,k):np.random.choice(['a','b'], p = [0.6,0.4]) for i,k in g1_edge[j].edges }, 'edge_label')\n",
    "for j in range(len(g2_edge)):\n",
    "    nx.set_edge_attributes(g2_edge[j], {(i,k):np.random.choice(['a','b'], p = [0.7,0.3]) for i,k in g2_edge[j].edges }, 'edge_label')\n",
    "\n",
    "\n"
   ]
  },
  {
   "cell_type": "code",
   "execution_count": 135,
   "metadata": {},
   "outputs": [
    {
     "name": "stdout",
     "output_type": "stream",
     "text": [
      "Using edge_label as edge labels\n",
      " RW_ARKU_edge {'MMD_u': 0.0}\n"
     ]
    }
   ],
   "source": [
    "MMD_out = GTST.MMD()\n",
    "MMD_out.fit(G1 = g1_edge, G2 = g2_edge, kernel = 'RW_ARKU_edge', mmd_estimators = 'MMD_u', r = 6, c = 0.0001,edge_label = 'edge_label',unique_edge_labels= ['a', 'b'])\n",
    "print(f\" RW_ARKU_edge {MMD_out.p_values}\")\n"
   ]
  },
  {
   "cell_type": "markdown",
   "metadata": {},
   "source": [
    "# Directed Graphs\n",
    "\n",
    "The RW kernel can take directed graphs\n",
    "\n"
   ]
  },
  {
   "cell_type": "code",
   "execution_count": 143,
   "metadata": {},
   "outputs": [],
   "source": [
    "n1 = n2 = 50\n",
    "g1_di = [nx.fast_gnp_random_graph(30,0.2) for _ in range(n1)]  # sample 1\n",
    "g2_di = [nx.fast_gnp_random_graph(30,0.2) for _ in range(n2)]  # sample 2\n",
    "\n",
    "# for loop for both samples to convert the networkx graph to a networkx directed graph object\n",
    "for j in range(len(g1_di)):\n",
    "    g1_di[j] = nx.DiGraph(g1_di[j])\n",
    "for j in range(len(g2_di)):\n",
    "    g2_di[j] = nx.DiGraph(g2_di[j])\n",
    "\n",
    "# for loop for both samples that removes edges with different removal probabilties between the two samples\n",
    "for j in range(len(g1_di)):\n",
    "    edges= list(g1_di[j].edges())\n",
    "    for e,u in edges:\n",
    "        if np.random.uniform() <0.3:\n",
    "            g1_di[j].remove_edge(e,u)\n",
    "for j in range(len(g2_di)):\n",
    "    edges= list(g2_di[j].edges())\n",
    "    for e,u in edges:\n",
    "        if np.random.uniform() <0.5:\n",
    "            g2_di[j].remove_edge(e,u)\n",
    "\n",
    "\n",
    "\n",
    "\n"
   ]
  },
  {
   "cell_type": "code",
   "execution_count": 144,
   "metadata": {},
   "outputs": [
    {
     "name": "stdout",
     "output_type": "stream",
     "text": [
      " RW_ARKU_edge {'MMD_u': 0.0}\n"
     ]
    }
   ],
   "source": [
    "MMD_out = GTST.MMD()\n",
    "MMD_out.fit(G1 = g1_di, G2 = g2_di, kernel = 'RW_ARKU', mmd_estimators = 'MMD_u', r = 4, c = 1e-3)\n",
    "print(f\" RW_ARKU_edge {MMD_out.p_values}\")\n"
   ]
  },
  {
   "cell_type": "markdown",
   "metadata": {},
   "source": [
    "### Two data matrices different structure\n",
    "It is possible to estimate graphs from data matrices"
   ]
  },
  {
   "cell_type": "code",
   "execution_count": 160,
   "metadata": {},
   "outputs": [
    {
     "name": "stderr",
     "output_type": "stream",
     "text": [
      "C:\\Users\\User\\AppData\\Local\\Temp\\ipykernel_27300\\781483305.py:14: FutureWarning: adjacency_matrix will return a scipy.sparse array instead of a matrix in Networkx 3.0.\n",
      "  A = np.array(nx.adjacency_matrix(G).todense())\n"
     ]
    }
   ],
   "source": [
    "G = nx.fast_gnp_random_graph(11, 0.25, seed=42)  # generate a random graph\n",
    "assert nx.is_connected(G)\n",
    "\n",
    "#  Add random weights to the graphs, either positive or negative\n",
    "for e in G.edges():\n",
    "    if np.random.uniform() <0.1:\n",
    "        w = np.random.uniform(low = 0.1, high = 0.3)\n",
    "        G.edges[e[0], e[1]]['weight'] = -w\n",
    "    else:\n",
    "        w = np.random.uniform(low = 0.1, high = 0.3)\n",
    "        G.edges[e[0], e[1]]['weight'] = w\n",
    "\n",
    "# Extract adjacency matrix and fill the diagonal so that the resulting matrix will be positive definite.\n",
    "A = np.array(nx.adjacency_matrix(G).todense())\n",
    "np.fill_diagonal(A, np.sum(np.abs(A), axis = 1)+0.1)\n",
    "\n",
    "# Copy the adjacency matrix, and remove some edges for that graph,  note the seed is assume to be 45 when G was constructed\n",
    "A_s = A.copy()\n",
    "A_s[7,4] = 0\n",
    "A_s[4,7] = 0\n",
    "A_s[5,2] = 0\n",
    "A_s[2,5] = 0\n",
    "\n",
    "\n",
    "# Simulate random variables one has A as its precision and one has A_s (the sparse copy of A) as its precision matrix.\n",
    "# Note the precision matrix is the inverse covariance.\n",
    "X1 = np.random.multivariate_normal(np.zeros(11),np.linalg.inv(A), size = 10000)\n",
    "X2 = np.random.multivariate_normal(np.zeros(11),np.linalg.inv(A_s), size = 10000)"
   ]
  },
  {
   "attachments": {},
   "cell_type": "markdown",
   "metadata": {},
   "source": [
    "Input the two samples X1 and X2 to the class method estimate_graphs. Which estimates graphs according to a window size. The best estimation is selected via the EBIC criterion."
   ]
  },
  {
   "cell_type": "code",
   "execution_count": 161,
   "metadata": {},
   "outputs": [
    {
     "name": "stdout",
     "output_type": "stream",
     "text": [
      "Using weight as edge attributes\n"
     ]
    },
    {
     "name": "stderr",
     "output_type": "stream",
     "text": [
      "c:\\Users\\User\\Code\\MMDGraph\\MMDGraph\\kernels\\RandomWalk.py:560: FutureWarning: adjacency_matrix will return a scipy.sparse array instead of a matrix in Networkx 3.0.\n",
      "  return scipy.sparse.csr_matrix(nx.adjacency_matrix(G ,weight=edge_attr), dtype=np.float64)\n"
     ]
    },
    {
     "name": "stdout",
     "output_type": "stream",
     "text": [
      "{'MMD_u': 0.001}\n"
     ]
    }
   ],
   "source": [
    "# window size = 200 so 10000/200 = 50 graphs in each sample. (200 observations used to estimate each graph.)\n",
    "# Nonparanormal, should the nonparanormal transformation be performed on the data matrices.\n",
    "# Scale should the data be scaled.\n",
    "# Random Walk\n",
    "MMD_out = GTST.MMD()\n",
    "MMD_out.estimate_graphs(X1,X2,window_size=200, alpha = np.exp(np.linspace(-5,-2,100)),beta = 0.5, nonparanormal=False,scale = False)\n",
    "MMD_out.fit( kernel = 'RW_ARKU_plus', mmd_estimators = 'MMD_u', r = 5, c = 0.1, edge_attr = 'weight')\n",
    "print(MMD_out.p_values)\n",
    "\n"
   ]
  },
  {
   "cell_type": "code",
   "execution_count": 162,
   "metadata": {},
   "outputs": [
    {
     "name": "stdout",
     "output_type": "stream",
     "text": [
      "Using weight as edge attributes\n",
      "Using label as node labels\n",
      "label\n",
      "{'MMD_u': 0.002}\n"
     ]
    }
   ],
   "source": [
    "# We can set node labels as degree (or define our own labelling, see below)\n",
    "MMD_out = GTST.MMD()\n",
    "kernel = [{\"name\": \"weisfeiler_lehman\", \"n_iter\": 4}, {\"name\": \"vertex_histogram\"}]\n",
    "MMD_out.estimate_graphs(X1,X2,window_size=200, alpha = np.exp(np.linspace(-5,-2,100)),beta = 0.5, nonparanormal=False,scale = False, set_labels=\"degree\")\n",
    "MMD_out.fit( kernel = kernel, mmd_estimators = 'MMD_u',  edge_attr = 'weight')\n",
    "print(MMD_out.p_values)"
   ]
  },
  {
   "attachments": {},
   "cell_type": "markdown",
   "metadata": {},
   "source": [
    "Plot estimated estimated graphs and compare to the true."
   ]
  },
  {
   "cell_type": "code",
   "execution_count": 149,
   "metadata": {},
   "outputs": [
    {
     "data": {
      "text/plain": [
       "Text(0.5, 1.0, 'One estimated precision structure from sample 2')"
      ]
     },
     "execution_count": 149,
     "metadata": {},
     "output_type": "execute_result"
    },
    {
     "data": {
      "image/png": "[encoded data removed]",
      "text/plain": [
       "<Figure size 720x720 with 4 Axes>"
      ]
     },
     "metadata": {},
     "output_type": "display_data"
    }
   ],
   "source": [
    "np.fill_diagonal(A_s,0)\n",
    "fig, ax = plt.subplots(2,2,figsize = (10,10))\n",
    "pos = nx.kamada_kawai_layout(G, weight = None)\n",
    "nx.draw(G, pos = pos, ax = ax[0,0])\n",
    "nx.draw(nx.from_numpy_array(A_s), pos = pos, ax = ax[0,1])\n",
    "nx.draw(MMD_out.G1[3], pos = pos, ax = ax[1,0])  # select graph number 3 in sample 1\n",
    "nx.draw(MMD_out.G2[3], pos = pos, ax = ax[1,1])  # select graph number 3 in sample 2\n",
    "ax[0,0].set_title(\"Sample 1 true precision structure\")\n",
    "ax[0,1].set_title(\"Sample 2 true precision structure\")\n",
    "ax[1,0].set_title(\"One estimated precision structure from sample 1\")\n",
    "ax[1,1].set_title(\"One estimated precision structure from sample 2\")"
   ]
  },
  {
   "cell_type": "markdown",
   "metadata": {},
   "source": [
    "### Two data matrices same structure different attributes\n",
    "It is possible to estimate the graphs beforehand and apply a function to get node attributes"
   ]
  },
  {
   "cell_type": "code",
   "execution_count": 163,
   "metadata": {},
   "outputs": [
    {
     "name": "stderr",
     "output_type": "stream",
     "text": [
      "C:\\Users\\User\\AppData\\Local\\Temp\\ipykernel_27300\\3967309861.py:14: FutureWarning: adjacency_matrix will return a scipy.sparse array instead of a matrix in Networkx 3.0.\n",
      "  A = np.array(nx.adjacency_matrix(G).todense())\n"
     ]
    }
   ],
   "source": [
    "# Generate random samples that have the same underlying precision matrix/graph, but the node have different mean.\n",
    "\n",
    "G = nx.fast_gnp_random_graph(11, 0.25, seed = 42)\n",
    "assert nx.is_connected(G)\n",
    "\n",
    "for e in G.edges():\n",
    "    if np.random.uniform() <0.1:\n",
    "        w = np.random.uniform(low = 0.1, high = 0.3)\n",
    "        G.edges[e[0], e[1]]['weight'] = -w\n",
    "    else:\n",
    "        w = np.random.uniform(low = 0.1, high = 0.3)\n",
    "        G.edges[e[0], e[1]]['weight'] = w\n",
    "\n",
    "A = np.array(nx.adjacency_matrix(G).todense())\n",
    "np.fill_diagonal(A, np.sum(np.abs(A), axis = 1)+0.1)\n",
    "\n",
    "\n",
    "X1 = np.random.multivariate_normal(np.zeros(11),np.linalg.inv(A), size = 10000)\n",
    "X2 = np.random.multivariate_normal(np.ones(11),np.linalg.inv(A), size = 10000)"
   ]
  },
  {
   "cell_type": "code",
   "execution_count": 164,
   "metadata": {},
   "outputs": [
    {
     "name": "stdout",
     "output_type": "stream",
     "text": [
      "Using weight as edge attributes\n",
      "Using attr as node attributes\n"
     ]
    },
    {
     "name": "stderr",
     "output_type": "stream",
     "text": [
      "c:\\Users\\User\\Code\\MMDGraph\\MMDGraph\\kernels\\RandomWalk.py:560: FutureWarning: adjacency_matrix will return a scipy.sparse array instead of a matrix in Networkx 3.0.\n",
      "  return scipy.sparse.csr_matrix(nx.adjacency_matrix(G ,weight=edge_attr), dtype=np.float64)\n"
     ]
    },
    {
     "name": "stdout",
     "output_type": "stream",
     "text": [
      "{'MMD_u': 0.0}\n"
     ]
    }
   ],
   "source": [
    "# Random Walk, with attributes, should reject. , the class will use the node label name 'attr'\n",
    "# Define attribute function that sets the mean as the node attribute. \n",
    "# Note the window size is 400 so there will be 400 observations that are used to estimate each graph/node attribute.\n",
    "def attr_function(X):\n",
    "    return np.expand_dims(np.mean(X,axis = 0),axis=1)\n",
    "\n",
    "MMD_out = GTST.MMD()\n",
    "MMD_out.estimate_graphs(X1,X2,window_size=400, alpha = np.exp(np.linspace(-5,-2,100)),beta = 0.5, nonparanormal=False,scale = False, set_attributes = attr_function)\n",
    "MMD_out.fit( kernel = 'RW_ARKU_plus', mmd_estimators = 'MMD_u', r = 5, c = 0.1, edge_attr = 'weight', node_attr = 'attr')\n",
    "print(MMD_out.p_values)"
   ]
  },
  {
   "cell_type": "code",
   "execution_count": 166,
   "metadata": {},
   "outputs": [
    {
     "name": "stdout",
     "output_type": "stream",
     "text": [
      "Using weight as edge attributes\n",
      "{'MMD_u': 0.993}\n"
     ]
    }
   ],
   "source": [
    "# If we do not give attributes, the test should not be rejected reject as underlying the precision matrices are the same\n",
    "MMD_out_no_attr = GTST.MMD()\n",
    "MMD_out_no_attr.fit(G1= MMD_out.G1, G2 = MMD_out.G2, kernel = 'RW_ARKU_plus', mmd_estimators = 'MMD_u', r = 5, c = 0.1, edge_attr = 'weight')\n",
    "print(MMD_out_no_attr.p_values)"
   ]
  },
  {
   "cell_type": "code",
   "execution_count": 168,
   "metadata": {},
   "outputs": [
    {
     "name": "stdout",
     "output_type": "stream",
     "text": [
      "Using label as node labels\n",
      "label\n",
      "{'MMD_u': 0.0}\n"
     ]
    }
   ],
   "source": [
    "# We can also try to make a label function, has to be a dictionary, the class will use the node label name 'label'\n",
    "# Note we label the nodes with the rounded mean\n",
    "def label_function(X):\n",
    "    m = np.mean(X,axis = 0)\n",
    "    return {i:str(np.round(m[i],1)) for i in range(len(m))}\n",
    "\n",
    "kernel = [{\"name\": \"weisfeiler_lehman\", \"n_iter\": 2}, {\"name\": \"vertex_histogram\"}]\n",
    "MMD_out = GTST.MMD()\n",
    "MMD_out.estimate_graphs(X1,X2,window_size=400, alpha = np.exp(np.linspace(-5,-2,100)),beta = 0.5, nonparanormal=False,scale = False, set_labels= label_function)\n",
    "MMD_out.fit(kernel = kernel, mmd_estimators = 'MMD_u', node_label = 'label')\n",
    "print(MMD_out.p_values)"
   ]
  },
  {
   "cell_type": "code",
   "execution_count": 169,
   "metadata": {},
   "outputs": [
    {
     "name": "stdout",
     "output_type": "stream",
     "text": [
      "Using label as node labels\n",
      "label\n",
      "{'MMD_u': 0.0}\n"
     ]
    }
   ],
   "source": [
    "# We can also define labels using a dict\n",
    "# '1' for sample 1, '2' for sample 2. Graph nr. j gets the list ['a']*6 + ['b']*5\n",
    "# meaning the first 6 nodes will be labelled 'a' and the last 5 nodes will be labelled 'b' for sample 1 but\n",
    "# the first 4 nodes will be labelled 'a' and the last 7 nodes will be labelled 'b' for sample 2\n",
    "label_dict = {'1':{j:i for j,i in enumerate(['a']*6 + ['b']*5)}, \n",
    "              '2':{j:i for j,i in enumerate(['a']*4 + ['b']*7)}}\n",
    "kernel = [{\"name\": \"weisfeiler_lehman\", \"n_iter\": 2}, {\"name\": \"vertex_histogram\"}]\n",
    "MMD_out = GTST.MMD()\n",
    "MMD_out.estimate_graphs(X1,X2,window_size=400, alpha = np.exp(np.linspace(-5,-2,100)),beta = 0.5, nonparanormal=False,scale = False, set_labels= label_dict)\n",
    "MMD_out.fit(kernel = kernel, mmd_estimators = 'MMD_u', node_label = 'label')\n",
    "print(MMD_out.p_values)"
   ]
  }
 ],
 "metadata": {
  "kernelspec": {
   "display_name": "Python 3.8.5 (conda)",
   "language": "python",
   "name": "python3"
  },
  "language_info": {
   "codemirror_mode": {
    "name": "ipython",
    "version": 3
   },
   "file_extension": ".py",
   "mimetype": "text/x-python",
   "name": "python",
   "nbconvert_exporter": "python",
   "pygments_lexer": "ipython3",
   "version": "3.9.16"
  },
  "orig_nbformat": 4,
  "vscode": {
   "interpreter": {
    "hash": "e5751a66115cca13560cf37aeeed4243eac6d0108f8b06b399eb3b36d8bd3124"
   }
  }
 },
 "nbformat": 4,
 "nbformat_minor": 2
}
