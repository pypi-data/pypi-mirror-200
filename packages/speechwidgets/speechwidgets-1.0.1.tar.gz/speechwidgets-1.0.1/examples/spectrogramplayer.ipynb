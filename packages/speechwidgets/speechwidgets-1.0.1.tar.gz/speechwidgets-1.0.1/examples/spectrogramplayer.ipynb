{
 "cells": [
  {
   "cell_type": "markdown",
   "metadata": {},
   "source": [
    "# Example Usage: `SpectrogramPlayer`"
   ]
  },
  {
   "cell_type": "code",
   "execution_count": 1,
   "metadata": {},
   "outputs": [],
   "source": [
    "from speechwidgets import SpectrogramPlayer"
   ]
  },
  {
   "cell_type": "code",
   "execution_count": 2,
   "metadata": {},
   "outputs": [],
   "source": [
    "with open('19-198-0001.word_intervals.txt', 'r') as f:\n",
    "    lines = f.readlines()\n",
    "    word_intervals = [line.strip().split(' ') for line in lines]"
   ]
  },
  {
   "cell_type": "code",
   "execution_count": 3,
   "metadata": {},
   "outputs": [],
   "source": [
    "with open('19-198-0001.phone_intervals.txt', 'r') as f:\n",
    "    lines = f.readlines()\n",
    "    phone_intervals = [line.strip().split(' ') for line in lines]"
   ]
  },
  {
   "cell_type": "markdown",
   "metadata": {},
   "source": [
    "Basic usage:"
   ]
  },
  {
   "cell_type": "code",
   "execution_count": 4,
   "metadata": {},
   "outputs": [
    {
     "data": {
      "application/vnd.jupyter.widget-view+json": {
       "model_id": "8c2314c8ce264e608d587ae701cd65aa",
       "version_major": 2,
       "version_minor": 0
      },
      "text/plain": [
       "SpectrogramPlayer(dark=True, nav_height=60, spec_height=200, src='data:audio/wav;base64,UklGRsS+BQBXQVZFZm10IB…"
      ]
     },
     "execution_count": 4,
     "metadata": {},
     "output_type": "execute_result"
    }
   ],
   "source": [
    "SpectrogramPlayer(\n",
    "    wav_file_path='./19-198-0001.wav',\n",
    "    width=800,\n",
    "    spec_height=200,\n",
    "    navigator=True,\n",
    "    nav_height=60,\n",
    "    dark=True\n",
    ")"
   ]
  },
  {
   "cell_type": "markdown",
   "metadata": {},
   "source": [
    "Advanced usage:"
   ]
  },
  {
   "cell_type": "code",
   "execution_count": 5,
   "metadata": {},
   "outputs": [
    {
     "data": {
      "application/vnd.jupyter.widget-view+json": {
       "model_id": "db71818ad7034d2294ff6a3438e28983",
       "version_major": 2,
       "version_minor": 0
      },
      "text/plain": [
       "SpectrogramPlayer(colormap='greys', dark=True, navigator=False, settings=False, spec_height=200, src='data:aud…"
      ]
     },
     "execution_count": 5,
     "metadata": {},
     "output_type": "execute_result"
    }
   ],
   "source": [
    "SpectrogramPlayer(\n",
    "    wav_file_path='./19-198-0001.wav',\n",
    "    width=800,\n",
    "    spec_height=200,\n",
    "    navigator=False,\n",
    "    settings=False,\n",
    "    colormap=\"greys\",\n",
    "    transparent=False, # draws\n",
    "    dark=True, # to support dark theme notebooks\n",
    "    \n",
    "    # mel spec parameters:\n",
    "    n_fft=2048,\n",
    "    win_length=400,\n",
    "    hop_length=160,\n",
    "    f_min=50, \n",
    "    n_mels=80,\n",
    "    power=1.0,\n",
    "    \n",
    "    # amplitude to db parameter:\n",
    "    top_db=80 \n",
    ")"
   ]
  },
  {
   "cell_type": "code",
   "execution_count": 6,
   "metadata": {},
   "outputs": [],
   "source": [
    "annotations = [\n",
    "        {\n",
    "            \"data\": word_intervals,\n",
    "            \"title\": \"Word Intervals\",\n",
    "            \"height\": 30,\n",
    "            \"strokeWidth\": 1.0\n",
    "        },\n",
    "        {\n",
    "            \"data\": phone_intervals,\n",
    "            \"title\": \"Phone Intervals\",\n",
    "            \"height\": 30,\n",
    "            \"strokeWidth\": 1.0\n",
    "        }\n",
    "    ]"
   ]
  },
  {
   "cell_type": "code",
   "execution_count": 10,
   "metadata": {},
   "outputs": [],
   "source": [
    "s = SpectrogramPlayer(\n",
    "    wav_file_path='./19-198-0001.wav',\n",
    "    width=1000,\n",
    "    spec_height=200,\n",
    "    navigator=True,\n",
    "    dark=True,\n",
    ")"
   ]
  },
  {
   "cell_type": "code",
   "execution_count": 11,
   "metadata": {},
   "outputs": [],
   "source": [
    "s.annotate(data=word_intervals, title=\"Word Intervals\", height=20, stroke_width=0.5)\n",
    "s.annotate(data=phone_intervals, title=\"Phone Intervals\", height=20, stroke_width=0.5)"
   ]
  },
  {
   "cell_type": "code",
   "execution_count": 12,
   "metadata": {},
   "outputs": [
    {
     "data": {
      "application/vnd.jupyter.widget-view+json": {
       "model_id": "a4a78bc087bc42a4953ae0a91557aa23",
       "version_major": 2,
       "version_minor": 0
      },
      "text/plain": [
       "SpectrogramPlayer(annotations=[{'data': [['0', '0.54', '<SIL>'], ['0.54', '0.84', 'this'], ['0.84', '1.1', 'li…"
      ]
     },
     "execution_count": 12,
     "metadata": {},
     "output_type": "execute_result"
    }
   ],
   "source": [
    "s"
   ]
  },
  {
   "cell_type": "code",
   "execution_count": 13,
   "metadata": {},
   "outputs": [
    {
     "data": {
      "text/plain": [
       "[{'data': [['0', '0.54', '<SIL>'],\n",
       "   ['0.54', '0.84', 'this'],\n",
       "   ['0.84', '1.1', 'little'],\n",
       "   ['1.1', '1.4', 'work'],\n",
       "   ['1.4', '1.69', 'was'],\n",
       "   ['1.69', '2.16', 'finished'],\n",
       "   ['2.16', '2.34', 'in'],\n",
       "   ['2.34', '2.41', 'the'],\n",
       "   ['2.41', '2.69', 'year'],\n",
       "   ['2.69', '3.21', 'eighteen'],\n",
       "   ['3.21', '3.42', 'o'],\n",
       "   ['3.42', '3.86', 'three'],\n",
       "   ['3.86', '4.47', 'and'],\n",
       "   ['4.47', '4.99', 'intended'],\n",
       "   ['4.99', '5.18', 'for'],\n",
       "   ['5.18', '5.62', 'immediate'],\n",
       "   ['5.62', '6.41', 'publication'],\n",
       "   ['6.41', '8.19', 'it'],\n",
       "   ['8.19', '8.38', 'was'],\n",
       "   ['8.38', '8.89', 'disposed'],\n",
       "   ['8.89', '9.1', 'of'],\n",
       "   ['9.1', '9.26', 'to'],\n",
       "   ['9.26', '9.31', 'a'],\n",
       "   ['9.31', '9.92', 'bookseller'],\n",
       "   ['9.92', '10.41', 'it'],\n",
       "   ['10.41', '10.56', 'was'],\n",
       "   ['10.56', '10.84', 'even'],\n",
       "   ['10.84', '11.59', 'advertised'],\n",
       "   ['11.59', '11.765', '<SIL>']],\n",
       "  'title': 'Word Intervals',\n",
       "  'height': 20,\n",
       "  'strokeWidth': 0.5},\n",
       " {'data': [['0', '0.54', '<SIL>'],\n",
       "   ['0.54', '0.62', 'ð'],\n",
       "   ['0.62', '0.67', 'ɪ'],\n",
       "   ['0.67', '0.84', 's'],\n",
       "   ['0.84', '0.91', 'ʎ'],\n",
       "   ['0.91', '0.96', 'ɪ'],\n",
       "   ['0.96', '0.97', 'ɾ'],\n",
       "   ['0.97', '1.1', 'ɫ̩'],\n",
       "   ['1.1', '1.18', 'w'],\n",
       "   ['1.18', '1.32', 'ɝ'],\n",
       "   ['1.32', '1.4', 'k'],\n",
       "   ['1.4', '1.53', 'w'],\n",
       "   ['1.53', '1.59', 'ə'],\n",
       "   ['1.59', '1.69', 'z'],\n",
       "   ['1.69', '1.76', 'fʲ'],\n",
       "   ['1.76', '1.8', 'ɪ'],\n",
       "   ['1.8', '1.87', 'ɲ'],\n",
       "   ['1.87', '1.94', 'ɪ'],\n",
       "   ['1.94', '2.12', 'ʃ'],\n",
       "   ['2.12', '2.16', 't'],\n",
       "   ['2.16', '2.28', 'ɪ'],\n",
       "   ['2.28', '2.34', 'n'],\n",
       "   ['2.34', '2.38', 'ð'],\n",
       "   ['2.38', '2.41', 'iː'],\n",
       "   ['2.41', '2.55', 'j'],\n",
       "   ['2.55', '2.62', 'ɪ'],\n",
       "   ['2.62', '2.69', 'ɹ'],\n",
       "   ['2.69', '2.87', 'ej'],\n",
       "   ['2.87', '3.03', 'tʲ'],\n",
       "   ['3.03', '3.15', 'iː'],\n",
       "   ['3.15', '3.21', 'n'],\n",
       "   ['3.21', '3.42', 'ow'],\n",
       "   ['3.42', '3.56', 'θ'],\n",
       "   ['3.56', '3.66', 'ɹ'],\n",
       "   ['3.66', '3.86', 'iː'],\n",
       "   ['3.86', '4.36', 'æ'],\n",
       "   ['4.36', '4.43', 'n'],\n",
       "   ['4.43', '4.47', 'd'],\n",
       "   ['4.47', '4.52', 'ɪ'],\n",
       "   ['4.52', '4.61', 'n'],\n",
       "   ['4.61', '4.68', 'tʰ'],\n",
       "   ['4.68', '4.75', 'ɛ'],\n",
       "   ['4.75', '4.84', 'n'],\n",
       "   ['4.84', '4.88', 'dʲ'],\n",
       "   ['4.88', '4.92', 'ɪ'],\n",
       "   ['4.92', '4.99', 'd'],\n",
       "   ['4.99', '5.07', 'f'],\n",
       "   ['5.07', '5.1', 'ɒ'],\n",
       "   ['5.1', '5.18', 'ɹ'],\n",
       "   ['5.18', '5.22', 'ɪ'],\n",
       "   ['5.22', '5.3', 'mʲ'],\n",
       "   ['5.3', '5.39', 'iː'],\n",
       "   ['5.39', '5.43', 'dʲ'],\n",
       "   ['5.43', '5.53', 'i'],\n",
       "   ['5.53', '5.56', 'ə'],\n",
       "   ['5.56', '5.62', 't'],\n",
       "   ['5.62', '5.67', 'pʰ'],\n",
       "   ['5.67', '5.74', 'ɐ'],\n",
       "   ['5.74', '5.81', 'bʲ'],\n",
       "   ['5.81', '5.85', 'ʎ'],\n",
       "   ['5.85', '5.89', 'ɪ'],\n",
       "   ['5.89', '5.98', 'cʰ'],\n",
       "   ['5.98', '6.1', 'ej'],\n",
       "   ['6.1', '6.22', 'ʃ'],\n",
       "   ['6.22', '6.27', 'ə'],\n",
       "   ['6.27', '6.41', 'n'],\n",
       "   ['6.41', '8.15', 'ɪ'],\n",
       "   ['8.15', '8.19', 't'],\n",
       "   ['8.19', '8.24', 'w'],\n",
       "   ['8.24', '8.32', 'ə'],\n",
       "   ['8.32', '8.38', 'z'],\n",
       "   ['8.38', '8.43', 'dʲ'],\n",
       "   ['8.43', '8.47', 'ɪ'],\n",
       "   ['8.47', '8.54', 's'],\n",
       "   ['8.54', '8.61', 'p'],\n",
       "   ['8.61', '8.78', 'ow'],\n",
       "   ['8.78', '8.85', 'z'],\n",
       "   ['8.85', '8.89', 'd'],\n",
       "   ['8.89', '9.03', 'ə'],\n",
       "   ['9.03', '9.1', 'v'],\n",
       "   ['9.1', '9.16', 'tʰ'],\n",
       "   ['9.16', '9.26', 'ʉː'],\n",
       "   ['9.26', '9.31', 'ə'],\n",
       "   ['9.31', '9.37', 'b'],\n",
       "   ['9.37', '9.43', 'ʊ'],\n",
       "   ['9.43', '9.52', 'k'],\n",
       "   ['9.52', '9.62', 's'],\n",
       "   ['9.62', '9.69', 'ɛ'],\n",
       "   ['9.69', '9.79', 'l'],\n",
       "   ['9.79', '9.92', 'ɚ'],\n",
       "   ['9.92', '10.37', 'ɪ'],\n",
       "   ['10.37', '10.41', 'ʔ'],\n",
       "   ['10.41', '10.45', 'w'],\n",
       "   ['10.45', '10.51', 'ə'],\n",
       "   ['10.51', '10.56', 'z'],\n",
       "   ['10.56', '10.69', 'iː'],\n",
       "   ['10.69', '10.74', 'v'],\n",
       "   ['10.74', '10.78', 'ə'],\n",
       "   ['10.78', '10.84', 'n'],\n",
       "   ['10.84', '11.01', 'æ'],\n",
       "   ['11.01', '11.05', 'd'],\n",
       "   ['11.05', '11.08', 'v'],\n",
       "   ['11.08', '11.16', 'ɚ'],\n",
       "   ['11.16', '11.24', 'tʰ'],\n",
       "   ['11.24', '11.43', 'aj'],\n",
       "   ['11.43', '11.52', 'z'],\n",
       "   ['11.52', '11.59', 'd'],\n",
       "   ['11.59', '11.765', '<SIL>']],\n",
       "  'title': 'Phone Intervals',\n",
       "  'height': 20,\n",
       "  'strokeWidth': 0.5}]"
      ]
     },
     "execution_count": 13,
     "metadata": {},
     "output_type": "execute_result"
    }
   ],
   "source": [
    "s.annotations"
   ]
  },
  {
   "cell_type": "code",
   "execution_count": null,
   "metadata": {},
   "outputs": [],
   "source": []
  }
 ],
 "metadata": {
  "kernelspec": {
   "display_name": "Python 3 (ipykernel)",
   "language": "python",
   "name": "python3"
  },
  "language_info": {
   "codemirror_mode": {
    "name": "ipython",
    "version": 3
   },
   "file_extension": ".py",
   "mimetype": "text/x-python",
   "name": "python",
   "nbconvert_exporter": "python",
   "pygments_lexer": "ipython3",
   "version": "3.10.10"
  }
 },
 "nbformat": 4,
 "nbformat_minor": 4
}
