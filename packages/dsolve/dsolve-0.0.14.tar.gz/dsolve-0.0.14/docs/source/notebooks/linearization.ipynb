{
 "cells": [
  {
   "cell_type": "code",
   "execution_count": 1,
   "metadata": {},
   "outputs": [],
   "source": [
    "from dsolve.linearization import linearize\n",
    "from sympy import Function\n",
    "import sympy as sym"
   ]
  },
  {
   "attachments": {},
   "cell_type": "markdown",
   "metadata": {},
   "source": [
    "The objective is to log-linearize $f(x,y)$ around $\\bar x, \\bar y$. Let $x=\\bar x e^{\\hat x}$ and $y=\\bar y e^{\\hat y}$ \n",
    "\n",
    "Let $\\bar{f}_x=\\frac{\\partial f(x,y)}{\\partial x}|_{x=\\bar x}$, and analogusly for $\\bar{f}_y$, $\\bar{f}_{xx}$, $\\bar{f}_{yy}$ and $\\bar{f}_{xy}$.\n",
    "$$f(x,y)\\approx f(\\bar x,\\bar y)+f_x\\bar x \\hat x\\left(1+\\frac{1}{2}\\hat x\\right)+\\bar{f}_y\\bar y \\hat y\\left(1+\\frac{1}{2}\\hat y\\right)+\\frac{1}{2}\\bar{f}_{xx}\\bar x^2 \\hat x^2+\\frac{1}{2}\\bar{f}_{yy}\\bar y^2 \\hat y^2+\\bar{f}_{xy}(\\bar x, \\bar y)\\bar x\\bar y\\hat x\\hat y$$"
   ]
  },
  {
   "cell_type": "code",
   "execution_count": 7,
   "metadata": {},
   "outputs": [
    {
     "data": {
      "text/latex": [
       "$\\displaystyle 0.5 \\hat{x}^{2} x_{ss} \\left(x_{ss} \\frac{\\partial^{2}}{\\partial x_{ss}^{2}} f{\\left(x_{ss},y_{ss} \\right)} + \\frac{\\partial}{\\partial x_{ss}} f{\\left(x_{ss},y_{ss} \\right)}\\right) + 1.0 \\hat{x} \\hat{y} x_{ss} y_{ss} \\frac{\\partial^{2}}{\\partial y_{ss}\\partial x_{ss}} f{\\left(x_{ss},y_{ss} \\right)} + \\hat{x} x_{ss} \\frac{\\partial}{\\partial x_{ss}} f{\\left(x_{ss},y_{ss} \\right)} + 0.5 \\hat{y}^{2} y_{ss} \\left(y_{ss} \\frac{\\partial^{2}}{\\partial y_{ss}^{2}} f{\\left(x_{ss},y_{ss} \\right)} + \\frac{\\partial}{\\partial y_{ss}} f{\\left(x_{ss},y_{ss} \\right)}\\right) + \\hat{y} y_{ss} \\frac{\\partial}{\\partial y_{ss}} f{\\left(x_{ss},y_{ss} \\right)} + f{\\left(x_{ss},y_{ss} \\right)}$"
      ],
      "text/plain": [
       "0.5*\\hat{x}**2*x_ss*(x_ss*Derivative(f(x_ss, y_ss), (x_ss, 2)) + Derivative(f(x_ss, y_ss), x_ss)) + 1.0*\\hat{x}*\\hat{y}*x_ss*y_ss*Derivative(f(x_ss, y_ss), x_ss, y_ss) + \\hat{x}*x_ss*Derivative(f(x_ss, y_ss), x_ss) + 0.5*\\hat{y}**2*y_ss*(y_ss*Derivative(f(x_ss, y_ss), (y_ss, 2)) + Derivative(f(x_ss, y_ss), y_ss)) + \\hat{y}*y_ss*Derivative(f(x_ss, y_ss), y_ss) + f(x_ss, y_ss)"
      ]
     },
     "execution_count": 7,
     "metadata": {},
     "output_type": "execute_result"
    }
   ],
   "source": [
    "x, y = sym.symbols('x, y')\n",
    "f = Function('f')(x,y)\n",
    "linearize(f)"
   ]
  },
  {
   "attachments": {},
   "cell_type": "markdown",
   "metadata": {},
   "source": [
    "If we know the value of $f(\\bar x,\\bar y)$"
   ]
  },
  {
   "cell_type": "code",
   "execution_count": 3,
   "metadata": {},
   "outputs": [
    {
     "data": {
      "text/latex": [
       "$\\displaystyle 0.5 \\hat{x}^{2} x_{ss} \\left(x_{ss} \\frac{\\partial^{2}}{\\partial x_{ss}^{2}} f{\\left(x_{ss},y_{ss} \\right)} + \\frac{\\partial}{\\partial x_{ss}} f{\\left(x_{ss},y_{ss} \\right)}\\right) + 1.0 \\hat{x} \\hat{y} x_{ss} y_{ss} \\frac{\\partial^{2}}{\\partial y_{ss}\\partial x_{ss}} f{\\left(x_{ss},y_{ss} \\right)} + \\hat{x} x_{ss} \\frac{\\partial}{\\partial x_{ss}} f{\\left(x_{ss},y_{ss} \\right)} + 0.5 \\hat{y}^{2} y_{ss} \\left(y_{ss} \\frac{\\partial^{2}}{\\partial y_{ss}^{2}} f{\\left(x_{ss},y_{ss} \\right)} + \\frac{\\partial}{\\partial y_{ss}} f{\\left(x_{ss},y_{ss} \\right)}\\right) + \\hat{y} y_{ss} \\frac{\\partial}{\\partial y_{ss}} f{\\left(x_{ss},y_{ss} \\right)}$"
      ],
      "text/plain": [
       "0.5*\\hat{x}**2*x_ss*(x_ss*Derivative(f(x_ss, y_ss), (x_ss, 2)) + Derivative(f(x_ss, y_ss), x_ss)) + 1.0*\\hat{x}*\\hat{y}*x_ss*y_ss*Derivative(f(x_ss, y_ss), x_ss, y_ss) + \\hat{x}*x_ss*Derivative(f(x_ss, y_ss), x_ss) + 0.5*\\hat{y}**2*y_ss*(y_ss*Derivative(f(x_ss, y_ss), (y_ss, 2)) + Derivative(f(x_ss, y_ss), y_ss)) + \\hat{y}*y_ss*Derivative(f(x_ss, y_ss), y_ss)"
      ]
     },
     "execution_count": 3,
     "metadata": {},
     "output_type": "execute_result"
    }
   ],
   "source": [
    "linearize(f, f_ss=0)"
   ]
  },
  {
   "attachments": {},
   "cell_type": "markdown",
   "metadata": {},
   "source": [
    "If $f$ is defined:\n",
    "$$f=x^\\alpha y^\\beta$$"
   ]
  },
  {
   "cell_type": "code",
   "execution_count": 26,
   "metadata": {},
   "outputs": [
    {
     "name": "stdout",
     "output_type": "stream",
     "text": [
      "First order approximation\n"
     ]
    },
    {
     "data": {
      "text/latex": [
       "$\\displaystyle \\hat{x} \\alpha + \\hat{y} \\beta$"
      ],
      "text/plain": [
       "\\hat{x}*alpha + \\hat{y}*beta"
      ]
     },
     "metadata": {},
     "output_type": "display_data"
    },
    {
     "name": "stdout",
     "output_type": "stream",
     "text": [
      "Second order approximation\n"
     ]
    },
    {
     "data": {
      "text/latex": [
       "$\\displaystyle 0.5 \\hat{x}^{2} \\alpha^{2} + 1.0 \\hat{x} \\hat{y} \\alpha \\beta + \\hat{x} \\alpha + 0.5 \\hat{y}^{2} \\beta^{2} + \\hat{y} \\beta$"
      ],
      "text/plain": [
       "0.5*\\hat{x}**2*alpha**2 + 1.0*\\hat{x}*\\hat{y}*alpha*beta + \\hat{x}*alpha + 0.5*\\hat{y}**2*beta**2 + \\hat{y}*beta"
      ]
     },
     "metadata": {},
     "output_type": "display_data"
    },
    {
     "name": "stdout",
     "output_type": "stream",
     "text": [
      "First order approximation\n"
     ]
    },
    {
     "data": {
      "text/latex": [
       "$\\displaystyle \\hat{x} x_{ss} + \\hat{y} y_{ss}$"
      ],
      "text/plain": [
       "\\hat{x}*x_ss + \\hat{y}*y_ss"
      ]
     },
     "metadata": {},
     "output_type": "display_data"
    }
   ],
   "source": [
    "alpha, beta= sym.symbols('alpha, beta')\n",
    "f = x**alpha*y**beta\n",
    "\n",
    "print('First order approximation')\n",
    "display(linearize(f, x=(x,y), x_ss=(1,1), order=1, f_ss=0))\n",
    "\n",
    "print('Second order approximation')\n",
    "display(linearize(f, x=(x,y), x_ss=(1,1), order=2, f_ss=0))\n",
    "\n",
    "f = x+y\n",
    "\n",
    "print('First order approximation')\n",
    "display(linearize(f, x=(x,y), order=1, f_ss=0))"
   ]
  },
  {
   "cell_type": "code",
   "execution_count": 29,
   "metadata": {},
   "outputs": [],
   "source": [
    "z = sym.symbols('z')\n",
    "a = sym.Eq(z, x**alpha*y**beta)"
   ]
  },
  {
   "cell_type": "code",
   "execution_count": 48,
   "metadata": {},
   "outputs": [
    {
     "data": {
      "text/latex": [
       "$\\displaystyle \\hat{x}$"
      ],
      "text/plain": [
       "\\hat{x}"
      ]
     },
     "execution_count": 48,
     "metadata": {},
     "output_type": "execute_result"
    }
   ],
   "source": [
    "sym.symbols('\\hat{x}')"
   ]
  },
  {
   "cell_type": "code",
   "execution_count": 45,
   "metadata": {},
   "outputs": [
    {
     "data": {
      "text/latex": [
       "$\\displaystyle \\frac{\\partial^{2}}{\\partial y\\partial x} f{\\left(x,y \\right)}$"
      ],
      "text/plain": [
       "Derivative(f(x, y), x, y)"
      ]
     },
     "execution_count": 45,
     "metadata": {},
     "output_type": "execute_result"
    }
   ],
   "source": [
    "x, y = sym.symbols('x, y')\n",
    "f = Function('f')(x,y)\n",
    "f.diff(x,y)"
   ]
  },
  {
   "cell_type": "code",
   "execution_count": 43,
   "metadata": {},
   "outputs": [
    {
     "data": {
      "text/latex": [
       "$\\displaystyle x z = 2 x y$"
      ],
      "text/plain": [
       "Eq(x*z, 2*x*y)"
      ]
     },
     "execution_count": 43,
     "metadata": {},
     "output_type": "execute_result"
    }
   ],
   "source": [
    "sym.Eq(x*2*y, x*z).simplify()"
   ]
  },
  {
   "cell_type": "code",
   "execution_count": 41,
   "metadata": {},
   "outputs": [
    {
     "data": {
      "text/latex": [
       "$\\displaystyle x_{ss}^{\\alpha} y_{ss}^{\\beta} \\left(\\hat{x} \\alpha + \\hat{y} \\beta + 1\\right)$"
      ],
      "text/plain": [
       "x_ss**alpha*y_ss**beta*(\\hat{x}*alpha + \\hat{y}*beta + 1)"
      ]
     },
     "execution_count": 41,
     "metadata": {},
     "output_type": "execute_result"
    }
   ],
   "source": [
    "linearize(a.lhs, x=[x,y,z], order=1)\n",
    "linearize(a.rhs, x=[x,y,z], order=1)"
   ]
  },
  {
   "cell_type": "code",
   "execution_count": 31,
   "metadata": {},
   "outputs": [
    {
     "ename": "AttributeError",
     "evalue": "'int' object has no attribute 'simplify'",
     "output_type": "error",
     "traceback": [
      "\u001b[1;31m---------------------------------------------------------------------------\u001b[0m",
      "\u001b[1;31mAttributeError\u001b[0m                            Traceback (most recent call last)",
      "\u001b[1;32mc:\\Users\\MBBar\\OneDrive\\Escritorio\\git_local\\dsolve\\notebooks\\linearization.ipynb Cell 9\u001b[0m in \u001b[0;36m<cell line: 1>\u001b[1;34m()\u001b[0m\n\u001b[1;32m----> <a href='vscode-notebook-cell:/c%3A/Users/MBBar/OneDrive/Escritorio/git_local/dsolve/notebooks/linearization.ipynb#X31sZmlsZQ%3D%3D?line=0'>1</a>\u001b[0m sym\u001b[39m.\u001b[39mEq(linearize(a\u001b[39m.\u001b[39;49mlhs), linearize(a\u001b[39m.\u001b[39mrhs))\n",
      "File \u001b[1;32mc:\\users\\mbbar\\onedrive\\escritorio\\git_local\\dsolve\\src\\dsolve\\linearization.py:43\u001b[0m, in \u001b[0;36mlinearize\u001b[1;34m(f, order, type, x, x_ss, f_ss)\u001b[0m\n\u001b[0;32m     40\u001b[0m             f2[i,j]\u001b[39m=\u001b[39mf\u001b[39m.\u001b[39mdiff(x)\u001b[39m.\u001b[39msubs({x:\u001b[39m0\u001b[39m})\u001b[39m.\u001b[39mdiff(y)\u001b[39m.\u001b[39msubs({k:\u001b[39m0\u001b[39m \u001b[39mfor\u001b[39;00m k \u001b[39min\u001b[39;00m x_hat})\u001b[39m*\u001b[39mx\u001b[39m*\u001b[39my\n\u001b[0;32m     41\u001b[0m             \u001b[39m#f2[i,j]=f.diff(x).subs({x:0}).subs({k:0 for k in x_hat})*x*y\u001b[39;00m\n\u001b[1;32m---> 43\u001b[0m linear \u001b[39m=\u001b[39m f_ss\u001b[39m+\u001b[39mf1\u001b[39m+\u001b[39m\u001b[39m1\u001b[39m\u001b[39m/\u001b[39m\u001b[39m2\u001b[39m\u001b[39m*\u001b[39m\u001b[39msum\u001b[39;49m(f2)\u001b[39m.\u001b[39;49msimplify()\n\u001b[0;32m     44\u001b[0m \u001b[39mreturn\u001b[39;00m linear\u001b[39m.\u001b[39msimplify()\n",
      "\u001b[1;31mAttributeError\u001b[0m: 'int' object has no attribute 'simplify'"
     ]
    }
   ],
   "source": [
    "sym.Eq(linearize(a.lhs), linearize(a.rhs))"
   ]
  }
 ],
 "metadata": {
  "kernelspec": {
   "display_name": "Python 3",
   "language": "python",
   "name": "python3"
  },
  "language_info": {
   "codemirror_mode": {
    "name": "ipython",
    "version": 3
   },
   "file_extension": ".py",
   "mimetype": "text/x-python",
   "name": "python",
   "nbconvert_exporter": "python",
   "pygments_lexer": "ipython3",
   "version": "3.10.6"
  },
  "orig_nbformat": 4,
  "vscode": {
   "interpreter": {
    "hash": "d18f7005fc2c8fe4eb58f7d7cc5b45c2a267e69313ade3fbf0c464a72a083ce2"
   }
  }
 },
 "nbformat": 4,
 "nbformat_minor": 2
}
